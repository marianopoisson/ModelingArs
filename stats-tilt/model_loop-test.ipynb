{
 "cells": [
  {
   "cell_type": "markdown",
   "id": "da77e5cf-8333-4faa-a7ef-2a48177fbd0b",
   "metadata": {
    "tags": []
   },
   "source": [
    "# generate masks"
   ]
  },
  {
   "cell_type": "code",
   "execution_count": 1,
   "id": "f5a133c7-aaf5-4423-88cf-5a53ddffb09f",
   "metadata": {},
   "outputs": [
    {
     "name": "stderr",
     "output_type": "stream",
     "text": [
      "/home/mpoisson/anaconda3/envs/pymc4/lib/python3.11/site-packages/pymc/sampling/jax.py:39: UserWarning: This module is experimental.\n",
      "  warnings.warn(\"This module is experimental.\")\n"
     ]
    }
   ],
   "source": [
    "import numpy as np\n",
    "import pandas as pd\n",
    "import matplotlib.pyplot as plt\n",
    "import matplotlib.cm as cm\n",
    "import matplotlib.lines as mlines\n",
    "from scipy.io import readsav\n",
    "from scipy import ndimage\n",
    "import matplotlib.transforms as mtransforms\n",
    "from mpl_toolkits.axes_grid1 import make_axes_locatable\n",
    "import matplotlib.ticker as ticker\n",
    "# import math\n",
    "import glob as glob\n",
    "import seaborn as sns\n",
    "import random\n",
    "\n",
    "from scipy.signal import savgol_filter\n",
    "from scipy.interpolate import CubicSpline\n",
    "\n",
    "# PyMC 4.0 imports\n",
    "import pymc as pm\n",
    "import aesara.tensor as at \n",
    "import aesara\n",
    "import arviz as az\n",
    "import pymc.sampling_jax\n",
    "import pytensor.tensor as pt\n",
    "import pytensor\n",
    "\n",
    "import sys\n",
    "sys.path.append('../')\n",
    "\n",
    "from scipy import stats\n",
    "\n",
    "import os\n",
    "\n",
    "from funciones.opencube2 import opencube2\n",
    "from funciones.func4 import tilt,elong,MFLUX,barys,set_ranges\n",
    "from funciones.modelcube import modelmag,modelmagf,modelmag2\n",
    "\n",
    "def MODELT(name, data2, ranges, xc2, yc2, hem, apa, ind, sz2, sz1, nMagnetograms, scl, pixarea):\n",
    "    with pm.Model() as modelB:\n",
    "        # Stochastic variables\n",
    "        #a = pm.Uniform('a', ranges['a'][0], 1.5*ranges['a'][1])\n",
    "        a = pm.Normal('a', mu=np.mean(ranges['a']), sigma=1)\n",
    "        axf = pm.Uniform('axf', ranges['axf'][0]/pixarea, 1.5*ranges['axf'][1]/pixarea)\n",
    "#        R = pm.Uniform('R', 0.6*ranges['R'][0], ranges['R'][1])\n",
    "        R = pm.Normal('R', mu=np.mean(ranges['R']), sigma=1)\n",
    "        N01 = pm.Gamma('N01', alpha=2.5, beta=10)\n",
    "        ts = pm.Categorical('ts', p=[0.5, 0.5])\n",
    "        ymin=pm.Uniform('ymin',0,0.6)\n",
    "        ymax=pm.Uniform('ymax',ymin,1)\n",
    "#        da = pm.Uniform('da', 0, 1, shape=nMagnetograms)\n",
    "        alp0 = pm.Uniform('alp0', ranges['alpha'][0], ranges['alpha'][1])\n",
    "        alp1 = pm.Uniform('alp1', ranges['alpha'][0], ranges['alpha'][1])\n",
    "#        alpha = pm.Uniform('alpha', ranges['alpha'][0], ranges['alpha'][1], shape=nMagnetograms)\n",
    "        xc0 = pm.Normal('xc0', mu=np.mean(xc2), sigma=1)        \n",
    "        yc0 = pm.Normal('yc0', mu=np.mean(yc2), sigma=1)          \n",
    "        \n",
    "        # Deterministic variables\n",
    "        N0 = pm.Deterministic('N0', (2*ts-1)*N01)\n",
    "        da = pm.Deterministic('da', np.arange(0,nMagnetograms,1)*(ymax-ymin)/(nMagnetograms-1)+ymin)\n",
    "        alpha = pm.Deterministic('alpha', np.arange(0,nMagnetograms,1)*(alp1-alp0)/(nMagnetograms-1)+alp0)\n",
    "        B0 = pm.Deterministic('B0', axf/(np.pi*a**2))\n",
    "        xc = pm.Deterministic('xc', np.ones_like(xc2)*xc0)\n",
    "        yc = pm.Deterministic('yc', np.ones_like(xc2)*yc0)\n",
    "#        xc = pm.ConstantData('xc', value=np.array(xc2))\n",
    "#        yc = pm.ConstantData('yc', value=np.array(yc2))                   \n",
    "        sg = pm.ConstantData('sg', value=10)\n",
    "        \n",
    "    sx = np.unravel_index(ind, (sz2, sz1, nMagnetograms))[1]\n",
    "    sy = np.unravel_index(ind, (sz2, sz1, nMagnetograms))[0]\n",
    "    sz = np.unravel_index(ind, (sz2, sz1, nMagnetograms))[2]\n",
    "\n",
    "    def modelmagB(a=a, R=R, B0=B0, N0=N0, da=da, xc=xc, yc=yc, alpha=alpha):\n",
    "        f = 0\n",
    "        g = 0\n",
    "        a0 = a\n",
    "        R0 = R\n",
    "        B00 = B0\n",
    "        da0 = da[sz[0]]\n",
    "        N00 = N0\n",
    "\n",
    "        x = (sx-xc[sz[0]]+0.5)*(pt.cos(alpha[sz[0]])) + (sy-yc[sz[0]]+0.5)*(pt.sin(alpha[sz[0]]))\n",
    "        y = -(sx-xc[sz[0]]+0.5)*pt.sin(alpha[sz[0]]) + (sy-yc[sz[0]]+0.5)*pt.cos(alpha[sz[0]])\n",
    "        xr = pt.sqrt(x**2+((1-da0)*(R0+a0))**2) - R0\n",
    "        rho = pt.sqrt(xr**2 + y**2)\n",
    "        u = pt.sqrt(x**2 + ((1-da0)*(R0+a0))**2)\n",
    "        costh = xr/rho\n",
    "        Nt = N00*(1+f*(rho/a0)**2)\n",
    "        mag = (x*(1+g*(costh)) - 2*Nt*(1-da0)*(R0+a0)*y/u)*(-1)*B00*pt.exp((-1)*(rho/a0)**2)/u\n",
    "\n",
    "        return hem*mag\n",
    "\n",
    "    with modelB:\n",
    "        sharedData = pytensor.shared(np.array(apa[ind]))\n",
    "        model_mag_pm = pm.Deterministic('model_mag_pm', modelmagB())\n",
    "        observations = pm.Normal(\"obs\", mu=model_mag_pm[0,:], sigma=sg, observed=sharedData)\n",
    "        traceB = pm.sample(idata_kwargs={\"log_likelihood\": True})\n",
    "    \n",
    "    # Create output directory if it doesn't exist\n",
    "    #os.makedirs(f'./{name}/modeled_cubes', exist_ok=True)\n",
    "    \n",
    "    # Get posterior means for all parameters\n",
    "    post_means = {var: traceB.posterior[var].mean(axis=(0,1)).values for var in traceB.posterior.data_vars}\n",
    "    \n",
    "    \n",
    "    \n",
    "    \n",
    "    return traceB\n",
    "\n",
    "def process_dataset(name):\n",
    "    print(name + '-----------------------------------------------------')\n",
    "    datad = np.transpose(np.load(f'../newdat/{name}_cube_data.npy'),axes=(1,2,0))\n",
    "    sz20, sz10, nMagnetograms0 = np.shape(datad)\n",
    "    scl = 2\n",
    "    stp=round(nMagnetograms0/10)\n",
    "    data2 = datad[::scl, ::scl, ::stp]\n",
    "    \n",
    "    sz2, sz1, nMagnetograms = np.shape(data2)\n",
    "    pixsize = 1.98*725*1000*100\n",
    "    pixarea = pixsize*pixsize\n",
    "    \n",
    "    bb = [barys(np.abs(data2[:,:,i]), 0) for i in range(nMagnetograms)]\n",
    "    xc2 = [bb[i][0] for i in range(nMagnetograms)]\n",
    "    yc2 = [bb[i][1] for i in range(nMagnetograms)]\n",
    "    \n",
    "    ranges = set_ranges(data2)\n",
    "    hem = ranges['hem']\n",
    "    \n",
    "    apa = np.ravel(data2)\n",
    "    ind = (pd.Series(np.abs(apa) > 10)).to_numpy().nonzero()\n",
    "    \n",
    "    sx = np.unravel_index(ind, (sz2, sz1, nMagnetograms))[1]\n",
    "    sy = np.unravel_index(ind, (sz2, sz1, nMagnetograms))[0]\n",
    "    sz = np.unravel_index(ind, (sz2, sz1, nMagnetograms))[2]\n",
    "    \n",
    "    traceT = MODELT(name, data2, ranges, xc2, yc2, hem, apa, ind, sz2, sz1, nMagnetograms, scl, pixarea)\n",
    "    \n",
    "    \n",
    "    x1 = np.linspace(0,sz10-1, sz10)\n",
    "    y1 = np.linspace(0,sz20-1, sz20)\n",
    "    z1 = np.linspace(0,nMagnetograms0-1, nMagnetograms0)\n",
    "    xv, yv, zv = np.meshgrid(x1, y1,z1)\n",
    "    \n",
    "    dic = {}\n",
    "    for tt in ['da', 'alpha','xc','yc']:\n",
    "        rr = traceT.posterior.get(tt)\n",
    "        dic[tt] = rr.mean(axis=(0,1)).values\n",
    "\n",
    "    for tt in ['a', 'R', 'N0', 'axf','xc','yc']:\n",
    "        pp = 1\n",
    "        if tt in ['a', 'R','xc','yc']:\n",
    "            pp = scl\n",
    "        if tt in ['axf']:\n",
    "            pp = scl**2\n",
    "        rr = traceT.posterior.get(tt)\n",
    "        dic[tt] = pp*rr.mean().values*np.ones_like(dic['da'])\n",
    "\n",
    "    #    dic['xc'] = scl*np.array(xc2)\n",
    "    #    dic['yc'] = scl*np.array(yc2)\n",
    "    dic['mag'] = np.arange(0, nMagnetograms0, stp)\n",
    "\n",
    "    # Convert lists to NumPy arrays\n",
    "    for key, value in dic.items():\n",
    "        dic[key] = np.array(value)\n",
    "    \n",
    "\n",
    "    modeled_cube1=modelmag(xv,yv,params=interpolparams(dic,nMagnetograms0,stp),hem=hem)[0]\n",
    "    \n",
    "#    print(len(dic['da']))\n",
    "#    print(np.shape(modeled_cube1))\n",
    "#    print(np.shape(datad))\n",
    "    mask=np.zeros_like(modeled_cube1)\n",
    "    for i in range(nMagnetograms0):\n",
    "        mapi=ndimage.uniform_filter(np.abs(modeled_cube1[:,:,i]), size=10)\n",
    "        mask[:,:,i]=mapi>2\n",
    "    sig=np.std(modeled_cube1[mask>0]-datad[mask>0])\n",
    "    DFx=pd.DataFrame(dic).assign(AR=name, lead=hem,sig=sig)\n",
    "    DFx.to_csv(f'./masks2/{name}_0.csv')\n",
    "    np.save(f'./masks2/mask_{name}.npy', mask)\n",
    "    \n",
    "    # Create parameter dictionary (optional)\n",
    "#    dic = {}\n",
    "#    for tt in ['da', 'alpha','xc','yc']:\n",
    "#        rr = traceT.posterior.get(tt)\n",
    "#        dic[tt] = rr.mean(axis=(0,1)).values\n",
    "\n",
    "#    for tt in ['a', 'R', 'N0', 'axf']:\n",
    "#        pp = 1\n",
    "#        if tt in ['a', 'R','xc','yc']:\n",
    "#            pp = scl\n",
    "#        if tt in ['axf']:\n",
    "#            pp = scl**2\n",
    "#        rr = traceT.posterior.get(tt)\n",
    "#        dic[tt] = pp*rr.mean().values*np.ones_like(dic['da'])\n",
    "\n",
    "#    dic['xc'] = scl*np.array(xc2)\n",
    "#    dic['yc'] = scl*np.array(yc2)\n",
    "#    dic['mag'] = np.arange(0, nMagnetograms0, stp)\n",
    "    \n",
    "#    x1 = np.linspace(0,int((sz1*scl-1)), int((sz1*scl)))\n",
    "#    y1 = np.linspace(0,int((sz2*scl-1)), int((sz2*scl)))\n",
    "#    z1 = np.linspace(0,nMagnetograms-1, nMagnetograms)\n",
    "#    xv, yv, zv = np.meshgrid(x1, y1,z1)\n",
    "    \n",
    "#    for key, value in dic.items():\n",
    "#        dic[key] = np.array(value)\n",
    "    \n",
    "#    modeled_cube=modelmag(xv,yv,params=dic,hem=hem)[0]\n",
    "    # Save the modeled cube\n",
    "#    np.save(f'./{name}/modeled_cubes/modeled_{name}.npy', modeled_cube)\n",
    "    \n",
    "  #  return pd.DataFrame(dic).assign(AR=name, lead=hem),traceT\n",
    "    return traceT,mask\n",
    "\n",
    "\n",
    "def modelmag(xv,yv,params=None,hem=None):\n",
    "    \n",
    "#   global xv,yv\n",
    "\n",
    "    a=params['a']\n",
    "    B0=params['axf']/(np.pi*a**2)\n",
    "    R=params['R']\n",
    "    da=params['da']\n",
    "    xc=params['xc']\n",
    "    yc=params['yc']\n",
    "    alpha=params['alpha']\n",
    "    N0=params['N0']\n",
    "\n",
    "    f=0\n",
    "    g=0\n",
    "\n",
    "    x=(xv-xc+0.5)*np.cos(alpha) + (yv-yc+0.5)*np.sin(alpha)\n",
    "    y=-(xv-xc+0.5)*np.sin(alpha) + (yv-yc+0.5)*np.cos(alpha)\n",
    "    xr=np.sqrt(x**2+((1-da)*(R+a))**2) - R\n",
    "    rho=np.sqrt((xr)**2 + (y)**2)    \n",
    "    u=np.sqrt(x**2 + ((1-da)*(R+a))**2)\n",
    "    costh=xr/rho\n",
    "    Nt=N0*(1+f*(rho/a)**2)\n",
    "    mag = (x*(1+g*(costh))- 2*Nt*(1-da)*(R+a)*y/u)*(-1)*B0*np.exp((-1)*(rho/a)**2)/u\n",
    "    mag0 = x*(-1)*B0*np.exp((-1)*(rho/a)**2)/u\n",
    "\n",
    "    return hem*mag,hem*mag0\n",
    "\n",
    "from scipy.interpolate import CubicSpline\n",
    "\n",
    "def interpolparams(params,nmags,stp):\n",
    "    x0=np.arange(nmags)\n",
    "    \n",
    "    for pp in params.keys():\n",
    "        x = np.arange(0,nmags,stp)\n",
    "        y = np.array(params[pp]) \n",
    "        cs = CubicSpline(x, y)\n",
    "        params[pp]=cs(x0)\n",
    "        \n",
    "    return params"
   ]
  },
  {
   "cell_type": "code",
   "execution_count": 2,
   "id": "4336d889-ea55-477b-a338-08e8745019d4",
   "metadata": {},
   "outputs": [
    {
     "data": {
      "text/plain": [
       "['8052',\n",
       " '8214',\n",
       " '8407',\n",
       " '8488',\n",
       " '8552',\n",
       " '8628',\n",
       " '8690',\n",
       " '8749',\n",
       " '8968',\n",
       " '9140',\n",
       " '9170',\n",
       " '9368',\n",
       " '9512',\n",
       " '9531',\n",
       " '9563',\n",
       " '9660',\n",
       " '9873',\n",
       " '9884',\n",
       " '10188',\n",
       " '10226',\n",
       " '10971']"
      ]
     },
     "execution_count": 2,
     "metadata": {},
     "output_type": "execute_result"
    }
   ],
   "source": [
    "mylist2=[str(n) for n in pd.read_csv('./list_of_dates2.csv')['AR'].values]\n",
    "mylist2"
   ]
  },
  {
   "cell_type": "code",
   "execution_count": 104,
   "id": "4fd7a1a9-d7ba-42e4-a813-5d8aaba713de",
   "metadata": {},
   "outputs": [
    {
     "name": "stderr",
     "output_type": "stream",
     "text": [
      "Multiprocess sampling (4 chains in 4 jobs)\n",
      "CompoundStep\n",
      ">NUTS: [a, axf, R, N01, ymin, ymax, alp0, alp1, xc0, yc0]\n",
      ">BinaryGibbsMetropolis: [ts]\n"
     ]
    },
    {
     "data": {
      "text/html": [
       "\n",
       "<style>\n",
       "    /* Turns off some styling */\n",
       "    progress {\n",
       "        /* gets rid of default border in Firefox and Opera. */\n",
       "        border: none;\n",
       "        /* Needs to be in here for Safari polyfill so background images work as expected. */\n",
       "        background-size: auto;\n",
       "    }\n",
       "    progress:not([value]), progress:not([value])::-webkit-progress-bar {\n",
       "        background: repeating-linear-gradient(45deg, #7e7e7e, #7e7e7e 10px, #5c5c5c 10px, #5c5c5c 20px);\n",
       "    }\n",
       "    .progress-bar-interrupted, .progress-bar-interrupted::-webkit-progress-bar {\n",
       "        background: #F44336;\n",
       "    }\n",
       "</style>\n"
      ],
      "text/plain": [
       "<IPython.core.display.HTML object>"
      ]
     },
     "metadata": {},
     "output_type": "display_data"
    },
    {
     "data": {
      "text/html": [
       "\n",
       "    <div>\n",
       "      <progress value='8000' class='' max='8000' style='width:300px; height:20px; vertical-align: middle;'></progress>\n",
       "      100.00% [8000/8000 01:53&lt;00:00 Sampling 4 chains, 0 divergences]\n",
       "    </div>\n",
       "    "
      ],
      "text/plain": [
       "<IPython.core.display.HTML object>"
      ]
     },
     "metadata": {},
     "output_type": "display_data"
    },
    {
     "name": "stderr",
     "output_type": "stream",
     "text": [
      "Sampling 4 chains for 1_000 tune and 1_000 draw iterations (4_000 + 4_000 draws total) took 116 seconds.\n",
      "/home/mpoisson/anaconda3/envs/pymc4/lib/python3.11/site-packages/arviz/stats/diagnostics.py:584: RuntimeWarning: invalid value encountered in scalar divide\n",
      "  (between_chain_variance / within_chain_variance + num_samples - 1) / (num_samples)\n"
     ]
    },
    {
     "name": "stdout",
     "output_type": "stream",
     "text": [
      "9563-----------------------------------------------------\n"
     ]
    },
    {
     "name": "stderr",
     "output_type": "stream",
     "text": [
      "/home/mpoisson/Work/ARSFIT/stats-tilt/../funciones/func4.py:85: RuntimeWarning: invalid value encountered in scalar divide\n",
      "  xn=np.sum(xv[data<-thr]*data[data<-thr])/np.sum(data[data<-thr])\n",
      "/home/mpoisson/Work/ARSFIT/stats-tilt/../funciones/func4.py:88: RuntimeWarning: invalid value encountered in scalar divide\n",
      "  yn=np.sum(yv[data<-thr]*data[data<-thr])/np.sum(data[data<-thr])\n",
      "Multiprocess sampling (4 chains in 4 jobs)\n",
      "CompoundStep\n",
      ">NUTS: [a, axf, R, N01, ymin, ymax, alp0, alp1, xc0, yc0]\n",
      ">BinaryGibbsMetropolis: [ts]\n"
     ]
    },
    {
     "data": {
      "text/html": [
       "\n",
       "<style>\n",
       "    /* Turns off some styling */\n",
       "    progress {\n",
       "        /* gets rid of default border in Firefox and Opera. */\n",
       "        border: none;\n",
       "        /* Needs to be in here for Safari polyfill so background images work as expected. */\n",
       "        background-size: auto;\n",
       "    }\n",
       "    progress:not([value]), progress:not([value])::-webkit-progress-bar {\n",
       "        background: repeating-linear-gradient(45deg, #7e7e7e, #7e7e7e 10px, #5c5c5c 10px, #5c5c5c 20px);\n",
       "    }\n",
       "    .progress-bar-interrupted, .progress-bar-interrupted::-webkit-progress-bar {\n",
       "        background: #F44336;\n",
       "    }\n",
       "</style>\n"
      ],
      "text/plain": [
       "<IPython.core.display.HTML object>"
      ]
     },
     "metadata": {},
     "output_type": "display_data"
    },
    {
     "data": {
      "text/html": [
       "\n",
       "    <div>\n",
       "      <progress value='8000' class='' max='8000' style='width:300px; height:20px; vertical-align: middle;'></progress>\n",
       "      100.00% [8000/8000 03:18&lt;00:00 Sampling 4 chains, 0 divergences]\n",
       "    </div>\n",
       "    "
      ],
      "text/plain": [
       "<IPython.core.display.HTML object>"
      ]
     },
     "metadata": {},
     "output_type": "display_data"
    },
    {
     "name": "stderr",
     "output_type": "stream",
     "text": [
      "Sampling 4 chains for 1_000 tune and 1_000 draw iterations (4_000 + 4_000 draws total) took 202 seconds.\n",
      "/home/mpoisson/anaconda3/envs/pymc4/lib/python3.11/site-packages/arviz/stats/diagnostics.py:584: RuntimeWarning: invalid value encountered in scalar divide\n",
      "  (between_chain_variance / within_chain_variance + num_samples - 1) / (num_samples)\n"
     ]
    },
    {
     "name": "stdout",
     "output_type": "stream",
     "text": [
      "9660-----------------------------------------------------\n"
     ]
    },
    {
     "name": "stderr",
     "output_type": "stream",
     "text": [
      "/home/mpoisson/Work/ARSFIT/stats-tilt/../funciones/func4.py:85: RuntimeWarning: invalid value encountered in scalar divide\n",
      "  xn=np.sum(xv[data<-thr]*data[data<-thr])/np.sum(data[data<-thr])\n",
      "/home/mpoisson/Work/ARSFIT/stats-tilt/../funciones/func4.py:88: RuntimeWarning: invalid value encountered in scalar divide\n",
      "  yn=np.sum(yv[data<-thr]*data[data<-thr])/np.sum(data[data<-thr])\n",
      "Multiprocess sampling (4 chains in 4 jobs)\n",
      "CompoundStep\n",
      ">NUTS: [a, axf, R, N01, ymin, ymax, alp0, alp1, xc0, yc0]\n",
      ">BinaryGibbsMetropolis: [ts]\n"
     ]
    },
    {
     "data": {
      "text/html": [
       "\n",
       "<style>\n",
       "    /* Turns off some styling */\n",
       "    progress {\n",
       "        /* gets rid of default border in Firefox and Opera. */\n",
       "        border: none;\n",
       "        /* Needs to be in here for Safari polyfill so background images work as expected. */\n",
       "        background-size: auto;\n",
       "    }\n",
       "    progress:not([value]), progress:not([value])::-webkit-progress-bar {\n",
       "        background: repeating-linear-gradient(45deg, #7e7e7e, #7e7e7e 10px, #5c5c5c 10px, #5c5c5c 20px);\n",
       "    }\n",
       "    .progress-bar-interrupted, .progress-bar-interrupted::-webkit-progress-bar {\n",
       "        background: #F44336;\n",
       "    }\n",
       "</style>\n"
      ],
      "text/plain": [
       "<IPython.core.display.HTML object>"
      ]
     },
     "metadata": {},
     "output_type": "display_data"
    },
    {
     "data": {
      "text/html": [
       "\n",
       "    <div>\n",
       "      <progress value='8000' class='' max='8000' style='width:300px; height:20px; vertical-align: middle;'></progress>\n",
       "      100.00% [8000/8000 01:14&lt;00:00 Sampling 4 chains, 0 divergences]\n",
       "    </div>\n",
       "    "
      ],
      "text/plain": [
       "<IPython.core.display.HTML object>"
      ]
     },
     "metadata": {},
     "output_type": "display_data"
    },
    {
     "name": "stderr",
     "output_type": "stream",
     "text": [
      "Sampling 4 chains for 1_000 tune and 1_000 draw iterations (4_000 + 4_000 draws total) took 77 seconds.\n",
      "/home/mpoisson/anaconda3/envs/pymc4/lib/python3.11/site-packages/arviz/stats/diagnostics.py:584: RuntimeWarning: invalid value encountered in scalar divide\n",
      "  (between_chain_variance / within_chain_variance + num_samples - 1) / (num_samples)\n"
     ]
    },
    {
     "name": "stdout",
     "output_type": "stream",
     "text": [
      "9873-----------------------------------------------------\n"
     ]
    },
    {
     "name": "stderr",
     "output_type": "stream",
     "text": [
      "/home/mpoisson/Work/ARSFIT/stats-tilt/../funciones/func4.py:85: RuntimeWarning: invalid value encountered in scalar divide\n",
      "  xn=np.sum(xv[data<-thr]*data[data<-thr])/np.sum(data[data<-thr])\n",
      "/home/mpoisson/Work/ARSFIT/stats-tilt/../funciones/func4.py:88: RuntimeWarning: invalid value encountered in scalar divide\n",
      "  yn=np.sum(yv[data<-thr]*data[data<-thr])/np.sum(data[data<-thr])\n",
      "Multiprocess sampling (4 chains in 4 jobs)\n",
      "CompoundStep\n",
      ">NUTS: [a, axf, R, N01, ymin, ymax, alp0, alp1, xc0, yc0]\n",
      ">BinaryGibbsMetropolis: [ts]\n"
     ]
    },
    {
     "data": {
      "text/html": [
       "\n",
       "<style>\n",
       "    /* Turns off some styling */\n",
       "    progress {\n",
       "        /* gets rid of default border in Firefox and Opera. */\n",
       "        border: none;\n",
       "        /* Needs to be in here for Safari polyfill so background images work as expected. */\n",
       "        background-size: auto;\n",
       "    }\n",
       "    progress:not([value]), progress:not([value])::-webkit-progress-bar {\n",
       "        background: repeating-linear-gradient(45deg, #7e7e7e, #7e7e7e 10px, #5c5c5c 10px, #5c5c5c 20px);\n",
       "    }\n",
       "    .progress-bar-interrupted, .progress-bar-interrupted::-webkit-progress-bar {\n",
       "        background: #F44336;\n",
       "    }\n",
       "</style>\n"
      ],
      "text/plain": [
       "<IPython.core.display.HTML object>"
      ]
     },
     "metadata": {},
     "output_type": "display_data"
    },
    {
     "data": {
      "text/html": [
       "\n",
       "    <div>\n",
       "      <progress value='8000' class='' max='8000' style='width:300px; height:20px; vertical-align: middle;'></progress>\n",
       "      100.00% [8000/8000 02:25&lt;00:00 Sampling 4 chains, 0 divergences]\n",
       "    </div>\n",
       "    "
      ],
      "text/plain": [
       "<IPython.core.display.HTML object>"
      ]
     },
     "metadata": {},
     "output_type": "display_data"
    },
    {
     "name": "stderr",
     "output_type": "stream",
     "text": [
      "Sampling 4 chains for 1_000 tune and 1_000 draw iterations (4_000 + 4_000 draws total) took 148 seconds.\n",
      "/home/mpoisson/anaconda3/envs/pymc4/lib/python3.11/site-packages/arviz/stats/diagnostics.py:584: RuntimeWarning: invalid value encountered in scalar divide\n",
      "  (between_chain_variance / within_chain_variance + num_samples - 1) / (num_samples)\n"
     ]
    },
    {
     "name": "stdout",
     "output_type": "stream",
     "text": [
      "9884-----------------------------------------------------\n"
     ]
    },
    {
     "name": "stderr",
     "output_type": "stream",
     "text": [
      "/home/mpoisson/Work/ARSFIT/stats-tilt/../funciones/func4.py:85: RuntimeWarning: invalid value encountered in scalar divide\n",
      "  xn=np.sum(xv[data<-thr]*data[data<-thr])/np.sum(data[data<-thr])\n",
      "/home/mpoisson/Work/ARSFIT/stats-tilt/../funciones/func4.py:88: RuntimeWarning: invalid value encountered in scalar divide\n",
      "  yn=np.sum(yv[data<-thr]*data[data<-thr])/np.sum(data[data<-thr])\n",
      "Multiprocess sampling (4 chains in 4 jobs)\n",
      "CompoundStep\n",
      ">NUTS: [a, axf, R, N01, ymin, ymax, alp0, alp1, xc0, yc0]\n",
      ">BinaryGibbsMetropolis: [ts]\n"
     ]
    },
    {
     "data": {
      "text/html": [
       "\n",
       "<style>\n",
       "    /* Turns off some styling */\n",
       "    progress {\n",
       "        /* gets rid of default border in Firefox and Opera. */\n",
       "        border: none;\n",
       "        /* Needs to be in here for Safari polyfill so background images work as expected. */\n",
       "        background-size: auto;\n",
       "    }\n",
       "    progress:not([value]), progress:not([value])::-webkit-progress-bar {\n",
       "        background: repeating-linear-gradient(45deg, #7e7e7e, #7e7e7e 10px, #5c5c5c 10px, #5c5c5c 20px);\n",
       "    }\n",
       "    .progress-bar-interrupted, .progress-bar-interrupted::-webkit-progress-bar {\n",
       "        background: #F44336;\n",
       "    }\n",
       "</style>\n"
      ],
      "text/plain": [
       "<IPython.core.display.HTML object>"
      ]
     },
     "metadata": {},
     "output_type": "display_data"
    },
    {
     "data": {
      "text/html": [
       "\n",
       "    <div>\n",
       "      <progress value='8000' class='' max='8000' style='width:300px; height:20px; vertical-align: middle;'></progress>\n",
       "      100.00% [8000/8000 01:53&lt;00:00 Sampling 4 chains, 0 divergences]\n",
       "    </div>\n",
       "    "
      ],
      "text/plain": [
       "<IPython.core.display.HTML object>"
      ]
     },
     "metadata": {},
     "output_type": "display_data"
    },
    {
     "name": "stderr",
     "output_type": "stream",
     "text": [
      "Sampling 4 chains for 1_000 tune and 1_000 draw iterations (4_000 + 4_000 draws total) took 116 seconds.\n",
      "/home/mpoisson/anaconda3/envs/pymc4/lib/python3.11/site-packages/arviz/stats/diagnostics.py:584: RuntimeWarning: invalid value encountered in scalar divide\n",
      "  (between_chain_variance / within_chain_variance + num_samples - 1) / (num_samples)\n"
     ]
    },
    {
     "name": "stdout",
     "output_type": "stream",
     "text": [
      "10188-----------------------------------------------------\n"
     ]
    },
    {
     "name": "stderr",
     "output_type": "stream",
     "text": [
      "/home/mpoisson/Work/ARSFIT/stats-tilt/../funciones/func4.py:85: RuntimeWarning: invalid value encountered in scalar divide\n",
      "  xn=np.sum(xv[data<-thr]*data[data<-thr])/np.sum(data[data<-thr])\n",
      "/home/mpoisson/Work/ARSFIT/stats-tilt/../funciones/func4.py:88: RuntimeWarning: invalid value encountered in scalar divide\n",
      "  yn=np.sum(yv[data<-thr]*data[data<-thr])/np.sum(data[data<-thr])\n",
      "Multiprocess sampling (4 chains in 4 jobs)\n",
      "CompoundStep\n",
      ">NUTS: [a, axf, R, N01, ymin, ymax, alp0, alp1, xc0, yc0]\n",
      ">BinaryGibbsMetropolis: [ts]\n"
     ]
    },
    {
     "data": {
      "text/html": [
       "\n",
       "<style>\n",
       "    /* Turns off some styling */\n",
       "    progress {\n",
       "        /* gets rid of default border in Firefox and Opera. */\n",
       "        border: none;\n",
       "        /* Needs to be in here for Safari polyfill so background images work as expected. */\n",
       "        background-size: auto;\n",
       "    }\n",
       "    progress:not([value]), progress:not([value])::-webkit-progress-bar {\n",
       "        background: repeating-linear-gradient(45deg, #7e7e7e, #7e7e7e 10px, #5c5c5c 10px, #5c5c5c 20px);\n",
       "    }\n",
       "    .progress-bar-interrupted, .progress-bar-interrupted::-webkit-progress-bar {\n",
       "        background: #F44336;\n",
       "    }\n",
       "</style>\n"
      ],
      "text/plain": [
       "<IPython.core.display.HTML object>"
      ]
     },
     "metadata": {},
     "output_type": "display_data"
    },
    {
     "data": {
      "text/html": [
       "\n",
       "    <div>\n",
       "      <progress value='8000' class='' max='8000' style='width:300px; height:20px; vertical-align: middle;'></progress>\n",
       "      100.00% [8000/8000 05:38&lt;00:00 Sampling 4 chains, 156 divergences]\n",
       "    </div>\n",
       "    "
      ],
      "text/plain": [
       "<IPython.core.display.HTML object>"
      ]
     },
     "metadata": {},
     "output_type": "display_data"
    },
    {
     "name": "stderr",
     "output_type": "stream",
     "text": [
      "Sampling 4 chains for 1_000 tune and 1_000 draw iterations (4_000 + 4_000 draws total) took 341 seconds.\n",
      "/home/mpoisson/anaconda3/envs/pymc4/lib/python3.11/site-packages/arviz/stats/diagnostics.py:584: RuntimeWarning: invalid value encountered in scalar divide\n",
      "  (between_chain_variance / within_chain_variance + num_samples - 1) / (num_samples)\n"
     ]
    },
    {
     "name": "stdout",
     "output_type": "stream",
     "text": [
      "10226-----------------------------------------------------\n"
     ]
    },
    {
     "name": "stderr",
     "output_type": "stream",
     "text": [
      "/home/mpoisson/Work/ARSFIT/stats-tilt/../funciones/func4.py:85: RuntimeWarning: invalid value encountered in scalar divide\n",
      "  xn=np.sum(xv[data<-thr]*data[data<-thr])/np.sum(data[data<-thr])\n",
      "/home/mpoisson/Work/ARSFIT/stats-tilt/../funciones/func4.py:88: RuntimeWarning: invalid value encountered in scalar divide\n",
      "  yn=np.sum(yv[data<-thr]*data[data<-thr])/np.sum(data[data<-thr])\n",
      "Multiprocess sampling (4 chains in 4 jobs)\n",
      "CompoundStep\n",
      ">NUTS: [a, axf, R, N01, ymin, ymax, alp0, alp1, xc0, yc0]\n",
      ">BinaryGibbsMetropolis: [ts]\n"
     ]
    },
    {
     "data": {
      "text/html": [
       "\n",
       "<style>\n",
       "    /* Turns off some styling */\n",
       "    progress {\n",
       "        /* gets rid of default border in Firefox and Opera. */\n",
       "        border: none;\n",
       "        /* Needs to be in here for Safari polyfill so background images work as expected. */\n",
       "        background-size: auto;\n",
       "    }\n",
       "    progress:not([value]), progress:not([value])::-webkit-progress-bar {\n",
       "        background: repeating-linear-gradient(45deg, #7e7e7e, #7e7e7e 10px, #5c5c5c 10px, #5c5c5c 20px);\n",
       "    }\n",
       "    .progress-bar-interrupted, .progress-bar-interrupted::-webkit-progress-bar {\n",
       "        background: #F44336;\n",
       "    }\n",
       "</style>\n"
      ],
      "text/plain": [
       "<IPython.core.display.HTML object>"
      ]
     },
     "metadata": {},
     "output_type": "display_data"
    },
    {
     "data": {
      "text/html": [
       "\n",
       "    <div>\n",
       "      <progress value='8000' class='' max='8000' style='width:300px; height:20px; vertical-align: middle;'></progress>\n",
       "      100.00% [8000/8000 08:33&lt;00:00 Sampling 4 chains, 0 divergences]\n",
       "    </div>\n",
       "    "
      ],
      "text/plain": [
       "<IPython.core.display.HTML object>"
      ]
     },
     "metadata": {},
     "output_type": "display_data"
    },
    {
     "name": "stderr",
     "output_type": "stream",
     "text": [
      "Sampling 4 chains for 1_000 tune and 1_000 draw iterations (4_000 + 4_000 draws total) took 516 seconds.\n",
      "/home/mpoisson/anaconda3/envs/pymc4/lib/python3.11/site-packages/arviz/stats/diagnostics.py:584: RuntimeWarning: invalid value encountered in scalar divide\n",
      "  (between_chain_variance / within_chain_variance + num_samples - 1) / (num_samples)\n"
     ]
    },
    {
     "name": "stdout",
     "output_type": "stream",
     "text": [
      "10971-----------------------------------------------------\n"
     ]
    },
    {
     "name": "stderr",
     "output_type": "stream",
     "text": [
      "/home/mpoisson/Work/ARSFIT/stats-tilt/../funciones/func4.py:85: RuntimeWarning: invalid value encountered in scalar divide\n",
      "  xn=np.sum(xv[data<-thr]*data[data<-thr])/np.sum(data[data<-thr])\n",
      "/home/mpoisson/Work/ARSFIT/stats-tilt/../funciones/func4.py:88: RuntimeWarning: invalid value encountered in scalar divide\n",
      "  yn=np.sum(yv[data<-thr]*data[data<-thr])/np.sum(data[data<-thr])\n",
      "Multiprocess sampling (4 chains in 4 jobs)\n",
      "CompoundStep\n",
      ">NUTS: [a, axf, R, N01, ymin, ymax, alp0, alp1, xc0, yc0]\n",
      ">BinaryGibbsMetropolis: [ts]\n"
     ]
    },
    {
     "data": {
      "text/html": [
       "\n",
       "<style>\n",
       "    /* Turns off some styling */\n",
       "    progress {\n",
       "        /* gets rid of default border in Firefox and Opera. */\n",
       "        border: none;\n",
       "        /* Needs to be in here for Safari polyfill so background images work as expected. */\n",
       "        background-size: auto;\n",
       "    }\n",
       "    progress:not([value]), progress:not([value])::-webkit-progress-bar {\n",
       "        background: repeating-linear-gradient(45deg, #7e7e7e, #7e7e7e 10px, #5c5c5c 10px, #5c5c5c 20px);\n",
       "    }\n",
       "    .progress-bar-interrupted, .progress-bar-interrupted::-webkit-progress-bar {\n",
       "        background: #F44336;\n",
       "    }\n",
       "</style>\n"
      ],
      "text/plain": [
       "<IPython.core.display.HTML object>"
      ]
     },
     "metadata": {},
     "output_type": "display_data"
    },
    {
     "data": {
      "text/html": [
       "\n",
       "    <div>\n",
       "      <progress value='8000' class='' max='8000' style='width:300px; height:20px; vertical-align: middle;'></progress>\n",
       "      100.00% [8000/8000 00:27&lt;00:00 Sampling 4 chains, 0 divergences]\n",
       "    </div>\n",
       "    "
      ],
      "text/plain": [
       "<IPython.core.display.HTML object>"
      ]
     },
     "metadata": {},
     "output_type": "display_data"
    },
    {
     "name": "stderr",
     "output_type": "stream",
     "text": [
      "Sampling 4 chains for 1_000 tune and 1_000 draw iterations (4_000 + 4_000 draws total) took 29 seconds.\n",
      "/home/mpoisson/anaconda3/envs/pymc4/lib/python3.11/site-packages/arviz/stats/diagnostics.py:584: RuntimeWarning: invalid value encountered in scalar divide\n",
      "  (between_chain_variance / within_chain_variance + num_samples - 1) / (num_samples)\n"
     ]
    }
   ],
   "source": [
    "# Main processing loop\n",
    "DF = []\n",
    "for name in mylist2:\n",
    "    try:\n",
    "        trace,mask = process_dataset(name)\n",
    "        #DF.append(DF0)\n",
    "    except Exception as e:\n",
    "        print(f\"Error processing {name}: {str(e)}\")\n",
    "        continue\n",
    "\n",
    "# Combine all results if needed\n",
    "#final_df = pd.concat(DF, ignore_index=True)"
   ]
  },
  {
   "cell_type": "markdown",
   "id": "7030365a-7574-4a3c-99b1-0455a6cbf792",
   "metadata": {
    "tags": []
   },
   "source": [
    "# Run final model"
   ]
  },
  {
   "cell_type": "code",
   "execution_count": 78,
   "id": "b2eed526-292b-4010-8e2b-cc0fad8e5741",
   "metadata": {},
   "outputs": [],
   "source": [
    "def MODELT(name, data2, rango,ranges, xc2, yc2, hem, apa, ind, sz2, sz1, nMagnetograms, scl, pixarea):\n",
    "    with pm.Model() as modelB:\n",
    "        # Stochastic variables\n",
    "#        a = pm.Uniform('a', ranges['a'][0], 1.5*ranges['a'][1])\n",
    "        a = pm.Normal('a', mu=rango['a'], sigma=1,shape=nMagnetograms)\n",
    "#        axf = pm.Uniform('axf', ranges['axf'][0]/pixarea, 1.5*ranges['axf'][1]/pixarea)\n",
    "        axf = pm.Normal('axf', mu=rango['axf'],sigma=0.05*rango['axf'])\n",
    "#        R = pm.Uniform('R', 0.6*ranges['R'][0], ranges['R'][1])\n",
    "        R = pm.Normal('R', mu=rango['R'], sigma=1)\n",
    "        N01 = pm.Gamma('N01', alpha=2.5, beta=10)\n",
    "        ts = pm.Categorical('ts', p=[0.5, 0.5])\n",
    "#        ymin=pm.Uniform('ymin',0,0.6)\n",
    "#        ymax=pm.Uniform('ymax',ymin,1)\n",
    "        da = pm.Uniform('da', 0, 1, shape=nMagnetograms)\n",
    "        alp0 = pm.Uniform('alp0', ranges['alpha'][0], ranges['alpha'][1])\n",
    "        alp1 = pm.Uniform('alp1', ranges['alpha'][0], ranges['alpha'][1])\n",
    "#        alpha = pm.Uniform('alpha', ranges['alpha'][0], ranges['alpha'][1], shape=nMagnetograms)\n",
    "#        xc0 = pm.Normal('xc0', mu=np.mean(xc2), sigma=1)        \n",
    "#        yc0 = pm.Normal('yc0', mu=np.mean(yc2), sigma=1)          \n",
    "        \n",
    "        # Deterministic variables\n",
    "        N0 = pm.Deterministic('N0', (2*ts-1)*N01)\n",
    "#        da = pm.Deterministic('da', np.arange(0,nMagnetograms,1)*(ymax-ymin)/(nMagnetograms-1)+ymin)\n",
    "        alpha = pm.Deterministic('alpha', np.arange(0,nMagnetograms,1)*(alp1-alp0)/(nMagnetograms-1)+alp0+pm.Normal('erral',mu=0,sigma=1,shape=nMagnetograms))\n",
    "        B0 = pm.Deterministic('B0', axf/(np.pi*a**2))\n",
    "#        xc = pm.Deterministic('xc', np.ones_like(xc2)*xc0)\n",
    "#        yc = pm.Deterministic('yc', np.ones_like(xc2)*yc0)\n",
    "        xc = pm.ConstantData('xc', value=np.array(xc2))\n",
    "        yc = pm.ConstantData('yc', value=np.array(yc2))                   \n",
    "        sg = pm.ConstantData('sg', value=rango['sig'])\n",
    "        \n",
    "    sx = np.unravel_index(ind, (sz2, sz1, nMagnetograms))[1]\n",
    "    sy = np.unravel_index(ind, (sz2, sz1, nMagnetograms))[0]\n",
    "    sz = np.unravel_index(ind, (sz2, sz1, nMagnetograms))[2]\n",
    "\n",
    "    def modelmagB(a=a, R=R, B0=B0, N0=N0, da=da, xc=xc, yc=yc, alpha=alpha):\n",
    "        f = 0\n",
    "        g = 0\n",
    "        a0 = a[sz[0]]\n",
    "        R0 = R\n",
    "        B00 = B0[sz[0]]\n",
    "        da0 = da[sz[0]]\n",
    "        N00 = N0\n",
    "\n",
    "        x = (sx-xc[sz[0]]+0.5)*(pt.cos(alpha[sz[0]])) + (sy-yc[sz[0]]+0.5)*(pt.sin(alpha[sz[0]]))\n",
    "        y = -(sx-xc[sz[0]]+0.5)*pt.sin(alpha[sz[0]]) + (sy-yc[sz[0]]+0.5)*pt.cos(alpha[sz[0]])\n",
    "        xr = pt.sqrt(x**2+((1-da0)*(R0+a0))**2) - R0\n",
    "        rho = pt.sqrt(xr**2 + y**2)\n",
    "        u = pt.sqrt(x**2 + ((1-da0)*(R0+a0))**2)\n",
    "        costh = xr/rho\n",
    "        Nt = N00*(1+f*(rho/a0)**2)\n",
    "        mag = (x*(1+g*(costh)) - 2*Nt*(1-da0)*(R0+a0)*y/u)*(-1)*B00*pt.exp((-1)*(rho/a0)**2)/u\n",
    "\n",
    "        return hem*mag\n",
    "\n",
    "    with modelB:\n",
    "        sharedData = pytensor.shared(np.array(apa[ind]))\n",
    "        model_mag_pm = pm.Deterministic('model_mag_pm', modelmagB())\n",
    "        observations = pm.Normal(\"obs\", mu=model_mag_pm[0,:], sigma=sg, observed=sharedData)\n",
    "        traceB = pm.sample(idata_kwargs={\"log_likelihood\": True})\n",
    "    \n",
    "    # Create output directory if it doesn't exist\n",
    "    #os.makedirs(f'./{name}/modeled_cubes', exist_ok=True)\n",
    "    \n",
    "    # Get posterior means for all parameters\n",
    "#    post_means = {var: traceB.posterior[var].mean(axis=(0,1)).values for var in traceB.posterior.data_vars}\n",
    "    \n",
    "    \n",
    "    \n",
    "    \n",
    "    return traceB\n",
    "\n",
    "def process_dataset(name):\n",
    "    print(name + '-----------------------------------------------------')\n",
    "    datad = np.transpose(np.load(f'../newdat/{name}_cube_data.npy'),axes=(1,2,0))\n",
    "    mask= np.load(f'./masks2/mask_{name}.npy')\n",
    "    data2=datad*mask\n",
    "    scl=1\n",
    "    f=np.sum(np.abs(data2),axis=(1,0))\n",
    "    nmax=round((np.argmax(f)+len(f))/2)\n",
    "    stp=2\n",
    "    if nmax >= 80:\n",
    "        stp=4\n",
    "    data2=data2[:,:,:nmax+1]\n",
    "    data2=data2[:,:,::stp]\n",
    "\n",
    "    sz2, sz1, nMagnetograms = np.shape(data2)\n",
    "    pixsize = 1.98*725*1000*100\n",
    "    pixarea = pixsize*pixsize\n",
    "\n",
    "    ranges = set_ranges(data2)\n",
    "    hem = ranges['hem']\n",
    "\n",
    "    rango={}\n",
    "    table=pd.read_csv(f'./masks2/{name}_0.csv')[:nmax+1]\n",
    "    for k in table.keys()[1:3]:\n",
    "        rango[k]=table[k].values[::stp]\n",
    "\n",
    "    for k in table.keys()[5:]:\n",
    "        rango[k]=table[k].mean()\n",
    "        \n",
    "\n",
    "    bb = [barys(np.abs(data2[:,:,i]), 0) for i in range(nMagnetograms)]\n",
    "    xc2 = [bb[i][0] for i in range(nMagnetograms)]\n",
    "    yc2 = [bb[i][1] for i in range(nMagnetograms)]\n",
    "\n",
    "    mmask=np.zeros_like(data2)\n",
    "    for i in range(nMagnetograms):\n",
    "        mmask[:,:,i]=np.sum(mask,axis=2)>0\n",
    "\n",
    "    apa = np.ravel(data2)\n",
    "    apamask = np.ravel(mmask)\n",
    "\n",
    "    ind = (pd.Series(np.abs(apamask) > 0)).to_numpy().nonzero()\n",
    "    \n",
    "    sx = np.unravel_index(ind, (sz2, sz1, nMagnetograms))[1]\n",
    "    sy = np.unravel_index(ind, (sz2, sz1, nMagnetograms))[0]\n",
    "    sz = np.unravel_index(ind, (sz2, sz1, nMagnetograms))[2]\n",
    "    \n",
    "    traceT = MODELT(name, data2,rango, ranges, xc2, yc2, hem, apa, ind, sz2, sz1, nMagnetograms, scl, pixarea)\n",
    "        \n",
    "    DF01=[]\n",
    "    for i in range(nMagnetograms):\n",
    "    \n",
    "        dic={}\n",
    "        for tt in ['da','alpha','a']:\n",
    "\n",
    "            rr=traceT.posterior.get(tt)\n",
    "\n",
    "            dic[tt]=np.ravel(rr.values[:,:,i])\n",
    "\n",
    "        for tt in ['R','N0','axf']:\n",
    "\n",
    "            pp=1\n",
    "            if tt in ['a','R']:\n",
    "                pp=scl\n",
    "            if tt in ['axf']:\n",
    "                pp=scl**2\n",
    "\n",
    "            rr=traceT.posterior.get(tt)\n",
    "\n",
    "            dic[tt]=np.ravel(pp*rr.values[:,:])*np.ones_like(dic['da'])\n",
    "\n",
    "        dic['xc']=scl*np.array(xc2[i])*np.ones_like(dic['da'])\n",
    "        dic['yc']=scl*np.array(yc2[i])*np.ones_like(dic['da'])\n",
    "        dic['mag']=stp*i**np.ones_like(dic['da'])\n",
    "\n",
    "        DF01.append(pd.DataFrame(dic))\n",
    "\n",
    "    pd.concat(DF01).to_csv(f'./posteriors3/{name}_TM3.csv')\n",
    "    return traceT\n",
    "\n",
    "\n",
    "\n"
   ]
  },
  {
   "cell_type": "code",
   "execution_count": 50,
   "id": "ff4cb9bb-f2cb-4bf4-8a28-5edaccf38c91",
   "metadata": {
    "scrolled": true,
    "tags": []
   },
   "outputs": [
    {
     "data": {
      "text/plain": [
       "['8052',\n",
       " '8214',\n",
       " '8407',\n",
       " '8488',\n",
       " '8552',\n",
       " '8628',\n",
       " '8690',\n",
       " '8749',\n",
       " '8968',\n",
       " '9140',\n",
       " '9170',\n",
       " '9368',\n",
       " '9512',\n",
       " '9531',\n",
       " '9563',\n",
       " '9660',\n",
       " '9873',\n",
       " '9884',\n",
       " '10188',\n",
       " '10226',\n",
       " '10971']"
      ]
     },
     "execution_count": 50,
     "metadata": {},
     "output_type": "execute_result"
    }
   ],
   "source": [
    "mylist2"
   ]
  },
  {
   "cell_type": "code",
   "execution_count": 64,
   "id": "0308b54e-7677-4842-a3d0-adbef4bd0d12",
   "metadata": {},
   "outputs": [],
   "source": [
    "name=8628\n",
    "#print(name + '-----------------------------------------------------')\n",
    "datad = np.transpose(np.load(f'../newdat/{name}_cube_data.npy'),axes=(1,2,0))\n",
    "mask= np.load(f'./masks2/mask_{name}.npy')\n",
    "model=np.load(f'./models2/{name}.npy')\n",
    "data2=datad#*mask\n",
    "DF1=pd.read_csv('./posteriors2/'+str(name)+'_TM3.csv')"
   ]
  },
  {
   "cell_type": "code",
   "execution_count": null,
   "id": "93a77a67-ed51-4c3d-aa69-db2218a29510",
   "metadata": {},
   "outputs": [],
   "source": []
  },
  {
   "cell_type": "code",
   "execution_count": 65,
   "id": "5acc44f5-b120-436a-a770-bc917f2ed202",
   "metadata": {},
   "outputs": [],
   "source": [
    "DF1['alpha']=DF1['alpha'].apply(lambda x: 180*x/np.pi)"
   ]
  },
  {
   "cell_type": "code",
   "execution_count": 66,
   "id": "afb76756-007d-4192-8d7e-3a745f827b4f",
   "metadata": {},
   "outputs": [
    {
     "data": {
      "text/plain": [
       "<AxesSubplot: xlabel='mag', ylabel='alpha'>"
      ]
     },
     "execution_count": 66,
     "metadata": {},
     "output_type": "execute_result"
    },
    {
     "data": {
      "image/png": "[encoded data removed]",
      "text/plain": [
       "<Figure size 640x480 with 1 Axes>"
      ]
     },
     "metadata": {},
     "output_type": "display_data"
    }
   ],
   "source": [
    "sns.lineplot(data=DF1,x='mag',y='alpha')"
   ]
  },
  {
   "cell_type": "code",
   "execution_count": 73,
   "id": "cfae1bd9-1d88-4d94-a67a-a553a023275b",
   "metadata": {},
   "outputs": [
    {
     "data": {
      "image/png": "[encoded data removed]",
      "text/plain": [
       "<Figure size 640x480 with 1 Axes>"
      ]
     },
     "metadata": {},
     "output_type": "display_data"
    },
    {
     "data": {
      "image/png": "[encoded data removed]",
      "text/plain": [
       "<Figure size 640x480 with 1 Axes>"
      ]
     },
     "metadata": {},
     "output_type": "display_data"
    },
    {
     "data": {
      "image/png": "[encoded data removed]",
      "text/plain": [
       "<Figure size 640x480 with 1 Axes>"
      ]
     },
     "metadata": {},
     "output_type": "display_data"
    }
   ],
   "source": [
    "i=50\n",
    "plt.imshow(data2[:,:,i],origin='lower',interpolation='bilinear',cmap='bwr',vmin=-500,vmax=500)\n",
    "plt.show()\n",
    "plt.imshow(mask[:,:,i],origin='lower',interpolation='bilinear',cmap='bwr')\n",
    "plt.show()\n",
    "plt.imshow(model[:,:,round(i/2)],origin='lower',interpolation='bilinear',cmap='bwr',vmin=-500,vmax=500)\n",
    "plt.show()"
   ]
  },
  {
   "cell_type": "code",
   "execution_count": 79,
   "id": "103a2b22-dda6-4f79-b671-9fe7f7e93b27",
   "metadata": {
    "scrolled": true,
    "tags": []
   },
   "outputs": [
    {
     "name": "stdout",
     "output_type": "stream",
     "text": [
      "8628-----------------------------------------------------\n"
     ]
    },
    {
     "name": "stderr",
     "output_type": "stream",
     "text": [
      "/home/mpoisson/Work/ARSFIT/stats-tilt/../funciones/func4.py:85: RuntimeWarning: invalid value encountered in scalar divide\n",
      "  xn=np.sum(xv[data<-thr]*data[data<-thr])/np.sum(data[data<-thr])\n",
      "/home/mpoisson/Work/ARSFIT/stats-tilt/../funciones/func4.py:88: RuntimeWarning: invalid value encountered in scalar divide\n",
      "  yn=np.sum(yv[data<-thr]*data[data<-thr])/np.sum(data[data<-thr])\n",
      "/home/mpoisson/Work/ARSFIT/stats-tilt/../funciones/func4.py:85: RuntimeWarning: invalid value encountered in scalar divide\n",
      "  xn=np.sum(xv[data<-thr]*data[data<-thr])/np.sum(data[data<-thr])\n",
      "/home/mpoisson/Work/ARSFIT/stats-tilt/../funciones/func4.py:88: RuntimeWarning: invalid value encountered in scalar divide\n",
      "  yn=np.sum(yv[data<-thr]*data[data<-thr])/np.sum(data[data<-thr])\n",
      "/home/mpoisson/anaconda3/envs/pymc4/lib/python3.11/site-packages/multipledispatch/dispatcher.py:27: AmbiguityWarning: \n",
      "Ambiguities exist in dispatched function _unify\n",
      "\n",
      "The following signatures may result in ambiguous behavior:\n",
      "\t[object, ConstrainedVar, Mapping], [ConstrainedVar, Var, Mapping]\n",
      "\t[ConstrainedVar, object, Mapping], [object, ConstrainedVar, Mapping]\n",
      "\t[ConstrainedVar, object, Mapping], [object, ConstrainedVar, Mapping]\n",
      "\t[ConstrainedVar, Var, Mapping], [object, ConstrainedVar, Mapping]\n",
      "\n",
      "\n",
      "Consider making the following additions:\n",
      "\n",
      "@dispatch(ConstrainedVar, ConstrainedVar, Mapping)\n",
      "def _unify(...)\n",
      "\n",
      "@dispatch(ConstrainedVar, ConstrainedVar, Mapping)\n",
      "def _unify(...)\n",
      "\n",
      "@dispatch(ConstrainedVar, ConstrainedVar, Mapping)\n",
      "def _unify(...)\n",
      "\n",
      "@dispatch(ConstrainedVar, ConstrainedVar, Mapping)\n",
      "def _unify(...)\n",
      "  warn(warning_text(dispatcher.name, ambiguities), AmbiguityWarning)\n",
      "Multiprocess sampling (4 chains in 4 jobs)\n",
      "CompoundStep\n",
      ">NUTS: [a, axf, R, N01, da, alp0, alp1, erral]\n",
      ">BinaryGibbsMetropolis: [ts]\n"
     ]
    },
    {
     "data": {
      "text/html": [
       "\n",
       "<style>\n",
       "    /* Turns off some styling */\n",
       "    progress {\n",
       "        /* gets rid of default border in Firefox and Opera. */\n",
       "        border: none;\n",
       "        /* Needs to be in here for Safari polyfill so background images work as expected. */\n",
       "        background-size: auto;\n",
       "    }\n",
       "    progress:not([value]), progress:not([value])::-webkit-progress-bar {\n",
       "        background: repeating-linear-gradient(45deg, #7e7e7e, #7e7e7e 10px, #5c5c5c 10px, #5c5c5c 20px);\n",
       "    }\n",
       "    .progress-bar-interrupted, .progress-bar-interrupted::-webkit-progress-bar {\n",
       "        background: #F44336;\n",
       "    }\n",
       "</style>\n"
      ],
      "text/plain": [
       "<IPython.core.display.HTML object>"
      ]
     },
     "metadata": {},
     "output_type": "display_data"
    },
    {
     "data": {
      "text/html": [
       "\n",
       "    <div>\n",
       "      <progress value='8000' class='' max='8000' style='width:300px; height:20px; vertical-align: middle;'></progress>\n",
       "      100.00% [8000/8000 14:43:14&lt;00:00 Sampling 4 chains, 1 divergences]\n",
       "    </div>\n",
       "    "
      ],
      "text/plain": [
       "<IPython.core.display.HTML object>"
      ]
     },
     "metadata": {},
     "output_type": "display_data"
    },
    {
     "name": "stderr",
     "output_type": "stream",
     "text": [
      "Sampling 4 chains for 1_000 tune and 1_000 draw iterations (4_000 + 4_000 draws total) took 52997 seconds.\n",
      "/home/mpoisson/anaconda3/envs/pymc4/lib/python3.11/site-packages/arviz/stats/diagnostics.py:584: RuntimeWarning: invalid value encountered in scalar divide\n",
      "  (between_chain_variance / within_chain_variance + num_samples - 1) / (num_samples)\n"
     ]
    }
   ],
   "source": [
    "# Main processing loop\n",
    "for name in ['8628']:\n",
    "    try:\n",
    "        trace = process_dataset(name)\n",
    "        #DF.append(DF0)\n",
    "    except Exception as e:\n",
    "        print(f\"Error processing {name}: {str(e)}\")\n",
    "        continue"
   ]
  },
  {
   "cell_type": "code",
   "execution_count": 76,
   "id": "202f8707-bac9-49d6-a290-2d7df31076af",
   "metadata": {},
   "outputs": [
    {
     "ename": "TypeError",
     "evalue": "unsupported operand type(s) for +: 'int' and 'str'",
     "output_type": "error",
     "traceback": [
      "\u001b[0;31m---------------------------------------------------------------------------\u001b[0m",
      "\u001b[0;31mTypeError\u001b[0m                                 Traceback (most recent call last)",
      "Cell \u001b[0;32mIn[76], line 1\u001b[0m\n\u001b[0;32m----> 1\u001b[0m trace \u001b[38;5;241m=\u001b[39m \u001b[43mprocess_dataset\u001b[49m\u001b[43m(\u001b[49m\u001b[43mname\u001b[49m\u001b[43m)\u001b[49m\n",
      "Cell \u001b[0;32mIn[74], line 74\u001b[0m, in \u001b[0;36mprocess_dataset\u001b[0;34m(name)\u001b[0m\n\u001b[1;32m     73\u001b[0m \u001b[38;5;28;01mdef\u001b[39;00m \u001b[38;5;21mprocess_dataset\u001b[39m(name):\n\u001b[0;32m---> 74\u001b[0m     \u001b[38;5;28mprint\u001b[39m(\u001b[43mname\u001b[49m\u001b[43m \u001b[49m\u001b[38;5;241;43m+\u001b[39;49m\u001b[43m \u001b[49m\u001b[38;5;124;43m'\u001b[39;49m\u001b[38;5;124;43m-----------------------------------------------------\u001b[39;49m\u001b[38;5;124;43m'\u001b[39;49m)\n\u001b[1;32m     75\u001b[0m     datad \u001b[38;5;241m=\u001b[39m np\u001b[38;5;241m.\u001b[39mtranspose(np\u001b[38;5;241m.\u001b[39mload(\u001b[38;5;124mf\u001b[39m\u001b[38;5;124m'\u001b[39m\u001b[38;5;124m../newdat/\u001b[39m\u001b[38;5;132;01m{\u001b[39;00mname\u001b[38;5;132;01m}\u001b[39;00m\u001b[38;5;124m_cube_data.npy\u001b[39m\u001b[38;5;124m'\u001b[39m),axes\u001b[38;5;241m=\u001b[39m(\u001b[38;5;241m1\u001b[39m,\u001b[38;5;241m2\u001b[39m,\u001b[38;5;241m0\u001b[39m))\n\u001b[1;32m     76\u001b[0m     mask\u001b[38;5;241m=\u001b[39m np\u001b[38;5;241m.\u001b[39mload(\u001b[38;5;124mf\u001b[39m\u001b[38;5;124m'\u001b[39m\u001b[38;5;124m./masks2/mask_\u001b[39m\u001b[38;5;132;01m{\u001b[39;00mname\u001b[38;5;132;01m}\u001b[39;00m\u001b[38;5;124m.npy\u001b[39m\u001b[38;5;124m'\u001b[39m)\n",
      "\u001b[0;31mTypeError\u001b[0m: unsupported operand type(s) for +: 'int' and 'str'"
     ]
    }
   ],
   "source": [
    "trace = process_dataset(name)"
   ]
  },
  {
   "cell_type": "code",
   "execution_count": null,
   "id": "e1bad409-538b-4700-bfa1-31b9b3d41092",
   "metadata": {},
   "outputs": [],
   "source": [
    "rango={}\n",
    "table=pd.read_csv(f'./masks2/{name}_0.csv')[:nmax+1]\n",
    "for k in table.keys()[1:3]:\n",
    "    rango[k]=table[k].values[::2]\n",
    "\n",
    "for k in table.keys()[5:]:\n",
    "    rango[k]=table[k].mean()"
   ]
  },
  {
   "cell_type": "code",
   "execution_count": null,
   "id": "ff7f81d9-ec4e-4b82-8477-efbf2883ff6b",
   "metadata": {},
   "outputs": [],
   "source": [
    "0.05*rango['axf']"
   ]
  },
  {
   "cell_type": "code",
   "execution_count": 68,
   "id": "268b969e-98bc-4c52-86c7-5f96caa38f8c",
   "metadata": {},
   "outputs": [
    {
     "name": "stdout",
     "output_type": "stream",
     "text": [
      "8016-----------------------------------------------------\n"
     ]
    },
    {
     "name": "stderr",
     "output_type": "stream",
     "text": [
      "/home/mpoisson/Work/ARSFIT/stats-tilt/../funciones/func4.py:85: RuntimeWarning: invalid value encountered in scalar divide\n",
      "  xn=np.sum(xv[data<-thr]*data[data<-thr])/np.sum(data[data<-thr])\n",
      "/home/mpoisson/Work/ARSFIT/stats-tilt/../funciones/func4.py:88: RuntimeWarning: invalid value encountered in scalar divide\n",
      "  yn=np.sum(yv[data<-thr]*data[data<-thr])/np.sum(data[data<-thr])\n",
      "/home/mpoisson/Work/ARSFIT/stats-tilt/../funciones/func4.py:85: RuntimeWarning: invalid value encountered in scalar divide\n",
      "  xn=np.sum(xv[data<-thr]*data[data<-thr])/np.sum(data[data<-thr])\n",
      "/home/mpoisson/Work/ARSFIT/stats-tilt/../funciones/func4.py:88: RuntimeWarning: invalid value encountered in scalar divide\n",
      "  yn=np.sum(yv[data<-thr]*data[data<-thr])/np.sum(data[data<-thr])\n"
     ]
    }
   ],
   "source": [
    "print(name + '-----------------------------------------------------')\n",
    "datad = np.transpose(np.load(f'../newdat/{name}_cube_data.npy'),axes=(1,2,0))\n",
    "mask= np.load(f'./masks2/mask_{name}.npy')\n",
    "data2=datad*mask\n",
    "f=np.sum(np.abs(data2),axis=(1,0))\n",
    "nmax=round((np.argmax(f)+len(f))/2)\n",
    "data2=data2[:,:,:nmax+1]\n",
    "data2=data2[:,:,::2]\n",
    "\n",
    "sz2, sz1, nMagnetograms = np.shape(data2)\n",
    "pixsize = 1.98*725*1000*100\n",
    "pixarea = pixsize*pixsize\n",
    "\n",
    "ranges = set_ranges(data2)\n",
    "hem = ranges['hem']\n",
    "\n",
    "rango={}\n",
    "table=pd.read_csv(f'./masks2/{name}_0.csv')[:nmax+1]\n",
    "for k in table.keys()[1:3]:\n",
    "    rango[k]=table[k].values[::2]\n",
    "\n",
    "for k in table.keys()[5:]:\n",
    "    rango[k]=table[k].mean()\n",
    "    \n",
    "bb = [barys(np.abs(data2[:,:,i]), 0) for i in range(nMagnetograms)]\n",
    "xc2 = [bb[i][0] for i in range(nMagnetograms)]\n",
    "yc2 = [bb[i][1] for i in range(nMagnetograms)]\n",
    "\n",
    "\n",
    "\n",
    "mmask=np.zeros_like(data2)\n",
    "for i in range(nMagnetograms):\n",
    "    mmask[:,:,i]=np.sum(mask,axis=2)>0\n",
    "\n",
    "apa = np.ravel(data2)\n",
    "apamask = np.ravel(mmask)\n",
    "\n",
    "ind = (pd.Series(np.abs(apamask) > 0)).to_numpy().nonzero()"
   ]
  },
  {
   "cell_type": "code",
   "execution_count": 69,
   "id": "64bd1fd0-b1d4-44c7-9877-86d03151cb58",
   "metadata": {},
   "outputs": [
    {
     "data": {
      "text/plain": [
       "{'da': array([0.07508828, 0.08775832, 0.10042835, 0.11309839, 0.12576843,\n",
       "        0.13843847, 0.15110851, 0.16377854, 0.17644858, 0.18911862,\n",
       "        0.20178866, 0.2144587 , 0.22712873, 0.23979877, 0.25246881,\n",
       "        0.26513885, 0.27780888, 0.29047892, 0.30314896, 0.315819  ,\n",
       "        0.32848904, 0.34115907, 0.35382911]),\n",
       " 'alpha': array([-0.20049367, -0.19159747, -0.18270126, -0.17380506, -0.16490885,\n",
       "        -0.15601265, -0.14711644, -0.13822024, -0.12932403, -0.12042782,\n",
       "        -0.11153162, -0.10263541, -0.09373921, -0.084843  , -0.0759468 ,\n",
       "        -0.06705059, -0.05815439, -0.04925818, -0.04036198, -0.03146577,\n",
       "        -0.02256956, -0.01367336, -0.00477715]),\n",
       " 'a': 4.086890637519298,\n",
       " 'R': 28.465481442337,\n",
       " 'N0': 0.330189564100435,\n",
       " 'axf': 79499.02195226194,\n",
       " 'mag': 22.0,\n",
       " 'AR': 8016.0,\n",
       " 'lead': 1.0,\n",
       " 'sig': 163.58154614285752}"
      ]
     },
     "execution_count": 69,
     "metadata": {},
     "output_type": "execute_result"
    }
   ],
   "source": [
    "rango"
   ]
  },
  {
   "cell_type": "code",
   "execution_count": null,
   "id": "d8d2c317-25ff-4a80-9124-653961333740",
   "metadata": {},
   "outputs": [],
   "source": [
    "for k in table.keys()[1:3]:\n",
    "    rango[k]=table[k].values[::2]\n",
    "\n",
    "for k in table.keys()[5:9]:\n",
    "    rango[k]=table[k].mean()"
   ]
  },
  {
   "cell_type": "code",
   "execution_count": null,
   "id": "2cba54c3-fca1-45eb-9879-42dae098fa4a",
   "metadata": {},
   "outputs": [],
   "source": [
    "rango"
   ]
  },
  {
   "cell_type": "code",
   "execution_count": 87,
   "id": "a862e929-0ca8-478a-a213-6cb6e1fcd91d",
   "metadata": {},
   "outputs": [],
   "source": [
    "DF0=pd.read_csv('./posteriors3/8628_TM3.csv')"
   ]
  },
  {
   "cell_type": "code",
   "execution_count": 102,
   "id": "fadf2ae5-bce7-4183-ae42-e4ae90d3e766",
   "metadata": {},
   "outputs": [
    {
     "data": {
      "text/plain": [
       "<AxesSubplot: xlabel='alpha', ylabel='Density'>"
      ]
     },
     "execution_count": 102,
     "metadata": {},
     "output_type": "execute_result"
    },
    {
     "data": {
      "image/png": "[encoded data removed]",
      "text/plain": [
       "<Figure size 640x480 with 1 Axes>"
      ]
     },
     "metadata": {},
     "output_type": "display_data"
    }
   ],
   "source": [
    "sns.kdeplot(data=DF0[DF0.mag==32],x='alpha')"
   ]
  },
  {
   "cell_type": "code",
   "execution_count": 83,
   "id": "5362b795-8fdc-426d-a5ac-49a6cecaf3f5",
   "metadata": {},
   "outputs": [],
   "source": [
    "DF0=DF0.groupby('mag').mean().reset_index()"
   ]
  },
  {
   "cell_type": "code",
   "execution_count": 85,
   "id": "fa80e1a3-6293-4999-95c7-d132aeb3d409",
   "metadata": {},
   "outputs": [],
   "source": [
    "DF0['alpha']=DF0['alpha'].apply(lambda x:-180*x/np.pi)"
   ]
  },
  {
   "cell_type": "code",
   "execution_count": 86,
   "id": "af9c38bf-10b7-46ea-a57a-5e1d9daa10c7",
   "metadata": {},
   "outputs": [
    {
     "data": {
      "text/plain": [
       "<AxesSubplot: xlabel='mag', ylabel='alpha'>"
      ]
     },
     "execution_count": 86,
     "metadata": {},
     "output_type": "execute_result"
    },
    {
     "data": {
      "image/png": "[encoded data removed]",
      "text/plain": [
       "<Figure size 640x480 with 1 Axes>"
      ]
     },
     "metadata": {},
     "output_type": "display_data"
    }
   ],
   "source": [
    "sns.lineplot(data=DF0,x='mag',y='alpha')"
   ]
  },
  {
   "cell_type": "code",
   "execution_count": null,
   "id": "70e39933-cd1d-4deb-b15d-22a890afe9e0",
   "metadata": {},
   "outputs": [],
   "source": []
  }
 ],
 "metadata": {
  "kernelspec": {
   "display_name": "Python 3 (ipykernel)",
   "language": "python",
   "name": "python3"
  },
  "language_info": {
   "codemirror_mode": {
    "name": "ipython",
    "version": 3
   },
   "file_extension": ".py",
   "mimetype": "text/x-python",
   "name": "python",
   "nbconvert_exporter": "python",
   "pygments_lexer": "ipython3",
   "version": "3.11.0"
  }
 },
 "nbformat": 4,
 "nbformat_minor": 5
}
