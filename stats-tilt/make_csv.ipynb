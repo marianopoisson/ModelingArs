{
 "cells": [
  {
   "cell_type": "code",
   "execution_count": 3,
   "id": "6906912b-8d67-467f-8ca6-15bdb9971b3e",
   "metadata": {},
   "outputs": [
    {
     "name": "stderr",
     "output_type": "stream",
     "text": [
      "/home/mpoisson/anaconda3/envs/pymc4/lib/python3.11/site-packages/pymc/sampling/jax.py:39: UserWarning: This module is experimental.\n",
      "  warnings.warn(\"This module is experimental.\")\n"
     ]
    }
   ],
   "source": [
    "import numpy as np\n",
    "import pandas as pd\n",
    "import matplotlib.pyplot as plt\n",
    "import matplotlib.cm as cm\n",
    "import matplotlib.lines as mlines\n",
    "from scipy.io import readsav\n",
    "from scipy import ndimage\n",
    "import matplotlib.transforms as mtransforms\n",
    "from mpl_toolkits.axes_grid1 import make_axes_locatable\n",
    "import matplotlib.ticker as ticker\n",
    "# import math\n",
    "import glob as glob\n",
    "import seaborn as sns\n",
    "\n",
    "# PyMC 4.0 imports\n",
    "import pymc as pm\n",
    "import aesara.tensor as at \n",
    "import aesara\n",
    "import arviz as az\n",
    "import pymc.sampling_jax\n",
    "import pytensor.tensor as pt\n",
    "import pytensor\n",
    "\n",
    "import sys\n",
    "sys.path.append('../')\n",
    "\n",
    "from scipy import stats\n",
    "\n",
    "import os\n",
    "\n",
    "from funciones.opencube2 import opencube2\n",
    "from funciones.func4 import tilt,elong,MFLUX,barys,set_ranges,sizes,sizes2\n",
    "from funciones.modelcube import modelmag,modelmagf,modelmag2\n"
   ]
  },
  {
   "cell_type": "markdown",
   "id": "aa4e2728-0eaf-40ef-9ded-8d64b2d026cf",
   "metadata": {
    "tags": []
   },
   "source": [
    "# Check list of ARS"
   ]
  },
  {
   "cell_type": "code",
   "execution_count": 4,
   "id": "7b534160-4bb4-4a49-b374-13c79125d406",
   "metadata": {},
   "outputs": [],
   "source": [
    "DF0=pd.read_csv('./arangosx.csv',index_col=0)"
   ]
  },
  {
   "cell_type": "code",
   "execution_count": 5,
   "id": "2b8737e2-84b2-4422-ba97-afd82663a2f6",
   "metadata": {},
   "outputs": [],
   "source": [
    "#DF0=pd.read_csv('./arangosx.csv',delimiter=';',index_col=0)\n",
    "#DF0.to_csv('./arangosx.csv')"
   ]
  },
  {
   "cell_type": "code",
   "execution_count": 6,
   "id": "f37fdf51-6ec0-4c02-86a4-a94736912f91",
   "metadata": {},
   "outputs": [],
   "source": [
    "dic=readsav('../STATS-COFFEE/statsg.sav')"
   ]
  },
  {
   "cell_type": "code",
   "execution_count": 7,
   "id": "d2a8ebcc-1ede-4118-8a8a-f77a3886c7e6",
   "metadata": {},
   "outputs": [
    {
     "data": {
      "text/plain": [
       "dict_keys(['arsname', 'latitude', 'time', 'taun', 'taucn', 'tlcn', 'nt', 'ort', 'epn', 'enn', 'emn', 'maxflux'])"
      ]
     },
     "execution_count": 7,
     "metadata": {},
     "output_type": "execute_result"
    }
   ],
   "source": [
    "dic.keys()"
   ]
  },
  {
   "cell_type": "code",
   "execution_count": 8,
   "id": "5273e752-c9c6-496c-a12b-5500cfc3a9a4",
   "metadata": {},
   "outputs": [
    {
     "data": {
      "text/plain": [
       "array([b'7-Jul-1996 06:28:05.320', b'9-Aug-1996 12:48:04.510',\n",
       "       b'4-Feb-1997 17:36:04.320', b'24-Jun-1997 16:00:05.380',\n",
       "       b'9-Jul-1997 09:36:04.030', b'11-Dec-1997 11:15:04.383',\n",
       "       b'1-Jan-1998 04:51:03.930', b'25-Feb-1998 00:00:03.150',\n",
       "       b'26-Feb-1998 06:24:03.160', b'28-Feb-1998 09:36:03.160',\n",
       "       b'8-Apr-1998 03:12:03.680', b'23-May-1998 04:47:04.637',\n",
       "       b'7-Dec-1998 03:12:04.309', b'9-Dec-1998 08:03:04.265',\n",
       "       b'2-Mar-1999 22:25:02.172', b'17-Mar-1999 17:36:02.395',\n",
       "       b'28-Apr-1999 20:48:03.429', b'21-May-1999 16:00:03.603',\n",
       "       b'14-Jun-1999 12:48:03.198', b'13-Jul-1999 07:59:02.509',\n",
       "       b'28-Jul-1999 20:48:02.290', b'12-Sep-1999 08:03:02.412',\n",
       "       b'14-Sep-1999 01:36:02.434', b'6-Oct-1999 11:12:02.932',\n",
       "       b'6-Nov-1999 15:59:03.520', b'9-Nov-1999 01:39:03.529',\n",
       "       b'10-Nov-1999 14:24:03.529', b'14-Dec-1999 23:59:02.913',\n",
       "       b'16-Jan-2000 12:47:02.194', b'21-Jan-2000 12:51:02.143',\n",
       "       b'3-Feb-2000 04:47:02.134', b'6-Mar-2000 04:51:02.359',\n",
       "       b'20-Mar-2000 09:39:02.650', b'1-Apr-2000 11:12:03.019',\n",
       "       b'14-Apr-2000 20:47:03.347', b'21-Apr-2000 23:59:03.481',\n",
       "       b'22-Apr-2000 03:15:03.484', b'10-May-2000 15:59:03.595',\n",
       "       b'9-Jun-2000 00:00:03.051', b'10-Jun-2000 04:48:03.016',\n",
       "       b'30-Jun-2000 06:24:02.555', b'9-Jul-2000 06:24:01.396',\n",
       "       b'17-Jul-2000 03:15:01.303', b'29-Jul-2000 06:27:01.277',\n",
       "       b'17-Aug-2000 01:35:01.257', b'26-Aug-2000 23:59:01.350',\n",
       "       b'27-Aug-2000 22:23:01.361', b'15-Sep-2000 20:48:01.661',\n",
       "       b'12-Oct-2000 03:12:02.302', b'4-Nov-2000 20:48:02.513',\n",
       "       b'8-Dec-2000 15:59:01.797', b'14-Dec-2000 17:36:01.630',\n",
       "       b'30-Dec-2000 06:27:01.305', b'1-Jan-2001 19:12:01.259',\n",
       "       b'4-Jan-2001 19:11:01.210', b'19-Jan-2001 16:03:01.129',\n",
       "       b'1-Feb-2001 15:59:01.121', b'18-Feb-2001 03:12:01.239',\n",
       "       b'19-Feb-2001 08:03:01.257', b'5-Mar-2001 20:47:01.509',\n",
       "       b'24-Mar-2001 14:24:02.050', b'25-Mar-2001 08:00:02.071',\n",
       "       b'8-Apr-2001 00:00:02.382', b'14-Apr-2001 22:24:02.513',\n",
       "       b'20-Apr-2001 08:00:02.585', b'12-May-2001 19:12:02.438',\n",
       "       b'29-May-2001 11:12:02.070', b'4-Jun-2001 17:35:01.890',\n",
       "       b'13-Jun-2001 03:12:01.693', b'19-Jun-2001 14:24:01.571',\n",
       "       b'24-Jun-2001 06:23:01.485', b'27-Jun-2001 11:15:01.426',\n",
       "       b'10-Jul-2001 11:11:01.287', b'14-Jul-2001 20:51:01.283',\n",
       "       b'26-Jul-2001 16:03:01.255', b'5-Aug-2001 09:35:01.257',\n",
       "       b'6-Aug-2001 19:11:01.263', b'11-Aug-2001 06:23:01.295',\n",
       "       b'22-Sep-2001 19:12:02.106', b'12-Oct-2001 09:35:02.490',\n",
       "       b'6-Nov-2001 03:12:02.396', b'7-Nov-2001 09:35:02.377',\n",
       "       b'30-Dec-2001 06:27:01.164', b'22-Jan-2002 22:24:00.111',\n",
       "       b'26-Feb-2002 09:36:00.537', b'16-Mar-2002 20:51:01.080',\n",
       "       b'24-Mar-2002 09:36:01.258', b'30-Mar-2002 20:48:01.395',\n",
       "       b'6-Apr-2002 16:00:01.522', b'14-Apr-2002 19:15:01.593',\n",
       "       b'18-Apr-2002 14:24:01.587', b'21-Apr-2002 01:36:01.571',\n",
       "       b'25-Apr-2002 01:35:01.532', b'3-May-2002 07:59:01.430',\n",
       "       b'15-May-2002 04:47:01.191', b'7-Jun-2002 01:39:00.623',\n",
       "       b'8-Jun-2002 20:47:00.589', b'27-Jul-2002 20:47:00.271',\n",
       "       b'25-Jul-2002 23:59:00.262', b'29-Jul-2002 12:47:00.281',\n",
       "       b'3-Sep-2002 16:03:00.877', b'17-Sep-2002 22:23:01.213',\n",
       "       b'26-Sep-2002 19:12:01.398', b'23-Sep-2002 03:11:01.323',\n",
       "       b'3-Oct-2002 09:35:01.511', b'11-Oct-2002 08:03:01.556',\n",
       "       b'8-Nov-2002 12:47:01.165', b'18-Dec-2002 01:39:00.199',\n",
       "       b'23-Jan-2003 17:38:59.150', b'13-Mar-2003 06:27:00.200',\n",
       "       b'27-Mar-2003 17:36:00.500', b'29-Mar-2003 20:48:00.534',\n",
       "       b'27-Apr-2003 19:12:00.360', b'11-Jun-2003 11:10:59.370',\n",
       "       b'18-Jun-2003 06:26:59.310', b'24-Jun-2003 03:10:59.293',\n",
       "       b'22-Aug-2003 11:11:02.820', b'28-Aug-2003 14:23:02.980',\n",
       "       b'9-Sep-2003 16:03:03.251', b'1-Feb-2004 04:47:02.370',\n",
       "       b'26-Feb-2004 12:51:03.050', b'7-Mar-2004 09:39:03.290',\n",
       "       b'23-Aug-2004 17:35:03.120', b'27-Oct-2004 01:39:02.970',\n",
       "       b'27-Jan-2005 14:24:02.480', b'2-Apr-2005 15:59:03.420',\n",
       "       b'5-Dec-2005 01:39:02.130', b'19-Dec-2005 14:27:02.110',\n",
       "       b'3-May-2006 14:23:01.490', b'17-Jul-2006 20:48:01.690',\n",
       "       b'11-May-2007 20:51:01.281', b'29-Sep-2007 14:23:02.000',\n",
       "       b'27-Mar-2008 09:35:01.850', b'15-Oct-2008 00:03:01.358',\n",
       "       b'1-Nov-2008 06:27:01.190', b'12-Jan-2009 03:15:02.060',\n",
       "       b'5-Jul-2009 00:00:02.110', b'25-Sep-2009 07:59:01.610',\n",
       "       b'2-Feb-2010 14:27:02.480', b'18-Feb-2010 08:03:02.300'],\n",
       "      dtype=object)"
      ]
     },
     "execution_count": 8,
     "metadata": {},
     "output_type": "execute_result"
    }
   ],
   "source": [
    "dic.time"
   ]
  },
  {
   "cell_type": "code",
   "execution_count": 9,
   "id": "1e76b2a5-4ef1-495f-aca3-c12da1c15727",
   "metadata": {},
   "outputs": [],
   "source": [
    "def searchar(name):\n",
    "    \n",
    "    name=name.encode()\n",
    "\n",
    "    matches = []\n",
    "    dic=readsav('../STATS-COFFEE/stats.sav')\n",
    "\n",
    "    for match in list(dic.arsname):\n",
    "        a=0\n",
    "        if name in match:\n",
    "            a=1\n",
    "        matches.append(a)\n",
    "\n",
    "    ind=matches.index(1)\n",
    "    \n",
    "    print('nt',dic.nt[ind])\n",
    "    print('time',dic.time[ind])\n",
    "    print('lat',dic.latitude[ind])\n",
    "    \n",
    "    return dic.time[ind].decode(),dic.latitude[ind]"
   ]
  },
  {
   "cell_type": "code",
   "execution_count": 10,
   "id": "56443afb-e7db-4d28-bcef-d200fb69e510",
   "metadata": {},
   "outputs": [],
   "source": [
    "ars=DF0['AR'].values"
   ]
  },
  {
   "cell_type": "code",
   "execution_count": 11,
   "id": "fed39f4d-e499-4735-9d91-dce56d3fe9f8",
   "metadata": {
    "scrolled": true,
    "tags": []
   },
   "outputs": [
    {
     "name": "stdout",
     "output_type": "stream",
     "text": [
      "nt 0.22970201\n",
      "time b'23-Sep-2002 03:11:01.323'\n",
      "lat 6\n",
      "nt 0.27008736\n",
      "time b'29-Mar-2003 20:48:00.534'\n",
      "lat -7\n",
      "nt 0.099744365\n",
      "time b'27-Apr-2003 19:12:00.360'\n",
      "lat 16\n",
      "nt -0.3175573\n",
      "time b'11-Jun-2003 11:10:59.370'\n",
      "lat -18\n",
      "nt -0.100707754\n",
      "time b'7-Mar-2004 09:39:03.290'\n",
      "lat -11\n",
      "nt -0.22048052\n",
      "time b'3-May-2006 14:23:01.490'\n",
      "lat 16\n",
      "nt 0.5028164\n",
      "time b'17-Jul-2006 20:48:01.690'\n",
      "lat -5\n",
      "nt 0.2560891\n",
      "time b'29-Sep-2007 14:23:02.000'\n",
      "lat 3\n",
      "nt -0.20700613\n",
      "time b'5-Jul-2009 00:00:02.110'\n",
      "lat -25\n",
      "nt 0.8990149\n",
      "time b'25-Sep-1997 17:39:03.330'\n",
      "lat -28\n",
      "nt 0.39810258\n",
      "time b'11-Dec-1997 11:15:04.383'\n",
      "lat 31\n",
      "nt 0.18575855\n",
      "time b'1-Jan-1998 04:51:03.930'\n",
      "lat -29\n",
      "nt -0.8802456\n",
      "time b'25-Feb-1998 00:00:03.150'\n",
      "lat 17\n",
      "nt 0.20348336\n",
      "time b'26-Feb-1998 06:24:03.160'\n",
      "lat -27\n",
      "nt 0.38754737\n",
      "time b'28-Feb-1998 09:36:03.160'\n",
      "lat -24\n",
      "nt 0.32787043\n",
      "time b'4-May-1998 06:24:04.386'\n",
      "lat 28\n",
      "nt -0.43080446\n",
      "time b'23-May-1998 04:47:04.637'\n",
      "lat 17\n",
      "nt -0.4316836\n",
      "time b'2-Mar-1999 22:25:02.172'\n",
      "lat 20\n",
      "nt -0.43070436\n",
      "time b'14-Jun-1999 12:48:03.198'\n",
      "lat 26\n",
      "nt 0.007328119\n",
      "time b'7-Jul-1999 03:15:02.618'\n",
      "lat 18\n",
      "nt -0.48652005\n",
      "time b'13-Jul-1999 07:59:02.509'\n",
      "lat 19\n",
      "nt -0.17969224\n",
      "time b'27-Jul-2002 20:47:00.271'\n",
      "lat 12\n",
      "nt 0.20720176\n",
      "time b'25-Jul-2002 23:59:00.262'\n",
      "lat 4\n",
      "nt -0.33323297\n",
      "time b'29-Jul-2002 12:47:00.281'\n",
      "lat -7\n",
      "nt 0.4382631\n",
      "time b'3-Sep-2002 16:03:00.877'\n",
      "lat -3\n",
      "nt 0.23280734\n",
      "time b'9-Sep-2002 09:35:01.026'\n",
      "lat 14\n",
      "nt -0.32461786\n",
      "time b'26-Sep-2002 19:12:01.398'\n",
      "lat 18\n",
      "nt -0.58317417\n",
      "time b'3-Oct-2002 09:35:01.511'\n",
      "lat -16\n",
      "nt 0.13304873\n",
      "time b'11-Oct-2002 08:03:01.556'\n",
      "lat 12\n",
      "nt -0.111358725\n",
      "time b'8-Nov-2002 12:47:01.165'\n",
      "lat 11\n",
      "nt 0.45246956\n",
      "time b'18-Dec-2002 01:39:00.199'\n",
      "lat -28\n",
      "nt -0.084757\n",
      "time b'13-Mar-2003 06:27:00.200'\n",
      "lat -16\n",
      "nt -0.13522457\n",
      "time b'1-May-2003 08:03:00.290'\n",
      "lat -14\n",
      "nt 0.26007137\n",
      "time b'18-Jun-2003 06:26:59.310'\n",
      "lat 30\n",
      "nt -0.342548\n",
      "time b'24-Jun-2003 03:10:59.293'\n",
      "lat 15\n",
      "nt 0.25810575\n",
      "time b'9-Sep-2003 16:03:03.251'\n",
      "lat -9\n",
      "nt -0.4519321\n",
      "time b'1-Feb-2004 04:47:02.370'\n",
      "lat -9\n",
      "nt -0.10116805\n",
      "time b'2-Apr-2005 15:59:03.420'\n",
      "lat -7\n",
      "nt 0.051508203\n",
      "time b'27-Mar-2008 09:35:01.850'\n",
      "lat -8\n",
      "nt -0.3601465\n",
      "time b'1-Nov-2008 06:27:01.190'\n",
      "lat 35\n",
      "nt -0.15810041\n",
      "time b'9-Aug-1996 12:48:04.510'\n",
      "lat 11\n",
      "nt 0.754662\n",
      "time b'4-Feb-1997 17:36:04.320'\n",
      "lat -21\n",
      "nt -0.57436186\n",
      "time b'20-May-1997 22:28:05.517'\n",
      "lat 3\n",
      "nt 0.23809247\n",
      "time b'16-Jun-1997 01:36:05.530'\n",
      "lat 17\n",
      "nt -0.3017031\n",
      "time b'10-Sep-1997 19:11:03.230'\n",
      "lat 21\n",
      "nt 0.21090922\n",
      "time b'8-Apr-1998 03:12:03.680'\n",
      "lat -22\n",
      "nt 0.018779555\n",
      "time b'17-Apr-1998 22:27:03.960'\n",
      "lat 21\n",
      "nt -0.5628848\n",
      "time b'7-Dec-1998 03:12:04.309'\n",
      "lat -22\n",
      "nt -0.49183846\n",
      "time b'9-Dec-1998 08:03:04.265'\n",
      "lat -17\n",
      "nt 0.33024722\n",
      "time b'17-Mar-1999 17:36:02.395'\n",
      "lat -26\n",
      "nt 0.5043078\n",
      "time b'28-Apr-1999 20:48:03.429'\n",
      "lat 22\n",
      "nt 0.31584212\n",
      "time b'10-May-1999 22:24:03.609'\n",
      "lat -24\n",
      "nt -0.1878991\n",
      "time b'29-May-1999 09:36:03.504'\n",
      "lat 20\n",
      "nt -0.0740425\n",
      "time b'17-Jun-1999 03:15:03.128'\n",
      "lat 27\n",
      "nt 1.3202796\n",
      "time b'28-Jul-1999 20:48:02.290'\n",
      "lat -15\n",
      "nt -0.27577832\n",
      "time b'12-Sep-1999 08:03:02.412'\n",
      "lat 13\n",
      "nt 0.40937185\n",
      "time b'14-Sep-1999 01:36:02.434'\n",
      "lat 21\n",
      "nt -0.85674816\n",
      "time b'23-Jan-2003 17:38:59.150'\n",
      "lat 12\n",
      "nt 0.60579824\n",
      "time b'3-Feb-2003 06:23:59.280'\n",
      "lat -7\n",
      "nt -0.29089484\n",
      "time b'24-Jun-1997 16:00:05.380'\n",
      "lat 17\n",
      "nt 0.20399585\n",
      "time b'9-Jul-1997 09:36:04.030'\n",
      "lat 5\n",
      "nt -0.31395748\n",
      "time b'6-Oct-1999 11:12:02.932'\n",
      "lat 14\n",
      "nt 0.49803734\n",
      "time b'2-Nov-1999 09:35:03.479'\n",
      "lat -18\n",
      "nt 0.25054723\n",
      "time b'6-Nov-1999 15:59:03.520'\n",
      "lat 38\n",
      "nt -0.36111027\n",
      "time b'10-Nov-1999 14:24:03.529'\n",
      "lat 14\n",
      "nt 0.2130621\n",
      "time b'14-Dec-1999 23:59:02.913'\n",
      "lat -34\n",
      "nt -0.24449492\n",
      "time b'16-Jan-2000 12:47:02.194'\n",
      "lat -22\n",
      "nt -0.51298064\n",
      "time b'3-Feb-2000 04:47:02.134'\n",
      "lat 27\n",
      "nt -0.24635516\n",
      "time b'8-Mar-2000 16:03:02.402'\n",
      "lat -15\n",
      "nt 0.59878176\n",
      "time b'6-Mar-2000 04:51:02.359'\n",
      "lat -15\n",
      "nt 0.59115076\n",
      "time b'20-Mar-2000 09:39:02.650'\n",
      "lat -16\n",
      "nt -0.50496656\n",
      "time b'28-Mar-2000 20:47:02.906'\n",
      "lat 10\n",
      "nt -0.39869824\n",
      "time b'21-Apr-2000 23:59:03.481'\n",
      "lat -13\n",
      "nt 0.31233174\n",
      "time b'22-Apr-2000 03:15:03.484'\n",
      "lat 32\n",
      "nt 0.22236077\n",
      "time b'10-May-2000 15:59:03.595'\n",
      "lat -23\n",
      "nt -0.29759607\n",
      "time b'9-Jun-2000 00:00:03.051'\n",
      "lat -17\n",
      "nt 0.13140693\n",
      "time b'10-Jun-2000 04:48:03.016'\n",
      "lat -17\n",
      "nt 0.38586\n",
      "time b'30-Jun-2000 06:24:02.555'\n",
      "lat 25\n",
      "nt 0.29835546\n",
      "time b'8-Jul-2000 06:24:01.412'\n",
      "lat -14\n",
      "nt -0.43671554\n",
      "time b'7-Jul-2000 22:24:01.418'\n",
      "lat 17\n",
      "nt -0.1568508\n",
      "time b'29-Jul-2000 06:27:01.277'\n",
      "lat 10\n",
      "nt 0.0006354236\n",
      "time b'22-Aug-2000 17:35:01.302'\n",
      "lat -11\n",
      "nt 0.35788396\n",
      "time b'27-Aug-2000 22:23:01.361'\n",
      "lat 9\n",
      "nt -0.1262798\n",
      "time b'26-Aug-2000 23:59:01.350'\n",
      "lat 25\n",
      "nt 0.21506613\n",
      "time b'5-Sep-2000 11:15:01.465'\n",
      "lat -19\n",
      "nt 0.1493193\n",
      "time b'24-Sep-2000 00:00:01.886'\n",
      "lat -7\n",
      "nt -0.36078313\n",
      "time b'12-Oct-2000 03:12:02.302'\n",
      "lat -13\n",
      "nt -0.19383158\n",
      "time b'4-Nov-2000 20:48:02.513'\n",
      "lat 19\n",
      "nt 0.4771718\n",
      "time b'14-Dec-2000 17:36:01.630'\n",
      "lat 8\n",
      "nt 0.11672378\n",
      "time b'30-Dec-2000 06:27:01.305'\n",
      "lat 30\n",
      "nt 0.16271383\n",
      "time b'1-Jan-2001 19:12:01.259'\n",
      "lat -13\n",
      "nt 0.35572606\n",
      "time b'14-Jan-2001 20:47:01.130'\n",
      "lat 14\n",
      "nt -0.36246952\n",
      "time b'19-Jan-2001 16:03:01.129'\n",
      "lat 4\n",
      "nt -0.048162982\n",
      "time b'6-Mar-2001 11:11:01.522'\n",
      "lat 27\n",
      "nt 0.15371399\n",
      "time b'24-Mar-2001 14:24:02.050'\n",
      "lat -6\n",
      "nt -0.63663596\n",
      "time b'25-Mar-2001 08:00:02.071'\n",
      "lat -29\n",
      "nt 0.55496114\n",
      "time b'8-Apr-2001 00:00:02.382'\n",
      "lat -9\n",
      "nt 0.34031108\n",
      "time b'20-Apr-2001 08:00:02.585'\n",
      "lat 8\n",
      "nt 0.32465053\n",
      "time b'30-Apr-2001 17:36:02.585'\n",
      "lat 8\n",
      "nt 0.31837264\n",
      "time b'13-May-2001 06:24:02.432'\n",
      "lat -18\n",
      "nt 0.33141598\n",
      "time b'12-May-2001 19:12:02.438'\n",
      "lat 6\n",
      "nt -0.27230248\n",
      "time b'4-Jun-2001 17:35:01.890'\n",
      "lat -8\n",
      "nt 0.61098146\n",
      "time b'25-Jun-2001 07:59:01.465'\n",
      "lat 10\n",
      "nt -0.45239586\n",
      "time b'24-Jun-2001 06:23:01.485'\n",
      "lat -23\n",
      "nt -0.28701404\n",
      "time b'10-Jul-2001 11:11:01.287'\n",
      "lat -6\n",
      "nt 0.05609981\n",
      "time b'22-Jul-2001 20:47:02.274'\n",
      "lat 18\n",
      "nt -0.626167\n",
      "time b'5-Aug-2001 09:35:01.257'\n",
      "lat 24\n",
      "nt -0.21870056\n",
      "time b'6-Aug-2001 19:11:01.263'\n",
      "lat -18\n",
      "nt 0.4575974\n",
      "time b'11-Aug-2001 06:23:01.295'\n",
      "lat -3\n",
      "nt 0.34266818\n",
      "time b'12-Oct-2001 09:35:02.490'\n",
      "lat 12\n",
      "nt -0.6585306\n",
      "time b'27-Oct-2001 11:11:02.511'\n",
      "lat 7\n",
      "nt -0.22049269\n",
      "time b'6-Nov-2001 03:12:02.396'\n",
      "lat -28\n",
      "nt -0.12656155\n",
      "time b'22-Nov-2001 07:59:02.022'\n",
      "lat -10\n",
      "nt -0.18527018\n",
      "time b'30-Dec-2001 06:27:01.164'\n",
      "lat 13\n",
      "nt -0.43503293\n",
      "time b'26-Feb-2002 09:36:00.537'\n",
      "lat 22\n",
      "nt 0.1654642\n",
      "time b'1-Mar-2002 17:36:00.625'\n",
      "lat 17\n",
      "nt -0.34983066\n",
      "time b'16-Mar-2002 20:51:01.080'\n",
      "lat -17\n",
      "nt -0.20579773\n",
      "time b'24-Mar-2002 09:36:01.258'\n",
      "lat 6\n",
      "nt 0.30859372\n",
      "time b'30-Mar-2002 20:48:01.395'\n",
      "lat -18\n",
      "nt 0.14890468\n",
      "time b'6-Apr-2002 16:00:01.522'\n",
      "lat -1\n",
      "nt 0.70626014\n",
      "time b'14-Apr-2002 19:15:01.593'\n",
      "lat -16\n",
      "nt 0.67646265\n",
      "time b'18-Apr-2002 14:24:01.587'\n",
      "lat -21\n",
      "nt 0.36655635\n",
      "time b'21-Apr-2002 01:36:01.571'\n",
      "lat 11\n",
      "nt -0.24460411\n",
      "time b'3-May-2002 07:59:01.430'\n",
      "lat 15\n",
      "nt -0.27912098\n",
      "time b'5-Jun-2002 12:47:00.652'\n",
      "lat -20\n",
      "nt 0.44796476\n",
      "time b'8-Jun-2002 20:47:00.589'\n",
      "lat -16\n"
     ]
    }
   ],
   "source": [
    "times=[]\n",
    "lat=[]\n",
    "\n",
    "for name in ars:\n",
    "    a,b = searchar(str(name))\n",
    "    times.append(a)\n",
    "    lat.append(b)"
   ]
  },
  {
   "cell_type": "code",
   "execution_count": 12,
   "id": "886c57c3-2509-4207-bbc4-5c0b7f60b41e",
   "metadata": {},
   "outputs": [],
   "source": [
    "import datetime as dt\n",
    "import matplotlib.dates as mdates\n",
    "\n",
    "\n",
    "x=[dt.datetime.strptime(d[0:round(len(d)/2-1)].replace('Jan',\n",
    "                                    '01').replace('Feb',\n",
    "                                        '02').replace('Mar',\n",
    "                                            '03').replace('Apr',\n",
    "                                                '04').replace('May',\n",
    "                                                    '05').replace('Jun',\n",
    "                                                        '06').replace('Jul',\n",
    "                                                        '07').replace('Aug',\n",
    "                                                        '08').replace('Sep',\n",
    "                                                        '09').replace('Oct',\n",
    "                                                        '10').replace('Nov',\n",
    "                                                        '11').replace('Dec',\n",
    "                                                        '12')\n",
    "                          ,'%d-%m-%Y').date() for d in times]\n",
    "    "
   ]
  },
  {
   "cell_type": "code",
   "execution_count": 13,
   "id": "c6cb8ed3-e593-45d8-a5a2-ae0c5e195a73",
   "metadata": {},
   "outputs": [],
   "source": [
    "import calendar\n",
    "timestamp1 = calendar.timegm(x[0].timetuple())\n",
    "\n"
   ]
  },
  {
   "cell_type": "code",
   "execution_count": 14,
   "id": "43817df4-c07a-4958-a5ce-0da150e5420d",
   "metadata": {},
   "outputs": [
    {
     "data": {
      "text/plain": [
       "datetime.date(2002, 9, 22)"
      ]
     },
     "execution_count": 14,
     "metadata": {},
     "output_type": "execute_result"
    }
   ],
   "source": [
    "dt.date.fromtimestamp(timestamp1)"
   ]
  },
  {
   "cell_type": "code",
   "execution_count": 15,
   "id": "269a7e80-2e4d-46a1-b5a3-595b43bf1881",
   "metadata": {},
   "outputs": [
    {
     "data": {
      "text/plain": [
       "Text(0, 0.5, 'Latitude [deg]')"
      ]
     },
     "execution_count": 15,
     "metadata": {},
     "output_type": "execute_result"
    },
    {
     "data": {
      "image/png": "[encoded data removed]",
      "text/plain": [
       "<Figure size 640x480 with 1 Axes>"
      ]
     },
     "metadata": {},
     "output_type": "display_data"
    }
   ],
   "source": [
    "\n",
    "\n",
    "#plt.gca().xaxis.set_major_formatter(mdates.DateFormatter('%d-%m-%Y'))\n",
    "#plt.gca().xaxis.set_major_locator(mdates.DayLocator())\n",
    "plt.scatter(x,lat,marker='o')\n",
    "plt.gcf().autofmt_xdate()\n",
    "plt.hlines(0,dt.datetime(1996,1,1),dt.datetime(2010,1,1),color='black')\n",
    "plt.ylim(-45,45)\n",
    "plt.ylabel('Latitude [deg]')"
   ]
  },
  {
   "cell_type": "code",
   "execution_count": 16,
   "id": "89990c8d-dcd4-4f4e-a581-92149990fb85",
   "metadata": {},
   "outputs": [],
   "source": [
    "np.random.seed(54605)\n",
    "emp = pd.DataFrame({'Count': [np.random.randint(15) for _ in range(50)],\n",
    "                    'Dates': pd.to_datetime(\n",
    "                                          np.random.choice(\n",
    "                                              pd.date_range('2022-01-01', periods=50), \n",
    "                                          50)\n",
    "                                      )\n",
    "                   }, columns = ['Count','Dates'])"
   ]
  },
  {
   "cell_type": "code",
   "execution_count": 17,
   "id": "3b34b399-0201-4e0e-a028-0deaef7fd7b3",
   "metadata": {},
   "outputs": [],
   "source": [
    "emp = pd.DataFrame({'Count': lat,\n",
    "                    'Dates': x,\n",
    "                    'secs':[calendar.timegm(h.timetuple()) for h in x],\n",
    "                    'ARs':ars\n",
    "                   }, columns = ['Count','Dates','secs','ARs'])"
   ]
  },
  {
   "cell_type": "code",
   "execution_count": 18,
   "id": "5c503721-2982-46f5-a939-f22581312a82",
   "metadata": {},
   "outputs": [],
   "source": [
    "labelsd=[h.strftime(\"%Y-%m-%d\") for h in pd.date_range('1996-01-01','2010-01-01',freq='2YS')]\n",
    "labelst=[h.timestamp() for h in pd.date_range('1996-01-01','2010-01-01',freq='2YS')]\n",
    "\n",
    "#pd.date_range('31/12/1995','31/12/2009',freq='Y')"
   ]
  },
  {
   "cell_type": "code",
   "execution_count": 19,
   "id": "6d223243-3f3b-49dc-914f-2564fe3c4d73",
   "metadata": {},
   "outputs": [
    {
     "ename": "NameError",
     "evalue": "name 'DF' is not defined",
     "output_type": "error",
     "traceback": [
      "\u001b[0;31m---------------------------------------------------------------------------\u001b[0m",
      "\u001b[0;31mNameError\u001b[0m                                 Traceback (most recent call last)",
      "Cell \u001b[0;32mIn[19], line 1\u001b[0m\n\u001b[0;32m----> 1\u001b[0m \u001b[43mDF\u001b[49m\u001b[38;5;241m.\u001b[39mflux\n",
      "\u001b[0;31mNameError\u001b[0m: name 'DF' is not defined"
     ]
    }
   ],
   "source": [
    "DF.flux"
   ]
  },
  {
   "cell_type": "code",
   "execution_count": 20,
   "id": "fd938bb9-7511-4077-baf7-9c2db271faed",
   "metadata": {
    "scrolled": true,
    "tags": []
   },
   "outputs": [],
   "source": [
    "DF=pd.read_csv('compare-params-TM3.csv')\n",
    "\n",
    "DFt=DF.groupby(['AR']).min().reset_index()\n",
    "li1=list(DFt.AR)\n",
    "\n",
    "DF0=[]\n",
    "for name in li1:\n",
    "    time0={}\n",
    "    s=readsav(f'../movies/mov-AR{name}.sav')\n",
    "#    datad,times=opencube2(name=str(name),path='../movies')\n",
    "    \n",
    "    time0['first_mag_date']=s.time[0][:-4]\n",
    "    time0['AR']=name\n",
    "    time0['fint']=DFt[DFt['AR']==name]['fint'].values\n",
    "    DF0.append(pd.DataFrame(time0))\n",
    "\n",
    "DF0=pd.concat(DF0)\n"
   ]
  },
  {
   "cell_type": "code",
   "execution_count": 21,
   "id": "7b5ba837-3f3d-4be8-ad4a-840b75485ef4",
   "metadata": {
    "scrolled": true,
    "tags": []
   },
   "outputs": [
    {
     "ename": "ValueError",
     "evalue": "If using all scalar values, you must pass an index",
     "output_type": "error",
     "traceback": [
      "\u001b[0;31m---------------------------------------------------------------------------\u001b[0m",
      "\u001b[0;31mValueError\u001b[0m                                Traceback (most recent call last)",
      "Cell \u001b[0;32mIn[21], line 16\u001b[0m\n\u001b[1;32m     14\u001b[0m     time0[\u001b[38;5;124m'\u001b[39m\u001b[38;5;124mAR\u001b[39m\u001b[38;5;124m'\u001b[39m]\u001b[38;5;241m=\u001b[39mname\n\u001b[1;32m     15\u001b[0m     time0[\u001b[38;5;124m'\u001b[39m\u001b[38;5;124mfmax\u001b[39m\u001b[38;5;124m'\u001b[39m]\u001b[38;5;241m=\u001b[39mDFt\u001b[38;5;241m.\u001b[39mloc[filmax][\u001b[38;5;124m'\u001b[39m\u001b[38;5;124mflux\u001b[39m\u001b[38;5;124m'\u001b[39m]\n\u001b[0;32m---> 16\u001b[0m     DF0\u001b[38;5;241m.\u001b[39mappend(\u001b[43mpd\u001b[49m\u001b[38;5;241;43m.\u001b[39;49m\u001b[43mDataFrame\u001b[49m\u001b[43m(\u001b[49m\u001b[43mtime0\u001b[49m\u001b[43m)\u001b[49m)\n\u001b[1;32m     18\u001b[0m DF0\u001b[38;5;241m=\u001b[39mpd\u001b[38;5;241m.\u001b[39mconcat(DF0)\n",
      "File \u001b[0;32m~/anaconda3/envs/pymc4/lib/python3.11/site-packages/pandas/core/frame.py:663\u001b[0m, in \u001b[0;36mDataFrame.__init__\u001b[0;34m(self, data, index, columns, dtype, copy)\u001b[0m\n\u001b[1;32m    657\u001b[0m     mgr \u001b[38;5;241m=\u001b[39m \u001b[38;5;28mself\u001b[39m\u001b[38;5;241m.\u001b[39m_init_mgr(\n\u001b[1;32m    658\u001b[0m         data, axes\u001b[38;5;241m=\u001b[39m{\u001b[38;5;124m\"\u001b[39m\u001b[38;5;124mindex\u001b[39m\u001b[38;5;124m\"\u001b[39m: index, \u001b[38;5;124m\"\u001b[39m\u001b[38;5;124mcolumns\u001b[39m\u001b[38;5;124m\"\u001b[39m: columns}, dtype\u001b[38;5;241m=\u001b[39mdtype, copy\u001b[38;5;241m=\u001b[39mcopy\n\u001b[1;32m    659\u001b[0m     )\n\u001b[1;32m    661\u001b[0m \u001b[38;5;28;01melif\u001b[39;00m \u001b[38;5;28misinstance\u001b[39m(data, \u001b[38;5;28mdict\u001b[39m):\n\u001b[1;32m    662\u001b[0m     \u001b[38;5;66;03m# GH#38939 de facto copy defaults to False only in non-dict cases\u001b[39;00m\n\u001b[0;32m--> 663\u001b[0m     mgr \u001b[38;5;241m=\u001b[39m \u001b[43mdict_to_mgr\u001b[49m\u001b[43m(\u001b[49m\u001b[43mdata\u001b[49m\u001b[43m,\u001b[49m\u001b[43m \u001b[49m\u001b[43mindex\u001b[49m\u001b[43m,\u001b[49m\u001b[43m \u001b[49m\u001b[43mcolumns\u001b[49m\u001b[43m,\u001b[49m\u001b[43m \u001b[49m\u001b[43mdtype\u001b[49m\u001b[38;5;241;43m=\u001b[39;49m\u001b[43mdtype\u001b[49m\u001b[43m,\u001b[49m\u001b[43m \u001b[49m\u001b[43mcopy\u001b[49m\u001b[38;5;241;43m=\u001b[39;49m\u001b[43mcopy\u001b[49m\u001b[43m,\u001b[49m\u001b[43m \u001b[49m\u001b[43mtyp\u001b[49m\u001b[38;5;241;43m=\u001b[39;49m\u001b[43mmanager\u001b[49m\u001b[43m)\u001b[49m\n\u001b[1;32m    664\u001b[0m \u001b[38;5;28;01melif\u001b[39;00m \u001b[38;5;28misinstance\u001b[39m(data, ma\u001b[38;5;241m.\u001b[39mMaskedArray):\n\u001b[1;32m    665\u001b[0m     \u001b[38;5;28;01mimport\u001b[39;00m \u001b[38;5;21;01mnumpy\u001b[39;00m\u001b[38;5;21;01m.\u001b[39;00m\u001b[38;5;21;01mma\u001b[39;00m\u001b[38;5;21;01m.\u001b[39;00m\u001b[38;5;21;01mmrecords\u001b[39;00m \u001b[38;5;28;01mas\u001b[39;00m \u001b[38;5;21;01mmrecords\u001b[39;00m\n",
      "File \u001b[0;32m~/anaconda3/envs/pymc4/lib/python3.11/site-packages/pandas/core/internals/construction.py:493\u001b[0m, in \u001b[0;36mdict_to_mgr\u001b[0;34m(data, index, columns, dtype, typ, copy)\u001b[0m\n\u001b[1;32m    489\u001b[0m     \u001b[38;5;28;01melse\u001b[39;00m:\n\u001b[1;32m    490\u001b[0m         \u001b[38;5;66;03m# dtype check to exclude e.g. range objects, scalars\u001b[39;00m\n\u001b[1;32m    491\u001b[0m         arrays \u001b[38;5;241m=\u001b[39m [x\u001b[38;5;241m.\u001b[39mcopy() \u001b[38;5;28;01mif\u001b[39;00m \u001b[38;5;28mhasattr\u001b[39m(x, \u001b[38;5;124m\"\u001b[39m\u001b[38;5;124mdtype\u001b[39m\u001b[38;5;124m\"\u001b[39m) \u001b[38;5;28;01melse\u001b[39;00m x \u001b[38;5;28;01mfor\u001b[39;00m x \u001b[38;5;129;01min\u001b[39;00m arrays]\n\u001b[0;32m--> 493\u001b[0m \u001b[38;5;28;01mreturn\u001b[39;00m \u001b[43marrays_to_mgr\u001b[49m\u001b[43m(\u001b[49m\u001b[43marrays\u001b[49m\u001b[43m,\u001b[49m\u001b[43m \u001b[49m\u001b[43mcolumns\u001b[49m\u001b[43m,\u001b[49m\u001b[43m \u001b[49m\u001b[43mindex\u001b[49m\u001b[43m,\u001b[49m\u001b[43m \u001b[49m\u001b[43mdtype\u001b[49m\u001b[38;5;241;43m=\u001b[39;49m\u001b[43mdtype\u001b[49m\u001b[43m,\u001b[49m\u001b[43m \u001b[49m\u001b[43mtyp\u001b[49m\u001b[38;5;241;43m=\u001b[39;49m\u001b[43mtyp\u001b[49m\u001b[43m,\u001b[49m\u001b[43m \u001b[49m\u001b[43mconsolidate\u001b[49m\u001b[38;5;241;43m=\u001b[39;49m\u001b[43mcopy\u001b[49m\u001b[43m)\u001b[49m\n",
      "File \u001b[0;32m~/anaconda3/envs/pymc4/lib/python3.11/site-packages/pandas/core/internals/construction.py:118\u001b[0m, in \u001b[0;36marrays_to_mgr\u001b[0;34m(arrays, columns, index, dtype, verify_integrity, typ, consolidate)\u001b[0m\n\u001b[1;32m    115\u001b[0m \u001b[38;5;28;01mif\u001b[39;00m verify_integrity:\n\u001b[1;32m    116\u001b[0m     \u001b[38;5;66;03m# figure out the index, if necessary\u001b[39;00m\n\u001b[1;32m    117\u001b[0m     \u001b[38;5;28;01mif\u001b[39;00m index \u001b[38;5;129;01mis\u001b[39;00m \u001b[38;5;28;01mNone\u001b[39;00m:\n\u001b[0;32m--> 118\u001b[0m         index \u001b[38;5;241m=\u001b[39m \u001b[43m_extract_index\u001b[49m\u001b[43m(\u001b[49m\u001b[43marrays\u001b[49m\u001b[43m)\u001b[49m\n\u001b[1;32m    119\u001b[0m     \u001b[38;5;28;01melse\u001b[39;00m:\n\u001b[1;32m    120\u001b[0m         index \u001b[38;5;241m=\u001b[39m ensure_index(index)\n",
      "File \u001b[0;32m~/anaconda3/envs/pymc4/lib/python3.11/site-packages/pandas/core/internals/construction.py:656\u001b[0m, in \u001b[0;36m_extract_index\u001b[0;34m(data)\u001b[0m\n\u001b[1;32m    653\u001b[0m         \u001b[38;5;28;01mraise\u001b[39;00m \u001b[38;5;167;01mValueError\u001b[39;00m(\u001b[38;5;124m\"\u001b[39m\u001b[38;5;124mPer-column arrays must each be 1-dimensional\u001b[39m\u001b[38;5;124m\"\u001b[39m)\n\u001b[1;32m    655\u001b[0m \u001b[38;5;28;01mif\u001b[39;00m \u001b[38;5;129;01mnot\u001b[39;00m indexes \u001b[38;5;129;01mand\u001b[39;00m \u001b[38;5;129;01mnot\u001b[39;00m raw_lengths:\n\u001b[0;32m--> 656\u001b[0m     \u001b[38;5;28;01mraise\u001b[39;00m \u001b[38;5;167;01mValueError\u001b[39;00m(\u001b[38;5;124m\"\u001b[39m\u001b[38;5;124mIf using all scalar values, you must pass an index\u001b[39m\u001b[38;5;124m\"\u001b[39m)\n\u001b[1;32m    658\u001b[0m \u001b[38;5;28;01melif\u001b[39;00m have_series:\n\u001b[1;32m    659\u001b[0m     index \u001b[38;5;241m=\u001b[39m union_indexes(indexes)\n",
      "\u001b[0;31mValueError\u001b[0m: If using all scalar values, you must pass an index"
     ]
    }
   ],
   "source": [
    "DF=pd.read_csv('compare-params-TM3.csv')\n",
    "\n",
    "\n",
    "li1=list(DF.AR)\n",
    "\n",
    "DF0=[]\n",
    "for name in li1:\n",
    "    time0={}\n",
    "    s=readsav(f'../movies/mov-AR{name}.sav')\n",
    "#    datad,times=opencube2(name=str(name),path='../movies')\n",
    "    DFt=DF[DF['AR']==name]\n",
    "    filmax = DFt['flux'].idxmax()    \n",
    "    time0['max_flux_date']=s.time[int(DFt.loc[filmax]['mag'])][:-4]\n",
    "    time0['AR']=name\n",
    "    time0['fmax']=DFt.loc[filmax]['flux']\n",
    "    DF0.append(pd.DataFrame(time0))\n",
    "\n",
    "DF0=pd.concat(DF0)\n"
   ]
  },
  {
   "cell_type": "code",
   "execution_count": 164,
   "id": "16ca2c54-8991-446f-b5cb-2f93a8725206",
   "metadata": {},
   "outputs": [],
   "source": [
    "DF = pd.read_csv('compare-params-TM3.csv')\n",
    "\n",
    "li1 = list(DF.AR)\n",
    "\n",
    "resultados = []\n",
    "\n",
    "for name in set(li1):\n",
    "    s = readsav(f'../movies/mov-AR{name}.sav')  # Carga el archivo .sav\n",
    "    DFt = DF[DF['AR'] == name]  # Sub-DataFrame para esta AR\n",
    "\n",
    "    # Índice de la fila con flujo máximo\n",
    "    filmax = DFt['flux'].idxmax()\n",
    "    fila_max = DFt.loc[filmax]\n",
    "\n",
    "    # Índice dentro del array `s.time`\n",
    "    idx_mag = int(fila_max['mag'])\n",
    "\n",
    "    # Extraer tiempo, asegurando que es string antes de cortar\n",
    "    time_str = str(s.time[idx_mag])[:-4]\n",
    "\n",
    "    resultados.append({\n",
    "        'AR': name,\n",
    "        'max_flux_date': time_str,\n",
    "        'fmax': fila_max['flux']\n",
    "    })\n",
    "\n",
    "# Crear un DataFrame final\n",
    "DF0 = pd.DataFrame(resultados)"
   ]
  },
  {
   "cell_type": "code",
   "execution_count": 202,
   "id": "4bc62542-bdda-446f-a2a1-d4dbdfbaa50a",
   "metadata": {},
   "outputs": [],
   "source": [
    "DF = pd.read_csv('compare-params-TM3.csv')\n",
    "li1 = DF['AR']\n",
    "\n",
    "resultados = []\n",
    "\n",
    "for name in set(li1):  # Usamos set() para evitar duplicados\n",
    "    s = readsav(f'../movies/mov-AR{name}.sav')  # Carga el archivo .sav\n",
    "    DFt = DF[DF['AR'] == name]  # Sub-DataFrame para esta AR\n",
    "\n",
    "    # Índice de la fila con flujo máximo\n",
    "    filmax = DFt['flux'].idxmax()\n",
    "    fila_max = DFt.loc[filmax]\n",
    "    idx_mag = int(fila_max['mag'])\n",
    "\n",
    "    # Tiempo del máximo flujo\n",
    "    time_max_flux = str(s.time[idx_mag])[:-4]\n",
    "\n",
    "    # Índice donde la longitud es más cercana a cero\n",
    "    idx_lon0 = np.abs(s.lon).argmin()\n",
    "    time_lon0 = str(s.time[idx_lon0])[:-4]\n",
    "\n",
    "    # Guardar en el diccionario\n",
    "    resultados.append({\n",
    "        'AR': name,\n",
    "        'zero_lon_date': time_lon0,\n",
    "        'fmax': fila_max['flux'],\n",
    "        'max_flux_date': time_max_flux\n",
    "\n",
    "    })\n",
    "\n",
    "# Convertir a DataFrame final\n",
    "DF0 = pd.DataFrame(resultados)\n",
    "\n",
    "\n",
    "# Decodificar las fechas byte a string\n",
    "DF0['max_flux_date'] = DF0['max_flux_date'].apply(lambda x: x[2:-1])\n",
    "DF0['zero_lon_date'] = DF0['zero_lon_date'].apply(lambda x: x[2:-1])\n",
    "\n",
    "# Convertir a datetime\n",
    "DF0['max_flux_date'] = pd.to_datetime(DF0['max_flux_date'], format='%d-%b-%Y %H:%M:%S')\n",
    "DF0['zero_lon_date'] = pd.to_datetime(DF0['zero_lon_date'], format='%d-%b-%Y %H:%M:%S')\n",
    "\n",
    "# Reformatear como 'dd-mmm-yy HH:MM:SS'\n",
    "DF0['max_flux_date'] = DF0['max_flux_date'].dt.strftime('%Y %b. %d %H:%M')\n",
    "DF0['zero_lon_date'] = DF0['zero_lon_date'].dt.strftime('%Y %b. %d %H:%M')\n",
    "\n",
    "DF0 = DF0.sort_values(by='AR')"
   ]
  },
  {
   "cell_type": "code",
   "execution_count": 203,
   "id": "07c2fada-091f-45b9-8a3e-b89731d313e9",
   "metadata": {},
   "outputs": [],
   "source": [
    "DF0['fmax']=DF0['fmax'].apply(lambda x: f\"{x*1e-21:.2g}\")"
   ]
  },
  {
   "cell_type": "code",
   "execution_count": 205,
   "id": "0a7d57be-b4f9-43c8-952e-f8161195ca11",
   "metadata": {},
   "outputs": [
    {
     "name": "stdout",
     "output_type": "stream",
     "text": [
      "\\begin{longtable}{rlll}\n",
      "\\toprule\n",
      "   AR &      zero\\_lon\\_date & fmax &      max\\_flux\\_date \\\\\n",
      "\\midrule\n",
      "\\endfirsthead\n",
      "\n",
      "\\toprule\n",
      "   AR &      zero\\_lon\\_date & fmax &      max\\_flux\\_date \\\\\n",
      "\\midrule\n",
      "\\endhead\n",
      "\\midrule\n",
      "\\multicolumn{4}{r}{{Continued on next page}} \\\\\n",
      "\\midrule\n",
      "\\endfoot\n",
      "\n",
      "\\bottomrule\n",
      "\\endlastfoot\n",
      " 7982 & 1996 Aug. 09 16:00 &  6.6 & 1996 Aug. 10 11:15 \\\\\n",
      " 8016 & 1997 Feb. 04 16:03 &  3.7 & 1997 Feb. 02 17:36 \\\\\n",
      " 8040 & 1997 May. 20 22:28 &  8.7 & 1997 May. 20 19:16 \\\\\n",
      " 8052 & 1997 Jun. 16 00:00 &  4.3 & 1997 Jun. 16 00:00 \\\\\n",
      " 8056 & 1997 Jun. 24 16:00 &  4.3 & 1997 Jun. 26 16:00 \\\\\n",
      " 8060 & 1997 Jul. 09 09:36 &  2.5 & 1997 Jul. 09 19:12 \\\\\n",
      " 8084 & 1997 Sep. 11 00:00 &   16 & 1997 Sep. 12 06:24 \\\\\n",
      " 8088 & 1997 Sep. 25 19:12 &   10 & 1997 Sep. 23 14:27 \\\\\n",
      " 8122 & 1997 Dec. 11 09:39 &  6.4 & 1997 Dec. 13 03:12 \\\\\n",
      " 8130 & 1998 Jan. 01 04:51 &  4.3 & 1997 Dec. 31 12:51 \\\\\n",
      " 8164 & 1998 Feb. 25 00:00 &  8.2 & 1998 Feb. 26 14:24 \\\\\n",
      " 8167 & 1998 Feb. 26 08:00 &  3.5 & 1998 Feb. 26 06:24 \\\\\n",
      " 8171 & 1998 Feb. 28 11:12 &   11 & 1998 Mar. 02 09:36 \\\\\n",
      " 8193 & 1998 Apr. 08 03:12 &   15 & 1998 Apr. 05 14:24 \\\\\n",
      " 8205 & 1998 Apr. 17 22:27 &  6.7 & 1998 Apr. 20 06:24 \\\\\n",
      " 8214 & 1998 May. 04 09:36 &   27 & 1998 May. 04 17:36 \\\\\n",
      " 8226 & 1998 May. 23 09:39 &   10 & 1998 May. 25 01:35 \\\\\n",
      " 8404 & 1998 Dec. 07 04:48 &   14 & 1998 Dec. 09 03:15 \\\\\n",
      " 8407 & 1998 Dec. 09 12:51 &  3.7 & 1998 Dec. 08 17:36 \\\\\n",
      " 8476 & 1999 Mar. 02 16:11 &   14 & 1999 Mar. 03 03:11 \\\\\n",
      " 8488 & 1999 Mar. 17 16:00 &  9.3 & 1999 Mar. 18 14:24 \\\\\n",
      " 8524 & 1999 Apr. 29 00:00 &   13 & 1999 Apr. 28 06:24 \\\\\n",
      " 8536 & 1999 May. 10 22:24 &   11 & 1999 May. 09 20:48 \\\\\n",
      " 8552 & 1999 May. 29 04:48 &  8.8 & 1999 May. 28 22:24 \\\\\n",
      " 8582 & 1999 Jun. 14 11:12 &   12 & 1999 Jun. 15 01:39 \\\\\n",
      " 8589 & 1999 Jun. 16 19:12 &  4.3 & 1999 Jun. 19 04:51 \\\\\n",
      " 8614 & 1999 Jul. 06 22:24 &   14 & 1999 Jul. 04 17:35 \\\\\n",
      " 8628 & 1999 Jul. 13 04:51 &   10 & 1999 Jul. 12 22:23 \\\\\n",
      " 8649 & 1999 Jul. 28 06:27 &  8.8 & 1999 Jul. 30 16:00 \\\\\n",
      " 8690 & 1999 Sep. 12 14:24 &   18 & 1999 Sep. 12 00:03 \\\\\n",
      " 8699 & 1999 Sep. 14 00:00 &   13 & 1999 Sep. 14 19:12 \\\\\n",
      " 8722 & 1999 Oct. 06 13:43 &    7 & 1999 Oct. 06 11:12 \\\\\n",
      " 8749 & 1999 Nov. 02 07:59 &   12 & 1999 Nov. 01 03:15 \\\\\n",
      " 8757 & 1999 Nov. 07 01:35 &  6.1 & 1999 Nov. 07 14:24 \\\\\n",
      " 8760 & 1999 Nov. 10 14:24 &   29 & 1999 Nov. 10 17:36 \\\\\n",
      " 8797 & 1999 Dec. 14 22:28 &  7.2 & 1999 Dec. 16 04:47 \\\\\n",
      " 8828 & 2000 Jan. 16 09:35 &   12 & 2000 Jan. 15 19:11 \\\\\n",
      " 8851 & 2000 Feb. 03 04:47 &   10 & 2000 Feb. 03 19:11 \\\\\n",
      " 8898 & 2000 Mar. 08 14:27 &   21 & 2000 Mar. 07 06:27 \\\\\n",
      " 8900 & 2000 Mar. 06 03:15 &   18 & 2000 Mar. 07 22:23 \\\\\n",
      " 8913 & 2000 Mar. 20 04:51 &   17 & 2000 Mar. 19 09:35 \\\\\n",
      " 8924 & 2000 Mar. 28 23:59 &   16 & 2000 Mar. 29 12:47 \\\\\n",
      " 8968 & 2000 Apr. 21 23:59 &    6 & 2000 Apr. 22 22:23 \\\\\n",
      " 8972 & 2000 Apr. 21 22:23 &  9.7 & 2000 Apr. 24 11:15 \\\\\n",
      " 8986 & 2000 May. 10 14:27 &  9.9 & 2000 May. 12 06:24 \\\\\n",
      " 9032 & 2000 Jun. 08 22:24 &  3.1 & 2000 Jun. 08 06:24 \\\\\n",
      " 9035 & 2000 Jun. 10 01:36 &  3.8 & 2000 Jun. 10 04:48 \\\\\n",
      " 9063 & 2000 Jun. 30 04:48 &  8.6 & 2000 Jun. 28 12:48 \\\\\n",
      " 9069 & 2000 Jul. 08 04:51 &   14 & 2000 Jul. 10 06:24 \\\\\n",
      " 9070 & 2000 Jul. 08 01:39 &   21 & 2000 Jul. 08 19:12 \\\\\n",
      " 9103 & 2000 Jul. 29 01:39 &  7.4 & 2000 Jul. 30 19:11 \\\\\n",
      " 9139 & 2000 Aug. 22 14:23 &  7.1 & 2000 Aug. 22 04:47 \\\\\n",
      " 9140 & 2000 Aug. 27 20:47 &  9.5 & 2000 Aug. 29 23:59 \\\\\n",
      " 9144 & 2000 Aug. 27 03:11 &   11 & 2000 Aug. 29 01:35 \\\\\n",
      " 9154 & 2000 Sep. 05 11:15 &   19 & 2000 Sep. 06 07:59 \\\\\n",
      " 9170 & 2000 Sep. 23 20:48 &   11 & 2000 Sep. 25 15:59 \\\\\n",
      " 9192 & 2000 Oct. 12 01:39 &  4.2 & 2000 Oct. 12 15:59 \\\\\n",
      " 9218 & 2000 Nov. 05 00:00 &   13 & 2000 Nov. 03 09:36 \\\\\n",
      " 9267 & 2000 Dec. 14 19:12 &   10 & 2000 Dec. 12 09:35 \\\\\n",
      " 9290 & 2000 Dec. 30 11:11 &  6.5 & 2000 Dec. 28 20:47 \\\\\n",
      " 9291 & 2001 Jan. 01 12:48 &  6.2 & 2001 Jan. 01 17:36 \\\\\n",
      " 9308 & 2001 Jan. 14 20:47 &   12 & 2001 Jan. 13 11:15 \\\\\n",
      " 9311 & 2001 Jan. 19 14:27 &  6.7 & 2001 Jan. 21 01:39 \\\\\n",
      " 9368 & 2001 Mar. 06 11:11 &   18 & 2001 Mar. 07 07:59 \\\\\n",
      " 9396 & 2001 Mar. 24 14:24 &   11 & 2001 Mar. 26 17:36 \\\\\n",
      " 9399 & 2001 Mar. 25 04:48 &  4.1 & 2001 Mar. 26 20:48 \\\\\n",
      " 9417 & 2001 Apr. 08 00:00 &  8.5 & 2001 Apr. 06 09:36 \\\\\n",
      " 9432 & 2001 Apr. 20 11:12 &  9.4 & 2001 Apr. 22 00:00 \\\\\n",
      " 9441 & 2001 Apr. 30 19:12 &   21 & 2001 Apr. 29 03:12 \\\\\n",
      " 9455 & 2001 May. 13 01:36 &   11 & 2001 May. 14 09:36 \\\\\n",
      " 9456 & 2001 May. 12 12:48 &  5.7 & 2001 May. 14 09:36 \\\\\n",
      " 9484 & 2001 Jun. 04 11:11 &   13 & 2001 Jun. 06 06:27 \\\\\n",
      " 9511 & 2001 Jun. 24 22:23 &  9.2 & 2001 Jun. 24 22:23 \\\\\n",
      " 9512 & 2001 Jun. 24 04:47 &   12 & 2001 Jun. 24 06:23 \\\\\n",
      " 9531 & 2001 Jul. 10 11:11 &  7.8 & 2001 Jul. 09 12:48 \\\\\n",
      " 9548 & 2001 Jul. 22 14:27 &  7.3 & 2001 Jul. 21 01:39 \\\\\n",
      " 9563 & 2001 Aug. 05 09:35 &   18 & 2001 Aug. 06 17:35 \\\\\n",
      " 9569 & 2001 Aug. 06 16:03 &  7.4 & 2001 Aug. 08 20:47 \\\\\n",
      " 9574 & 2001 Aug. 11 03:11 &   12 & 2001 Aug. 13 04:47 \\\\\n",
      " 9660 & 2001 Oct. 12 12:51 &  3.7 & 2001 Oct. 13 06:23 \\\\\n",
      " 9678 & 2001 Oct. 27 11:11 &   22 & 2001 Oct. 24 22:23 \\\\\n",
      " 9689 & 2001 Nov. 06 01:36 &  6.6 & 2001 Nov. 06 04:48 \\\\\n",
      " 9710 & 2001 Nov. 22 07:59 &  8.8 & 2001 Nov. 21 07:59 \\\\\n",
      " 9764 & 2001 Dec. 30 01:35 &  9.1 & 2002 Jan. 01 04:51 \\\\\n",
      " 9844 & 2002 Feb. 26 08:00 &   11 & 2002 Feb. 27 14:24 \\\\\n",
      " 9845 & 2002 Mar. 01 12:48 &   19 & 2002 Mar. 01 14:24 \\\\\n",
      " 9873 & 2002 Mar. 16 04:48 &  3.1 & 2002 Mar. 16 20:51 \\\\\n",
      " 9880 & 2002 Mar. 24 03:12 &  6.8 & 2002 Mar. 26 04:48 \\\\\n",
      " 9884 & 2002 Mar. 29 20:48 &  5.4 & 2002 Mar. 31 08:03 \\\\\n",
      " 9897 & 2002 Apr. 06 14:24 &  3.1 & 2002 Apr. 07 12:48 \\\\\n",
      " 9906 & 2002 Apr. 14 19:15 &   24 & 2002 Apr. 15 01:36 \\\\\n",
      " 9910 & 2002 Apr. 19 19:12 &    9 & 2002 Apr. 16 22:24 \\\\\n",
      " 9912 & 2002 Apr. 21 00:00 &   12 & 2002 Apr. 22 14:24 \\\\\n",
      " 9931 & 2002 May. 03 03:11 &  5.5 & 2002 May. 04 03:11 \\\\\n",
      " 9978 & 2002 Jun. 05 12:47 &   10 & 2002 Jun. 03 04:51 \\\\\n",
      " 9987 & 2002 Jun. 08 20:47 &   15 & 2002 Jun. 10 12:47 \\\\\n",
      "10043 & 2002 Jul. 27 23:59 &   11 & 2002 Jul. 27 23:59 \\\\\n",
      "10045 & 2002 Jul. 26 09:35 &  7.6 & 2002 Jul. 26 12:51 \\\\\n",
      "10050 & 2002 Jul. 29 11:11 &   26 & 2002 Jul. 31 14:27 \\\\\n",
      "10099 & 2002 Sep. 03 20:47 &  5.7 & 2002 Sep. 03 03:15 \\\\\n",
      "10103 & 2002 Sep. 09 09:35 &   26 & 2002 Sep. 09 17:35 \\\\\n",
      "10130 & 2002 Sep. 26 14:24 &    6 & 2002 Sep. 25 19:12 \\\\\n",
      "10132 & 2002 Sep. 21 22:23 &  8.4 & 2002 Sep. 24 01:35 \\\\\n",
      "10137 & 2002 Oct. 03 12:51 &   14 & 2002 Oct. 04 01:35 \\\\\n",
      "10144 & 2002 Oct. 11 04:51 &   10 & 2002 Oct. 09 11:12 \\\\\n",
      "10188 & 2002 Nov. 08 11:15 &  5.8 & 2002 Nov. 08 01:39 \\\\\n",
      "10226 & 2002 Dec. 17 19:15 &   28 & 2002 Dec. 18 00:00 \\\\\n",
      "10268 & 2003 Jan. 23 15:59 &  4.3 & 2003 Jan. 25 09:35 \\\\\n",
      "10274 & 2003 Feb. 03 07:59 &    4 & 2003 Feb. 03 11:11 \\\\\n",
      "10311 & 2003 Mar. 13 09:39 &    6 & 2003 Mar. 10 14:23 \\\\\n",
      "10323 & 2003 Mar. 29 20:48 &   19 & 2003 Mar. 30 11:12 \\\\\n",
      "10344 & 2003 Apr. 27 22:24 &   12 & 2003 Apr. 26 04:48 \\\\\n",
      "10349 & 2003 May. 01 11:15 &   31 & 2003 Apr. 29 14:23 \\\\\n",
      "10381 & 2003 Jun. 11 11:10 &  6.9 & 2003 Jun. 12 23:58 \\\\\n",
      "10385 & 2003 Jun. 18 04:50 &    5 & 2003 Jun. 17 08:02 \\\\\n",
      "10391 & 2003 Jun. 24 04:50 &    9 & 2003 Jun. 26 11:07 \\\\\n",
      "10456 & 2003 Sep. 09 12:47 &  9.6 & 2003 Sep. 11 16:00 \\\\\n",
      "10547 & 2004 Jan. 31 20:47 &  5.5 & 2004 Feb. 01 11:11 \\\\\n",
      "10569 & 2004 Mar. 07 01:36 &  3.9 & 2004 Mar. 04 11:15 \\\\\n",
      "10747 & 2005 Apr. 02 11:11 &  7.7 & 2005 Apr. 04 12:47 \\\\\n",
      "10879 & 2006 May. 03 12:47 &  3.1 & 2006 May. 03 14:23 \\\\\n",
      "10900 & 2006 Jul. 18 00:00 &  5.6 & 2006 Jul. 17 17:39 \\\\\n",
      "10971 & 2007 Sep. 29 11:15 &  2.6 & 2007 Sep. 30 06:24 \\\\\n",
      "10987 & 2008 Mar. 27 12:47 &  8.4 & 2008 Mar. 25 17:35 \\\\\n",
      "11007 & 2008 Nov. 01 07:59 &  3.5 & 2008 Nov. 02 23:59 \\\\\n",
      "11024 & 2009 Jul. 04 22:24 &  7.4 & 2009 Jul. 06 17:36 \\\\\n",
      "\\end{longtable}\n",
      "\n"
     ]
    },
    {
     "name": "stderr",
     "output_type": "stream",
     "text": [
      "/tmp/ipykernel_1181/307997257.py:1: FutureWarning: In future versions `DataFrame.to_latex` is expected to utilise the base implementation of `Styler.to_latex` for formatting and rendering. The arguments signature may therefore change. It is recommended instead to use `DataFrame.style.to_latex` which also contains additional functionality.\n",
      "  print(DF0.to_latex(index=False,longtable=True))\n"
     ]
    }
   ],
   "source": [
    "print(DF0.to_latex(index=False,longtable=True))"
   ]
  },
  {
   "cell_type": "code",
   "execution_count": 188,
   "id": "59f309e9-5f77-482c-ae66-5876b43301ac",
   "metadata": {},
   "outputs": [
    {
     "data": {
      "text/html": [
       "<div>\n",
       "<style scoped>\n",
       "    .dataframe tbody tr th:only-of-type {\n",
       "        vertical-align: middle;\n",
       "    }\n",
       "\n",
       "    .dataframe tbody tr th {\n",
       "        vertical-align: top;\n",
       "    }\n",
       "\n",
       "    .dataframe thead th {\n",
       "        text-align: right;\n",
       "    }\n",
       "</style>\n",
       "<table border=\"1\" class=\"dataframe\">\n",
       "  <thead>\n",
       "    <tr style=\"text-align: right;\">\n",
       "      <th></th>\n",
       "      <th>AR</th>\n",
       "      <th>zero_lon_date</th>\n",
       "      <th>fmax</th>\n",
       "      <th>max_flux_date</th>\n",
       "    </tr>\n",
       "  </thead>\n",
       "  <tbody>\n",
       "    <tr>\n",
       "      <th>0</th>\n",
       "      <td>8193</td>\n",
       "      <td>1998 Apr. 08 03:12:03 UT</td>\n",
       "      <td>1.492377e+22</td>\n",
       "      <td>1998 Apr. 05 14:24:03 UT</td>\n",
       "    </tr>\n",
       "    <tr>\n",
       "      <th>1</th>\n",
       "      <td>9218</td>\n",
       "      <td>2000 Nov. 05 00:00:02 UT</td>\n",
       "      <td>1.279180e+22</td>\n",
       "      <td>2000 Nov. 03 09:36:02 UT</td>\n",
       "    </tr>\n",
       "    <tr>\n",
       "      <th>2</th>\n",
       "      <td>8205</td>\n",
       "      <td>1998 Apr. 17 22:27:03 UT</td>\n",
       "      <td>6.665239e+21</td>\n",
       "      <td>1998 Apr. 20 06:24:04 UT</td>\n",
       "    </tr>\n",
       "    <tr>\n",
       "      <th>3</th>\n",
       "      <td>8722</td>\n",
       "      <td>1999 Oct. 06 13:43:02 UT</td>\n",
       "      <td>7.045984e+21</td>\n",
       "      <td>1999 Oct. 06 11:12:02 UT</td>\n",
       "    </tr>\n",
       "    <tr>\n",
       "      <th>4</th>\n",
       "      <td>8214</td>\n",
       "      <td>1998 May. 04 09:36:04 UT</td>\n",
       "      <td>2.689968e+22</td>\n",
       "      <td>1998 May. 04 17:36:04 UT</td>\n",
       "    </tr>\n",
       "    <tr>\n",
       "      <th>...</th>\n",
       "      <td>...</td>\n",
       "      <td>...</td>\n",
       "      <td>...</td>\n",
       "      <td>...</td>\n",
       "    </tr>\n",
       "    <tr>\n",
       "      <th>121</th>\n",
       "      <td>8171</td>\n",
       "      <td>1998 Feb. 28 11:12:03 UT</td>\n",
       "      <td>1.093083e+22</td>\n",
       "      <td>1998 Mar. 02 09:36:03 UT</td>\n",
       "    </tr>\n",
       "    <tr>\n",
       "      <th>122</th>\n",
       "      <td>9710</td>\n",
       "      <td>2001 Nov. 22 07:59:02 UT</td>\n",
       "      <td>8.775458e+21</td>\n",
       "      <td>2001 Nov. 21 07:59:02 UT</td>\n",
       "    </tr>\n",
       "    <tr>\n",
       "      <th>123</th>\n",
       "      <td>10226</td>\n",
       "      <td>2002 Dec. 17 19:15:00 UT</td>\n",
       "      <td>2.783815e+22</td>\n",
       "      <td>2002 Dec. 18 00:00:00 UT</td>\n",
       "    </tr>\n",
       "    <tr>\n",
       "      <th>124</th>\n",
       "      <td>8690</td>\n",
       "      <td>1999 Sep. 12 14:24:02 UT</td>\n",
       "      <td>1.772260e+22</td>\n",
       "      <td>1999 Sep. 12 00:03:02 UT</td>\n",
       "    </tr>\n",
       "    <tr>\n",
       "      <th>125</th>\n",
       "      <td>8699</td>\n",
       "      <td>1999 Sep. 14 00:00:02 UT</td>\n",
       "      <td>1.250584e+22</td>\n",
       "      <td>1999 Sep. 14 19:12:02 UT</td>\n",
       "    </tr>\n",
       "  </tbody>\n",
       "</table>\n",
       "<p>126 rows × 4 columns</p>\n",
       "</div>"
      ],
      "text/plain": [
       "        AR             zero_lon_date          fmax             max_flux_date\n",
       "0     8193  1998 Apr. 08 03:12:03 UT  1.492377e+22  1998 Apr. 05 14:24:03 UT\n",
       "1     9218  2000 Nov. 05 00:00:02 UT  1.279180e+22  2000 Nov. 03 09:36:02 UT\n",
       "2     8205  1998 Apr. 17 22:27:03 UT  6.665239e+21  1998 Apr. 20 06:24:04 UT\n",
       "3     8722  1999 Oct. 06 13:43:02 UT  7.045984e+21  1999 Oct. 06 11:12:02 UT\n",
       "4     8214  1998 May. 04 09:36:04 UT  2.689968e+22  1998 May. 04 17:36:04 UT\n",
       "..     ...                       ...           ...                       ...\n",
       "121   8171  1998 Feb. 28 11:12:03 UT  1.093083e+22  1998 Mar. 02 09:36:03 UT\n",
       "122   9710  2001 Nov. 22 07:59:02 UT  8.775458e+21  2001 Nov. 21 07:59:02 UT\n",
       "123  10226  2002 Dec. 17 19:15:00 UT  2.783815e+22  2002 Dec. 18 00:00:00 UT\n",
       "124   8690  1999 Sep. 12 14:24:02 UT  1.772260e+22  1999 Sep. 12 00:03:02 UT\n",
       "125   8699  1999 Sep. 14 00:00:02 UT  1.250584e+22  1999 Sep. 14 19:12:02 UT\n",
       "\n",
       "[126 rows x 4 columns]"
      ]
     },
     "execution_count": 188,
     "metadata": {},
     "output_type": "execute_result"
    }
   ],
   "source": [
    "DF0"
   ]
  },
  {
   "cell_type": "code",
   "execution_count": 160,
   "id": "cec9bf8f-6fdc-4cff-a424-a95b072669e8",
   "metadata": {},
   "outputs": [
    {
     "data": {
      "text/plain": [
       "{'max_flux_date': b'24-Sep-2002 01:35:01',\n",
       " 'AR': 10132,\n",
       " 'fmax': 8.439461527294643e+21}"
      ]
     },
     "execution_count": 160,
     "metadata": {},
     "output_type": "execute_result"
    }
   ],
   "source": [
    "time0"
   ]
  },
  {
   "cell_type": "code",
   "execution_count": 151,
   "id": "c58abb9d-8079-4edc-9bc0-ec921d64faf1",
   "metadata": {},
   "outputs": [
    {
     "data": {
      "text/plain": [
       "41"
      ]
     },
     "execution_count": 151,
     "metadata": {},
     "output_type": "execute_result"
    }
   ],
   "source": [
    "np.argmax(DF[DF['AR']==name]['flux'].values)"
   ]
  },
  {
   "cell_type": "code",
   "execution_count": 114,
   "id": "6b070a08-b672-44f8-ba53-ff2dfee9b73e",
   "metadata": {},
   "outputs": [],
   "source": [
    "DF0.to_csv('list_of_dates2.csv')"
   ]
  },
  {
   "cell_type": "code",
   "execution_count": 137,
   "id": "fa7171f1-343a-43d8-9c22-8877dccc13c8",
   "metadata": {},
   "outputs": [
    {
     "data": {
      "text/plain": [
       "{'first_mag_date': b'4-Jul-2009 00:00:02',\n",
       " 'AR': 11024,\n",
       " 'fint': array([0.22040121])}"
      ]
     },
     "execution_count": 137,
     "metadata": {},
     "output_type": "execute_result"
    }
   ],
   "source": [
    "time0"
   ]
  },
  {
   "cell_type": "code",
   "execution_count": null,
   "id": "0b1c9ddf-585f-43fb-8616-d992dca6ae22",
   "metadata": {},
   "outputs": [],
   "source": []
  },
  {
   "cell_type": "code",
   "execution_count": 22,
   "id": "84e688bb-6ae1-4ff5-8912-bfaa7e3266d1",
   "metadata": {},
   "outputs": [
    {
     "ename": "NameError",
     "evalue": "name 'cycle24' is not defined",
     "output_type": "error",
     "traceback": [
      "\u001b[0;31m---------------------------------------------------------------------------\u001b[0m",
      "\u001b[0;31mNameError\u001b[0m                                 Traceback (most recent call last)",
      "Cell \u001b[0;32mIn[22], line 34\u001b[0m\n\u001b[1;32m     31\u001b[0m \u001b[38;5;66;03m#sns.histplot(data=emp, x=\"secs\", ax=g.ax_marg_x, kde=False, bins=18)\u001b[39;00m\n\u001b[1;32m     32\u001b[0m g\u001b[38;5;241m.\u001b[39max_marg_y\u001b[38;5;241m.\u001b[39mset_ylabel(\u001b[38;5;124m'\u001b[39m\u001b[38;5;124m'\u001b[39m)\n\u001b[0;32m---> 34\u001b[0m sns\u001b[38;5;241m.\u001b[39mscatterplot(data\u001b[38;5;241m=\u001b[39memp[emp[\u001b[38;5;124m'\u001b[39m\u001b[38;5;124mARs\u001b[39m\u001b[38;5;124m'\u001b[39m]\u001b[38;5;241m.\u001b[39misin(\u001b[43mcycle24\u001b[49m)],color\u001b[38;5;241m=\u001b[39m\u001b[38;5;124m'\u001b[39m\u001b[38;5;124mtab:green\u001b[39m\u001b[38;5;124m'\u001b[39m,x\u001b[38;5;241m=\u001b[39m\u001b[38;5;124m'\u001b[39m\u001b[38;5;124msecs\u001b[39m\u001b[38;5;124m'\u001b[39m,y\u001b[38;5;241m=\u001b[39m\u001b[38;5;124m'\u001b[39m\u001b[38;5;124mCount\u001b[39m\u001b[38;5;124m'\u001b[39m, s\u001b[38;5;241m=\u001b[39m\u001b[38;5;241m80\u001b[39m,label\u001b[38;5;241m=\u001b[39m\u001b[38;5;124m'\u001b[39m\u001b[38;5;124mSC 24\u001b[39m\u001b[38;5;124m'\u001b[39m)\n\u001b[1;32m     35\u001b[0m sns\u001b[38;5;241m.\u001b[39mscatterplot(data\u001b[38;5;241m=\u001b[39memp[emp[\u001b[38;5;124m'\u001b[39m\u001b[38;5;124mARs\u001b[39m\u001b[38;5;124m'\u001b[39m]\u001b[38;5;241m.\u001b[39misin(cycle22)],color\u001b[38;5;241m=\u001b[39m\u001b[38;5;124m'\u001b[39m\u001b[38;5;124mviolet\u001b[39m\u001b[38;5;124m'\u001b[39m,x\u001b[38;5;241m=\u001b[39m\u001b[38;5;124m'\u001b[39m\u001b[38;5;124msecs\u001b[39m\u001b[38;5;124m'\u001b[39m,y\u001b[38;5;241m=\u001b[39m\u001b[38;5;124m'\u001b[39m\u001b[38;5;124mCount\u001b[39m\u001b[38;5;124m'\u001b[39m, s\u001b[38;5;241m=\u001b[39m\u001b[38;5;241m80\u001b[39m,label\u001b[38;5;241m=\u001b[39m\u001b[38;5;124m'\u001b[39m\u001b[38;5;124mSC 22\u001b[39m\u001b[38;5;124m'\u001b[39m)\n\u001b[1;32m     36\u001b[0m sns\u001b[38;5;241m.\u001b[39mscatterplot(data\u001b[38;5;241m=\u001b[39memp[emp[\u001b[38;5;124m'\u001b[39m\u001b[38;5;124mARs\u001b[39m\u001b[38;5;124m'\u001b[39m]\u001b[38;5;241m.\u001b[39misin(nonhale)],color\u001b[38;5;241m=\u001b[39m\u001b[38;5;124m'\u001b[39m\u001b[38;5;124mtab:orange\u001b[39m\u001b[38;5;124m'\u001b[39m,x\u001b[38;5;241m=\u001b[39m\u001b[38;5;124m'\u001b[39m\u001b[38;5;124msecs\u001b[39m\u001b[38;5;124m'\u001b[39m,y\u001b[38;5;241m=\u001b[39m\u001b[38;5;124m'\u001b[39m\u001b[38;5;124mCount\u001b[39m\u001b[38;5;124m'\u001b[39m, s\u001b[38;5;241m=\u001b[39m\u001b[38;5;241m80\u001b[39m,label\u001b[38;5;241m=\u001b[39m\u001b[38;5;124m'\u001b[39m\u001b[38;5;124mNon-Hale\u001b[39m\u001b[38;5;124m'\u001b[39m)\n",
      "\u001b[0;31mNameError\u001b[0m: name 'cycle24' is not defined"
     ]
    },
    {
     "data": {
      "image/png": "[encoded data removed]",
      "text/plain": [
       "<Figure size 800x800 with 3 Axes>"
      ]
     },
     "metadata": {},
     "output_type": "display_data"
    }
   ],
   "source": [
    "#sns.set_style(\"white\")\n",
    "\n",
    "plt.rcParams.update({'font.size': 14})\n",
    "g=sns.jointplot(data=emp,x='secs',y='Count', \n",
    "                marginal_ticks=True,marginal_kws={'bins': 18}, \n",
    "                kind=\"scatter\", s=80,\n",
    "               height=8,label='SC 23')\n",
    "#plt.gcf().autofmt_xdate()\n",
    "\n",
    "g.ax_joint.set_xticks(labelst)\n",
    "\n",
    "\n",
    "newlabels=[dt.date.fromtimestamp(h) for h in labelst]\n",
    "\n",
    "g.ax_joint.set(xticklabels=[h[0:4] for h in labelsd])\n",
    "\n",
    "plt.gcf().autofmt_xdate()\n",
    "\n",
    "g.ax_marg_y.clear()\n",
    "#g.ax_marg_x.clear()\n",
    "\n",
    "#date_form = mdates.DateFormatter(\"%y\")\n",
    "#g.ax_joint.xaxis.set_major_formatter(date_form)\n",
    "plt.setp(g.ax_marg_x.get_yticklabels(), visible=True)\n",
    "plt.setp(g.ax_marg_y.get_xticklabels(), visible=True)\n",
    "\n",
    "# Configurar histograma marginal de Y (Count)\n",
    "#sns.histplot(emp['Count'], bins=15, binrange=(-45, 45), ax=g.ax_marg_y, orientation=\"horizontal\")\n",
    "#sns.histplot(emp['Count'], ax=g.ax_marg_y, orientation=\"vertical\")\n",
    "sns.histplot(data=emp, y=\"Count\", ax=g.ax_marg_y, kde=False, bins=18, binrange=(-45, 45))\n",
    "#sns.histplot(data=emp, x=\"secs\", ax=g.ax_marg_x, kde=False, bins=18)\n",
    "g.ax_marg_y.set_ylabel('')\n",
    "\n",
    "sns.scatterplot(data=emp[emp['ARs'].isin(cycle24)],color='tab:green',x='secs',y='Count', s=80,label='SC 24')\n",
    "sns.scatterplot(data=emp[emp['ARs'].isin(cycle22)],color='violet',x='secs',y='Count', s=80,label='SC 22')\n",
    "sns.scatterplot(data=emp[emp['ARs'].isin(nonhale)],color='tab:orange',x='secs',y='Count', s=80,label='Non-Hale')\n",
    "\n",
    "g.ax_marg_y.set_xlabel('ARs')\n",
    "#g.ax_marg_x.set_ylabel('ARs')\n",
    "g.ax_marg_x.set_ylabel('ARs', labelpad=10)\n",
    "g.ax_joint.set_ylabel('ARs')\n",
    "\n",
    "\n",
    "#g.ax_marg_y.set_yticklabels([])\n",
    "#g.ax_marg_y.set_yticklabels([])\n",
    "g.ax_marg_y.tick_params(axis='y', labelleft=False)\n",
    "g.ax_marg_x.tick_params(axis='x', labelbottom=False)\n",
    "\n",
    "g.ax_joint.set(xticklabels=[h[0:4] for h in labelsd])\n",
    "\n",
    "plt.axhline(0,color='black')\n",
    "plt.ylim(-45,45)\n",
    "plt.ylabel('Latitude [deg]')\n",
    "plt.xlabel('Date [year]')\n",
    "\n",
    "plt.legend()\n",
    "\n",
    "plt.savefig('./plots/butterfly.png',dpi=300)\n",
    "plt.savefig('./plots/butterfly.pdf',dpi=300)\n",
    "\n",
    "#newlabels=[dt.date.fromtimestamp(t1) for t1 in ax.axes[0,0].get_ticks()]"
   ]
  },
  {
   "cell_type": "code",
   "execution_count": 64,
   "id": "688852a9-928c-409e-ab0b-c50c0ea6b5df",
   "metadata": {},
   "outputs": [],
   "source": [
    "nonhale=[8056,10268]"
   ]
  },
  {
   "cell_type": "code",
   "execution_count": 59,
   "id": "ea952b02-3a49-4054-9552-78a267e562ee",
   "metadata": {},
   "outputs": [],
   "source": [
    "cycle24=[11024,11007]\n",
    "cycle22=[7982,8060,8040]"
   ]
  },
  {
   "cell_type": "code",
   "execution_count": 45,
   "id": "223a4d57-d553-4eba-a469-69dbed095f6f",
   "metadata": {
    "scrolled": true,
    "tags": []
   },
   "outputs": [
    {
     "name": "stdout",
     "output_type": "stream",
     "text": [
      "nt 0.22970201\n",
      "time b'23-Sep-2002 03:11:01.323'\n",
      "lat 6\n",
      "133 123 33\n",
      "b'21-Sep-2002 22:23:01.298' b'24-Sep-2002 03:11:01.344'\n",
      "75 84\n",
      "nt 0.27008736\n",
      "time b'29-Mar-2003 20:48:00.534'\n",
      "lat -7\n",
      "155 193 68\n",
      "b'27-Mar-2003 14:24:00.501' b'1-Apr-2003 03:12:00.557'\n",
      "96 159\n",
      "nt 0.099744365\n",
      "time b'27-Apr-2003 19:12:00.360'\n",
      "lat 16\n",
      "231 171 68\n",
      "b'25-Apr-2003 16:03:00.390' b'30-Apr-2003 04:47:00.310'\n",
      "73 119\n",
      "nt -0.3175573\n",
      "time b'11-Jun-2003 11:10:59.370'\n",
      "lat -18\n",
      "145 137 57\n",
      "b'9-Jun-2003 22:22:59.390' b'13-Jun-2003 17:34:59.340'\n",
      "70 88\n",
      "nt -0.100707754\n",
      "time b'7-Mar-2004 09:39:03.290'\n",
      "lat -11\n",
      "96 119 68\n",
      "b'4-Mar-2004 19:15:03.230' b'9-Mar-2004 08:03:03.330'\n",
      "71 103\n",
      "nt -0.22048052\n",
      "time b'3-May-2006 14:23:01.490'\n",
      "lat 16\n",
      "143 151 65\n",
      "b'1-May-2006 11:11:01.530' b'5-May-2006 19:11:01.450'\n",
      "71 96\n",
      "nt 0.5028164\n",
      "time b'17-Jul-2006 20:48:01.690'\n",
      "lat -5\n",
      "163 191 68\n",
      "b'15-Jul-2006 17:36:01.630' b'20-Jul-2006 06:23:01.750'\n",
      "91 141\n",
      "nt 0.2560891\n",
      "time b'29-Sep-2007 14:23:02.000'\n",
      "lat 3\n",
      "151 169 56\n",
      "b'28-Sep-2007 00:03:02.040' b'1-Oct-2007 17:36:01.940'\n",
      "57 86\n",
      "nt -0.20700613\n",
      "time b'5-Jul-2009 00:00:02.110'\n",
      "lat -25\n",
      "137 157 48\n",
      "b'4-Jul-2009 00:00:02.090' b'7-Jul-2009 04:48:02.170'\n",
      "103 125\n",
      "nt 0.8990149\n",
      "time b'25-Sep-1997 17:39:03.330'\n",
      "lat -28\n",
      "149 207 54\n",
      "b'23-Sep-1997 11:15:03.300' b'27-Sep-1997 03:15:03.340'\n",
      "87 170\n",
      "nt 0.39810258\n",
      "time b'11-Dec-1997 11:15:04.383'\n",
      "lat 31\n",
      "167 171 39\n",
      "b'11-Dec-1997 00:03:04.391' b'13-Dec-1997 20:48:04.341'\n",
      "84 109\n",
      "nt 0.18575855\n",
      "time b'1-Jan-1998 04:51:03.930'\n",
      "lat -29\n",
      "155 199 57\n",
      "b'30-Dec-1997 06:27:03.980' b'3-Jan-1998 03:11:03.870'\n",
      "56 87\n",
      "nt -0.8802456\n",
      "time b'25-Feb-1998 00:00:03.150'\n",
      "lat 17\n",
      "143 129 57\n",
      "b'23-Feb-1998 11:12:03.150' b'27-Feb-1998 06:24:03.160'\n",
      "77 101\n",
      "nt 0.20348336\n",
      "time b'26-Feb-1998 06:24:03.160'\n",
      "lat -27\n",
      "165 159 45\n",
      "b'24-Feb-1998 11:12:03.150' b'27-Feb-1998 14:24:03.160'\n",
      "69 79\n",
      "nt 0.38754737\n",
      "time b'28-Feb-1998 09:36:03.160'\n",
      "lat -24\n",
      "125 147 39\n",
      "b'27-Feb-1998 20:48:03.160' b'2-Mar-1998 11:12:03.160'\n",
      "73 128\n",
      "nt 0.32787043\n",
      "time b'4-May-1998 06:24:04.386'\n",
      "lat 28\n",
      "167 235 63\n",
      "b'2-May-1998 08:00:04.349' b'6-May-1998 12:47:44.000'\n",
      "103 209\n",
      "nt -0.43080446\n",
      "time b'23-May-1998 04:47:04.637'\n",
      "lat 17\n",
      "135 165 34\n",
      "b'22-May-1998 22:23:04.636' b'25-May-1998 04:51:04.642'\n",
      "79 111\n",
      "nt -0.4316836\n",
      "time b'2-Mar-1999 22:25:02.172'\n",
      "lat 20\n",
      "155 187 48\n",
      "b'1-Mar-1999 01:35:02.160' b'4-Mar-1999 06:27:02.183'\n",
      "102 160\n",
      "nt -0.43070436\n",
      "time b'14-Jun-1999 12:48:03.198'\n",
      "lat 26\n",
      "149 173 68\n",
      "b'12-Jun-1999 04:48:03.255' b'16-Jun-1999 17:36:03.139'\n",
      "64 114\n",
      "nt 0.007328119\n",
      "time b'7-Jul-1999 03:15:02.618'\n",
      "lat 18\n",
      "161 183 65\n",
      "b'4-Jul-1999 17:35:02.663' b'9-Jul-1999 06:23:02.580'\n",
      "80 114\n",
      "nt -0.48652005\n",
      "time b'13-Jul-1999 07:59:02.509'\n",
      "lat 19\n",
      "161 205 69\n",
      "b'10-Jul-1999 22:23:02.551' b'15-Jul-1999 12:48:02.470'\n",
      "69 118\n",
      "nt -0.17969224\n",
      "time b'27-Jul-2002 20:47:00.271'\n",
      "lat 12\n",
      "123 141 64\n",
      "b'25-Jul-2002 20:47:00.261' b'30-Jul-2002 03:10:43.000'\n",
      "96 124\n",
      "nt 0.20720176\n",
      "time b'25-Jul-2002 23:59:00.262'\n",
      "lat 4\n",
      "111 137 60\n",
      "b'24-Jul-2002 09:35:00.257' b'28-Jul-2002 09:35:00.274'\n",
      "84 96\n",
      "nt -0.33323297\n",
      "time b'29-Jul-2002 12:47:00.281'\n",
      "lat -7\n",
      "147 151 68\n",
      "b'27-Jul-2002 04:47:00.267' b'31-Jul-2002 17:35:00.299'\n",
      "78 142\n",
      "nt 0.4382631\n",
      "time b'3-Sep-2002 16:03:00.877'\n",
      "lat -3\n",
      "127 155 54\n",
      "b'1-Sep-2002 14:23:00.819' b'5-Sep-2002 06:24:00.921'\n",
      "79 119\n",
      "nt 0.23280734\n",
      "time b'9-Sep-2002 09:35:01.026'\n",
      "lat 14\n",
      "137 167 68\n",
      "b'7-Sep-2002 03:11:00.970' b'11-Sep-2002 16:00:28.000'\n",
      "114 165\n",
      "nt -0.32461786\n",
      "time b'26-Sep-2002 19:12:01.398'\n",
      "lat 18\n",
      "159 213 58\n",
      "b'24-Sep-2002 22:23:01.361' b'28-Sep-2002 20:48:01.438'\n",
      "67 104\n",
      "nt -0.58317417\n",
      "time b'3-Oct-2002 09:35:01.511'\n",
      "lat -16\n",
      "161 207 66\n",
      "b'1-Oct-2002 06:24:01.480' b'5-Oct-2002 19:11:01.537'\n",
      "99 170\n",
      "nt 0.13304873\n",
      "time b'11-Oct-2002 08:03:01.556'\n",
      "lat 12\n",
      "177 173 68\n",
      "b'8-Oct-2002 22:24:01.555' b'13-Oct-2002 12:47:01.550'\n",
      "74 101\n",
      "nt -0.111358725\n",
      "time b'8-Nov-2002 12:47:01.165'\n",
      "lat 11\n",
      "149 139 61\n",
      "b'6-Nov-2002 15:59:01.216' b'10-Nov-2002 17:35:01.099'\n",
      "72 89\n",
      "nt 0.45246956\n",
      "time b'18-Dec-2002 01:39:00.199'\n",
      "lat -28\n",
      "191 229 68\n",
      "b'15-Dec-2002 11:12:00.237' b'20-Dec-2002 01:35:43.000'\n",
      "123 195\n",
      "nt -0.084757\n",
      "time b'13-Mar-2003 06:27:00.200'\n",
      "lat -16\n",
      "147 133 67\n",
      "b'11-Mar-2003 03:15:00.150' b'15-Mar-2003 15:59:00.250'\n",
      "77 94\n",
      "nt -0.13522457\n",
      "time b'1-May-2003 08:03:00.290'\n",
      "lat -14\n",
      "187 185 56\n",
      "b'29-Apr-2003 04:47:00.330' b'2-May-2003 22:23:00.250'\n",
      "106 150\n",
      "nt 0.26007137\n",
      "time b'18-Jun-2003 06:26:59.310'\n",
      "lat 30\n",
      "141 177 60\n",
      "b'15-Jun-2003 22:23:59.320' b'20-Jun-2003 03:10:59.300'\n",
      "62 98\n",
      "nt -0.342548\n",
      "time b'24-Jun-2003 03:10:59.293'\n",
      "lat 15\n",
      "175 229 52\n",
      "b'22-Jun-2003 23:59:59.294' b'26-Jun-2003 12:48:28.000'\n",
      "54 103\n",
      "nt 0.25810575\n",
      "time b'9-Sep-2003 16:03:03.251'\n",
      "lat -9\n",
      "147 181 56\n",
      "b'7-Sep-2003 23:59:03.215' b'11-Sep-2003 19:12:03.298'\n",
      "64 103\n",
      "nt -0.4519321\n",
      "time b'1-Feb-2004 04:47:02.370'\n",
      "lat -9\n",
      "117 125 67\n",
      "b'29-Jan-2004 14:23:02.328' b'3-Feb-2004 03:11:02.406'\n",
      "76 114\n",
      "nt -0.10116805\n",
      "time b'2-Apr-2005 15:59:03.420'\n",
      "lat -7\n",
      "135 129 60\n",
      "b'31-Mar-2005 17:35:03.440' b'4-Apr-2005 17:39:03.390'\n",
      "88 115\n",
      "nt 0.051508203\n",
      "time b'27-Mar-2008 09:35:01.850'\n",
      "lat -8\n",
      "183 191 68\n",
      "b'25-Mar-2008 06:24:01.900' b'29-Mar-2008 19:11:01.790'\n",
      "72 130\n",
      "nt -0.3601465\n",
      "time b'1-Nov-2008 06:27:01.190'\n",
      "lat 35\n",
      "89 171 60\n",
      "b'30-Oct-2008 14:27:01.200' b'3-Nov-2008 14:24:01.170'\n",
      "49 120\n",
      "nt -0.15810041\n",
      "time b'9-Aug-1996 12:48:04.510'\n",
      "lat 11\n",
      "185 253 50\n",
      "b'7-Aug-1996 17:36:04.540' b'11-Aug-1996 16:00:04.470'\n",
      "92 110\n",
      "nt 0.754662\n",
      "time b'4-Feb-1997 17:36:04.320'\n",
      "lat -21\n",
      "143 185 57\n",
      "b'2-Feb-1997 09:39:04.350' b'6-Feb-1997 06:27:04.300'\n",
      "78 142\n",
      "nt -0.57436186\n",
      "time b'20-May-1997 22:28:05.517'\n",
      "lat 3\n",
      "161 201 68\n",
      "b'18-May-1997 16:04:05.484' b'23-May-1997 04:49:30.000'\n",
      "90 151\n",
      "nt 0.23809247\n",
      "time b'16-Jun-1997 01:36:05.530'\n",
      "lat 17\n",
      "125 145 57\n",
      "b'13-Jun-1997 17:36:05.570' b'17-Jun-1997 17:36:05.500'\n",
      "57 98\n",
      "nt -0.3017031\n",
      "time b'10-Sep-1997 19:11:03.230'\n",
      "lat 21\n",
      "191 245 62\n",
      "b'8-Sep-1997 20:48:03.240' b'13-Sep-1997 03:12:03.230'\n",
      "147 192\n",
      "nt 0.21090922\n",
      "time b'8-Apr-1998 03:12:03.680'\n",
      "lat -22\n",
      "209 209 41\n",
      "b'5-Apr-1998 20:48:03.620' b'8-Apr-1998 14:24:03.690'\n",
      "88 145\n",
      "nt 0.018779555\n",
      "time b'17-Apr-1998 22:27:03.960'\n",
      "lat 21\n",
      "173 225 50\n",
      "b'17-Apr-1998 01:36:03.930' b'20-Apr-1998 09:39:04.040'\n",
      "57 112\n",
      "nt -0.5628848\n",
      "time b'7-Dec-1998 03:12:04.309'\n",
      "lat -22\n",
      "181 175 51\n",
      "b'5-Dec-1998 20:48:04.330' b'9-Dec-1998 08:03:04.265'\n",
      "103 113\n",
      "nt -0.49183846\n",
      "time b'9-Dec-1998 08:03:04.265'\n",
      "lat -17\n",
      "159 189 58\n",
      "b'7-Dec-1998 17:36:04.298' b'11-Dec-1998 14:27:04.221'\n",
      "64 88\n",
      "nt 0.33024722\n",
      "time b'17-Mar-1999 17:36:02.395'\n",
      "lat -26\n",
      "183 185 51\n",
      "b'16-Mar-1999 12:48:02.372' b'20-Mar-1999 00:00:02.437'\n",
      "85 119\n",
      "nt 0.5043078\n",
      "time b'28-Apr-1999 20:48:03.429'\n",
      "lat 22\n",
      "187 217 59\n",
      "b'27-Apr-1999 00:00:03.395' b'30-Apr-1999 23:59:43.000'\n",
      "42 153\n",
      "nt 0.31584212\n",
      "time b'10-May-1999 22:24:03.609'\n",
      "lat -24\n",
      "139 173 65\n",
      "b'8-May-1999 11:12:03.582' b'13-May-1999 00:00:03.624'\n",
      "73 108\n",
      "nt -0.1878991\n",
      "time b'29-May-1999 09:36:03.504'\n",
      "lat 20\n",
      "151 195 79\n",
      "b'26-May-1999 11:12:03.546' b'31-May-1999 20:47:43.000'\n",
      "87 105\n",
      "nt -0.0740425\n",
      "time b'17-Jun-1999 03:15:03.128'\n",
      "lat 27\n",
      "139 169 50\n",
      "b'16-Jun-1999 00:00:03.159' b'19-Jun-1999 07:59:03.064'\n",
      "65 84\n",
      "nt 1.3202796\n",
      "time b'28-Jul-1999 20:48:02.290'\n",
      "lat -15\n",
      "141 133 59\n",
      "b'27-Jul-1999 01:39:02.304' b'31-Jul-1999 00:00:02.278'\n",
      "62 119\n",
      "nt -0.27577832\n",
      "time b'12-Sep-1999 08:03:02.412'\n",
      "lat 13\n",
      "153 201 63\n",
      "b'10-Sep-1999 11:11:02.388' b'14-Sep-1999 16:00:02.442'\n",
      "112 144\n",
      "nt 0.40937185\n",
      "time b'14-Sep-1999 01:36:02.434'\n",
      "lat 21\n",
      "177 213 71\n",
      "b'11-Sep-1999 17:35:02.404' b'16-Sep-1999 11:11:02.467'\n",
      "78 107\n",
      "nt -0.85674816\n",
      "time b'23-Jan-2003 17:38:59.150'\n",
      "lat 12\n",
      "163 165 65\n",
      "b'21-Jan-2003 14:23:59.130' b'25-Jan-2003 22:23:59.170'\n",
      "67 64\n",
      "nt 0.60579824\n",
      "time b'3-Feb-2003 06:23:59.280'\n",
      "lat -7\n",
      "159 159 54\n",
      "b'1-Feb-2003 19:11:59.260' b'5-Feb-2003 14:26:59.310'\n",
      "44 94\n",
      "nt -0.29089484\n",
      "time b'24-Jun-1997 16:00:05.380'\n",
      "lat 17\n",
      "123 133 32\n",
      "b'24-Jun-1997 16:00:05.380' b'26-Jun-1997 19:12:05.340'\n",
      "67 97\n",
      "nt 0.20399585\n",
      "time b'9-Jul-1997 09:36:04.030'\n",
      "lat 5\n",
      "119 147 46\n",
      "b'7-Jul-1997 14:24:04.080' b'10-Jul-1997 17:36:03.990'\n",
      "66 80\n",
      "nt -0.31395748\n",
      "time b'6-Oct-1999 11:12:02.932'\n",
      "lat 14\n",
      "137 167 59\n",
      "b'4-Oct-1999 17:35:02.882' b'8-Oct-1999 16:00:02.992'\n",
      "76 112\n",
      "nt 0.49803734\n",
      "time b'2-Nov-1999 09:35:03.479'\n",
      "lat -18\n",
      "199 225 56\n",
      "b'31-Oct-1999 09:35:03.450' b'4-Nov-1999 06:24:03.500'\n",
      "99 142\n",
      "nt 0.25054723\n",
      "time b'6-Nov-1999 15:59:03.520'\n",
      "lat 38\n",
      "121 139 47\n",
      "b'5-Nov-1999 20:47:03.514' b'9-Nov-1999 00:03:03.529'\n",
      "64 110\n",
      "nt -0.36111027\n",
      "time b'10-Nov-1999 14:24:03.529'\n",
      "lat 14\n",
      "181 203 68\n",
      "b'8-Nov-1999 08:03:03.527' b'12-Nov-1999 20:47:03.522'\n",
      "103 157\n",
      "nt 0.2130621\n",
      "time b'14-Dec-1999 23:59:02.913'\n",
      "lat -34\n",
      "159 165 61\n",
      "b'12-Dec-1999 23:59:02.976' b'17-Dec-1999 01:35:02.848'\n",
      "79 131\n",
      "nt -0.24449492\n",
      "time b'16-Jan-2000 12:47:02.194'\n",
      "lat -22\n",
      "165 195 72\n",
      "b'13-Jan-2000 23:59:02.230' b'18-Jan-2000 20:47:02.166'\n",
      "73 128\n",
      "nt -0.51298064\n",
      "time b'3-Feb-2000 04:47:02.134'\n",
      "lat 27\n",
      "157 175 58\n",
      "b'31-Jan-2000 22:23:02.131' b'4-Feb-2000 23:59:02.136'\n",
      "84 139\n",
      "nt -0.24635516\n",
      "time b'8-Mar-2000 16:03:02.402'\n",
      "lat -15\n",
      "209 209 63\n",
      "b'6-Mar-2000 11:15:02.363' b'10-Mar-2000 16:00:02.438'\n",
      "108 143\n",
      "nt 0.59878176\n",
      "time b'6-Mar-2000 04:51:02.359'\n",
      "lat -15\n",
      "199 193 62\n",
      "b'4-Mar-2000 03:11:02.323' b'8-Mar-2000 06:23:02.395'\n",
      "108 157\n",
      "nt 0.59115076\n",
      "time b'20-Mar-2000 09:39:02.650'\n",
      "lat -16\n",
      "155 171 60\n",
      "b'17-Mar-2000 22:23:02.587' b'21-Mar-2000 22:23:02.693'\n",
      "94 148\n",
      "nt -0.50496656\n",
      "time b'28-Mar-2000 20:47:02.906'\n",
      "lat 10\n",
      "205 209 63\n",
      "b'26-Mar-2000 20:47:02.842' b'31-Mar-2000 03:10:43.000'\n",
      "74 146\n",
      "nt -0.39869824\n",
      "time b'21-Apr-2000 23:59:03.481'\n",
      "lat -13\n",
      "201 183 64\n",
      "b'19-Apr-2000 23:59:03.445' b'24-Apr-2000 06:23:03.520'\n",
      "55 65\n",
      "nt 0.31233174\n",
      "time b'22-Apr-2000 03:15:03.484'\n",
      "lat 32\n",
      "145 155 44\n",
      "b'21-Apr-2000 16:03:03.476' b'24-Apr-2000 14:27:03.525'\n",
      "64 102\n",
      "nt 0.22236077\n",
      "time b'10-May-2000 15:59:03.595'\n",
      "lat -23\n",
      "153 147 52\n",
      "b'9-May-2000 04:48:03.607' b'12-May-2000 16:03:03.575'\n",
      "87 102\n",
      "nt -0.29759607\n",
      "time b'9-Jun-2000 00:00:03.051'\n",
      "lat -17\n",
      "207 211 63\n",
      "b'6-Jun-2000 11:15:03.125' b'10-Jun-2000 16:00:03.002'\n",
      "61 68\n",
      "nt 0.13140693\n",
      "time b'10-Jun-2000 04:48:03.016'\n",
      "lat -17\n",
      "155 153 53\n",
      "b'8-Jun-2000 11:12:03.067' b'12-Jun-2000 00:00:02.963'\n",
      "66 96\n",
      "nt 0.38586\n",
      "time b'30-Jun-2000 06:24:02.555'\n",
      "lat 25\n",
      "163 157 62\n",
      "b'28-Jun-2000 03:12:02.593' b'2-Jul-2000 06:24:01.519'\n",
      "85 152\n",
      "nt 0.29835546\n",
      "time b'8-Jul-2000 06:24:01.412'\n",
      "lat -14\n",
      "165 171 39\n",
      "b'7-Jul-2000 16:00:01.422' b'10-Jul-2000 08:00:01.379'\n",
      "69 116\n",
      "nt -0.43671554\n",
      "time b'7-Jul-2000 22:24:01.418'\n",
      "lat 17\n",
      "183 221 67\n",
      "b'5-Jul-2000 17:36:01.456' b'10-Jul-2000 11:12:01.377'\n",
      "97 152\n",
      "nt -0.1568508\n",
      "time b'29-Jul-2000 06:27:01.277'\n",
      "lat 10\n",
      "177 171 65\n",
      "b'27-Jul-2000 00:00:01.277' b'31-Jul-2000 07:59:01.274'\n",
      "82 92\n",
      "nt 0.0006354236\n",
      "time b'22-Aug-2000 17:35:01.302'\n",
      "lat -11\n",
      "181 177 68\n",
      "b'20-Aug-2000 07:59:01.279' b'24-Aug-2000 20:47:01.325'\n",
      "67 90\n",
      "nt 0.35788396\n",
      "time b'27-Aug-2000 22:23:01.361'\n",
      "lat 9\n",
      "139 163 46\n",
      "b'26-Aug-2000 23:59:01.350' b'30-Aug-2000 03:15:01.387'\n",
      "83 112\n",
      "nt -0.1262798\n",
      "time b'26-Aug-2000 23:59:01.350'\n",
      "lat 25\n",
      "153 179 59\n",
      "b'25-Aug-2000 11:11:01.332' b'29-Aug-2000 09:39:01.378'\n",
      "83 94\n",
      "nt 0.21506613\n",
      "time b'5-Sep-2000 11:15:01.465'\n",
      "lat -19\n",
      "157 185 57\n",
      "b'3-Sep-2000 22:24:01.445' b'7-Sep-2000 17:39:01.498'\n",
      "110 130\n",
      "nt 0.1493193\n",
      "time b'24-Sep-2000 00:00:01.886'\n",
      "lat -7\n",
      "145 159 67\n",
      "b'21-Sep-2000 14:23:01.817' b'26-Sep-2000 03:11:01.945'\n",
      "76 124\n",
      "nt -0.36078313\n",
      "time b'12-Oct-2000 03:12:02.302'\n",
      "lat -13\n",
      "163 229 47\n",
      "b'11-Oct-2000 04:51:02.283' b'14-Oct-2000 08:03:02.344'\n",
      "63 79\n",
      "nt -0.19383158\n",
      "time b'4-Nov-2000 20:48:02.513'\n",
      "lat 19\n",
      "155 189 65\n",
      "b'2-Nov-2000 17:39:02.529' b'7-Nov-2000 06:27:02.490'\n",
      "86 136\n",
      "nt 0.4771718\n",
      "time b'14-Dec-2000 17:36:01.630'\n",
      "lat 8\n",
      "187 191 69\n",
      "b'12-Dec-2000 11:15:01.688' b'17-Dec-2000 01:35:01.575'\n",
      "77 140\n",
      "nt 0.11672378\n",
      "time b'30-Dec-2000 06:27:01.305'\n",
      "lat 30\n",
      "161 179 68\n",
      "b'28-Dec-2000 04:51:01.345' b'1-Jan-2001 17:36:01.260'\n",
      "75 73\n",
      "nt 0.16271383\n",
      "time b'1-Jan-2001 19:12:01.259'\n",
      "lat -13\n",
      "235 207 61\n",
      "b'30-Dec-2000 06:27:01.305' b'3-Jan-2001 08:03:01.233'\n",
      "57 133\n",
      "nt 0.35572606\n",
      "time b'14-Jan-2001 20:47:01.130'\n",
      "lat 14\n",
      "139 163 33\n",
      "b'12-Jan-2001 14:27:01.136' b'14-Jan-2001 20:47:01.130'\n",
      "101 146\n",
      "nt -0.36246952\n",
      "time b'19-Jan-2001 16:03:01.129'\n",
      "lat 4\n",
      "157 205 67\n",
      "b'17-Jan-2001 08:03:01.129' b'21-Jan-2001 20:46:43.000'\n",
      "89 200\n",
      "nt -0.048162982\n",
      "time b'6-Mar-2001 11:11:01.522'\n",
      "lat 27\n",
      "185 207 68\n",
      "b'4-Mar-2001 04:47:01.475' b'8-Mar-2001 17:36:01.575'\n",
      "84 158\n",
      "nt 0.15371399\n",
      "time b'24-Mar-2001 14:24:02.050'\n",
      "lat -6\n",
      "133 149 40\n",
      "b'24-Mar-2001 04:48:02.038' b'26-Mar-2001 20:48:02.112'\n",
      "82 103\n",
      "nt -0.63663596\n",
      "time b'25-Mar-2001 08:00:02.071'\n",
      "lat -29\n",
      "135 131 48\n",
      "b'24-Mar-2001 08:00:02.042' b'27-Mar-2001 12:48:02.130'\n",
      "60 98\n",
      "nt 0.55496114\n",
      "time b'8-Apr-2001 00:00:02.382'\n",
      "lat -9\n",
      "131 165 61\n",
      "b'5-Apr-2001 17:36:02.336' b'9-Apr-2001 19:12:02.418'\n",
      "72 117\n",
      "nt 0.34031108\n",
      "time b'20-Apr-2001 08:00:02.585'\n",
      "lat 8\n",
      "165 141 68\n",
      "b'18-Apr-2001 04:48:02.561' b'22-Apr-2001 17:36:02.602'\n",
      "95 105\n",
      "nt 0.32465053\n",
      "time b'30-Apr-2001 17:36:02.585'\n",
      "lat 8\n",
      "185 185 66\n",
      "b'28-Apr-2001 11:12:02.600' b'2-May-2001 22:24:02.564'\n",
      "120 137\n",
      "nt 0.31837264\n",
      "time b'13-May-2001 06:24:02.432'\n",
      "lat -18\n",
      "173 199 67\n",
      "b'10-May-2001 19:12:02.467' b'15-May-2001 08:00:02.399'\n",
      "73 178\n",
      "nt 0.33141598\n",
      "time b'12-May-2001 19:12:02.438'\n",
      "lat 6\n",
      "117 143 48\n",
      "b'11-May-2001 12:48:02.457' b'14-May-2001 19:12:02.408'\n",
      "67 126\n",
      "nt -0.27230248\n",
      "time b'4-Jun-2001 17:35:01.890'\n",
      "lat -8\n",
      "195 209 68\n",
      "b'2-Jun-2001 04:51:01.960' b'6-Jun-2001 17:35:01.838'\n",
      "91 165\n",
      "nt 0.61098146\n",
      "time b'25-Jun-2001 07:59:01.465'\n",
      "lat 10\n",
      "159 171 68\n",
      "b'22-Jun-2001 15:59:01.514' b'27-Jun-2001 04:51:01.431'\n",
      "76 122\n",
      "nt -0.45239586\n",
      "time b'24-Jun-2001 06:23:01.485'\n",
      "lat -23\n",
      "211 193 69\n",
      "b'21-Jun-2001 22:27:01.528' b'26-Jun-2001 12:51:01.443'\n",
      "79 131\n",
      "nt -0.28701404\n",
      "time b'10-Jul-2001 11:11:01.287'\n",
      "lat -6\n",
      "131 127 67\n",
      "b'8-Jul-2001 04:48:01.297' b'12-Jul-2001 17:39:01.284'\n",
      "68 97\n",
      "nt 0.05609981\n",
      "time b'22-Jul-2001 20:47:02.274'\n",
      "lat 18\n",
      "143 163 68\n",
      "b'20-Jul-2001 07:59:01.280' b'24-Jul-2001 20:51:01.262'\n",
      "78 107\n",
      "nt -0.626167\n",
      "time b'5-Aug-2001 09:35:01.257'\n",
      "lat 24\n",
      "131 155 68\n",
      "b'3-Aug-2001 03:11:01.251' b'7-Aug-2001 16:03:01.268'\n",
      "86 127\n",
      "nt -0.21870056\n",
      "time b'6-Aug-2001 19:11:01.263'\n",
      "lat -18\n",
      "149 143 49\n",
      "b'5-Aug-2001 15:59:01.258' b'8-Aug-2001 22:23:01.276'\n",
      "55 92\n",
      "nt 0.4575974\n",
      "time b'11-Aug-2001 06:23:01.295'\n",
      "lat -3\n",
      "135 153 49\n",
      "b'10-Aug-2001 03:15:01.285' b'13-Aug-2001 09:35:01.316'\n",
      "53 112\n",
      "nt 0.34266818\n",
      "time b'12-Oct-2001 09:35:02.490'\n",
      "lat 12\n",
      "143 151 60\n",
      "b'10-Oct-2001 06:23:02.457' b'14-Oct-2001 06:23:02.514'\n",
      "50 102\n",
      "nt -0.6585306\n",
      "time b'27-Oct-2001 11:11:02.511'\n",
      "lat 7\n",
      "149 187 56\n",
      "b'25-Oct-2001 04:47:02.530' b'28-Oct-2001 22:23:02.497'\n",
      "80 145\n",
      "nt -0.22049269\n",
      "time b'6-Nov-2001 03:12:02.396'\n",
      "lat -28\n",
      "139 127 58\n",
      "b'4-Nov-2001 08:03:02.421' b'8-Nov-2001 08:03:02.363'\n",
      "65 80\n",
      "nt -0.12656155\n",
      "time b'22-Nov-2001 07:59:02.022'\n",
      "lat -10\n",
      "153 179 69\n",
      "b'20-Nov-2001 00:00:02.093' b'24-Nov-2001 14:24:01.951'\n",
      "76 133\n",
      "nt -0.18527018\n",
      "time b'30-Dec-2001 06:27:01.164'\n",
      "lat 13\n",
      "135 151 65\n",
      "b'27-Dec-2001 23:59:01.189' b'1-Jan-2002 08:03:00.148'\n",
      "76 107\n",
      "nt -0.43503293\n",
      "time b'26-Feb-2002 09:36:00.537'\n",
      "lat 22\n",
      "153 213 68\n",
      "b'24-Feb-2002 01:36:00.483' b'28-Feb-2002 14:24:00.593'\n",
      "80 143\n",
      "nt 0.1654642\n",
      "time b'1-Mar-2002 17:36:00.625'\n",
      "lat 17\n",
      "163 215 68\n",
      "b'27-Feb-2002 06:24:00.558' b'3-Mar-2002 19:12:00.686'\n",
      "110 185\n",
      "nt -0.34983066\n",
      "time b'16-Mar-2002 20:51:01.080'\n",
      "lat -17\n",
      "149 153 46\n",
      "b'15-Mar-2002 06:24:01.037' b'18-Mar-2002 12:48:01.123'\n",
      "65 83\n",
      "nt -0.20579773\n",
      "time b'24-Mar-2002 09:36:01.258'\n",
      "lat 6\n",
      "143 157 51\n",
      "b'23-Mar-2002 00:00:01.228' b'26-Mar-2002 09:36:01.301'\n",
      "77 107\n",
      "nt 0.30859372\n",
      "time b'30-Mar-2002 20:48:01.395'\n",
      "lat -18\n",
      "135 185 63\n",
      "b'27-Mar-2002 20:48:01.332' b'1-Apr-2002 03:12:01.421'\n",
      "60 106\n",
      "nt 0.14890468\n",
      "time b'6-Apr-2002 16:00:01.522'\n",
      "lat -1\n",
      "145 163 39\n",
      "b'6-Apr-2002 03:12:01.514' b'8-Apr-2002 20:48:01.552'\n",
      "66 90\n",
      "nt 0.70626014\n",
      "time b'14-Apr-2002 19:15:01.593'\n",
      "lat -16\n",
      "159 205 69\n",
      "b'12-Apr-2002 11:12:01.585' b'17-Apr-2002 01:35:43.000'\n",
      "98 154\n",
      "nt 0.67646265\n",
      "time b'18-Apr-2002 14:24:01.587'\n",
      "lat -21\n",
      "161 161 52\n",
      "b'17-Apr-2002 11:12:01.591' b'20-Apr-2002 22:24:01.572'\n",
      "86 136\n",
      "nt 0.36655635\n",
      "time b'21-Apr-2002 01:36:01.571'\n",
      "lat 11\n",
      "141 135 68\n",
      "b'18-Apr-2002 17:36:01.586' b'23-Apr-2002 06:24:01.551'\n",
      "97 114\n",
      "nt -0.24460411\n",
      "time b'3-May-2002 07:59:01.430'\n",
      "lat 15\n",
      "147 165 64\n",
      "b'1-May-2002 01:35:01.461' b'5-May-2002 09:35:01.399'\n",
      "60 117\n",
      "nt -0.27912098\n",
      "time b'5-Jun-2002 12:47:00.652'\n",
      "lat -20\n",
      "159 181 68\n",
      "b'3-Jun-2002 06:27:00.696' b'7-Jun-2002 19:15:00.609'\n",
      "104 135\n",
      "nt 0.44796476\n",
      "time b'8-Jun-2002 20:47:00.589'\n",
      "lat -16\n",
      "191 189 64\n",
      "b'6-Jun-2002 17:35:00.629' b'11-Jun-2002 00:00:00.549'\n",
      "65 146\n",
      "[10132, 10323, 10344, 10381, 10569, 10879, 10900, 10971, 8088, 8122, 8130, 8164, 8167, 8171, 8214, 8226, 8476, 8582, 8614, 8628, 10043, 10045, 10050, 10099, 10103, 10130, 10137, 10144, 10188, 10226, 10311, 10349, 10385, 10391, 10456, 10547, 10747, 10987, 8016, 8052, 8084, 8193, 8205, 8404, 8407, 8488, 8524, 8536, 8552, 8589, 8649, 8690, 8699, 10274, 8722, 8749, 8757, 8760, 8797, 8828, 8851, 8898, 8900, 8913, 8924, 8968, 8972, 8986, 9032, 9035, 9063, 9069, 9070, 9103, 9139, 9140, 9144, 9154, 9170, 9192, 9218, 9267, 9290, 9291, 9308, 9311, 9368, 9396, 9399, 9417, 9432, 9441, 9455, 9456, 9484, 9511, 9512, 9531, 9548, 9563, 9569, 9574, 9660, 9678, 9689, 9710, 9764, 9844, 9845, 9873, 9880, 9884, 9897, 9906, 9910, 9912, 9931, 9978, 9987] [11024, 11007, 7982, 8040, 10268, 8056, 8060]\n"
     ]
    }
   ],
   "source": [
    "#check for non-hale\n",
    "\n",
    "hale=[]\n",
    "nonhale=[]\n",
    "\n",
    "bitype=[]\n",
    "\n",
    "for name in ars:\n",
    "    \n",
    "    lat=searchar(str(name))[1]\n",
    "    datad,times=opencube2(name=str(name),path='../movies')\n",
    "    \n",
    "    nn=DF0[DF0['AR']==name].range.values[0]\n",
    "    \n",
    "    mask_cube=np.load('./masks/'+str(name)+'_mask.npy')[:,:,0:nn]\n",
    "    data2=datad[:,:,0:nn]*mask_cube\n",
    "    xp=np.mean([barys(data2[:,:,i],20)[0] for i in range(nn)])\n",
    "    xn=np.mean([barys(data2[:,:,i],20)[2] for i in range(nn)])\n",
    "    \n",
    "    test=emp[emp['ARs']==name]['Count'].values[0]*(xp-xn)\n",
    "    if test > 0:\n",
    "        hale.append(name)\n",
    "        bitype.append('Hale')\n",
    "    else:\n",
    "        nonhale.append(name)\n",
    "        bitype.append('Non-Hale')\n",
    "        \n",
    "print(hale,nonhale)\n",
    "    \n",
    "\n",
    "    "
   ]
  },
  {
   "cell_type": "code",
   "execution_count": 49,
   "id": "4e92800c-6954-4a83-8f17-d7ba8f5606b0",
   "metadata": {},
   "outputs": [],
   "source": [
    "emp=emp.assign(Tipo=bitype)"
   ]
  },
  {
   "cell_type": "code",
   "execution_count": 43,
   "id": "6a5be4db-3a6f-4300-9d6f-4cf089dccd10",
   "metadata": {},
   "outputs": [
    {
     "data": {
      "text/plain": [
       "[11024, 11007, 7982, 8040, 10268, 8056, 8060]"
      ]
     },
     "execution_count": 43,
     "metadata": {},
     "output_type": "execute_result"
    }
   ],
   "source": [
    "nonhale"
   ]
  },
  {
   "cell_type": "code",
   "execution_count": 37,
   "id": "d08572c2-f9ca-4104-8f4e-5b32a8f3a07e",
   "metadata": {},
   "outputs": [
    {
     "ename": "AttributeError",
     "evalue": "'Series' object has no attribute 'sign'",
     "output_type": "error",
     "traceback": [
      "\u001b[0;31m---------------------------------------------------------------------------\u001b[0m",
      "\u001b[0;31mAttributeError\u001b[0m                            Traceback (most recent call last)",
      "Cell \u001b[0;32mIn[37], line 1\u001b[0m\n\u001b[0;32m----> 1\u001b[0m \u001b[38;5;241m1\u001b[39m\u001b[38;5;241m*\u001b[39m\u001b[43memp\u001b[49m\u001b[43m[\u001b[49m\u001b[43memp\u001b[49m\u001b[43m[\u001b[49m\u001b[38;5;124;43m'\u001b[39;49m\u001b[38;5;124;43mARs\u001b[39;49m\u001b[38;5;124;43m'\u001b[39;49m\u001b[43m]\u001b[49m\u001b[38;5;241;43m==\u001b[39;49m\u001b[38;5;241;43m10268\u001b[39;49m\u001b[43m]\u001b[49m\u001b[43m[\u001b[49m\u001b[38;5;124;43m'\u001b[39;49m\u001b[38;5;124;43mCount\u001b[39;49m\u001b[38;5;124;43m'\u001b[39;49m\u001b[43m]\u001b[49m\u001b[38;5;241;43m.\u001b[39;49m\u001b[43msign\u001b[49m()\n",
      "File \u001b[0;32m~/anaconda3/envs/pymc4/lib/python3.11/site-packages/pandas/core/generic.py:5902\u001b[0m, in \u001b[0;36mNDFrame.__getattr__\u001b[0;34m(self, name)\u001b[0m\n\u001b[1;32m   5895\u001b[0m \u001b[38;5;28;01mif\u001b[39;00m (\n\u001b[1;32m   5896\u001b[0m     name \u001b[38;5;129;01mnot\u001b[39;00m \u001b[38;5;129;01min\u001b[39;00m \u001b[38;5;28mself\u001b[39m\u001b[38;5;241m.\u001b[39m_internal_names_set\n\u001b[1;32m   5897\u001b[0m     \u001b[38;5;129;01mand\u001b[39;00m name \u001b[38;5;129;01mnot\u001b[39;00m \u001b[38;5;129;01min\u001b[39;00m \u001b[38;5;28mself\u001b[39m\u001b[38;5;241m.\u001b[39m_metadata\n\u001b[1;32m   5898\u001b[0m     \u001b[38;5;129;01mand\u001b[39;00m name \u001b[38;5;129;01mnot\u001b[39;00m \u001b[38;5;129;01min\u001b[39;00m \u001b[38;5;28mself\u001b[39m\u001b[38;5;241m.\u001b[39m_accessors\n\u001b[1;32m   5899\u001b[0m     \u001b[38;5;129;01mand\u001b[39;00m \u001b[38;5;28mself\u001b[39m\u001b[38;5;241m.\u001b[39m_info_axis\u001b[38;5;241m.\u001b[39m_can_hold_identifiers_and_holds_name(name)\n\u001b[1;32m   5900\u001b[0m ):\n\u001b[1;32m   5901\u001b[0m     \u001b[38;5;28;01mreturn\u001b[39;00m \u001b[38;5;28mself\u001b[39m[name]\n\u001b[0;32m-> 5902\u001b[0m \u001b[38;5;28;01mreturn\u001b[39;00m \u001b[38;5;28;43mobject\u001b[39;49m\u001b[38;5;241;43m.\u001b[39;49m\u001b[38;5;21;43m__getattribute__\u001b[39;49m\u001b[43m(\u001b[49m\u001b[38;5;28;43mself\u001b[39;49m\u001b[43m,\u001b[49m\u001b[43m \u001b[49m\u001b[43mname\u001b[49m\u001b[43m)\u001b[49m\n",
      "\u001b[0;31mAttributeError\u001b[0m: 'Series' object has no attribute 'sign'"
     ]
    }
   ],
   "source": [
    "1*emp[emp['ARs']==10268]['Count'].v"
   ]
  },
  {
   "cell_type": "code",
   "execution_count": 70,
   "id": "c25d5e8f-822a-49a6-86dd-03612988032d",
   "metadata": {},
   "outputs": [
    {
     "data": {
      "text/plain": [
       "[datetime.date(1996, 12, 7),\n",
       " datetime.date(2000, 2, 8),\n",
       " datetime.date(2003, 4, 10),\n",
       " datetime.date(2006, 6, 11),\n",
       " datetime.date(2009, 8, 11)]"
      ]
     },
     "execution_count": 70,
     "metadata": {},
     "output_type": "execute_result"
    }
   ],
   "source": [
    "newlabels"
   ]
  },
  {
   "cell_type": "code",
   "execution_count": 72,
   "id": "60eb7ab0-7af6-4a26-8cd8-0d899d49de2d",
   "metadata": {},
   "outputs": [
    {
     "name": "stderr",
     "output_type": "stream",
     "text": [
      "/tmp/ipykernel_6872/3522281964.py:2: UserWarning: FixedFormatter should only be used together with FixedLocator\n",
      "  ax.ax_joint.set(xticklabels=newlabels)\n"
     ]
    },
    {
     "data": {
      "text/plain": [
       "[[Text(800000000.0, 0, '1996-12-07'),\n",
       "  Text(850000000.0, 0, '2000-02-08'),\n",
       "  Text(900000000.0, 0, '2003-04-10'),\n",
       "  Text(950000000.0, 0, '2006-06-11'),\n",
       "  Text(1000000000.0, 0, '2009-08-11'),\n",
       "  Text(1050000000.0, 0, ''),\n",
       "  Text(1100000000.0, 0, ''),\n",
       "  Text(1150000000.0, 0, ''),\n",
       "  Text(1200000000.0, 0, ''),\n",
       "  Text(1250000000.0, 0, ''),\n",
       "  Text(1300000000.0, 0, '')]]"
      ]
     },
     "execution_count": 72,
     "metadata": {},
     "output_type": "execute_result"
    }
   ],
   "source": [
    "#ax.get_xticklabels()\n",
    "ax.ax_joint.set(xticklabels=newlabels)"
   ]
  },
  {
   "cell_type": "code",
   "execution_count": 116,
   "id": "5ef6d7a5-e6a3-4363-9864-db938fcf6a7a",
   "metadata": {},
   "outputs": [
    {
     "data": {
      "text/plain": [
       "array([10132, 10323, 10344, 10381, 10569, 10879, 10900, 10971, 11024,\n",
       "        8088,  8122,  8130,  8164,  8167,  8171,  8214,  8226,  8476,\n",
       "        8582,  8614,  8628, 10043, 10045, 10050, 10099, 10103, 10130,\n",
       "       10137, 10144, 10188, 10226, 10311, 10349, 10385, 10391, 10456,\n",
       "       10547, 10747, 10987, 11007,  7982,  8016,  8040,  8052,  8084,\n",
       "        8193,  8205,  8404,  8407,  8488,  8524,  8536,  8552,  8589,\n",
       "        8649,  8690,  8699, 10268, 10274,  8056,  8060,  8722,  8749,\n",
       "        8757,  8760,  8797,  8828,  8851,  8898,  8900,  8913,  8924,\n",
       "        8968,  8972,  8986,  9032,  9035,  9063,  9069,  9070,  9103,\n",
       "        9139,  9140,  9144,  9154,  9170,  9192,  9218,  9267,  9290,\n",
       "        9291,  9308,  9311,  9368,  9396,  9399,  9417,  9432,  9441,\n",
       "        9455,  9456,  9484,  9511,  9512,  9531,  9548,  9563,  9569,\n",
       "        9574,  9660,  9678,  9689,  9710,  9764,  9844,  9845,  9873,\n",
       "        9880,  9884,  9897,  9906,  9910,  9912,  9931,  9978,  9987])"
      ]
     },
     "execution_count": 116,
     "metadata": {},
     "output_type": "execute_result"
    }
   ],
   "source": [
    "ars"
   ]
  },
  {
   "cell_type": "markdown",
   "id": "13b6cd28-ff1d-4086-a41a-9bfb70454d7d",
   "metadata": {
    "tags": []
   },
   "source": [
    "# Make CSV with list of ARs"
   ]
  },
  {
   "cell_type": "code",
   "execution_count": 18,
   "id": "a5e6b871-fda2-4818-ac26-afd1cfb681f6",
   "metadata": {},
   "outputs": [],
   "source": [
    "DF0=pd.read_csv('./arangosx.csv',index_col=0)"
   ]
  },
  {
   "cell_type": "code",
   "execution_count": 19,
   "id": "003247b0-aae0-48e9-a0a6-5b3bce12b47e",
   "metadata": {},
   "outputs": [
    {
     "data": {
      "text/html": [
       "<div>\n",
       "<style scoped>\n",
       "    .dataframe tbody tr th:only-of-type {\n",
       "        vertical-align: middle;\n",
       "    }\n",
       "\n",
       "    .dataframe tbody tr th {\n",
       "        vertical-align: top;\n",
       "    }\n",
       "\n",
       "    .dataframe thead th {\n",
       "        text-align: right;\n",
       "    }\n",
       "</style>\n",
       "<table border=\"1\" class=\"dataframe\">\n",
       "  <thead>\n",
       "    <tr style=\"text-align: right;\">\n",
       "      <th></th>\n",
       "      <th>AR</th>\n",
       "      <th>range</th>\n",
       "      <th>sigma</th>\n",
       "    </tr>\n",
       "  </thead>\n",
       "  <tbody>\n",
       "    <tr>\n",
       "      <th>0</th>\n",
       "      <td>10132</td>\n",
       "      <td>33</td>\n",
       "      <td>264.259959</td>\n",
       "    </tr>\n",
       "    <tr>\n",
       "      <th>1</th>\n",
       "      <td>10323</td>\n",
       "      <td>68</td>\n",
       "      <td>238.178270</td>\n",
       "    </tr>\n",
       "    <tr>\n",
       "      <th>2</th>\n",
       "      <td>10344</td>\n",
       "      <td>35</td>\n",
       "      <td>310.926576</td>\n",
       "    </tr>\n",
       "    <tr>\n",
       "      <th>3</th>\n",
       "      <td>10381</td>\n",
       "      <td>47</td>\n",
       "      <td>189.225573</td>\n",
       "    </tr>\n",
       "    <tr>\n",
       "      <th>4</th>\n",
       "      <td>10569</td>\n",
       "      <td>38</td>\n",
       "      <td>145.857329</td>\n",
       "    </tr>\n",
       "    <tr>\n",
       "      <th>...</th>\n",
       "      <td>...</td>\n",
       "      <td>...</td>\n",
       "      <td>...</td>\n",
       "    </tr>\n",
       "    <tr>\n",
       "      <th>121</th>\n",
       "      <td>9910</td>\n",
       "      <td>29</td>\n",
       "      <td>220.980023</td>\n",
       "    </tr>\n",
       "    <tr>\n",
       "      <th>122</th>\n",
       "      <td>9912</td>\n",
       "      <td>68</td>\n",
       "      <td>285.187603</td>\n",
       "    </tr>\n",
       "    <tr>\n",
       "      <th>123</th>\n",
       "      <td>9931</td>\n",
       "      <td>50</td>\n",
       "      <td>210.500545</td>\n",
       "    </tr>\n",
       "    <tr>\n",
       "      <th>124</th>\n",
       "      <td>9978</td>\n",
       "      <td>37</td>\n",
       "      <td>296.205793</td>\n",
       "    </tr>\n",
       "    <tr>\n",
       "      <th>125</th>\n",
       "      <td>9987</td>\n",
       "      <td>64</td>\n",
       "      <td>281.338666</td>\n",
       "    </tr>\n",
       "  </tbody>\n",
       "</table>\n",
       "<p>126 rows × 3 columns</p>\n",
       "</div>"
      ],
      "text/plain": [
       "        AR  range       sigma\n",
       "0    10132     33  264.259959\n",
       "1    10323     68  238.178270\n",
       "2    10344     35  310.926576\n",
       "3    10381     47  189.225573\n",
       "4    10569     38  145.857329\n",
       "..     ...    ...         ...\n",
       "121   9910     29  220.980023\n",
       "122   9912     68  285.187603\n",
       "123   9931     50  210.500545\n",
       "124   9978     37  296.205793\n",
       "125   9987     64  281.338666\n",
       "\n",
       "[126 rows x 3 columns]"
      ]
     },
     "execution_count": 25,
     "metadata": {},
     "output_type": "execute_result"
    }
   ],
   "source": [
    "DF0"
   ]
  },
  {
   "cell_type": "code",
   "execution_count": 61,
   "id": "7f78784a-0266-47b7-9051-0a3ca03636bd",
   "metadata": {
    "scrolled": true,
    "tags": []
   },
   "outputs": [
    {
     "name": "stdout",
     "output_type": "stream",
     "text": [
      "10132----------------------------------\n",
      "nt 0.22970201\n",
      "time b'23-Sep-2002 03:11:01.323'\n",
      "lat 6\n",
      "10132 not found in posterior 3\n",
      "Error processing 10132: [Errno 2] No such file or directory: './posteriors3/10132_TM3.csv'\n",
      "133 123 33\n",
      "b'21-Sep-2002 22:23:01.298' b'24-Sep-2002 03:11:01.344'\n",
      "75 84\n",
      "75 84 33\n",
      "10323----------------------------------\n",
      "nt 0.27008736\n",
      "time b'29-Mar-2003 20:48:00.534'\n",
      "lat -7\n",
      "10323 not found in posterior 3\n",
      "Error processing 10323: [Errno 2] No such file or directory: './posteriors3/10323_TM3.csv'\n"
     ]
    },
    {
     "name": "stderr",
     "output_type": "stream",
     "text": [
      "/home/mpoisson/Work/ARSFIT/stats-tilt/../funciones/func4.py:85: RuntimeWarning: invalid value encountered in scalar divide\n",
      "  xn=np.sum(xv[data<-thr]*data[data<-thr])/np.sum(data[data<-thr])\n",
      "/home/mpoisson/Work/ARSFIT/stats-tilt/../funciones/func4.py:88: RuntimeWarning: invalid value encountered in scalar divide\n",
      "  yn=np.sum(yv[data<-thr]*data[data<-thr])/np.sum(data[data<-thr])\n"
     ]
    },
    {
     "name": "stdout",
     "output_type": "stream",
     "text": [
      "155 193 68\n",
      "b'27-Mar-2003 14:24:00.501' b'1-Apr-2003 03:12:00.557'\n",
      "96 159\n",
      "96 159 68\n"
     ]
    },
    {
     "name": "stderr",
     "output_type": "stream",
     "text": [
      "/home/mpoisson/Work/ARSFIT/stats-tilt/../funciones/func4.py:85: RuntimeWarning: invalid value encountered in scalar divide\n",
      "  xn=np.sum(xv[data<-thr]*data[data<-thr])/np.sum(data[data<-thr])\n",
      "/home/mpoisson/Work/ARSFIT/stats-tilt/../funciones/func4.py:88: RuntimeWarning: invalid value encountered in scalar divide\n",
      "  yn=np.sum(yv[data<-thr]*data[data<-thr])/np.sum(data[data<-thr])\n"
     ]
    },
    {
     "name": "stdout",
     "output_type": "stream",
     "text": [
      "10344----------------------------------\n",
      "nt 0.099744365\n",
      "time b'27-Apr-2003 19:12:00.360'\n",
      "lat 16\n",
      "50 90 81\n"
     ]
    },
    {
     "name": "stderr",
     "output_type": "stream",
     "text": [
      "/home/mpoisson/Work/ARSFIT/stats-tilt/../funciones/func4.py:85: RuntimeWarning: invalid value encountered in scalar divide\n",
      "  xn=np.sum(xv[data<-thr]*data[data<-thr])/np.sum(data[data<-thr])\n",
      "/home/mpoisson/Work/ARSFIT/stats-tilt/../funciones/func4.py:88: RuntimeWarning: invalid value encountered in scalar divide\n",
      "  yn=np.sum(yv[data<-thr]*data[data<-thr])/np.sum(data[data<-thr])\n"
     ]
    },
    {
     "name": "stdout",
     "output_type": "stream",
     "text": [
      "10381----------------------------------\n",
      "nt -0.3175573\n",
      "time b'11-Jun-2003 11:10:59.370'\n",
      "lat -18\n",
      "10381 not found in posterior 3\n",
      "Error processing 10381: [Errno 2] No such file or directory: './posteriors3/10381_TM3.csv'\n",
      "145 137 57\n",
      "b'9-Jun-2003 22:22:59.390' b'13-Jun-2003 17:34:59.340'\n",
      "70 88\n",
      "70 88 47\n",
      "10569----------------------------------\n"
     ]
    },
    {
     "name": "stderr",
     "output_type": "stream",
     "text": [
      "/home/mpoisson/Work/ARSFIT/stats-tilt/../funciones/func4.py:85: RuntimeWarning: invalid value encountered in scalar divide\n",
      "  xn=np.sum(xv[data<-thr]*data[data<-thr])/np.sum(data[data<-thr])\n",
      "/home/mpoisson/Work/ARSFIT/stats-tilt/../funciones/func4.py:88: RuntimeWarning: invalid value encountered in scalar divide\n",
      "  yn=np.sum(yv[data<-thr]*data[data<-thr])/np.sum(data[data<-thr])\n"
     ]
    },
    {
     "name": "stdout",
     "output_type": "stream",
     "text": [
      "nt -0.100707754\n",
      "time b'7-Mar-2004 09:39:03.290'\n",
      "lat -11\n",
      "96 119 68\n",
      "b'4-Mar-2004 19:15:03.230' b'9-Mar-2004 08:03:03.330'\n",
      "71 103\n",
      "71 103 38\n",
      "10879----------------------------------\n",
      "nt -0.22048052\n",
      "time b'3-May-2006 14:23:01.490'\n",
      "lat 16\n",
      "10879 not found in posterior 3\n",
      "Error processing 10879: [Errno 2] No such file or directory: './posteriors3/10879_TM3.csv'\n"
     ]
    },
    {
     "name": "stderr",
     "output_type": "stream",
     "text": [
      "/home/mpoisson/Work/ARSFIT/stats-tilt/../funciones/func4.py:85: RuntimeWarning: invalid value encountered in scalar divide\n",
      "  xn=np.sum(xv[data<-thr]*data[data<-thr])/np.sum(data[data<-thr])\n",
      "/home/mpoisson/Work/ARSFIT/stats-tilt/../funciones/func4.py:88: RuntimeWarning: invalid value encountered in scalar divide\n",
      "  yn=np.sum(yv[data<-thr]*data[data<-thr])/np.sum(data[data<-thr])\n"
     ]
    },
    {
     "name": "stdout",
     "output_type": "stream",
     "text": [
      "143 151 65\n",
      "b'1-May-2006 11:11:01.530' b'5-May-2006 19:11:01.450'\n",
      "71 96\n",
      "71 96 46\n",
      "10900----------------------------------\n",
      "nt 0.5028164\n",
      "time b'17-Jul-2006 20:48:01.690'\n",
      "lat -5\n",
      "10900 not found in posterior 3\n",
      "Error processing 10900: [Errno 2] No such file or directory: './posteriors3/10900_TM3.csv'\n"
     ]
    },
    {
     "name": "stderr",
     "output_type": "stream",
     "text": [
      "/home/mpoisson/Work/ARSFIT/stats-tilt/../funciones/func4.py:85: RuntimeWarning: invalid value encountered in scalar divide\n",
      "  xn=np.sum(xv[data<-thr]*data[data<-thr])/np.sum(data[data<-thr])\n",
      "/home/mpoisson/Work/ARSFIT/stats-tilt/../funciones/func4.py:88: RuntimeWarning: invalid value encountered in scalar divide\n",
      "  yn=np.sum(yv[data<-thr]*data[data<-thr])/np.sum(data[data<-thr])\n"
     ]
    },
    {
     "name": "stdout",
     "output_type": "stream",
     "text": [
      "163 191 68\n",
      "b'15-Jul-2006 17:36:01.630' b'20-Jul-2006 06:23:01.750'\n",
      "91 141\n",
      "91 141 58\n"
     ]
    },
    {
     "name": "stderr",
     "output_type": "stream",
     "text": [
      "/home/mpoisson/Work/ARSFIT/stats-tilt/../funciones/func4.py:85: RuntimeWarning: invalid value encountered in scalar divide\n",
      "  xn=np.sum(xv[data<-thr]*data[data<-thr])/np.sum(data[data<-thr])\n",
      "/home/mpoisson/Work/ARSFIT/stats-tilt/../funciones/func4.py:88: RuntimeWarning: invalid value encountered in scalar divide\n",
      "  yn=np.sum(yv[data<-thr]*data[data<-thr])/np.sum(data[data<-thr])\n"
     ]
    },
    {
     "name": "stdout",
     "output_type": "stream",
     "text": [
      "10971----------------------------------\n",
      "nt 0.2560891\n",
      "time b'29-Sep-2007 14:23:02.000'\n",
      "lat 3\n",
      "10971 not found in posterior 3\n",
      "46 79 59\n"
     ]
    },
    {
     "name": "stderr",
     "output_type": "stream",
     "text": [
      "/home/mpoisson/Work/ARSFIT/stats-tilt/../funciones/func4.py:85: RuntimeWarning: invalid value encountered in scalar divide\n",
      "  xn=np.sum(xv[data<-thr]*data[data<-thr])/np.sum(data[data<-thr])\n",
      "/home/mpoisson/Work/ARSFIT/stats-tilt/../funciones/func4.py:88: RuntimeWarning: invalid value encountered in scalar divide\n",
      "  yn=np.sum(yv[data<-thr]*data[data<-thr])/np.sum(data[data<-thr])\n"
     ]
    },
    {
     "name": "stdout",
     "output_type": "stream",
     "text": [
      "11024----------------------------------\n",
      "nt -0.20700613\n",
      "time b'5-Jul-2009 00:00:02.110'\n",
      "lat -25\n",
      "11024 not found in posterior 3\n",
      "Error processing 11024: [Errno 2] No such file or directory: './posteriors3/11024_TM3.csv'\n",
      "137 157 48\n",
      "b'4-Jul-2009 00:00:02.090' b'7-Jul-2009 04:48:02.170'\n",
      "103 125\n",
      "103 125 44\n"
     ]
    },
    {
     "name": "stderr",
     "output_type": "stream",
     "text": [
      "/home/mpoisson/Work/ARSFIT/stats-tilt/../funciones/func4.py:85: RuntimeWarning: invalid value encountered in scalar divide\n",
      "  xn=np.sum(xv[data<-thr]*data[data<-thr])/np.sum(data[data<-thr])\n",
      "/home/mpoisson/Work/ARSFIT/stats-tilt/../funciones/func4.py:88: RuntimeWarning: invalid value encountered in scalar divide\n",
      "  yn=np.sum(yv[data<-thr]*data[data<-thr])/np.sum(data[data<-thr])\n"
     ]
    },
    {
     "name": "stdout",
     "output_type": "stream",
     "text": [
      "8088----------------------------------\n",
      "nt 0.8990149\n",
      "time b'25-Sep-1997 17:39:03.330'\n",
      "lat -28\n",
      "57 160 75\n"
     ]
    },
    {
     "name": "stderr",
     "output_type": "stream",
     "text": [
      "/home/mpoisson/Work/ARSFIT/stats-tilt/../funciones/func4.py:85: RuntimeWarning: invalid value encountered in scalar divide\n",
      "  xn=np.sum(xv[data<-thr]*data[data<-thr])/np.sum(data[data<-thr])\n",
      "/home/mpoisson/Work/ARSFIT/stats-tilt/../funciones/func4.py:88: RuntimeWarning: invalid value encountered in scalar divide\n",
      "  yn=np.sum(yv[data<-thr]*data[data<-thr])/np.sum(data[data<-thr])\n"
     ]
    },
    {
     "name": "stdout",
     "output_type": "stream",
     "text": [
      "8122----------------------------------\n",
      "nt 0.39810258\n",
      "time b'11-Dec-1997 11:15:04.383'\n",
      "lat 31\n",
      "8122 not found in posterior 3\n",
      "Error processing 8122: [Errno 2] No such file or directory: './posteriors3/8122_TM3.csv'\n",
      "167 171 39\n",
      "b'11-Dec-1997 00:03:04.391' b'13-Dec-1997 20:48:04.341'\n",
      "84 109\n",
      "84 109 33\n"
     ]
    },
    {
     "name": "stderr",
     "output_type": "stream",
     "text": [
      "/home/mpoisson/Work/ARSFIT/stats-tilt/../funciones/func4.py:85: RuntimeWarning: invalid value encountered in scalar divide\n",
      "  xn=np.sum(xv[data<-thr]*data[data<-thr])/np.sum(data[data<-thr])\n",
      "/home/mpoisson/Work/ARSFIT/stats-tilt/../funciones/func4.py:88: RuntimeWarning: invalid value encountered in scalar divide\n",
      "  yn=np.sum(yv[data<-thr]*data[data<-thr])/np.sum(data[data<-thr])\n",
      "/home/mpoisson/Work/ARSFIT/stats-tilt/../funciones/func4.py:85: RuntimeWarning: invalid value encountered in scalar divide\n",
      "  xn=np.sum(xv[data<-thr]*data[data<-thr])/np.sum(data[data<-thr])\n",
      "/home/mpoisson/Work/ARSFIT/stats-tilt/../funciones/func4.py:88: RuntimeWarning: invalid value encountered in scalar divide\n",
      "  yn=np.sum(yv[data<-thr]*data[data<-thr])/np.sum(data[data<-thr])\n"
     ]
    },
    {
     "name": "stdout",
     "output_type": "stream",
     "text": [
      "8130----------------------------------\n",
      "nt 0.18575855\n",
      "time b'1-Jan-1998 04:51:03.930'\n",
      "lat -29\n",
      "47 70 61\n",
      "8164----------------------------------\n",
      "nt -0.8802456\n",
      "time b'25-Feb-1998 00:00:03.150'\n",
      "lat 17\n",
      "8164 not found in posterior 3\n",
      "Error processing 8164: [Errno 2] No such file or directory: './posteriors3/8164_TM3.csv'\n",
      "143 129 57\n",
      "b'23-Feb-1998 11:12:03.150' b'27-Feb-1998 06:24:03.160'\n",
      "77 101\n",
      "77 101 52\n"
     ]
    },
    {
     "name": "stderr",
     "output_type": "stream",
     "text": [
      "/home/mpoisson/Work/ARSFIT/stats-tilt/../funciones/func4.py:85: RuntimeWarning: invalid value encountered in scalar divide\n",
      "  xn=np.sum(xv[data<-thr]*data[data<-thr])/np.sum(data[data<-thr])\n",
      "/home/mpoisson/Work/ARSFIT/stats-tilt/../funciones/func4.py:88: RuntimeWarning: invalid value encountered in scalar divide\n",
      "  yn=np.sum(yv[data<-thr]*data[data<-thr])/np.sum(data[data<-thr])\n",
      "/home/mpoisson/Work/ARSFIT/stats-tilt/../funciones/func4.py:85: RuntimeWarning: invalid value encountered in scalar divide\n",
      "  xn=np.sum(xv[data<-thr]*data[data<-thr])/np.sum(data[data<-thr])\n",
      "/home/mpoisson/Work/ARSFIT/stats-tilt/../funciones/func4.py:88: RuntimeWarning: invalid value encountered in scalar divide\n",
      "  yn=np.sum(yv[data<-thr]*data[data<-thr])/np.sum(data[data<-thr])\n"
     ]
    },
    {
     "name": "stdout",
     "output_type": "stream",
     "text": [
      "8167----------------------------------\n",
      "nt 0.20348336\n",
      "time b'26-Feb-1998 06:24:03.160'\n",
      "lat -27\n",
      "8167 not found in posterior 3\n",
      "Error processing 8167: [Errno 2] No such file or directory: './posteriors3/8167_TM3.csv'\n",
      "165 159 45\n",
      "b'24-Feb-1998 11:12:03.150' b'27-Feb-1998 14:24:03.160'\n",
      "69 79\n",
      "69 79 34\n",
      "8171----------------------------------\n",
      "nt 0.38754737\n",
      "time b'28-Feb-1998 09:36:03.160'\n",
      "lat -24\n",
      "8171 not found in posterior 3\n",
      "Error processing 8171: [Errno 2] No such file or directory: './posteriors3/8171_TM3.csv'\n",
      "125 147 39\n",
      "b'27-Feb-1998 20:48:03.160' b'2-Mar-1998 11:12:03.160'\n",
      "73 128\n",
      "73 128 39\n",
      "8214----------------------------------\n",
      "nt 0.32787043\n",
      "time b'4-May-1998 06:24:04.386'\n",
      "lat 28\n",
      "8214 not found in posterior 3\n",
      "Error processing 8214: [Errno 2] No such file or directory: './posteriors3/8214_TM3.csv'\n"
     ]
    },
    {
     "name": "stderr",
     "output_type": "stream",
     "text": [
      "/home/mpoisson/Work/ARSFIT/stats-tilt/../funciones/func4.py:85: RuntimeWarning: invalid value encountered in scalar divide\n",
      "  xn=np.sum(xv[data<-thr]*data[data<-thr])/np.sum(data[data<-thr])\n",
      "/home/mpoisson/Work/ARSFIT/stats-tilt/../funciones/func4.py:88: RuntimeWarning: invalid value encountered in scalar divide\n",
      "  yn=np.sum(yv[data<-thr]*data[data<-thr])/np.sum(data[data<-thr])\n"
     ]
    },
    {
     "name": "stdout",
     "output_type": "stream",
     "text": [
      "167 235 63\n",
      "b'2-May-1998 08:00:04.349' b'6-May-1998 12:47:44.000'\n",
      "103 209\n",
      "103 209 63\n"
     ]
    },
    {
     "name": "stderr",
     "output_type": "stream",
     "text": [
      "/home/mpoisson/Work/ARSFIT/stats-tilt/../funciones/func4.py:85: RuntimeWarning: invalid value encountered in scalar divide\n",
      "  xn=np.sum(xv[data<-thr]*data[data<-thr])/np.sum(data[data<-thr])\n",
      "/home/mpoisson/Work/ARSFIT/stats-tilt/../funciones/func4.py:88: RuntimeWarning: invalid value encountered in scalar divide\n",
      "  yn=np.sum(yv[data<-thr]*data[data<-thr])/np.sum(data[data<-thr])\n"
     ]
    },
    {
     "name": "stdout",
     "output_type": "stream",
     "text": [
      "8226----------------------------------\n",
      "nt -0.43080446\n",
      "time b'23-May-1998 04:47:04.637'\n",
      "lat 17\n",
      "135 165 34\n",
      "b'22-May-1998 22:23:04.636' b'25-May-1998 04:51:04.642'\n",
      "79 111\n",
      "79 111 34\n",
      "8476----------------------------------\n",
      "nt -0.4316836\n",
      "time b'2-Mar-1999 22:25:02.172'\n",
      "lat 20\n",
      "8476 not found in posterior 3\n",
      "Error processing 8476: [Errno 2] No such file or directory: './posteriors3/8476_TM3.csv'\n"
     ]
    },
    {
     "name": "stderr",
     "output_type": "stream",
     "text": [
      "/home/mpoisson/Work/ARSFIT/stats-tilt/../funciones/func4.py:85: RuntimeWarning: invalid value encountered in scalar divide\n",
      "  xn=np.sum(xv[data<-thr]*data[data<-thr])/np.sum(data[data<-thr])\n",
      "/home/mpoisson/Work/ARSFIT/stats-tilt/../funciones/func4.py:88: RuntimeWarning: invalid value encountered in scalar divide\n",
      "  yn=np.sum(yv[data<-thr]*data[data<-thr])/np.sum(data[data<-thr])\n"
     ]
    },
    {
     "name": "stdout",
     "output_type": "stream",
     "text": [
      "155 187 48\n",
      "b'1-Mar-1999 01:35:02.160' b'4-Mar-1999 06:27:02.183'\n",
      "102 160\n",
      "102 160 48\n"
     ]
    },
    {
     "name": "stderr",
     "output_type": "stream",
     "text": [
      "/home/mpoisson/Work/ARSFIT/stats-tilt/../funciones/func4.py:85: RuntimeWarning: invalid value encountered in scalar divide\n",
      "  xn=np.sum(xv[data<-thr]*data[data<-thr])/np.sum(data[data<-thr])\n",
      "/home/mpoisson/Work/ARSFIT/stats-tilt/../funciones/func4.py:88: RuntimeWarning: invalid value encountered in scalar divide\n",
      "  yn=np.sum(yv[data<-thr]*data[data<-thr])/np.sum(data[data<-thr])\n"
     ]
    },
    {
     "name": "stdout",
     "output_type": "stream",
     "text": [
      "8582----------------------------------\n",
      "nt -0.43070436\n",
      "time b'14-Jun-1999 12:48:03.198'\n",
      "lat 26\n",
      "8582 not found in posterior 3\n",
      "Error processing 8582: [Errno 2] No such file or directory: './posteriors3/8582_TM3.csv'\n",
      "149 173 68\n",
      "b'12-Jun-1999 04:48:03.255' b'16-Jun-1999 17:36:03.139'\n",
      "64 114\n",
      "64 114 62\n"
     ]
    },
    {
     "name": "stderr",
     "output_type": "stream",
     "text": [
      "/home/mpoisson/Work/ARSFIT/stats-tilt/../funciones/func4.py:85: RuntimeWarning: invalid value encountered in scalar divide\n",
      "  xn=np.sum(xv[data<-thr]*data[data<-thr])/np.sum(data[data<-thr])\n",
      "/home/mpoisson/Work/ARSFIT/stats-tilt/../funciones/func4.py:88: RuntimeWarning: invalid value encountered in scalar divide\n",
      "  yn=np.sum(yv[data<-thr]*data[data<-thr])/np.sum(data[data<-thr])\n"
     ]
    },
    {
     "name": "stdout",
     "output_type": "stream",
     "text": [
      "8614----------------------------------\n",
      "nt 0.007328119\n",
      "time b'7-Jul-1999 03:15:02.618'\n",
      "lat 18\n",
      "8614 not found in posterior 3\n",
      "100 150 53\n"
     ]
    },
    {
     "name": "stderr",
     "output_type": "stream",
     "text": [
      "/home/mpoisson/Work/ARSFIT/stats-tilt/../funciones/func4.py:85: RuntimeWarning: invalid value encountered in scalar divide\n",
      "  xn=np.sum(xv[data<-thr]*data[data<-thr])/np.sum(data[data<-thr])\n",
      "/home/mpoisson/Work/ARSFIT/stats-tilt/../funciones/func4.py:88: RuntimeWarning: invalid value encountered in scalar divide\n",
      "  yn=np.sum(yv[data<-thr]*data[data<-thr])/np.sum(data[data<-thr])\n"
     ]
    },
    {
     "name": "stdout",
     "output_type": "stream",
     "text": [
      "8628----------------------------------\n",
      "nt -0.48652005\n",
      "time b'13-Jul-1999 07:59:02.509'\n",
      "lat 19\n",
      "75 125 77\n"
     ]
    },
    {
     "name": "stderr",
     "output_type": "stream",
     "text": [
      "/home/mpoisson/Work/ARSFIT/stats-tilt/../funciones/func4.py:85: RuntimeWarning: invalid value encountered in scalar divide\n",
      "  xn=np.sum(xv[data<-thr]*data[data<-thr])/np.sum(data[data<-thr])\n",
      "/home/mpoisson/Work/ARSFIT/stats-tilt/../funciones/func4.py:88: RuntimeWarning: invalid value encountered in scalar divide\n",
      "  yn=np.sum(yv[data<-thr]*data[data<-thr])/np.sum(data[data<-thr])\n"
     ]
    },
    {
     "name": "stdout",
     "output_type": "stream",
     "text": [
      "10043----------------------------------\n",
      "nt -0.17969224\n",
      "time b'27-Jul-2002 20:47:00.271'\n",
      "lat 12\n",
      "10043 not found in posterior 3\n",
      "83 141 89\n"
     ]
    },
    {
     "name": "stderr",
     "output_type": "stream",
     "text": [
      "/home/mpoisson/Work/ARSFIT/stats-tilt/../funciones/func4.py:85: RuntimeWarning: invalid value encountered in scalar divide\n",
      "  xn=np.sum(xv[data<-thr]*data[data<-thr])/np.sum(data[data<-thr])\n",
      "/home/mpoisson/Work/ARSFIT/stats-tilt/../funciones/func4.py:88: RuntimeWarning: invalid value encountered in scalar divide\n",
      "  yn=np.sum(yv[data<-thr]*data[data<-thr])/np.sum(data[data<-thr])\n"
     ]
    },
    {
     "name": "stdout",
     "output_type": "stream",
     "text": [
      "10045----------------------------------\n",
      "nt 0.20720176\n",
      "time b'25-Jul-2002 23:59:00.262'\n",
      "lat 4\n",
      "10045 not found in posterior 3\n",
      "Error processing 10045: [Errno 2] No such file or directory: './posteriors3/10045_TM3.csv'\n",
      "111 137 60\n",
      "b'24-Jul-2002 09:35:00.257' b'28-Jul-2002 09:35:00.274'\n",
      "84 96\n",
      "84 96 48\n"
     ]
    },
    {
     "name": "stderr",
     "output_type": "stream",
     "text": [
      "/home/mpoisson/Work/ARSFIT/stats-tilt/../funciones/func4.py:85: RuntimeWarning: invalid value encountered in scalar divide\n",
      "  xn=np.sum(xv[data<-thr]*data[data<-thr])/np.sum(data[data<-thr])\n",
      "/home/mpoisson/Work/ARSFIT/stats-tilt/../funciones/func4.py:88: RuntimeWarning: invalid value encountered in scalar divide\n",
      "  yn=np.sum(yv[data<-thr]*data[data<-thr])/np.sum(data[data<-thr])\n"
     ]
    },
    {
     "name": "stdout",
     "output_type": "stream",
     "text": [
      "10050----------------------------------\n",
      "nt -0.33323297\n",
      "time b'29-Jul-2002 12:47:00.281'\n",
      "lat -7\n",
      "10050 not found in posterior 3\n",
      "Error processing 10050: [Errno 2] No such file or directory: './posteriors3/10050_TM3.csv'\n",
      "147 151 68\n",
      "b'27-Jul-2002 04:47:00.267' b'31-Jul-2002 17:35:00.299'\n",
      "78 142\n",
      "78 142 68\n"
     ]
    },
    {
     "name": "stderr",
     "output_type": "stream",
     "text": [
      "/home/mpoisson/Work/ARSFIT/stats-tilt/../funciones/func4.py:85: RuntimeWarning: invalid value encountered in scalar divide\n",
      "  xn=np.sum(xv[data<-thr]*data[data<-thr])/np.sum(data[data<-thr])\n",
      "/home/mpoisson/Work/ARSFIT/stats-tilt/../funciones/func4.py:88: RuntimeWarning: invalid value encountered in scalar divide\n",
      "  yn=np.sum(yv[data<-thr]*data[data<-thr])/np.sum(data[data<-thr])\n"
     ]
    },
    {
     "name": "stdout",
     "output_type": "stream",
     "text": [
      "10099----------------------------------\n",
      "nt 0.4382631\n",
      "time b'3-Sep-2002 16:03:00.877'\n",
      "lat -3\n",
      "10099 not found in posterior 3\n",
      "Error processing 10099: [Errno 2] No such file or directory: './posteriors3/10099_TM3.csv'\n",
      "127 155 54\n",
      "b'1-Sep-2002 14:23:00.819' b'5-Sep-2002 06:24:00.921'\n",
      "79 119\n",
      "79 119 36\n",
      "10103----------------------------------\n",
      "nt 0.23280734\n",
      "time b'9-Sep-2002 09:35:01.026'\n",
      "lat 14\n",
      "10103 not found in posterior 3\n"
     ]
    },
    {
     "name": "stderr",
     "output_type": "stream",
     "text": [
      "/home/mpoisson/Work/ARSFIT/stats-tilt/../funciones/func4.py:85: RuntimeWarning: invalid value encountered in scalar divide\n",
      "  xn=np.sum(xv[data<-thr]*data[data<-thr])/np.sum(data[data<-thr])\n",
      "/home/mpoisson/Work/ARSFIT/stats-tilt/../funciones/func4.py:88: RuntimeWarning: invalid value encountered in scalar divide\n",
      "  yn=np.sum(yv[data<-thr]*data[data<-thr])/np.sum(data[data<-thr])\n"
     ]
    },
    {
     "name": "stdout",
     "output_type": "stream",
     "text": [
      "100 120 81\n"
     ]
    },
    {
     "name": "stderr",
     "output_type": "stream",
     "text": [
      "/home/mpoisson/Work/ARSFIT/stats-tilt/../funciones/func4.py:85: RuntimeWarning: invalid value encountered in scalar divide\n",
      "  xn=np.sum(xv[data<-thr]*data[data<-thr])/np.sum(data[data<-thr])\n",
      "/home/mpoisson/Work/ARSFIT/stats-tilt/../funciones/func4.py:88: RuntimeWarning: invalid value encountered in scalar divide\n",
      "  yn=np.sum(yv[data<-thr]*data[data<-thr])/np.sum(data[data<-thr])\n"
     ]
    },
    {
     "name": "stdout",
     "output_type": "stream",
     "text": [
      "10130----------------------------------\n",
      "nt -0.32461786\n",
      "time b'26-Sep-2002 19:12:01.398'\n",
      "lat 18\n",
      "75 132 77\n"
     ]
    },
    {
     "name": "stderr",
     "output_type": "stream",
     "text": [
      "/home/mpoisson/Work/ARSFIT/stats-tilt/../funciones/func4.py:85: RuntimeWarning: invalid value encountered in scalar divide\n",
      "  xn=np.sum(xv[data<-thr]*data[data<-thr])/np.sum(data[data<-thr])\n",
      "/home/mpoisson/Work/ARSFIT/stats-tilt/../funciones/func4.py:88: RuntimeWarning: invalid value encountered in scalar divide\n",
      "  yn=np.sum(yv[data<-thr]*data[data<-thr])/np.sum(data[data<-thr])\n"
     ]
    },
    {
     "name": "stdout",
     "output_type": "stream",
     "text": [
      "10137----------------------------------\n",
      "nt -0.58317417\n",
      "time b'3-Oct-2002 09:35:01.511'\n",
      "lat -16\n",
      "10137 not found in posterior 3\n",
      "80 100 89\n"
     ]
    },
    {
     "name": "stderr",
     "output_type": "stream",
     "text": [
      "/home/mpoisson/Work/ARSFIT/stats-tilt/../funciones/func4.py:85: RuntimeWarning: invalid value encountered in scalar divide\n",
      "  xn=np.sum(xv[data<-thr]*data[data<-thr])/np.sum(data[data<-thr])\n",
      "/home/mpoisson/Work/ARSFIT/stats-tilt/../funciones/func4.py:88: RuntimeWarning: invalid value encountered in scalar divide\n",
      "  yn=np.sum(yv[data<-thr]*data[data<-thr])/np.sum(data[data<-thr])\n"
     ]
    },
    {
     "name": "stdout",
     "output_type": "stream",
     "text": [
      "10144----------------------------------\n",
      "nt 0.13304873\n",
      "time b'11-Oct-2002 08:03:01.556'\n",
      "lat 12\n",
      "10144 not found in posterior 3\n",
      "60 100 67\n"
     ]
    },
    {
     "name": "stderr",
     "output_type": "stream",
     "text": [
      "/home/mpoisson/Work/ARSFIT/stats-tilt/../funciones/func4.py:85: RuntimeWarning: invalid value encountered in scalar divide\n",
      "  xn=np.sum(xv[data<-thr]*data[data<-thr])/np.sum(data[data<-thr])\n",
      "/home/mpoisson/Work/ARSFIT/stats-tilt/../funciones/func4.py:88: RuntimeWarning: invalid value encountered in scalar divide\n",
      "  yn=np.sum(yv[data<-thr]*data[data<-thr])/np.sum(data[data<-thr])\n",
      "/home/mpoisson/Work/ARSFIT/stats-tilt/../funciones/func4.py:85: RuntimeWarning: invalid value encountered in scalar divide\n",
      "  xn=np.sum(xv[data<-thr]*data[data<-thr])/np.sum(data[data<-thr])\n",
      "/home/mpoisson/Work/ARSFIT/stats-tilt/../funciones/func4.py:88: RuntimeWarning: invalid value encountered in scalar divide\n",
      "  yn=np.sum(yv[data<-thr]*data[data<-thr])/np.sum(data[data<-thr])\n"
     ]
    },
    {
     "name": "stdout",
     "output_type": "stream",
     "text": [
      "10188----------------------------------\n",
      "nt -0.111358725\n",
      "time b'8-Nov-2002 12:47:01.165'\n",
      "lat 11\n",
      "10188 not found in posterior 3\n",
      "62 80 39\n",
      "10226----------------------------------\n",
      "nt 0.45246956\n",
      "time b'18-Dec-2002 01:39:00.199'\n",
      "lat -28\n",
      "100 170 81\n"
     ]
    },
    {
     "name": "stderr",
     "output_type": "stream",
     "text": [
      "/home/mpoisson/Work/ARSFIT/stats-tilt/../funciones/func4.py:85: RuntimeWarning: invalid value encountered in scalar divide\n",
      "  xn=np.sum(xv[data<-thr]*data[data<-thr])/np.sum(data[data<-thr])\n",
      "/home/mpoisson/Work/ARSFIT/stats-tilt/../funciones/func4.py:88: RuntimeWarning: invalid value encountered in scalar divide\n",
      "  yn=np.sum(yv[data<-thr]*data[data<-thr])/np.sum(data[data<-thr])\n"
     ]
    },
    {
     "name": "stdout",
     "output_type": "stream",
     "text": [
      "10311----------------------------------\n",
      "nt -0.084757\n",
      "time b'13-Mar-2003 06:27:00.200'\n",
      "lat -16\n",
      "66 121 63\n"
     ]
    },
    {
     "name": "stderr",
     "output_type": "stream",
     "text": [
      "/home/mpoisson/Work/ARSFIT/stats-tilt/../funciones/func4.py:85: RuntimeWarning: invalid value encountered in scalar divide\n",
      "  xn=np.sum(xv[data<-thr]*data[data<-thr])/np.sum(data[data<-thr])\n",
      "/home/mpoisson/Work/ARSFIT/stats-tilt/../funciones/func4.py:88: RuntimeWarning: invalid value encountered in scalar divide\n",
      "  yn=np.sum(yv[data<-thr]*data[data<-thr])/np.sum(data[data<-thr])\n"
     ]
    },
    {
     "name": "stdout",
     "output_type": "stream",
     "text": [
      "10349----------------------------------\n",
      "nt -0.13522457\n",
      "time b'1-May-2003 08:03:00.290'\n",
      "lat -14\n",
      "10349 not found in posterior 3\n",
      "90 120 93\n"
     ]
    },
    {
     "name": "stderr",
     "output_type": "stream",
     "text": [
      "/home/mpoisson/Work/ARSFIT/stats-tilt/../funciones/func4.py:85: RuntimeWarning: invalid value encountered in scalar divide\n",
      "  xn=np.sum(xv[data<-thr]*data[data<-thr])/np.sum(data[data<-thr])\n",
      "/home/mpoisson/Work/ARSFIT/stats-tilt/../funciones/func4.py:88: RuntimeWarning: invalid value encountered in scalar divide\n",
      "  yn=np.sum(yv[data<-thr]*data[data<-thr])/np.sum(data[data<-thr])\n"
     ]
    },
    {
     "name": "stdout",
     "output_type": "stream",
     "text": [
      "10385----------------------------------\n",
      "nt 0.26007137\n",
      "time b'18-Jun-2003 06:26:59.310'\n",
      "lat 30\n",
      "50 80 73\n"
     ]
    },
    {
     "name": "stderr",
     "output_type": "stream",
     "text": [
      "/home/mpoisson/Work/ARSFIT/stats-tilt/../funciones/func4.py:85: RuntimeWarning: invalid value encountered in scalar divide\n",
      "  xn=np.sum(xv[data<-thr]*data[data<-thr])/np.sum(data[data<-thr])\n",
      "/home/mpoisson/Work/ARSFIT/stats-tilt/../funciones/func4.py:88: RuntimeWarning: invalid value encountered in scalar divide\n",
      "  yn=np.sum(yv[data<-thr]*data[data<-thr])/np.sum(data[data<-thr])\n"
     ]
    },
    {
     "name": "stdout",
     "output_type": "stream",
     "text": [
      "10391----------------------------------\n",
      "nt -0.342548\n",
      "time b'24-Jun-2003 03:10:59.293'\n",
      "lat 15\n",
      "175 229 52\n",
      "b'22-Jun-2003 23:59:59.294' b'26-Jun-2003 12:48:28.000'\n",
      "54 103\n",
      "54 103 52\n"
     ]
    },
    {
     "name": "stderr",
     "output_type": "stream",
     "text": [
      "/home/mpoisson/Work/ARSFIT/stats-tilt/../funciones/func4.py:85: RuntimeWarning: invalid value encountered in scalar divide\n",
      "  xn=np.sum(xv[data<-thr]*data[data<-thr])/np.sum(data[data<-thr])\n",
      "/home/mpoisson/Work/ARSFIT/stats-tilt/../funciones/func4.py:88: RuntimeWarning: invalid value encountered in scalar divide\n",
      "  yn=np.sum(yv[data<-thr]*data[data<-thr])/np.sum(data[data<-thr])\n"
     ]
    },
    {
     "name": "stdout",
     "output_type": "stream",
     "text": [
      "10456----------------------------------\n",
      "nt 0.25810575\n",
      "time b'9-Sep-2003 16:03:03.251'\n",
      "lat -9\n",
      "10456 not found in posterior 3\n",
      "Error processing 10456: [Errno 2] No such file or directory: './posteriors3/10456_TM3.csv'\n",
      "147 181 56\n",
      "b'7-Sep-2003 23:59:03.215' b'11-Sep-2003 19:12:03.298'\n",
      "64 103\n",
      "64 103 56\n"
     ]
    },
    {
     "name": "stderr",
     "output_type": "stream",
     "text": [
      "/home/mpoisson/Work/ARSFIT/stats-tilt/../funciones/func4.py:85: RuntimeWarning: invalid value encountered in scalar divide\n",
      "  xn=np.sum(xv[data<-thr]*data[data<-thr])/np.sum(data[data<-thr])\n",
      "/home/mpoisson/Work/ARSFIT/stats-tilt/../funciones/func4.py:88: RuntimeWarning: invalid value encountered in scalar divide\n",
      "  yn=np.sum(yv[data<-thr]*data[data<-thr])/np.sum(data[data<-thr])\n"
     ]
    },
    {
     "name": "stdout",
     "output_type": "stream",
     "text": [
      "10547----------------------------------\n",
      "nt -0.4519321\n",
      "time b'1-Feb-2004 04:47:02.370'\n",
      "lat -9\n",
      "117 125 67\n",
      "b'29-Jan-2004 14:23:02.328' b'3-Feb-2004 03:11:02.406'\n",
      "76 114\n",
      "76 114 56\n"
     ]
    },
    {
     "name": "stderr",
     "output_type": "stream",
     "text": [
      "/home/mpoisson/Work/ARSFIT/stats-tilt/../funciones/func4.py:85: RuntimeWarning: invalid value encountered in scalar divide\n",
      "  xn=np.sum(xv[data<-thr]*data[data<-thr])/np.sum(data[data<-thr])\n",
      "/home/mpoisson/Work/ARSFIT/stats-tilt/../funciones/func4.py:88: RuntimeWarning: invalid value encountered in scalar divide\n",
      "  yn=np.sum(yv[data<-thr]*data[data<-thr])/np.sum(data[data<-thr])\n"
     ]
    },
    {
     "name": "stdout",
     "output_type": "stream",
     "text": [
      "10747----------------------------------\n",
      "nt -0.10116805\n",
      "time b'2-Apr-2005 15:59:03.420'\n",
      "lat -7\n",
      "135 129 60\n",
      "b'31-Mar-2005 17:35:03.440' b'4-Apr-2005 17:39:03.390'\n",
      "88 115\n",
      "88 115 60\n"
     ]
    },
    {
     "name": "stderr",
     "output_type": "stream",
     "text": [
      "/home/mpoisson/Work/ARSFIT/stats-tilt/../funciones/func4.py:85: RuntimeWarning: invalid value encountered in scalar divide\n",
      "  xn=np.sum(xv[data<-thr]*data[data<-thr])/np.sum(data[data<-thr])\n",
      "/home/mpoisson/Work/ARSFIT/stats-tilt/../funciones/func4.py:88: RuntimeWarning: invalid value encountered in scalar divide\n",
      "  yn=np.sum(yv[data<-thr]*data[data<-thr])/np.sum(data[data<-thr])\n"
     ]
    },
    {
     "name": "stdout",
     "output_type": "stream",
     "text": [
      "10987----------------------------------\n",
      "nt 0.051508203\n",
      "time b'27-Mar-2008 09:35:01.850'\n",
      "lat -8\n",
      "10987 not found in posterior 3\n",
      "70 148 75\n"
     ]
    },
    {
     "name": "stderr",
     "output_type": "stream",
     "text": [
      "/home/mpoisson/Work/ARSFIT/stats-tilt/../funciones/func4.py:85: RuntimeWarning: invalid value encountered in scalar divide\n",
      "  xn=np.sum(xv[data<-thr]*data[data<-thr])/np.sum(data[data<-thr])\n",
      "/home/mpoisson/Work/ARSFIT/stats-tilt/../funciones/func4.py:88: RuntimeWarning: invalid value encountered in scalar divide\n",
      "  yn=np.sum(yv[data<-thr]*data[data<-thr])/np.sum(data[data<-thr])\n"
     ]
    },
    {
     "name": "stdout",
     "output_type": "stream",
     "text": [
      "11007----------------------------------\n",
      "nt -0.3601465\n",
      "time b'1-Nov-2008 06:27:01.190'\n",
      "lat 35\n",
      "89 171 60\n",
      "b'30-Oct-2008 14:27:01.200' b'3-Nov-2008 14:24:01.170'\n",
      "49 120\n",
      "49 120 54\n"
     ]
    },
    {
     "name": "stderr",
     "output_type": "stream",
     "text": [
      "/home/mpoisson/Work/ARSFIT/stats-tilt/../funciones/func4.py:85: RuntimeWarning: invalid value encountered in scalar divide\n",
      "  xn=np.sum(xv[data<-thr]*data[data<-thr])/np.sum(data[data<-thr])\n",
      "/home/mpoisson/Work/ARSFIT/stats-tilt/../funciones/func4.py:88: RuntimeWarning: invalid value encountered in scalar divide\n",
      "  yn=np.sum(yv[data<-thr]*data[data<-thr])/np.sum(data[data<-thr])\n"
     ]
    },
    {
     "name": "stdout",
     "output_type": "stream",
     "text": [
      "7982----------------------------------\n",
      "nt -0.15810041\n",
      "time b'9-Aug-1996 12:48:04.510'\n",
      "lat 11\n",
      "7982 not found in posterior 3\n",
      "Error processing 7982: [Errno 2] No such file or directory: './posteriors3/7982_TM3.csv'\n",
      "185 253 50\n",
      "b'7-Aug-1996 17:36:04.540' b'11-Aug-1996 16:00:04.470'\n",
      "92 110\n",
      "92 110 50\n"
     ]
    },
    {
     "name": "stderr",
     "output_type": "stream",
     "text": [
      "/home/mpoisson/Work/ARSFIT/stats-tilt/../funciones/func4.py:85: RuntimeWarning: invalid value encountered in scalar divide\n",
      "  xn=np.sum(xv[data<-thr]*data[data<-thr])/np.sum(data[data<-thr])\n",
      "/home/mpoisson/Work/ARSFIT/stats-tilt/../funciones/func4.py:88: RuntimeWarning: invalid value encountered in scalar divide\n",
      "  yn=np.sum(yv[data<-thr]*data[data<-thr])/np.sum(data[data<-thr])\n"
     ]
    },
    {
     "name": "stdout",
     "output_type": "stream",
     "text": [
      "8016----------------------------------\n",
      "nt 0.754662\n",
      "time b'4-Feb-1997 17:36:04.320'\n",
      "lat -21\n",
      "46 102 45\n"
     ]
    },
    {
     "name": "stderr",
     "output_type": "stream",
     "text": [
      "/home/mpoisson/Work/ARSFIT/stats-tilt/../funciones/func4.py:85: RuntimeWarning: invalid value encountered in scalar divide\n",
      "  xn=np.sum(xv[data<-thr]*data[data<-thr])/np.sum(data[data<-thr])\n",
      "/home/mpoisson/Work/ARSFIT/stats-tilt/../funciones/func4.py:88: RuntimeWarning: invalid value encountered in scalar divide\n",
      "  yn=np.sum(yv[data<-thr]*data[data<-thr])/np.sum(data[data<-thr])\n"
     ]
    },
    {
     "name": "stdout",
     "output_type": "stream",
     "text": [
      "8040----------------------------------\n",
      "nt -0.57436186\n",
      "time b'20-May-1997 22:28:05.517'\n",
      "lat 3\n",
      "8040 not found in posterior 3\n",
      "65 170 85\n"
     ]
    },
    {
     "name": "stderr",
     "output_type": "stream",
     "text": [
      "/home/mpoisson/Work/ARSFIT/stats-tilt/../funciones/func4.py:85: RuntimeWarning: invalid value encountered in scalar divide\n",
      "  xn=np.sum(xv[data<-thr]*data[data<-thr])/np.sum(data[data<-thr])\n",
      "/home/mpoisson/Work/ARSFIT/stats-tilt/../funciones/func4.py:88: RuntimeWarning: invalid value encountered in scalar divide\n",
      "  yn=np.sum(yv[data<-thr]*data[data<-thr])/np.sum(data[data<-thr])\n"
     ]
    },
    {
     "name": "stdout",
     "output_type": "stream",
     "text": [
      "8052----------------------------------\n",
      "nt 0.23809247\n",
      "time b'16-Jun-1997 01:36:05.530'\n",
      "lat 17\n",
      "8052 not found in posterior 3\n",
      "48 80 77\n"
     ]
    },
    {
     "name": "stderr",
     "output_type": "stream",
     "text": [
      "/home/mpoisson/Work/ARSFIT/stats-tilt/../funciones/func4.py:85: RuntimeWarning: invalid value encountered in scalar divide\n",
      "  xn=np.sum(xv[data<-thr]*data[data<-thr])/np.sum(data[data<-thr])\n",
      "/home/mpoisson/Work/ARSFIT/stats-tilt/../funciones/func4.py:88: RuntimeWarning: invalid value encountered in scalar divide\n",
      "  yn=np.sum(yv[data<-thr]*data[data<-thr])/np.sum(data[data<-thr])\n"
     ]
    },
    {
     "name": "stdout",
     "output_type": "stream",
     "text": [
      "8084----------------------------------\n",
      "nt -0.3017031\n",
      "time b'10-Sep-1997 19:11:03.230'\n",
      "lat 21\n",
      "8084 not found in posterior 3\n",
      "108 187 81\n"
     ]
    },
    {
     "name": "stderr",
     "output_type": "stream",
     "text": [
      "/home/mpoisson/Work/ARSFIT/stats-tilt/../funciones/func4.py:85: RuntimeWarning: invalid value encountered in scalar divide\n",
      "  xn=np.sum(xv[data<-thr]*data[data<-thr])/np.sum(data[data<-thr])\n",
      "/home/mpoisson/Work/ARSFIT/stats-tilt/../funciones/func4.py:88: RuntimeWarning: invalid value encountered in scalar divide\n",
      "  yn=np.sum(yv[data<-thr]*data[data<-thr])/np.sum(data[data<-thr])\n"
     ]
    },
    {
     "name": "stdout",
     "output_type": "stream",
     "text": [
      "8193----------------------------------\n",
      "nt 0.21090922\n",
      "time b'8-Apr-1998 03:12:03.680'\n",
      "lat -22\n",
      "8193 not found in posterior 3\n",
      "65 105 81\n"
     ]
    },
    {
     "name": "stderr",
     "output_type": "stream",
     "text": [
      "/home/mpoisson/Work/ARSFIT/stats-tilt/../funciones/func4.py:85: RuntimeWarning: invalid value encountered in scalar divide\n",
      "  xn=np.sum(xv[data<-thr]*data[data<-thr])/np.sum(data[data<-thr])\n",
      "/home/mpoisson/Work/ARSFIT/stats-tilt/../funciones/func4.py:88: RuntimeWarning: invalid value encountered in scalar divide\n",
      "  yn=np.sum(yv[data<-thr]*data[data<-thr])/np.sum(data[data<-thr])\n"
     ]
    },
    {
     "name": "stdout",
     "output_type": "stream",
     "text": [
      "8205----------------------------------\n",
      "nt 0.018779555\n",
      "time b'17-Apr-1998 22:27:03.960'\n",
      "lat 21\n",
      "8205 not found in posterior 3\n",
      "Error processing 8205: [Errno 2] No such file or directory: './posteriors3/8205_TM3.csv'\n",
      "173 225 50\n",
      "b'17-Apr-1998 01:36:03.930' b'20-Apr-1998 09:39:04.040'\n",
      "57 112\n",
      "57 112 50\n"
     ]
    },
    {
     "name": "stderr",
     "output_type": "stream",
     "text": [
      "/home/mpoisson/Work/ARSFIT/stats-tilt/../funciones/func4.py:85: RuntimeWarning: invalid value encountered in scalar divide\n",
      "  xn=np.sum(xv[data<-thr]*data[data<-thr])/np.sum(data[data<-thr])\n",
      "/home/mpoisson/Work/ARSFIT/stats-tilt/../funciones/func4.py:88: RuntimeWarning: invalid value encountered in scalar divide\n",
      "  yn=np.sum(yv[data<-thr]*data[data<-thr])/np.sum(data[data<-thr])\n"
     ]
    },
    {
     "name": "stdout",
     "output_type": "stream",
     "text": [
      "8404----------------------------------\n",
      "nt -0.5628848\n",
      "time b'7-Dec-1998 03:12:04.309'\n",
      "lat -22\n",
      "8404 not found in posterior 3\n",
      "Error processing 8404: [Errno 2] No such file or directory: './posteriors3/8404_TM3.csv'\n",
      "181 175 51\n",
      "b'5-Dec-1998 20:48:04.330' b'9-Dec-1998 08:03:04.265'\n",
      "103 113\n",
      "103 113 51\n"
     ]
    },
    {
     "name": "stderr",
     "output_type": "stream",
     "text": [
      "/home/mpoisson/Work/ARSFIT/stats-tilt/../funciones/func4.py:85: RuntimeWarning: invalid value encountered in scalar divide\n",
      "  xn=np.sum(xv[data<-thr]*data[data<-thr])/np.sum(data[data<-thr])\n",
      "/home/mpoisson/Work/ARSFIT/stats-tilt/../funciones/func4.py:88: RuntimeWarning: invalid value encountered in scalar divide\n",
      "  yn=np.sum(yv[data<-thr]*data[data<-thr])/np.sum(data[data<-thr])\n"
     ]
    },
    {
     "name": "stdout",
     "output_type": "stream",
     "text": [
      "8407----------------------------------\n",
      "nt -0.49183846\n",
      "time b'9-Dec-1998 08:03:04.265'\n",
      "lat -17\n",
      "8407 not found in posterior 3\n",
      "46 104 47\n"
     ]
    },
    {
     "name": "stderr",
     "output_type": "stream",
     "text": [
      "/home/mpoisson/Work/ARSFIT/stats-tilt/../funciones/func4.py:85: RuntimeWarning: invalid value encountered in scalar divide\n",
      "  xn=np.sum(xv[data<-thr]*data[data<-thr])/np.sum(data[data<-thr])\n",
      "/home/mpoisson/Work/ARSFIT/stats-tilt/../funciones/func4.py:88: RuntimeWarning: invalid value encountered in scalar divide\n",
      "  yn=np.sum(yv[data<-thr]*data[data<-thr])/np.sum(data[data<-thr])\n"
     ]
    },
    {
     "name": "stdout",
     "output_type": "stream",
     "text": [
      "8488----------------------------------\n",
      "nt 0.33024722\n",
      "time b'17-Mar-1999 17:36:02.395'\n",
      "lat -26\n",
      "8488 not found in posterior 3\n",
      "82 133 75\n"
     ]
    },
    {
     "name": "stderr",
     "output_type": "stream",
     "text": [
      "/home/mpoisson/Work/ARSFIT/stats-tilt/../funciones/func4.py:85: RuntimeWarning: invalid value encountered in scalar divide\n",
      "  xn=np.sum(xv[data<-thr]*data[data<-thr])/np.sum(data[data<-thr])\n",
      "/home/mpoisson/Work/ARSFIT/stats-tilt/../funciones/func4.py:88: RuntimeWarning: invalid value encountered in scalar divide\n",
      "  yn=np.sum(yv[data<-thr]*data[data<-thr])/np.sum(data[data<-thr])\n"
     ]
    },
    {
     "name": "stdout",
     "output_type": "stream",
     "text": [
      "8524----------------------------------\n",
      "nt 0.5043078\n",
      "time b'28-Apr-1999 20:48:03.429'\n",
      "lat 22\n",
      "40 120 85\n"
     ]
    },
    {
     "name": "stderr",
     "output_type": "stream",
     "text": [
      "/home/mpoisson/Work/ARSFIT/stats-tilt/../funciones/func4.py:85: RuntimeWarning: invalid value encountered in scalar divide\n",
      "  xn=np.sum(xv[data<-thr]*data[data<-thr])/np.sum(data[data<-thr])\n",
      "/home/mpoisson/Work/ARSFIT/stats-tilt/../funciones/func4.py:88: RuntimeWarning: invalid value encountered in scalar divide\n",
      "  yn=np.sum(yv[data<-thr]*data[data<-thr])/np.sum(data[data<-thr])\n"
     ]
    },
    {
     "name": "stdout",
     "output_type": "stream",
     "text": [
      "8536----------------------------------\n",
      "nt 0.31584212\n",
      "time b'10-May-1999 22:24:03.609'\n",
      "lat -24\n",
      "8536 not found in posterior 3\n",
      "70 80 71\n"
     ]
    },
    {
     "name": "stderr",
     "output_type": "stream",
     "text": [
      "/home/mpoisson/Work/ARSFIT/stats-tilt/../funciones/func4.py:85: RuntimeWarning: invalid value encountered in scalar divide\n",
      "  xn=np.sum(xv[data<-thr]*data[data<-thr])/np.sum(data[data<-thr])\n",
      "/home/mpoisson/Work/ARSFIT/stats-tilt/../funciones/func4.py:88: RuntimeWarning: invalid value encountered in scalar divide\n",
      "  yn=np.sum(yv[data<-thr]*data[data<-thr])/np.sum(data[data<-thr])\n"
     ]
    },
    {
     "name": "stdout",
     "output_type": "stream",
     "text": [
      "8552----------------------------------\n",
      "nt -0.1878991\n",
      "time b'29-May-1999 09:36:03.504'\n",
      "lat 20\n",
      "75 100 67\n"
     ]
    },
    {
     "name": "stderr",
     "output_type": "stream",
     "text": [
      "/home/mpoisson/Work/ARSFIT/stats-tilt/../funciones/func4.py:85: RuntimeWarning: invalid value encountered in scalar divide\n",
      "  xn=np.sum(xv[data<-thr]*data[data<-thr])/np.sum(data[data<-thr])\n",
      "/home/mpoisson/Work/ARSFIT/stats-tilt/../funciones/func4.py:88: RuntimeWarning: invalid value encountered in scalar divide\n",
      "  yn=np.sum(yv[data<-thr]*data[data<-thr])/np.sum(data[data<-thr])\n"
     ]
    },
    {
     "name": "stdout",
     "output_type": "stream",
     "text": [
      "8589----------------------------------\n",
      "nt -0.0740425\n",
      "time b'17-Jun-1999 03:15:03.128'\n",
      "lat 27\n",
      "8589 not found in posterior 3\n",
      "Error processing 8589: [Errno 2] No such file or directory: './posteriors3/8589_TM3.csv'\n",
      "139 169 50\n",
      "b'16-Jun-1999 00:00:03.159' b'19-Jun-1999 07:59:03.064'\n",
      "65 84\n",
      "65 84 50\n"
     ]
    },
    {
     "name": "stderr",
     "output_type": "stream",
     "text": [
      "/home/mpoisson/Work/ARSFIT/stats-tilt/../funciones/func4.py:85: RuntimeWarning: invalid value encountered in scalar divide\n",
      "  xn=np.sum(xv[data<-thr]*data[data<-thr])/np.sum(data[data<-thr])\n",
      "/home/mpoisson/Work/ARSFIT/stats-tilt/../funciones/func4.py:88: RuntimeWarning: invalid value encountered in scalar divide\n",
      "  yn=np.sum(yv[data<-thr]*data[data<-thr])/np.sum(data[data<-thr])\n"
     ]
    },
    {
     "name": "stdout",
     "output_type": "stream",
     "text": [
      "8649----------------------------------\n",
      "nt 1.3202796\n",
      "time b'28-Jul-1999 20:48:02.290'\n",
      "lat -15\n",
      "8649 not found in posterior 3\n",
      "Error processing 8649: [Errno 2] No such file or directory: './posteriors3/8649_TM3.csv'\n",
      "141 133 59\n",
      "b'27-Jul-1999 01:39:02.304' b'31-Jul-1999 00:00:02.278'\n",
      "62 119\n",
      "62 119 58\n"
     ]
    },
    {
     "name": "stderr",
     "output_type": "stream",
     "text": [
      "/home/mpoisson/Work/ARSFIT/stats-tilt/../funciones/func4.py:85: RuntimeWarning: invalid value encountered in scalar divide\n",
      "  xn=np.sum(xv[data<-thr]*data[data<-thr])/np.sum(data[data<-thr])\n",
      "/home/mpoisson/Work/ARSFIT/stats-tilt/../funciones/func4.py:88: RuntimeWarning: invalid value encountered in scalar divide\n",
      "  yn=np.sum(yv[data<-thr]*data[data<-thr])/np.sum(data[data<-thr])\n"
     ]
    },
    {
     "name": "stdout",
     "output_type": "stream",
     "text": [
      "8690----------------------------------\n",
      "nt -0.27577832\n",
      "time b'12-Sep-1999 08:03:02.412'\n",
      "lat 13\n",
      "8690 not found in posterior 3\n",
      "89 100 109\n"
     ]
    },
    {
     "name": "stderr",
     "output_type": "stream",
     "text": [
      "/home/mpoisson/Work/ARSFIT/stats-tilt/../funciones/func4.py:85: RuntimeWarning: invalid value encountered in scalar divide\n",
      "  xn=np.sum(xv[data<-thr]*data[data<-thr])/np.sum(data[data<-thr])\n",
      "/home/mpoisson/Work/ARSFIT/stats-tilt/../funciones/func4.py:88: RuntimeWarning: invalid value encountered in scalar divide\n",
      "  yn=np.sum(yv[data<-thr]*data[data<-thr])/np.sum(data[data<-thr])\n"
     ]
    },
    {
     "name": "stdout",
     "output_type": "stream",
     "text": [
      "8699----------------------------------\n",
      "nt 0.40937185\n",
      "time b'14-Sep-1999 01:36:02.434'\n",
      "lat 21\n",
      "8699 not found in posterior 3\n",
      "Error processing 8699: [Errno 2] No such file or directory: './posteriors3/8699_TM3.csv'\n",
      "177 213 71\n",
      "b'11-Sep-1999 17:35:02.404' b'16-Sep-1999 11:11:02.467'\n",
      "78 107\n",
      "78 107 47\n"
     ]
    },
    {
     "name": "stderr",
     "output_type": "stream",
     "text": [
      "/home/mpoisson/Work/ARSFIT/stats-tilt/../funciones/func4.py:85: RuntimeWarning: invalid value encountered in scalar divide\n",
      "  xn=np.sum(xv[data<-thr]*data[data<-thr])/np.sum(data[data<-thr])\n",
      "/home/mpoisson/Work/ARSFIT/stats-tilt/../funciones/func4.py:88: RuntimeWarning: invalid value encountered in scalar divide\n",
      "  yn=np.sum(yv[data<-thr]*data[data<-thr])/np.sum(data[data<-thr])\n"
     ]
    },
    {
     "name": "stdout",
     "output_type": "stream",
     "text": [
      "10268----------------------------------\n",
      "nt -0.85674816\n",
      "time b'23-Jan-2003 17:38:59.150'\n",
      "lat 12\n",
      "10268 not found in posterior 3\n",
      "Error processing 10268: [Errno 2] No such file or directory: './posteriors3/10268_TM3.csv'\n",
      "163 165 65\n",
      "b'21-Jan-2003 14:23:59.130' b'25-Jan-2003 22:23:59.170'\n",
      "67 64\n",
      "67 64 63\n"
     ]
    },
    {
     "name": "stderr",
     "output_type": "stream",
     "text": [
      "/home/mpoisson/Work/ARSFIT/stats-tilt/../funciones/func4.py:85: RuntimeWarning: invalid value encountered in scalar divide\n",
      "  xn=np.sum(xv[data<-thr]*data[data<-thr])/np.sum(data[data<-thr])\n",
      "/home/mpoisson/Work/ARSFIT/stats-tilt/../funciones/func4.py:88: RuntimeWarning: invalid value encountered in scalar divide\n",
      "  yn=np.sum(yv[data<-thr]*data[data<-thr])/np.sum(data[data<-thr])\n",
      "/home/mpoisson/Work/ARSFIT/stats-tilt/../funciones/func4.py:85: RuntimeWarning: invalid value encountered in scalar divide\n",
      "  xn=np.sum(xv[data<-thr]*data[data<-thr])/np.sum(data[data<-thr])\n",
      "/home/mpoisson/Work/ARSFIT/stats-tilt/../funciones/func4.py:88: RuntimeWarning: invalid value encountered in scalar divide\n",
      "  yn=np.sum(yv[data<-thr]*data[data<-thr])/np.sum(data[data<-thr])\n"
     ]
    },
    {
     "name": "stdout",
     "output_type": "stream",
     "text": [
      "10274----------------------------------\n",
      "nt 0.60579824\n",
      "time b'3-Feb-2003 06:23:59.280'\n",
      "lat -7\n",
      "10274 not found in posterior 3\n",
      "Error processing 10274: [Errno 2] No such file or directory: './posteriors3/10274_TM3.csv'\n",
      "159 159 54\n",
      "b'1-Feb-2003 19:11:59.260' b'5-Feb-2003 14:26:59.310'\n",
      "44 94\n",
      "44 94 28\n",
      "8056----------------------------------\n",
      "nt -0.29089484\n",
      "time b'24-Jun-1997 16:00:05.380'\n",
      "lat 17\n",
      "8056 not found in posterior 3\n",
      "Error processing 8056: [Errno 2] No such file or directory: './posteriors3/8056_TM3.csv'\n",
      "123 133 32\n",
      "b'24-Jun-1997 16:00:05.380' b'26-Jun-1997 19:12:05.340'\n",
      "67 97\n",
      "67 97 32\n",
      "8060----------------------------------\n",
      "nt 0.20399585\n",
      "time b'9-Jul-1997 09:36:04.030'\n",
      "lat 5\n",
      "8060 not found in posterior 3\n",
      "Error processing 8060: [Errno 2] No such file or directory: './posteriors3/8060_TM3.csv'\n",
      "119 147 46\n",
      "b'7-Jul-1997 14:24:04.080' b'10-Jul-1997 17:36:03.990'\n",
      "66 80\n",
      "66 80 39\n"
     ]
    },
    {
     "name": "stderr",
     "output_type": "stream",
     "text": [
      "/home/mpoisson/Work/ARSFIT/stats-tilt/../funciones/func4.py:85: RuntimeWarning: invalid value encountered in scalar divide\n",
      "  xn=np.sum(xv[data<-thr]*data[data<-thr])/np.sum(data[data<-thr])\n",
      "/home/mpoisson/Work/ARSFIT/stats-tilt/../funciones/func4.py:88: RuntimeWarning: invalid value encountered in scalar divide\n",
      "  yn=np.sum(yv[data<-thr]*data[data<-thr])/np.sum(data[data<-thr])\n",
      "/home/mpoisson/Work/ARSFIT/stats-tilt/../funciones/func4.py:85: RuntimeWarning: invalid value encountered in scalar divide\n",
      "  xn=np.sum(xv[data<-thr]*data[data<-thr])/np.sum(data[data<-thr])\n",
      "/home/mpoisson/Work/ARSFIT/stats-tilt/../funciones/func4.py:88: RuntimeWarning: invalid value encountered in scalar divide\n",
      "  yn=np.sum(yv[data<-thr]*data[data<-thr])/np.sum(data[data<-thr])\n"
     ]
    },
    {
     "name": "stdout",
     "output_type": "stream",
     "text": [
      "8722----------------------------------\n",
      "nt -0.31395748\n",
      "time b'6-Oct-1999 11:12:02.932'\n",
      "lat 14\n",
      "8722 not found in posterior 3\n",
      "Error processing 8722: [Errno 2] No such file or directory: './posteriors3/8722_TM3.csv'\n",
      "137 167 59\n",
      "b'4-Oct-1999 17:35:02.882' b'8-Oct-1999 16:00:02.992'\n",
      "76 112\n",
      "76 112 42\n"
     ]
    },
    {
     "name": "stderr",
     "output_type": "stream",
     "text": [
      "/home/mpoisson/Work/ARSFIT/stats-tilt/../funciones/func4.py:85: RuntimeWarning: invalid value encountered in scalar divide\n",
      "  xn=np.sum(xv[data<-thr]*data[data<-thr])/np.sum(data[data<-thr])\n",
      "/home/mpoisson/Work/ARSFIT/stats-tilt/../funciones/func4.py:88: RuntimeWarning: invalid value encountered in scalar divide\n",
      "  yn=np.sum(yv[data<-thr]*data[data<-thr])/np.sum(data[data<-thr])\n"
     ]
    },
    {
     "name": "stdout",
     "output_type": "stream",
     "text": [
      "8749----------------------------------\n",
      "nt 0.49803734\n",
      "time b'2-Nov-1999 09:35:03.479'\n",
      "lat -18\n",
      "60 120 85\n"
     ]
    },
    {
     "name": "stderr",
     "output_type": "stream",
     "text": [
      "/home/mpoisson/Work/ARSFIT/stats-tilt/../funciones/func4.py:85: RuntimeWarning: invalid value encountered in scalar divide\n",
      "  xn=np.sum(xv[data<-thr]*data[data<-thr])/np.sum(data[data<-thr])\n",
      "/home/mpoisson/Work/ARSFIT/stats-tilt/../funciones/func4.py:88: RuntimeWarning: invalid value encountered in scalar divide\n",
      "  yn=np.sum(yv[data<-thr]*data[data<-thr])/np.sum(data[data<-thr])\n"
     ]
    },
    {
     "name": "stdout",
     "output_type": "stream",
     "text": [
      "8757----------------------------------\n",
      "nt 0.25054723\n",
      "time b'6-Nov-1999 15:59:03.520'\n",
      "lat 38\n",
      "8757 not found in posterior 3\n",
      "Error processing 8757: [Errno 2] No such file or directory: './posteriors3/8757_TM3.csv'\n",
      "121 139 47\n",
      "b'5-Nov-1999 20:47:03.514' b'9-Nov-1999 00:03:03.529'\n",
      "64 110\n",
      "64 110 36\n"
     ]
    },
    {
     "name": "stderr",
     "output_type": "stream",
     "text": [
      "/home/mpoisson/Work/ARSFIT/stats-tilt/../funciones/func4.py:85: RuntimeWarning: invalid value encountered in scalar divide\n",
      "  xn=np.sum(xv[data<-thr]*data[data<-thr])/np.sum(data[data<-thr])\n",
      "/home/mpoisson/Work/ARSFIT/stats-tilt/../funciones/func4.py:88: RuntimeWarning: invalid value encountered in scalar divide\n",
      "  yn=np.sum(yv[data<-thr]*data[data<-thr])/np.sum(data[data<-thr])\n"
     ]
    },
    {
     "name": "stdout",
     "output_type": "stream",
     "text": [
      "8760----------------------------------\n",
      "nt -0.36111027\n",
      "time b'10-Nov-1999 14:24:03.529'\n",
      "lat 14\n",
      "8760 not found in posterior 3\n",
      "Error processing 8760: [Errno 2] No such file or directory: './posteriors3/8760_TM3.csv'\n",
      "181 203 68\n",
      "b'8-Nov-1999 08:03:03.527' b'12-Nov-1999 20:47:03.522'\n",
      "103 157\n",
      "103 157 58\n"
     ]
    },
    {
     "name": "stderr",
     "output_type": "stream",
     "text": [
      "/home/mpoisson/Work/ARSFIT/stats-tilt/../funciones/func4.py:85: RuntimeWarning: invalid value encountered in scalar divide\n",
      "  xn=np.sum(xv[data<-thr]*data[data<-thr])/np.sum(data[data<-thr])\n",
      "/home/mpoisson/Work/ARSFIT/stats-tilt/../funciones/func4.py:88: RuntimeWarning: invalid value encountered in scalar divide\n",
      "  yn=np.sum(yv[data<-thr]*data[data<-thr])/np.sum(data[data<-thr])\n"
     ]
    },
    {
     "name": "stdout",
     "output_type": "stream",
     "text": [
      "8797----------------------------------\n",
      "nt 0.2130621\n",
      "time b'14-Dec-1999 23:59:02.913'\n",
      "lat -34\n",
      "8797 not found in posterior 3\n",
      "Error processing 8797: [Errno 2] No such file or directory: './posteriors3/8797_TM3.csv'\n",
      "159 165 61\n",
      "b'12-Dec-1999 23:59:02.976' b'17-Dec-1999 01:35:02.848'\n",
      "79 131\n",
      "79 131 53\n"
     ]
    },
    {
     "name": "stderr",
     "output_type": "stream",
     "text": [
      "/home/mpoisson/Work/ARSFIT/stats-tilt/../funciones/func4.py:85: RuntimeWarning: invalid value encountered in scalar divide\n",
      "  xn=np.sum(xv[data<-thr]*data[data<-thr])/np.sum(data[data<-thr])\n",
      "/home/mpoisson/Work/ARSFIT/stats-tilt/../funciones/func4.py:88: RuntimeWarning: invalid value encountered in scalar divide\n",
      "  yn=np.sum(yv[data<-thr]*data[data<-thr])/np.sum(data[data<-thr])\n"
     ]
    },
    {
     "name": "stdout",
     "output_type": "stream",
     "text": [
      "8828----------------------------------\n",
      "nt -0.24449492\n",
      "time b'16-Jan-2000 12:47:02.194'\n",
      "lat -22\n",
      "100 100 61\n"
     ]
    },
    {
     "name": "stderr",
     "output_type": "stream",
     "text": [
      "/home/mpoisson/Work/ARSFIT/stats-tilt/../funciones/func4.py:85: RuntimeWarning: invalid value encountered in scalar divide\n",
      "  xn=np.sum(xv[data<-thr]*data[data<-thr])/np.sum(data[data<-thr])\n",
      "/home/mpoisson/Work/ARSFIT/stats-tilt/../funciones/func4.py:88: RuntimeWarning: invalid value encountered in scalar divide\n",
      "  yn=np.sum(yv[data<-thr]*data[data<-thr])/np.sum(data[data<-thr])\n"
     ]
    },
    {
     "name": "stdout",
     "output_type": "stream",
     "text": [
      "8851----------------------------------\n",
      "nt -0.51298064\n",
      "time b'3-Feb-2000 04:47:02.134'\n",
      "lat 27\n",
      "45 90 81\n"
     ]
    },
    {
     "name": "stderr",
     "output_type": "stream",
     "text": [
      "/home/mpoisson/Work/ARSFIT/stats-tilt/../funciones/func4.py:85: RuntimeWarning: invalid value encountered in scalar divide\n",
      "  xn=np.sum(xv[data<-thr]*data[data<-thr])/np.sum(data[data<-thr])\n",
      "/home/mpoisson/Work/ARSFIT/stats-tilt/../funciones/func4.py:88: RuntimeWarning: invalid value encountered in scalar divide\n",
      "  yn=np.sum(yv[data<-thr]*data[data<-thr])/np.sum(data[data<-thr])\n"
     ]
    },
    {
     "name": "stdout",
     "output_type": "stream",
     "text": [
      "8898----------------------------------\n",
      "nt -0.24635516\n",
      "time b'8-Mar-2000 16:03:02.402'\n",
      "lat -15\n",
      "8898 not found in posterior 3\n",
      "87 130 85\n"
     ]
    },
    {
     "name": "stderr",
     "output_type": "stream",
     "text": [
      "/home/mpoisson/Work/ARSFIT/stats-tilt/../funciones/func4.py:85: RuntimeWarning: invalid value encountered in scalar divide\n",
      "  xn=np.sum(xv[data<-thr]*data[data<-thr])/np.sum(data[data<-thr])\n",
      "/home/mpoisson/Work/ARSFIT/stats-tilt/../funciones/func4.py:88: RuntimeWarning: invalid value encountered in scalar divide\n",
      "  yn=np.sum(yv[data<-thr]*data[data<-thr])/np.sum(data[data<-thr])\n"
     ]
    },
    {
     "name": "stdout",
     "output_type": "stream",
     "text": [
      "8900----------------------------------\n",
      "nt 0.59878176\n",
      "time b'6-Mar-2000 04:51:02.359'\n",
      "lat -15\n",
      "8900 not found in posterior 3\n",
      "Error processing 8900: [Errno 2] No such file or directory: './posteriors3/8900_TM3.csv'\n",
      "199 193 62\n",
      "b'4-Mar-2000 03:11:02.323' b'8-Mar-2000 06:23:02.395'\n",
      "108 157\n",
      "108 157 59\n"
     ]
    },
    {
     "name": "stderr",
     "output_type": "stream",
     "text": [
      "/home/mpoisson/Work/ARSFIT/stats-tilt/../funciones/func4.py:85: RuntimeWarning: invalid value encountered in scalar divide\n",
      "  xn=np.sum(xv[data<-thr]*data[data<-thr])/np.sum(data[data<-thr])\n",
      "/home/mpoisson/Work/ARSFIT/stats-tilt/../funciones/func4.py:88: RuntimeWarning: invalid value encountered in scalar divide\n",
      "  yn=np.sum(yv[data<-thr]*data[data<-thr])/np.sum(data[data<-thr])\n"
     ]
    },
    {
     "name": "stdout",
     "output_type": "stream",
     "text": [
      "8913----------------------------------\n",
      "nt 0.59115076\n",
      "time b'20-Mar-2000 09:39:02.650'\n",
      "lat -16\n",
      "102 200 53\n"
     ]
    },
    {
     "name": "stderr",
     "output_type": "stream",
     "text": [
      "/home/mpoisson/Work/ARSFIT/stats-tilt/../funciones/func4.py:85: RuntimeWarning: invalid value encountered in scalar divide\n",
      "  xn=np.sum(xv[data<-thr]*data[data<-thr])/np.sum(data[data<-thr])\n",
      "/home/mpoisson/Work/ARSFIT/stats-tilt/../funciones/func4.py:88: RuntimeWarning: invalid value encountered in scalar divide\n",
      "  yn=np.sum(yv[data<-thr]*data[data<-thr])/np.sum(data[data<-thr])\n"
     ]
    },
    {
     "name": "stdout",
     "output_type": "stream",
     "text": [
      "8924----------------------------------\n",
      "nt -0.50496656\n",
      "time b'28-Mar-2000 20:47:02.906'\n",
      "lat 10\n",
      "65 110 73\n"
     ]
    },
    {
     "name": "stderr",
     "output_type": "stream",
     "text": [
      "/home/mpoisson/Work/ARSFIT/stats-tilt/../funciones/func4.py:85: RuntimeWarning: invalid value encountered in scalar divide\n",
      "  xn=np.sum(xv[data<-thr]*data[data<-thr])/np.sum(data[data<-thr])\n",
      "/home/mpoisson/Work/ARSFIT/stats-tilt/../funciones/func4.py:88: RuntimeWarning: invalid value encountered in scalar divide\n",
      "  yn=np.sum(yv[data<-thr]*data[data<-thr])/np.sum(data[data<-thr])\n"
     ]
    },
    {
     "name": "stdout",
     "output_type": "stream",
     "text": [
      "8968----------------------------------\n",
      "nt -0.39869824\n",
      "time b'21-Apr-2000 23:59:03.481'\n",
      "lat -13\n",
      "8968 not found in posterior 3\n",
      "55 103 59\n"
     ]
    },
    {
     "name": "stderr",
     "output_type": "stream",
     "text": [
      "/home/mpoisson/Work/ARSFIT/stats-tilt/../funciones/func4.py:85: RuntimeWarning: invalid value encountered in scalar divide\n",
      "  xn=np.sum(xv[data<-thr]*data[data<-thr])/np.sum(data[data<-thr])\n",
      "/home/mpoisson/Work/ARSFIT/stats-tilt/../funciones/func4.py:88: RuntimeWarning: invalid value encountered in scalar divide\n",
      "  yn=np.sum(yv[data<-thr]*data[data<-thr])/np.sum(data[data<-thr])\n"
     ]
    },
    {
     "name": "stdout",
     "output_type": "stream",
     "text": [
      "8972----------------------------------\n",
      "nt 0.31233174\n",
      "time b'22-Apr-2000 03:15:03.484'\n",
      "lat 32\n",
      "8972 not found in posterior 3\n",
      "Error processing 8972: [Errno 2] No such file or directory: './posteriors3/8972_TM3.csv'\n",
      "145 155 44\n",
      "b'21-Apr-2000 16:03:03.476' b'24-Apr-2000 14:27:03.525'\n",
      "64 102\n",
      "64 102 44\n"
     ]
    },
    {
     "name": "stderr",
     "output_type": "stream",
     "text": [
      "/home/mpoisson/Work/ARSFIT/stats-tilt/../funciones/func4.py:85: RuntimeWarning: invalid value encountered in scalar divide\n",
      "  xn=np.sum(xv[data<-thr]*data[data<-thr])/np.sum(data[data<-thr])\n",
      "/home/mpoisson/Work/ARSFIT/stats-tilt/../funciones/func4.py:88: RuntimeWarning: invalid value encountered in scalar divide\n",
      "  yn=np.sum(yv[data<-thr]*data[data<-thr])/np.sum(data[data<-thr])\n"
     ]
    },
    {
     "name": "stdout",
     "output_type": "stream",
     "text": [
      "8986----------------------------------\n",
      "nt 0.22236077\n",
      "time b'10-May-2000 15:59:03.595'\n",
      "lat -23\n",
      "8986 not found in posterior 3\n",
      "Error processing 8986: [Errno 2] No such file or directory: './posteriors3/8986_TM3.csv'\n",
      "153 147 52\n",
      "b'9-May-2000 04:48:03.607' b'12-May-2000 16:03:03.575'\n",
      "87 102\n",
      "87 102 48\n"
     ]
    },
    {
     "name": "stderr",
     "output_type": "stream",
     "text": [
      "/home/mpoisson/Work/ARSFIT/stats-tilt/../funciones/func4.py:85: RuntimeWarning: invalid value encountered in scalar divide\n",
      "  xn=np.sum(xv[data<-thr]*data[data<-thr])/np.sum(data[data<-thr])\n",
      "/home/mpoisson/Work/ARSFIT/stats-tilt/../funciones/func4.py:88: RuntimeWarning: invalid value encountered in scalar divide\n",
      "  yn=np.sum(yv[data<-thr]*data[data<-thr])/np.sum(data[data<-thr])\n"
     ]
    },
    {
     "name": "stdout",
     "output_type": "stream",
     "text": [
      "9032----------------------------------\n",
      "nt -0.29759607\n",
      "time b'9-Jun-2000 00:00:03.051'\n",
      "lat -17\n",
      "65 110 57\n"
     ]
    },
    {
     "name": "stderr",
     "output_type": "stream",
     "text": [
      "/home/mpoisson/Work/ARSFIT/stats-tilt/../funciones/func4.py:85: RuntimeWarning: invalid value encountered in scalar divide\n",
      "  xn=np.sum(xv[data<-thr]*data[data<-thr])/np.sum(data[data<-thr])\n",
      "/home/mpoisson/Work/ARSFIT/stats-tilt/../funciones/func4.py:88: RuntimeWarning: invalid value encountered in scalar divide\n",
      "  yn=np.sum(yv[data<-thr]*data[data<-thr])/np.sum(data[data<-thr])\n"
     ]
    },
    {
     "name": "stdout",
     "output_type": "stream",
     "text": [
      "9035----------------------------------\n",
      "nt 0.13140693\n",
      "time b'10-Jun-2000 04:48:03.016'\n",
      "lat -17\n",
      "9035 not found in posterior 3\n",
      "47 114 53\n"
     ]
    },
    {
     "name": "stderr",
     "output_type": "stream",
     "text": [
      "/home/mpoisson/Work/ARSFIT/stats-tilt/../funciones/func4.py:85: RuntimeWarning: invalid value encountered in scalar divide\n",
      "  xn=np.sum(xv[data<-thr]*data[data<-thr])/np.sum(data[data<-thr])\n",
      "/home/mpoisson/Work/ARSFIT/stats-tilt/../funciones/func4.py:88: RuntimeWarning: invalid value encountered in scalar divide\n",
      "  yn=np.sum(yv[data<-thr]*data[data<-thr])/np.sum(data[data<-thr])\n"
     ]
    },
    {
     "name": "stdout",
     "output_type": "stream",
     "text": [
      "9063----------------------------------\n",
      "nt 0.38586\n",
      "time b'30-Jun-2000 06:24:02.555'\n",
      "lat 25\n",
      "9063 not found in posterior 3\n",
      "75 151 89\n"
     ]
    },
    {
     "name": "stderr",
     "output_type": "stream",
     "text": [
      "/home/mpoisson/Work/ARSFIT/stats-tilt/../funciones/func4.py:85: RuntimeWarning: invalid value encountered in scalar divide\n",
      "  xn=np.sum(xv[data<-thr]*data[data<-thr])/np.sum(data[data<-thr])\n",
      "/home/mpoisson/Work/ARSFIT/stats-tilt/../funciones/func4.py:88: RuntimeWarning: invalid value encountered in scalar divide\n",
      "  yn=np.sum(yv[data<-thr]*data[data<-thr])/np.sum(data[data<-thr])\n"
     ]
    },
    {
     "name": "stdout",
     "output_type": "stream",
     "text": [
      "9069----------------------------------\n",
      "nt 0.29835546\n",
      "time b'8-Jul-2000 06:24:01.412'\n",
      "lat -14\n",
      "9069 not found in posterior 3\n",
      "Error processing 9069: [Errno 2] No such file or directory: './posteriors3/9069_TM3.csv'\n",
      "165 171 39\n",
      "b'7-Jul-2000 16:00:01.422' b'10-Jul-2000 08:00:01.379'\n",
      "69 116\n",
      "69 116 39\n"
     ]
    },
    {
     "name": "stderr",
     "output_type": "stream",
     "text": [
      "/home/mpoisson/Work/ARSFIT/stats-tilt/../funciones/func4.py:85: RuntimeWarning: invalid value encountered in scalar divide\n",
      "  xn=np.sum(xv[data<-thr]*data[data<-thr])/np.sum(data[data<-thr])\n",
      "/home/mpoisson/Work/ARSFIT/stats-tilt/../funciones/func4.py:88: RuntimeWarning: invalid value encountered in scalar divide\n",
      "  yn=np.sum(yv[data<-thr]*data[data<-thr])/np.sum(data[data<-thr])\n"
     ]
    },
    {
     "name": "stdout",
     "output_type": "stream",
     "text": [
      "9070----------------------------------\n",
      "nt -0.43671554\n",
      "time b'7-Jul-2000 22:24:01.418'\n",
      "lat 17\n",
      "9070 not found in posterior 3\n",
      "100 140 63\n"
     ]
    },
    {
     "name": "stderr",
     "output_type": "stream",
     "text": [
      "/home/mpoisson/Work/ARSFIT/stats-tilt/../funciones/func4.py:85: RuntimeWarning: invalid value encountered in scalar divide\n",
      "  xn=np.sum(xv[data<-thr]*data[data<-thr])/np.sum(data[data<-thr])\n",
      "/home/mpoisson/Work/ARSFIT/stats-tilt/../funciones/func4.py:88: RuntimeWarning: invalid value encountered in scalar divide\n",
      "  yn=np.sum(yv[data<-thr]*data[data<-thr])/np.sum(data[data<-thr])\n"
     ]
    },
    {
     "name": "stdout",
     "output_type": "stream",
     "text": [
      "9103----------------------------------\n",
      "nt -0.1568508\n",
      "time b'29-Jul-2000 06:27:01.277'\n",
      "lat 10\n",
      "9103 not found in posterior 3\n",
      "Error processing 9103: [Errno 2] No such file or directory: './posteriors3/9103_TM3.csv'\n",
      "177 171 65\n",
      "b'27-Jul-2000 00:00:01.277' b'31-Jul-2000 07:59:01.274'\n",
      "82 92\n",
      "82 92 58\n"
     ]
    },
    {
     "name": "stderr",
     "output_type": "stream",
     "text": [
      "/home/mpoisson/Work/ARSFIT/stats-tilt/../funciones/func4.py:85: RuntimeWarning: invalid value encountered in scalar divide\n",
      "  xn=np.sum(xv[data<-thr]*data[data<-thr])/np.sum(data[data<-thr])\n",
      "/home/mpoisson/Work/ARSFIT/stats-tilt/../funciones/func4.py:88: RuntimeWarning: invalid value encountered in scalar divide\n",
      "  yn=np.sum(yv[data<-thr]*data[data<-thr])/np.sum(data[data<-thr])\n"
     ]
    },
    {
     "name": "stdout",
     "output_type": "stream",
     "text": [
      "9139----------------------------------\n",
      "nt 0.0006354236\n",
      "time b'22-Aug-2000 17:35:01.302'\n",
      "lat -11\n",
      "53 135 75\n",
      "9140----------------------------------\n",
      "nt 0.35788396\n",
      "time b'27-Aug-2000 22:23:01.361'\n",
      "lat 9\n",
      "9140 not found in posterior 3\n"
     ]
    },
    {
     "name": "stderr",
     "output_type": "stream",
     "text": [
      "/home/mpoisson/Work/ARSFIT/stats-tilt/../funciones/func4.py:85: RuntimeWarning: invalid value encountered in scalar divide\n",
      "  xn=np.sum(xv[data<-thr]*data[data<-thr])/np.sum(data[data<-thr])\n",
      "/home/mpoisson/Work/ARSFIT/stats-tilt/../funciones/func4.py:88: RuntimeWarning: invalid value encountered in scalar divide\n",
      "  yn=np.sum(yv[data<-thr]*data[data<-thr])/np.sum(data[data<-thr])\n"
     ]
    },
    {
     "name": "stdout",
     "output_type": "stream",
     "text": [
      "60 100 93\n"
     ]
    },
    {
     "name": "stderr",
     "output_type": "stream",
     "text": [
      "/home/mpoisson/Work/ARSFIT/stats-tilt/../funciones/func4.py:85: RuntimeWarning: invalid value encountered in scalar divide\n",
      "  xn=np.sum(xv[data<-thr]*data[data<-thr])/np.sum(data[data<-thr])\n",
      "/home/mpoisson/Work/ARSFIT/stats-tilt/../funciones/func4.py:88: RuntimeWarning: invalid value encountered in scalar divide\n",
      "  yn=np.sum(yv[data<-thr]*data[data<-thr])/np.sum(data[data<-thr])\n"
     ]
    },
    {
     "name": "stdout",
     "output_type": "stream",
     "text": [
      "9144----------------------------------\n",
      "nt -0.1262798\n",
      "time b'26-Aug-2000 23:59:01.350'\n",
      "lat 25\n",
      "9144 not found in posterior 3\n",
      "Error processing 9144: [Errno 2] No such file or directory: './posteriors3/9144_TM3.csv'\n",
      "153 179 59\n",
      "b'25-Aug-2000 11:11:01.332' b'29-Aug-2000 09:39:01.378'\n",
      "83 94\n",
      "83 94 55\n"
     ]
    },
    {
     "name": "stderr",
     "output_type": "stream",
     "text": [
      "/home/mpoisson/Work/ARSFIT/stats-tilt/../funciones/func4.py:85: RuntimeWarning: invalid value encountered in scalar divide\n",
      "  xn=np.sum(xv[data<-thr]*data[data<-thr])/np.sum(data[data<-thr])\n",
      "/home/mpoisson/Work/ARSFIT/stats-tilt/../funciones/func4.py:88: RuntimeWarning: invalid value encountered in scalar divide\n",
      "  yn=np.sum(yv[data<-thr]*data[data<-thr])/np.sum(data[data<-thr])\n"
     ]
    },
    {
     "name": "stdout",
     "output_type": "stream",
     "text": [
      "9154----------------------------------\n",
      "nt 0.21506613\n",
      "time b'5-Sep-2000 11:15:01.465'\n",
      "lat -19\n",
      "9154 not found in posterior 3\n",
      "Error processing 9154: [Errno 2] No such file or directory: './posteriors3/9154_TM3.csv'\n",
      "157 185 57\n",
      "b'3-Sep-2000 22:24:01.445' b'7-Sep-2000 17:39:01.498'\n",
      "110 130\n",
      "110 130 39\n"
     ]
    },
    {
     "name": "stderr",
     "output_type": "stream",
     "text": [
      "/home/mpoisson/Work/ARSFIT/stats-tilt/../funciones/func4.py:85: RuntimeWarning: invalid value encountered in scalar divide\n",
      "  xn=np.sum(xv[data<-thr]*data[data<-thr])/np.sum(data[data<-thr])\n",
      "/home/mpoisson/Work/ARSFIT/stats-tilt/../funciones/func4.py:88: RuntimeWarning: invalid value encountered in scalar divide\n",
      "  yn=np.sum(yv[data<-thr]*data[data<-thr])/np.sum(data[data<-thr])\n"
     ]
    },
    {
     "name": "stdout",
     "output_type": "stream",
     "text": [
      "9170----------------------------------\n",
      "nt 0.1493193\n",
      "time b'24-Sep-2000 00:00:01.886'\n",
      "lat -7\n",
      "9170 not found in posterior 3\n",
      "Error processing 9170: [Errno 2] No such file or directory: './posteriors3/9170_TM3.csv'\n",
      "145 159 67\n",
      "b'21-Sep-2000 14:23:01.817' b'26-Sep-2000 03:11:01.945'\n",
      "76 124\n",
      "76 124 67\n"
     ]
    },
    {
     "name": "stderr",
     "output_type": "stream",
     "text": [
      "/home/mpoisson/Work/ARSFIT/stats-tilt/../funciones/func4.py:85: RuntimeWarning: invalid value encountered in scalar divide\n",
      "  xn=np.sum(xv[data<-thr]*data[data<-thr])/np.sum(data[data<-thr])\n",
      "/home/mpoisson/Work/ARSFIT/stats-tilt/../funciones/func4.py:88: RuntimeWarning: invalid value encountered in scalar divide\n",
      "  yn=np.sum(yv[data<-thr]*data[data<-thr])/np.sum(data[data<-thr])\n",
      "/home/mpoisson/Work/ARSFIT/stats-tilt/../funciones/func4.py:85: RuntimeWarning: invalid value encountered in scalar divide\n",
      "  xn=np.sum(xv[data<-thr]*data[data<-thr])/np.sum(data[data<-thr])\n",
      "/home/mpoisson/Work/ARSFIT/stats-tilt/../funciones/func4.py:88: RuntimeWarning: invalid value encountered in scalar divide\n",
      "  yn=np.sum(yv[data<-thr]*data[data<-thr])/np.sum(data[data<-thr])\n"
     ]
    },
    {
     "name": "stdout",
     "output_type": "stream",
     "text": [
      "9192----------------------------------\n",
      "nt -0.36078313\n",
      "time b'12-Oct-2000 03:12:02.302'\n",
      "lat -13\n",
      "9192 not found in posterior 3\n",
      "Error processing 9192: [Errno 2] No such file or directory: './posteriors3/9192_TM3.csv'\n",
      "163 229 47\n",
      "b'11-Oct-2000 04:51:02.283' b'14-Oct-2000 08:03:02.344'\n",
      "63 79\n",
      "63 79 34\n",
      "9218----------------------------------\n",
      "nt -0.19383158\n",
      "time b'4-Nov-2000 20:48:02.513'\n",
      "lat 19\n",
      "9218 not found in posterior 3\n",
      "91 130 67\n"
     ]
    },
    {
     "name": "stderr",
     "output_type": "stream",
     "text": [
      "/home/mpoisson/Work/ARSFIT/stats-tilt/../funciones/func4.py:85: RuntimeWarning: invalid value encountered in scalar divide\n",
      "  xn=np.sum(xv[data<-thr]*data[data<-thr])/np.sum(data[data<-thr])\n",
      "/home/mpoisson/Work/ARSFIT/stats-tilt/../funciones/func4.py:88: RuntimeWarning: invalid value encountered in scalar divide\n",
      "  yn=np.sum(yv[data<-thr]*data[data<-thr])/np.sum(data[data<-thr])\n"
     ]
    },
    {
     "name": "stdout",
     "output_type": "stream",
     "text": [
      "9267----------------------------------\n",
      "nt 0.4771718\n",
      "time b'14-Dec-2000 17:36:01.630'\n",
      "lat 8\n",
      "80 100 61\n"
     ]
    },
    {
     "name": "stderr",
     "output_type": "stream",
     "text": [
      "/home/mpoisson/Work/ARSFIT/stats-tilt/../funciones/func4.py:85: RuntimeWarning: invalid value encountered in scalar divide\n",
      "  xn=np.sum(xv[data<-thr]*data[data<-thr])/np.sum(data[data<-thr])\n",
      "/home/mpoisson/Work/ARSFIT/stats-tilt/../funciones/func4.py:88: RuntimeWarning: invalid value encountered in scalar divide\n",
      "  yn=np.sum(yv[data<-thr]*data[data<-thr])/np.sum(data[data<-thr])\n"
     ]
    },
    {
     "name": "stdout",
     "output_type": "stream",
     "text": [
      "9290----------------------------------\n",
      "nt 0.11672378\n",
      "time b'30-Dec-2000 06:27:01.305'\n",
      "lat 30\n",
      "9290 not found in posterior 3\n",
      "65 131 75\n"
     ]
    },
    {
     "name": "stderr",
     "output_type": "stream",
     "text": [
      "/home/mpoisson/Work/ARSFIT/stats-tilt/../funciones/func4.py:85: RuntimeWarning: invalid value encountered in scalar divide\n",
      "  xn=np.sum(xv[data<-thr]*data[data<-thr])/np.sum(data[data<-thr])\n",
      "/home/mpoisson/Work/ARSFIT/stats-tilt/../funciones/func4.py:88: RuntimeWarning: invalid value encountered in scalar divide\n",
      "  yn=np.sum(yv[data<-thr]*data[data<-thr])/np.sum(data[data<-thr])\n"
     ]
    },
    {
     "name": "stdout",
     "output_type": "stream",
     "text": [
      "9291----------------------------------\n",
      "nt 0.16271383\n",
      "time b'1-Jan-2001 19:12:01.259'\n",
      "lat -13\n",
      "9291 not found in posterior 3\n",
      "Error processing 9291: [Errno 2] No such file or directory: './posteriors3/9291_TM3.csv'\n",
      "235 207 61\n",
      "b'30-Dec-2000 06:27:01.305' b'3-Jan-2001 08:03:01.233'\n",
      "57 133\n",
      "57 133 54\n"
     ]
    },
    {
     "name": "stderr",
     "output_type": "stream",
     "text": [
      "/home/mpoisson/Work/ARSFIT/stats-tilt/../funciones/func4.py:85: RuntimeWarning: invalid value encountered in scalar divide\n",
      "  xn=np.sum(xv[data<-thr]*data[data<-thr])/np.sum(data[data<-thr])\n",
      "/home/mpoisson/Work/ARSFIT/stats-tilt/../funciones/func4.py:88: RuntimeWarning: invalid value encountered in scalar divide\n",
      "  yn=np.sum(yv[data<-thr]*data[data<-thr])/np.sum(data[data<-thr])\n"
     ]
    },
    {
     "name": "stdout",
     "output_type": "stream",
     "text": [
      "9308----------------------------------\n",
      "nt 0.35572606\n",
      "time b'14-Jan-2001 20:47:01.130'\n",
      "lat 14\n",
      "76 138 61\n"
     ]
    },
    {
     "name": "stderr",
     "output_type": "stream",
     "text": [
      "/home/mpoisson/Work/ARSFIT/stats-tilt/../funciones/func4.py:85: RuntimeWarning: invalid value encountered in scalar divide\n",
      "  xn=np.sum(xv[data<-thr]*data[data<-thr])/np.sum(data[data<-thr])\n",
      "/home/mpoisson/Work/ARSFIT/stats-tilt/../funciones/func4.py:88: RuntimeWarning: invalid value encountered in scalar divide\n",
      "  yn=np.sum(yv[data<-thr]*data[data<-thr])/np.sum(data[data<-thr])\n"
     ]
    },
    {
     "name": "stdout",
     "output_type": "stream",
     "text": [
      "9311----------------------------------\n",
      "nt -0.36246952\n",
      "time b'19-Jan-2001 16:03:01.129'\n",
      "lat 4\n",
      "56 125 57\n"
     ]
    },
    {
     "name": "stderr",
     "output_type": "stream",
     "text": [
      "/home/mpoisson/Work/ARSFIT/stats-tilt/../funciones/func4.py:85: RuntimeWarning: invalid value encountered in scalar divide\n",
      "  xn=np.sum(xv[data<-thr]*data[data<-thr])/np.sum(data[data<-thr])\n",
      "/home/mpoisson/Work/ARSFIT/stats-tilt/../funciones/func4.py:88: RuntimeWarning: invalid value encountered in scalar divide\n",
      "  yn=np.sum(yv[data<-thr]*data[data<-thr])/np.sum(data[data<-thr])\n"
     ]
    },
    {
     "name": "stdout",
     "output_type": "stream",
     "text": [
      "9368----------------------------------\n",
      "nt -0.048162982\n",
      "time b'6-Mar-2001 11:11:01.522'\n",
      "lat 27\n",
      "9368 not found in posterior 3\n",
      "80 150 89\n"
     ]
    },
    {
     "name": "stderr",
     "output_type": "stream",
     "text": [
      "/home/mpoisson/Work/ARSFIT/stats-tilt/../funciones/func4.py:85: RuntimeWarning: invalid value encountered in scalar divide\n",
      "  xn=np.sum(xv[data<-thr]*data[data<-thr])/np.sum(data[data<-thr])\n",
      "/home/mpoisson/Work/ARSFIT/stats-tilt/../funciones/func4.py:88: RuntimeWarning: invalid value encountered in scalar divide\n",
      "  yn=np.sum(yv[data<-thr]*data[data<-thr])/np.sum(data[data<-thr])\n"
     ]
    },
    {
     "name": "stdout",
     "output_type": "stream",
     "text": [
      "9396----------------------------------\n",
      "nt 0.15371399\n",
      "time b'24-Mar-2001 14:24:02.050'\n",
      "lat -6\n",
      "9396 not found in posterior 3\n",
      "Error processing 9396: [Errno 2] No such file or directory: './posteriors3/9396_TM3.csv'\n",
      "133 149 40\n",
      "b'24-Mar-2001 04:48:02.038' b'26-Mar-2001 20:48:02.112'\n",
      "82 103\n",
      "82 103 40\n"
     ]
    },
    {
     "name": "stderr",
     "output_type": "stream",
     "text": [
      "/home/mpoisson/Work/ARSFIT/stats-tilt/../funciones/func4.py:85: RuntimeWarning: invalid value encountered in scalar divide\n",
      "  xn=np.sum(xv[data<-thr]*data[data<-thr])/np.sum(data[data<-thr])\n",
      "/home/mpoisson/Work/ARSFIT/stats-tilt/../funciones/func4.py:88: RuntimeWarning: invalid value encountered in scalar divide\n",
      "  yn=np.sum(yv[data<-thr]*data[data<-thr])/np.sum(data[data<-thr])\n"
     ]
    },
    {
     "name": "stdout",
     "output_type": "stream",
     "text": [
      "9399----------------------------------\n",
      "nt -0.63663596\n",
      "time b'25-Mar-2001 08:00:02.071'\n",
      "lat -29\n",
      "9399 not found in posterior 3\n",
      "Error processing 9399: [Errno 2] No such file or directory: './posteriors3/9399_TM3.csv'\n",
      "135 131 48\n",
      "b'24-Mar-2001 08:00:02.042' b'27-Mar-2001 12:48:02.130'\n",
      "60 98\n",
      "60 98 42\n"
     ]
    },
    {
     "name": "stderr",
     "output_type": "stream",
     "text": [
      "/home/mpoisson/Work/ARSFIT/stats-tilt/../funciones/func4.py:85: RuntimeWarning: invalid value encountered in scalar divide\n",
      "  xn=np.sum(xv[data<-thr]*data[data<-thr])/np.sum(data[data<-thr])\n",
      "/home/mpoisson/Work/ARSFIT/stats-tilt/../funciones/func4.py:88: RuntimeWarning: invalid value encountered in scalar divide\n",
      "  yn=np.sum(yv[data<-thr]*data[data<-thr])/np.sum(data[data<-thr])\n"
     ]
    },
    {
     "name": "stdout",
     "output_type": "stream",
     "text": [
      "9417----------------------------------\n",
      "nt 0.55496114\n",
      "time b'8-Apr-2001 00:00:02.382'\n",
      "lat -9\n",
      "70 125 75\n"
     ]
    },
    {
     "name": "stderr",
     "output_type": "stream",
     "text": [
      "/home/mpoisson/Work/ARSFIT/stats-tilt/../funciones/func4.py:85: RuntimeWarning: invalid value encountered in scalar divide\n",
      "  xn=np.sum(xv[data<-thr]*data[data<-thr])/np.sum(data[data<-thr])\n",
      "/home/mpoisson/Work/ARSFIT/stats-tilt/../funciones/func4.py:88: RuntimeWarning: invalid value encountered in scalar divide\n",
      "  yn=np.sum(yv[data<-thr]*data[data<-thr])/np.sum(data[data<-thr])\n"
     ]
    },
    {
     "name": "stdout",
     "output_type": "stream",
     "text": [
      "9432----------------------------------\n",
      "nt 0.34031108\n",
      "time b'20-Apr-2001 08:00:02.585'\n",
      "lat 8\n",
      "9432 not found in posterior 3\n",
      "Error processing 9432: [Errno 2] No such file or directory: './posteriors3/9432_TM3.csv'\n",
      "165 141 68\n",
      "b'18-Apr-2001 04:48:02.561' b'22-Apr-2001 17:36:02.602'\n",
      "95 105\n",
      "95 105 63\n"
     ]
    },
    {
     "name": "stderr",
     "output_type": "stream",
     "text": [
      "/home/mpoisson/Work/ARSFIT/stats-tilt/../funciones/func4.py:85: RuntimeWarning: invalid value encountered in scalar divide\n",
      "  xn=np.sum(xv[data<-thr]*data[data<-thr])/np.sum(data[data<-thr])\n",
      "/home/mpoisson/Work/ARSFIT/stats-tilt/../funciones/func4.py:88: RuntimeWarning: invalid value encountered in scalar divide\n",
      "  yn=np.sum(yv[data<-thr]*data[data<-thr])/np.sum(data[data<-thr])\n"
     ]
    },
    {
     "name": "stdout",
     "output_type": "stream",
     "text": [
      "9441----------------------------------\n",
      "nt 0.32465053\n",
      "time b'30-Apr-2001 17:36:02.585'\n",
      "lat 8\n",
      "9441 not found in posterior 3\n",
      "100 130 73\n"
     ]
    },
    {
     "name": "stderr",
     "output_type": "stream",
     "text": [
      "/home/mpoisson/Work/ARSFIT/stats-tilt/../funciones/func4.py:85: RuntimeWarning: invalid value encountered in scalar divide\n",
      "  xn=np.sum(xv[data<-thr]*data[data<-thr])/np.sum(data[data<-thr])\n",
      "/home/mpoisson/Work/ARSFIT/stats-tilt/../funciones/func4.py:88: RuntimeWarning: invalid value encountered in scalar divide\n",
      "  yn=np.sum(yv[data<-thr]*data[data<-thr])/np.sum(data[data<-thr])\n"
     ]
    },
    {
     "name": "stdout",
     "output_type": "stream",
     "text": [
      "9455----------------------------------\n",
      "nt 0.31837264\n",
      "time b'13-May-2001 06:24:02.432'\n",
      "lat -18\n",
      "173 199 67\n",
      "b'10-May-2001 19:12:02.467' b'15-May-2001 08:00:02.399'\n",
      "73 178\n",
      "73 178 60\n"
     ]
    },
    {
     "name": "stderr",
     "output_type": "stream",
     "text": [
      "/home/mpoisson/Work/ARSFIT/stats-tilt/../funciones/func4.py:85: RuntimeWarning: invalid value encountered in scalar divide\n",
      "  xn=np.sum(xv[data<-thr]*data[data<-thr])/np.sum(data[data<-thr])\n",
      "/home/mpoisson/Work/ARSFIT/stats-tilt/../funciones/func4.py:88: RuntimeWarning: invalid value encountered in scalar divide\n",
      "  yn=np.sum(yv[data<-thr]*data[data<-thr])/np.sum(data[data<-thr])\n"
     ]
    },
    {
     "name": "stdout",
     "output_type": "stream",
     "text": [
      "9456----------------------------------\n",
      "nt 0.33141598\n",
      "time b'12-May-2001 19:12:02.438'\n",
      "lat 6\n",
      "9456 not found in posterior 3\n",
      "Error processing 9456: [Errno 2] No such file or directory: './posteriors3/9456_TM3.csv'\n",
      "117 143 48\n",
      "b'11-May-2001 12:48:02.457' b'14-May-2001 19:12:02.408'\n",
      "67 126\n",
      "67 126 44\n"
     ]
    },
    {
     "name": "stderr",
     "output_type": "stream",
     "text": [
      "/home/mpoisson/Work/ARSFIT/stats-tilt/../funciones/func4.py:85: RuntimeWarning: invalid value encountered in scalar divide\n",
      "  xn=np.sum(xv[data<-thr]*data[data<-thr])/np.sum(data[data<-thr])\n",
      "/home/mpoisson/Work/ARSFIT/stats-tilt/../funciones/func4.py:88: RuntimeWarning: invalid value encountered in scalar divide\n",
      "  yn=np.sum(yv[data<-thr]*data[data<-thr])/np.sum(data[data<-thr])\n"
     ]
    },
    {
     "name": "stdout",
     "output_type": "stream",
     "text": [
      "9484----------------------------------\n",
      "nt -0.27230248\n",
      "time b'4-Jun-2001 17:35:01.890'\n",
      "lat -8\n",
      "9484 not found in posterior 3\n",
      "Error processing 9484: [Errno 2] No such file or directory: './posteriors3/9484_TM3.csv'\n",
      "195 209 68\n",
      "b'2-Jun-2001 04:51:01.960' b'6-Jun-2001 17:35:01.838'\n",
      "91 165\n",
      "91 165 68\n"
     ]
    },
    {
     "name": "stderr",
     "output_type": "stream",
     "text": [
      "/home/mpoisson/Work/ARSFIT/stats-tilt/../funciones/func4.py:85: RuntimeWarning: invalid value encountered in scalar divide\n",
      "  xn=np.sum(xv[data<-thr]*data[data<-thr])/np.sum(data[data<-thr])\n",
      "/home/mpoisson/Work/ARSFIT/stats-tilt/../funciones/func4.py:88: RuntimeWarning: invalid value encountered in scalar divide\n",
      "  yn=np.sum(yv[data<-thr]*data[data<-thr])/np.sum(data[data<-thr])\n"
     ]
    },
    {
     "name": "stdout",
     "output_type": "stream",
     "text": [
      "9511----------------------------------\n",
      "nt 0.61098146\n",
      "time b'25-Jun-2001 07:59:01.465'\n",
      "lat 10\n",
      "50 100 55\n"
     ]
    },
    {
     "name": "stderr",
     "output_type": "stream",
     "text": [
      "/home/mpoisson/Work/ARSFIT/stats-tilt/../funciones/func4.py:85: RuntimeWarning: invalid value encountered in scalar divide\n",
      "  xn=np.sum(xv[data<-thr]*data[data<-thr])/np.sum(data[data<-thr])\n",
      "/home/mpoisson/Work/ARSFIT/stats-tilt/../funciones/func4.py:88: RuntimeWarning: invalid value encountered in scalar divide\n",
      "  yn=np.sum(yv[data<-thr]*data[data<-thr])/np.sum(data[data<-thr])\n"
     ]
    },
    {
     "name": "stdout",
     "output_type": "stream",
     "text": [
      "9512----------------------------------\n",
      "nt -0.45239586\n",
      "time b'24-Jun-2001 06:23:01.485'\n",
      "lat -23\n",
      "9512 not found in posterior 3\n",
      "70 125 85\n"
     ]
    },
    {
     "name": "stderr",
     "output_type": "stream",
     "text": [
      "/home/mpoisson/Work/ARSFIT/stats-tilt/../funciones/func4.py:85: RuntimeWarning: invalid value encountered in scalar divide\n",
      "  xn=np.sum(xv[data<-thr]*data[data<-thr])/np.sum(data[data<-thr])\n",
      "/home/mpoisson/Work/ARSFIT/stats-tilt/../funciones/func4.py:88: RuntimeWarning: invalid value encountered in scalar divide\n",
      "  yn=np.sum(yv[data<-thr]*data[data<-thr])/np.sum(data[data<-thr])\n"
     ]
    },
    {
     "name": "stdout",
     "output_type": "stream",
     "text": [
      "9531----------------------------------\n",
      "nt -0.28701404\n",
      "time b'10-Jul-2001 11:11:01.287'\n",
      "lat -6\n",
      "9531 not found in posterior 3\n",
      "Error processing 9531: [Errno 2] No such file or directory: './posteriors3/9531_TM3.csv'\n",
      "131 127 67\n",
      "b'8-Jul-2001 04:48:01.297' b'12-Jul-2001 17:39:01.284'\n",
      "68 97\n",
      "68 97 45\n"
     ]
    },
    {
     "name": "stderr",
     "output_type": "stream",
     "text": [
      "/home/mpoisson/Work/ARSFIT/stats-tilt/../funciones/func4.py:85: RuntimeWarning: invalid value encountered in scalar divide\n",
      "  xn=np.sum(xv[data<-thr]*data[data<-thr])/np.sum(data[data<-thr])\n",
      "/home/mpoisson/Work/ARSFIT/stats-tilt/../funciones/func4.py:88: RuntimeWarning: invalid value encountered in scalar divide\n",
      "  yn=np.sum(yv[data<-thr]*data[data<-thr])/np.sum(data[data<-thr])\n"
     ]
    },
    {
     "name": "stdout",
     "output_type": "stream",
     "text": [
      "9548----------------------------------\n",
      "nt 0.05609981\n",
      "time b'22-Jul-2001 20:47:02.274'\n",
      "lat 18\n",
      "50 100 75\n"
     ]
    },
    {
     "name": "stderr",
     "output_type": "stream",
     "text": [
      "/home/mpoisson/Work/ARSFIT/stats-tilt/../funciones/func4.py:85: RuntimeWarning: invalid value encountered in scalar divide\n",
      "  xn=np.sum(xv[data<-thr]*data[data<-thr])/np.sum(data[data<-thr])\n",
      "/home/mpoisson/Work/ARSFIT/stats-tilt/../funciones/func4.py:88: RuntimeWarning: invalid value encountered in scalar divide\n",
      "  yn=np.sum(yv[data<-thr]*data[data<-thr])/np.sum(data[data<-thr])\n"
     ]
    },
    {
     "name": "stdout",
     "output_type": "stream",
     "text": [
      "9563----------------------------------\n",
      "nt -0.626167\n",
      "time b'5-Aug-2001 09:35:01.257'\n",
      "lat 24\n",
      "9563 not found in posterior 3\n",
      "92 110 105\n"
     ]
    },
    {
     "name": "stderr",
     "output_type": "stream",
     "text": [
      "/home/mpoisson/Work/ARSFIT/stats-tilt/../funciones/func4.py:85: RuntimeWarning: invalid value encountered in scalar divide\n",
      "  xn=np.sum(xv[data<-thr]*data[data<-thr])/np.sum(data[data<-thr])\n",
      "/home/mpoisson/Work/ARSFIT/stats-tilt/../funciones/func4.py:88: RuntimeWarning: invalid value encountered in scalar divide\n",
      "  yn=np.sum(yv[data<-thr]*data[data<-thr])/np.sum(data[data<-thr])\n"
     ]
    },
    {
     "name": "stdout",
     "output_type": "stream",
     "text": [
      "9569----------------------------------\n",
      "nt -0.21870056\n",
      "time b'6-Aug-2001 19:11:01.263'\n",
      "lat -18\n",
      "9569 not found in posterior 3\n",
      "Error processing 9569: [Errno 2] No such file or directory: './posteriors3/9569_TM3.csv'\n",
      "149 143 49\n",
      "b'5-Aug-2001 15:59:01.258' b'8-Aug-2001 22:23:01.276'\n",
      "55 92\n",
      "55 92 49\n"
     ]
    },
    {
     "name": "stderr",
     "output_type": "stream",
     "text": [
      "/home/mpoisson/Work/ARSFIT/stats-tilt/../funciones/func4.py:85: RuntimeWarning: invalid value encountered in scalar divide\n",
      "  xn=np.sum(xv[data<-thr]*data[data<-thr])/np.sum(data[data<-thr])\n",
      "/home/mpoisson/Work/ARSFIT/stats-tilt/../funciones/func4.py:88: RuntimeWarning: invalid value encountered in scalar divide\n",
      "  yn=np.sum(yv[data<-thr]*data[data<-thr])/np.sum(data[data<-thr])\n"
     ]
    },
    {
     "name": "stdout",
     "output_type": "stream",
     "text": [
      "9574----------------------------------\n",
      "nt 0.4575974\n",
      "time b'11-Aug-2001 06:23:01.295'\n",
      "lat -3\n",
      "135 153 49\n",
      "b'10-Aug-2001 03:15:01.285' b'13-Aug-2001 09:35:01.316'\n",
      "53 112\n",
      "53 112 49\n"
     ]
    },
    {
     "name": "stderr",
     "output_type": "stream",
     "text": [
      "/home/mpoisson/Work/ARSFIT/stats-tilt/../funciones/func4.py:85: RuntimeWarning: invalid value encountered in scalar divide\n",
      "  xn=np.sum(xv[data<-thr]*data[data<-thr])/np.sum(data[data<-thr])\n",
      "/home/mpoisson/Work/ARSFIT/stats-tilt/../funciones/func4.py:88: RuntimeWarning: invalid value encountered in scalar divide\n",
      "  yn=np.sum(yv[data<-thr]*data[data<-thr])/np.sum(data[data<-thr])\n"
     ]
    },
    {
     "name": "stdout",
     "output_type": "stream",
     "text": [
      "9660----------------------------------\n",
      "nt 0.34266818\n",
      "time b'12-Oct-2001 09:35:02.490'\n",
      "lat 12\n",
      "57 106 81\n"
     ]
    },
    {
     "name": "stderr",
     "output_type": "stream",
     "text": [
      "/home/mpoisson/Work/ARSFIT/stats-tilt/../funciones/func4.py:85: RuntimeWarning: invalid value encountered in scalar divide\n",
      "  xn=np.sum(xv[data<-thr]*data[data<-thr])/np.sum(data[data<-thr])\n",
      "/home/mpoisson/Work/ARSFIT/stats-tilt/../funciones/func4.py:88: RuntimeWarning: invalid value encountered in scalar divide\n",
      "  yn=np.sum(yv[data<-thr]*data[data<-thr])/np.sum(data[data<-thr])\n"
     ]
    },
    {
     "name": "stdout",
     "output_type": "stream",
     "text": [
      "9678----------------------------------\n",
      "nt -0.6585306\n",
      "time b'27-Oct-2001 11:11:02.511'\n",
      "lat 7\n",
      "9678 not found in posterior 3\n",
      "80 120 81\n"
     ]
    },
    {
     "name": "stderr",
     "output_type": "stream",
     "text": [
      "/home/mpoisson/Work/ARSFIT/stats-tilt/../funciones/func4.py:85: RuntimeWarning: invalid value encountered in scalar divide\n",
      "  xn=np.sum(xv[data<-thr]*data[data<-thr])/np.sum(data[data<-thr])\n",
      "/home/mpoisson/Work/ARSFIT/stats-tilt/../funciones/func4.py:88: RuntimeWarning: invalid value encountered in scalar divide\n",
      "  yn=np.sum(yv[data<-thr]*data[data<-thr])/np.sum(data[data<-thr])\n"
     ]
    },
    {
     "name": "stdout",
     "output_type": "stream",
     "text": [
      "9689----------------------------------\n",
      "nt -0.22049269\n",
      "time b'6-Nov-2001 03:12:02.396'\n",
      "lat -28\n",
      "9689 not found in posterior 3\n",
      "Error processing 9689: [Errno 2] No such file or directory: './posteriors3/9689_TM3.csv'\n",
      "139 127 58\n",
      "b'4-Nov-2001 08:03:02.421' b'8-Nov-2001 08:03:02.363'\n",
      "65 80\n",
      "65 80 34\n",
      "9710----------------------------------\n",
      "nt -0.12656155\n",
      "time b'22-Nov-2001 07:59:02.022'\n",
      "lat -10\n"
     ]
    },
    {
     "name": "stderr",
     "output_type": "stream",
     "text": [
      "/home/mpoisson/Work/ARSFIT/stats-tilt/../funciones/func4.py:85: RuntimeWarning: invalid value encountered in scalar divide\n",
      "  xn=np.sum(xv[data<-thr]*data[data<-thr])/np.sum(data[data<-thr])\n",
      "/home/mpoisson/Work/ARSFIT/stats-tilt/../funciones/func4.py:88: RuntimeWarning: invalid value encountered in scalar divide\n",
      "  yn=np.sum(yv[data<-thr]*data[data<-thr])/np.sum(data[data<-thr])\n"
     ]
    },
    {
     "name": "stdout",
     "output_type": "stream",
     "text": [
      "60 120 73\n"
     ]
    },
    {
     "name": "stderr",
     "output_type": "stream",
     "text": [
      "/home/mpoisson/Work/ARSFIT/stats-tilt/../funciones/func4.py:85: RuntimeWarning: invalid value encountered in scalar divide\n",
      "  xn=np.sum(xv[data<-thr]*data[data<-thr])/np.sum(data[data<-thr])\n",
      "/home/mpoisson/Work/ARSFIT/stats-tilt/../funciones/func4.py:88: RuntimeWarning: invalid value encountered in scalar divide\n",
      "  yn=np.sum(yv[data<-thr]*data[data<-thr])/np.sum(data[data<-thr])\n"
     ]
    },
    {
     "name": "stdout",
     "output_type": "stream",
     "text": [
      "9764----------------------------------\n",
      "nt -0.18527018\n",
      "time b'30-Dec-2001 06:27:01.164'\n",
      "lat 13\n",
      "9764 not found in posterior 3\n",
      "Error processing 9764: [Errno 2] No such file or directory: './posteriors3/9764_TM3.csv'\n",
      "135 151 65\n",
      "b'27-Dec-2001 23:59:01.189' b'1-Jan-2002 08:03:00.148'\n",
      "76 107\n",
      "76 107 65\n"
     ]
    },
    {
     "name": "stderr",
     "output_type": "stream",
     "text": [
      "/home/mpoisson/Work/ARSFIT/stats-tilt/../funciones/func4.py:85: RuntimeWarning: invalid value encountered in scalar divide\n",
      "  xn=np.sum(xv[data<-thr]*data[data<-thr])/np.sum(data[data<-thr])\n",
      "/home/mpoisson/Work/ARSFIT/stats-tilt/../funciones/func4.py:88: RuntimeWarning: invalid value encountered in scalar divide\n",
      "  yn=np.sum(yv[data<-thr]*data[data<-thr])/np.sum(data[data<-thr])\n"
     ]
    },
    {
     "name": "stdout",
     "output_type": "stream",
     "text": [
      "9844----------------------------------\n",
      "nt -0.43503293\n",
      "time b'26-Feb-2002 09:36:00.537'\n",
      "lat 22\n",
      "9844 not found in posterior 3\n",
      "Error processing 9844: [Errno 2] No such file or directory: './posteriors3/9844_TM3.csv'\n",
      "153 213 68\n",
      "b'24-Feb-2002 01:36:00.483' b'28-Feb-2002 14:24:00.593'\n",
      "80 143\n",
      "80 143 65\n"
     ]
    },
    {
     "name": "stderr",
     "output_type": "stream",
     "text": [
      "/home/mpoisson/Work/ARSFIT/stats-tilt/../funciones/func4.py:85: RuntimeWarning: invalid value encountered in scalar divide\n",
      "  xn=np.sum(xv[data<-thr]*data[data<-thr])/np.sum(data[data<-thr])\n",
      "/home/mpoisson/Work/ARSFIT/stats-tilt/../funciones/func4.py:88: RuntimeWarning: invalid value encountered in scalar divide\n",
      "  yn=np.sum(yv[data<-thr]*data[data<-thr])/np.sum(data[data<-thr])\n"
     ]
    },
    {
     "name": "stdout",
     "output_type": "stream",
     "text": [
      "9845----------------------------------\n",
      "nt 0.1654642\n",
      "time b'1-Mar-2002 17:36:00.625'\n",
      "lat 17\n",
      "9845 not found in posterior 3\n",
      "80 120 89\n"
     ]
    },
    {
     "name": "stderr",
     "output_type": "stream",
     "text": [
      "/home/mpoisson/Work/ARSFIT/stats-tilt/../funciones/func4.py:85: RuntimeWarning: invalid value encountered in scalar divide\n",
      "  xn=np.sum(xv[data<-thr]*data[data<-thr])/np.sum(data[data<-thr])\n",
      "/home/mpoisson/Work/ARSFIT/stats-tilt/../funciones/func4.py:88: RuntimeWarning: invalid value encountered in scalar divide\n",
      "  yn=np.sum(yv[data<-thr]*data[data<-thr])/np.sum(data[data<-thr])\n"
     ]
    },
    {
     "name": "stdout",
     "output_type": "stream",
     "text": [
      "9873----------------------------------\n",
      "nt -0.34983066\n",
      "time b'16-Mar-2002 20:51:01.080'\n",
      "lat -17\n",
      "9873 not found in posterior 3\n",
      "85 120 63\n",
      "9880----------------------------------\n",
      "nt -0.20579773\n",
      "time b'24-Mar-2002 09:36:01.258'\n",
      "lat 6\n",
      "9880 not found in posterior 3\n",
      "Error processing 9880: [Errno 2] No such file or directory: './posteriors3/9880_TM3.csv'\n"
     ]
    },
    {
     "name": "stderr",
     "output_type": "stream",
     "text": [
      "/home/mpoisson/Work/ARSFIT/stats-tilt/../funciones/func4.py:85: RuntimeWarning: invalid value encountered in scalar divide\n",
      "  xn=np.sum(xv[data<-thr]*data[data<-thr])/np.sum(data[data<-thr])\n",
      "/home/mpoisson/Work/ARSFIT/stats-tilt/../funciones/func4.py:88: RuntimeWarning: invalid value encountered in scalar divide\n",
      "  yn=np.sum(yv[data<-thr]*data[data<-thr])/np.sum(data[data<-thr])\n"
     ]
    },
    {
     "name": "stdout",
     "output_type": "stream",
     "text": [
      "143 157 51\n",
      "b'23-Mar-2002 00:00:01.228' b'26-Mar-2002 09:36:01.301'\n",
      "77 107\n",
      "77 107 51\n",
      "9884----------------------------------\n",
      "nt 0.30859372\n",
      "time b'30-Mar-2002 20:48:01.395'\n",
      "lat -18\n",
      "9884 not found in posterior 3\n"
     ]
    },
    {
     "name": "stderr",
     "output_type": "stream",
     "text": [
      "/home/mpoisson/Work/ARSFIT/stats-tilt/../funciones/func4.py:85: RuntimeWarning: invalid value encountered in scalar divide\n",
      "  xn=np.sum(xv[data<-thr]*data[data<-thr])/np.sum(data[data<-thr])\n",
      "/home/mpoisson/Work/ARSFIT/stats-tilt/../funciones/func4.py:88: RuntimeWarning: invalid value encountered in scalar divide\n",
      "  yn=np.sum(yv[data<-thr]*data[data<-thr])/np.sum(data[data<-thr])\n"
     ]
    },
    {
     "name": "stdout",
     "output_type": "stream",
     "text": [
      "55 80 89\n",
      "9897----------------------------------\n",
      "nt 0.14890468\n",
      "time b'6-Apr-2002 16:00:01.522'\n",
      "lat -1\n",
      "9897 not found in posterior 3\n",
      "Error processing 9897: [Errno 2] No such file or directory: './posteriors3/9897_TM3.csv'\n"
     ]
    },
    {
     "name": "stderr",
     "output_type": "stream",
     "text": [
      "/home/mpoisson/Work/ARSFIT/stats-tilt/../funciones/func4.py:85: RuntimeWarning: invalid value encountered in scalar divide\n",
      "  xn=np.sum(xv[data<-thr]*data[data<-thr])/np.sum(data[data<-thr])\n",
      "/home/mpoisson/Work/ARSFIT/stats-tilt/../funciones/func4.py:88: RuntimeWarning: invalid value encountered in scalar divide\n",
      "  yn=np.sum(yv[data<-thr]*data[data<-thr])/np.sum(data[data<-thr])\n",
      "/home/mpoisson/Work/ARSFIT/stats-tilt/../funciones/func4.py:85: RuntimeWarning: invalid value encountered in scalar divide\n",
      "  xn=np.sum(xv[data<-thr]*data[data<-thr])/np.sum(data[data<-thr])\n",
      "/home/mpoisson/Work/ARSFIT/stats-tilt/../funciones/func4.py:88: RuntimeWarning: invalid value encountered in scalar divide\n",
      "  yn=np.sum(yv[data<-thr]*data[data<-thr])/np.sum(data[data<-thr])\n"
     ]
    },
    {
     "name": "stdout",
     "output_type": "stream",
     "text": [
      "145 163 39\n",
      "b'6-Apr-2002 03:12:01.514' b'8-Apr-2002 20:48:01.552'\n",
      "66 90\n",
      "66 90 29\n",
      "9906----------------------------------\n",
      "nt 0.70626014\n",
      "time b'14-Apr-2002 19:15:01.593'\n",
      "lat -16\n",
      "9906 not found in posterior 3\n",
      "80 120 93\n"
     ]
    },
    {
     "name": "stderr",
     "output_type": "stream",
     "text": [
      "/home/mpoisson/Work/ARSFIT/stats-tilt/../funciones/func4.py:85: RuntimeWarning: invalid value encountered in scalar divide\n",
      "  xn=np.sum(xv[data<-thr]*data[data<-thr])/np.sum(data[data<-thr])\n",
      "/home/mpoisson/Work/ARSFIT/stats-tilt/../funciones/func4.py:88: RuntimeWarning: invalid value encountered in scalar divide\n",
      "  yn=np.sum(yv[data<-thr]*data[data<-thr])/np.sum(data[data<-thr])\n"
     ]
    },
    {
     "name": "stdout",
     "output_type": "stream",
     "text": [
      "9910----------------------------------\n",
      "nt 0.67646265\n",
      "time b'18-Apr-2002 14:24:01.587'\n",
      "lat -21\n",
      "9910 not found in posterior 3\n",
      "63 115 77\n"
     ]
    },
    {
     "name": "stderr",
     "output_type": "stream",
     "text": [
      "/home/mpoisson/Work/ARSFIT/stats-tilt/../funciones/func4.py:85: RuntimeWarning: invalid value encountered in scalar divide\n",
      "  xn=np.sum(xv[data<-thr]*data[data<-thr])/np.sum(data[data<-thr])\n",
      "/home/mpoisson/Work/ARSFIT/stats-tilt/../funciones/func4.py:88: RuntimeWarning: invalid value encountered in scalar divide\n",
      "  yn=np.sum(yv[data<-thr]*data[data<-thr])/np.sum(data[data<-thr])\n"
     ]
    },
    {
     "name": "stdout",
     "output_type": "stream",
     "text": [
      "9912----------------------------------\n",
      "nt 0.36655635\n",
      "time b'21-Apr-2002 01:36:01.571'\n",
      "lat 11\n",
      "9912 not found in posterior 3\n",
      "Error processing 9912: [Errno 2] No such file or directory: './posteriors3/9912_TM3.csv'\n",
      "141 135 68\n",
      "b'18-Apr-2002 17:36:01.586' b'23-Apr-2002 06:24:01.551'\n",
      "97 114\n",
      "97 114 68\n"
     ]
    },
    {
     "name": "stderr",
     "output_type": "stream",
     "text": [
      "/home/mpoisson/Work/ARSFIT/stats-tilt/../funciones/func4.py:85: RuntimeWarning: invalid value encountered in scalar divide\n",
      "  xn=np.sum(xv[data<-thr]*data[data<-thr])/np.sum(data[data<-thr])\n",
      "/home/mpoisson/Work/ARSFIT/stats-tilt/../funciones/func4.py:88: RuntimeWarning: invalid value encountered in scalar divide\n",
      "  yn=np.sum(yv[data<-thr]*data[data<-thr])/np.sum(data[data<-thr])\n"
     ]
    },
    {
     "name": "stdout",
     "output_type": "stream",
     "text": [
      "9931----------------------------------\n",
      "nt -0.24460411\n",
      "time b'3-May-2002 07:59:01.430'\n",
      "lat 15\n",
      "9931 not found in posterior 3\n",
      "Error processing 9931: [Errno 2] No such file or directory: './posteriors3/9931_TM3.csv'\n",
      "147 165 64\n",
      "b'1-May-2002 01:35:01.461' b'5-May-2002 09:35:01.399'\n",
      "60 117\n",
      "60 117 50\n"
     ]
    },
    {
     "name": "stderr",
     "output_type": "stream",
     "text": [
      "/home/mpoisson/Work/ARSFIT/stats-tilt/../funciones/func4.py:85: RuntimeWarning: invalid value encountered in scalar divide\n",
      "  xn=np.sum(xv[data<-thr]*data[data<-thr])/np.sum(data[data<-thr])\n",
      "/home/mpoisson/Work/ARSFIT/stats-tilt/../funciones/func4.py:88: RuntimeWarning: invalid value encountered in scalar divide\n",
      "  yn=np.sum(yv[data<-thr]*data[data<-thr])/np.sum(data[data<-thr])\n"
     ]
    },
    {
     "name": "stdout",
     "output_type": "stream",
     "text": [
      "9978----------------------------------\n",
      "nt -0.27912098\n",
      "time b'5-Jun-2002 12:47:00.652'\n",
      "lat -20\n",
      "9978 not found in posterior 3\n",
      "60 95 73\n",
      "9987----------------------------------\n",
      "nt 0.44796476\n",
      "time b'8-Jun-2002 20:47:00.589'\n",
      "lat -16\n",
      "9987 not found in posterior 3\n",
      "Error processing 9987: [Errno 2] No such file or directory: './posteriors3/9987_TM3.csv'\n"
     ]
    },
    {
     "name": "stderr",
     "output_type": "stream",
     "text": [
      "/home/mpoisson/Work/ARSFIT/stats-tilt/../funciones/func4.py:85: RuntimeWarning: invalid value encountered in scalar divide\n",
      "  xn=np.sum(xv[data<-thr]*data[data<-thr])/np.sum(data[data<-thr])\n",
      "/home/mpoisson/Work/ARSFIT/stats-tilt/../funciones/func4.py:88: RuntimeWarning: invalid value encountered in scalar divide\n",
      "  yn=np.sum(yv[data<-thr]*data[data<-thr])/np.sum(data[data<-thr])\n"
     ]
    },
    {
     "name": "stdout",
     "output_type": "stream",
     "text": [
      "191 189 64\n",
      "b'6-Jun-2002 17:35:00.629' b'11-Jun-2002 00:00:00.549'\n",
      "65 146\n",
      "65 146 64\n"
     ]
    },
    {
     "name": "stderr",
     "output_type": "stream",
     "text": [
      "/home/mpoisson/Work/ARSFIT/stats-tilt/../funciones/func4.py:85: RuntimeWarning: invalid value encountered in scalar divide\n",
      "  xn=np.sum(xv[data<-thr]*data[data<-thr])/np.sum(data[data<-thr])\n",
      "/home/mpoisson/Work/ARSFIT/stats-tilt/../funciones/func4.py:88: RuntimeWarning: invalid value encountered in scalar divide\n",
      "  yn=np.sum(yv[data<-thr]*data[data<-thr])/np.sum(data[data<-thr])\n"
     ]
    }
   ],
   "source": [
    "pixsize=1.98*725*1000*100\n",
    "pixarea=pixsize*pixsize\n",
    "DFs=[]\n",
    "\n",
    "#for name in [8088]:\n",
    "for name in ars:\n",
    "    \n",
    "\n",
    "    print(str(name)+'----------------------------------')\n",
    "    lat=searchar(str(name))[1]\n",
    "    try:\n",
    "        try:\n",
    "            DF1=pd.read_csv('./posteriors3/'+str(name)+'_TM3.csv')\n",
    "        except Exception as e:\n",
    "            print(f'{name} not found in posterior 3')\n",
    "            DF1=pd.read_csv('./posteriors2/'+str(name)+'_TM3.csv')\n",
    "        nn=int(DF1.mag.max())   \n",
    "        datad = np.transpose(np.load(f'../newdat/{name}_cube_data.npy'),axes=(1,2,0))[:,:,0:nn+1]\n",
    "        mask_cube= np.load(f'./masks2/mask_{name}.npy')[:,:,0:nn+1]\n",
    "        stp=round(nn/len(set(DF1.mag)))\n",
    "        thr=0\n",
    "    except Exception as e:\n",
    "        try:\n",
    "            DF1=pd.read_csv('./posteriors3/'+str(name)+'_TM3.csv')\n",
    "        except Exception as e:\n",
    "            print(f\"Error processing {name}: {str(e)}\")\n",
    "            DF1=pd.read_csv('./posteriors/'+str(name)+'_TM3.csv')\n",
    "        nn=DF0[DF0['AR']==name].range.values[0]         \n",
    "        datad,times=opencube2(name=str(name),path='../movies')\n",
    "        datad=datad[:,:,0:nn]\n",
    "        mask_cube=np.load('./masks/'+str(name)+'_mask.npy')[:,:,0:nn]\n",
    "        stp=round(nn/DF1.mag.max())\n",
    "        DF1=DF1.assign(mag=lambda x: x.mag*stp)\n",
    "        thr=20\n",
    "        #continue\n",
    "        \n",
    "\n",
    "\n",
    "    \n",
    "\n",
    "    scl=1\n",
    "  \n",
    "    \n",
    " #   nn=DF0[DF0['AR']==name].range.values[0]\n",
    " #   sg0=DF0[DF0['AR']==name].sigma.values[0]\n",
    "    \n",
    "    \n",
    "    data2=datad*mask_cube\n",
    "    sz2,sz1,nMagnetograms = (np.shape(data2))\n",
    "    \n",
    "    print(sz2,sz1,nMagnetograms)\n",
    "    \n",
    "\n",
    "    \n",
    "    \n",
    "   # thr=10\n",
    "    \n",
    "    flux=np.sum(np.abs(data2)*(np.abs(data2)>thr)/2,axis=(0,1))\n",
    "    fluxp=np.sum(np.abs(data2*(data2>thr)),axis=(0,1))\n",
    "    fluxn=np.sum(np.abs(data2*(data2<-thr)),axis=(0,1))\n",
    "    fln=flux/np.max(flux)\n",
    "    \n",
    "    tl=[tilt(data2[:,:,i],thr)[0]*180/np.pi for i in range(nMagnetograms)]\n",
    "    sar=[sizes(data2[:,:,i],thr)[2] for i in range(nMagnetograms)]\n",
    "    xp=[barys(data2[:,:,i],thr)[0] for i in range(nMagnetograms)]\n",
    "    xn=[barys(data2[:,:,i],thr)[2] for i in range(nMagnetograms)]\n",
    "    yp=[barys(data2[:,:,i],thr)[1] for i in range(nMagnetograms)]\n",
    "    yn=[barys(data2[:,:,i],thr)[3] for i in range(nMagnetograms)]\n",
    "    xcen=[barys(np.abs(data2[:,:,i]),thr)[0] for i in range(nMagnetograms)]\n",
    "    ycen=[barys(np.abs(data2[:,:,i]),thr)[1] for i in range(nMagnetograms)]\n",
    "    lead=1\n",
    "    if np.mean(xp) < np.mean(xn):\n",
    "        lead=-1\n",
    "\n",
    "\n",
    " \n",
    "  #  magmax=DF1.mag.max()\n",
    "  #  stp=round(len(flux)/magmax)\n",
    "  #  DF1=DF1.assign(mag=lambda x: x.mag*stp)\n",
    "\n",
    "    DFs.append(DF1.groupby('mag').mean().assign(alphab=tl[::stp],\n",
    "                                              #  Dalpha=lambda x: 180*(x.alpha-x.alpha[int(stp*magmax)])/np.pi,\n",
    "                                              #  Dalphab=tl[::stp]-tl[-1],\n",
    "                                                sar=sar[::stp],\n",
    "                                             #   ratSp=msp[::stp]/sar[::stp],\n",
    "                                              #  ratSn=msn[::stp]/sar[::stp],\n",
    "                                                lead=lead,\n",
    "                                                flux=flux[::stp],fluxp=fluxp[::stp],fluxn=fluxn[::stp],\n",
    "                                                fint=fln[::stp],lat=lat,AR=name,spt=stp))\n",
    "\n",
    "    \n",
    "DF = pd.concat(DFs)\n",
    "\n",
    "\n",
    "DF=DF.assign(flux=lambda x: x.flux*pixarea)\n",
    "DF=DF.assign(fluxp=lambda x: x.fluxp*pixarea)\n",
    "DF=DF.assign(fluxn=lambda x: x.fluxn*pixarea)\n",
    "\n",
    "DF=DF.assign(axf=lambda x: x.axf*pixarea)\n",
    "    \n"
   ]
  },
  {
   "cell_type": "code",
   "execution_count": 62,
   "id": "a17bbb71-658f-4a07-9454-357bbabeed21",
   "metadata": {},
   "outputs": [
    {
     "data": {
      "text/html": [
       "<div>\n",
       "<style scoped>\n",
       "    .dataframe tbody tr th:only-of-type {\n",
       "        vertical-align: middle;\n",
       "    }\n",
       "\n",
       "    .dataframe tbody tr th {\n",
       "        vertical-align: top;\n",
       "    }\n",
       "\n",
       "    .dataframe thead th {\n",
       "        text-align: right;\n",
       "    }\n",
       "</style>\n",
       "<table border=\"1\" class=\"dataframe\">\n",
       "  <thead>\n",
       "    <tr style=\"text-align: right;\">\n",
       "      <th></th>\n",
       "      <th>Unnamed: 0</th>\n",
       "      <th>da</th>\n",
       "      <th>alpha</th>\n",
       "      <th>a</th>\n",
       "      <th>R</th>\n",
       "      <th>N0</th>\n",
       "      <th>axf</th>\n",
       "      <th>xc</th>\n",
       "      <th>yc</th>\n",
       "      <th>alphab</th>\n",
       "      <th>sar</th>\n",
       "      <th>lead</th>\n",
       "      <th>flux</th>\n",
       "      <th>fluxp</th>\n",
       "      <th>fluxn</th>\n",
       "      <th>fint</th>\n",
       "      <th>lat</th>\n",
       "      <th>AR</th>\n",
       "      <th>spt</th>\n",
       "    </tr>\n",
       "    <tr>\n",
       "      <th>mag</th>\n",
       "      <th></th>\n",
       "      <th></th>\n",
       "      <th></th>\n",
       "      <th></th>\n",
       "      <th></th>\n",
       "      <th></th>\n",
       "      <th></th>\n",
       "      <th></th>\n",
       "      <th></th>\n",
       "      <th></th>\n",
       "      <th></th>\n",
       "      <th></th>\n",
       "      <th></th>\n",
       "      <th></th>\n",
       "      <th></th>\n",
       "      <th></th>\n",
       "      <th></th>\n",
       "      <th></th>\n",
       "      <th></th>\n",
       "    </tr>\n",
       "  </thead>\n",
       "  <tbody>\n",
       "    <tr>\n",
       "      <th>0.0</th>\n",
       "      <td>1999.5</td>\n",
       "      <td>0.062364</td>\n",
       "      <td>-0.225316</td>\n",
       "      <td>6.537552</td>\n",
       "      <td>16.688203</td>\n",
       "      <td>0.108973</td>\n",
       "      <td>7.688288e+21</td>\n",
       "      <td>47.208079</td>\n",
       "      <td>36.376521</td>\n",
       "      <td>-23.806271</td>\n",
       "      <td>10.220098</td>\n",
       "      <td>1</td>\n",
       "      <td>1.364118e+21</td>\n",
       "      <td>1.283596e+21</td>\n",
       "      <td>1.444639e+21</td>\n",
       "      <td>0.161636</td>\n",
       "      <td>6</td>\n",
       "      <td>10132</td>\n",
       "      <td>1</td>\n",
       "    </tr>\n",
       "    <tr>\n",
       "      <th>1.0</th>\n",
       "      <td>1999.5</td>\n",
       "      <td>0.086887</td>\n",
       "      <td>-0.204451</td>\n",
       "      <td>6.548038</td>\n",
       "      <td>16.688203</td>\n",
       "      <td>0.108973</td>\n",
       "      <td>7.688288e+21</td>\n",
       "      <td>47.133395</td>\n",
       "      <td>36.253265</td>\n",
       "      <td>-26.198798</td>\n",
       "      <td>10.562185</td>\n",
       "      <td>1</td>\n",
       "      <td>1.598910e+21</td>\n",
       "      <td>1.553186e+21</td>\n",
       "      <td>1.644634e+21</td>\n",
       "      <td>0.189456</td>\n",
       "      <td>6</td>\n",
       "      <td>10132</td>\n",
       "      <td>1</td>\n",
       "    </tr>\n",
       "    <tr>\n",
       "      <th>2.0</th>\n",
       "      <td>1999.5</td>\n",
       "      <td>0.112034</td>\n",
       "      <td>-0.125421</td>\n",
       "      <td>6.283701</td>\n",
       "      <td>16.688203</td>\n",
       "      <td>0.108973</td>\n",
       "      <td>7.688288e+21</td>\n",
       "      <td>46.938465</td>\n",
       "      <td>35.975563</td>\n",
       "      <td>-19.731521</td>\n",
       "      <td>11.810768</td>\n",
       "      <td>1</td>\n",
       "      <td>1.815303e+21</td>\n",
       "      <td>1.892964e+21</td>\n",
       "      <td>1.737642e+21</td>\n",
       "      <td>0.215097</td>\n",
       "      <td>6</td>\n",
       "      <td>10132</td>\n",
       "      <td>1</td>\n",
       "    </tr>\n",
       "    <tr>\n",
       "      <th>3.0</th>\n",
       "      <td>1999.5</td>\n",
       "      <td>0.128991</td>\n",
       "      <td>-0.048787</td>\n",
       "      <td>6.213070</td>\n",
       "      <td>16.688203</td>\n",
       "      <td>0.108973</td>\n",
       "      <td>7.688288e+21</td>\n",
       "      <td>46.862498</td>\n",
       "      <td>35.730582</td>\n",
       "      <td>-13.836382</td>\n",
       "      <td>12.635798</td>\n",
       "      <td>1</td>\n",
       "      <td>2.053647e+21</td>\n",
       "      <td>2.172191e+21</td>\n",
       "      <td>1.935104e+21</td>\n",
       "      <td>0.243339</td>\n",
       "      <td>6</td>\n",
       "      <td>10132</td>\n",
       "      <td>1</td>\n",
       "    </tr>\n",
       "    <tr>\n",
       "      <th>4.0</th>\n",
       "      <td>1999.5</td>\n",
       "      <td>0.140907</td>\n",
       "      <td>0.028720</td>\n",
       "      <td>6.087542</td>\n",
       "      <td>16.688203</td>\n",
       "      <td>0.108973</td>\n",
       "      <td>7.688288e+21</td>\n",
       "      <td>46.751960</td>\n",
       "      <td>35.577666</td>\n",
       "      <td>-8.551407</td>\n",
       "      <td>13.822433</td>\n",
       "      <td>1</td>\n",
       "      <td>2.178194e+21</td>\n",
       "      <td>2.390996e+21</td>\n",
       "      <td>1.965392e+21</td>\n",
       "      <td>0.258096</td>\n",
       "      <td>6</td>\n",
       "      <td>10132</td>\n",
       "      <td>1</td>\n",
       "    </tr>\n",
       "    <tr>\n",
       "      <th>...</th>\n",
       "      <td>...</td>\n",
       "      <td>...</td>\n",
       "      <td>...</td>\n",
       "      <td>...</td>\n",
       "      <td>...</td>\n",
       "      <td>...</td>\n",
       "      <td>...</td>\n",
       "      <td>...</td>\n",
       "      <td>...</td>\n",
       "      <td>...</td>\n",
       "      <td>...</td>\n",
       "      <td>...</td>\n",
       "      <td>...</td>\n",
       "      <td>...</td>\n",
       "      <td>...</td>\n",
       "      <td>...</td>\n",
       "      <td>...</td>\n",
       "      <td>...</td>\n",
       "      <td>...</td>\n",
       "    </tr>\n",
       "    <tr>\n",
       "      <th>51.0</th>\n",
       "      <td>1999.5</td>\n",
       "      <td>0.274667</td>\n",
       "      <td>-0.103037</td>\n",
       "      <td>7.383943</td>\n",
       "      <td>53.570456</td>\n",
       "      <td>0.371392</td>\n",
       "      <td>8.698787e+21</td>\n",
       "      <td>82.554352</td>\n",
       "      <td>30.542268</td>\n",
       "      <td>-5.774191</td>\n",
       "      <td>52.051167</td>\n",
       "      <td>-1</td>\n",
       "      <td>1.360366e+22</td>\n",
       "      <td>1.307898e+22</td>\n",
       "      <td>1.412834e+22</td>\n",
       "      <td>0.883396</td>\n",
       "      <td>-16</td>\n",
       "      <td>9987</td>\n",
       "      <td>3</td>\n",
       "    </tr>\n",
       "    <tr>\n",
       "      <th>54.0</th>\n",
       "      <td>1999.5</td>\n",
       "      <td>0.271274</td>\n",
       "      <td>-0.113010</td>\n",
       "      <td>7.265294</td>\n",
       "      <td>53.570456</td>\n",
       "      <td>0.371392</td>\n",
       "      <td>8.698787e+21</td>\n",
       "      <td>83.820409</td>\n",
       "      <td>30.269756</td>\n",
       "      <td>-6.252999</td>\n",
       "      <td>52.734120</td>\n",
       "      <td>-1</td>\n",
       "      <td>1.392521e+22</td>\n",
       "      <td>1.311649e+22</td>\n",
       "      <td>1.473393e+22</td>\n",
       "      <td>0.904276</td>\n",
       "      <td>-16</td>\n",
       "      <td>9987</td>\n",
       "      <td>3</td>\n",
       "    </tr>\n",
       "    <tr>\n",
       "      <th>57.0</th>\n",
       "      <td>1999.5</td>\n",
       "      <td>0.273150</td>\n",
       "      <td>-0.125062</td>\n",
       "      <td>7.290054</td>\n",
       "      <td>53.570456</td>\n",
       "      <td>0.371392</td>\n",
       "      <td>8.698787e+21</td>\n",
       "      <td>84.640428</td>\n",
       "      <td>30.066114</td>\n",
       "      <td>-6.542930</td>\n",
       "      <td>52.732842</td>\n",
       "      <td>-1</td>\n",
       "      <td>1.411172e+22</td>\n",
       "      <td>1.317843e+22</td>\n",
       "      <td>1.504501e+22</td>\n",
       "      <td>0.916388</td>\n",
       "      <td>-16</td>\n",
       "      <td>9987</td>\n",
       "      <td>3</td>\n",
       "    </tr>\n",
       "    <tr>\n",
       "      <th>60.0</th>\n",
       "      <td>1999.5</td>\n",
       "      <td>0.276488</td>\n",
       "      <td>-0.133729</td>\n",
       "      <td>7.111921</td>\n",
       "      <td>53.570456</td>\n",
       "      <td>0.371392</td>\n",
       "      <td>8.698787e+21</td>\n",
       "      <td>85.276118</td>\n",
       "      <td>29.737847</td>\n",
       "      <td>-6.966293</td>\n",
       "      <td>52.252597</td>\n",
       "      <td>-1</td>\n",
       "      <td>1.461422e+22</td>\n",
       "      <td>1.327371e+22</td>\n",
       "      <td>1.595473e+22</td>\n",
       "      <td>0.949020</td>\n",
       "      <td>-16</td>\n",
       "      <td>9987</td>\n",
       "      <td>3</td>\n",
       "    </tr>\n",
       "    <tr>\n",
       "      <th>63.0</th>\n",
       "      <td>1999.5</td>\n",
       "      <td>0.275052</td>\n",
       "      <td>-0.135395</td>\n",
       "      <td>6.903571</td>\n",
       "      <td>53.570456</td>\n",
       "      <td>0.371392</td>\n",
       "      <td>8.698787e+21</td>\n",
       "      <td>85.710229</td>\n",
       "      <td>29.619871</td>\n",
       "      <td>-7.621635</td>\n",
       "      <td>50.634200</td>\n",
       "      <td>-1</td>\n",
       "      <td>1.539928e+22</td>\n",
       "      <td>1.367369e+22</td>\n",
       "      <td>1.712487e+22</td>\n",
       "      <td>1.000000</td>\n",
       "      <td>-16</td>\n",
       "      <td>9987</td>\n",
       "      <td>3</td>\n",
       "    </tr>\n",
       "  </tbody>\n",
       "</table>\n",
       "<p>3488 rows × 19 columns</p>\n",
       "</div>"
      ],
      "text/plain": [
       "      Unnamed: 0        da     alpha         a          R        N0  \\\n",
       "mag                                                                   \n",
       "0.0       1999.5  0.062364 -0.225316  6.537552  16.688203  0.108973   \n",
       "1.0       1999.5  0.086887 -0.204451  6.548038  16.688203  0.108973   \n",
       "2.0       1999.5  0.112034 -0.125421  6.283701  16.688203  0.108973   \n",
       "3.0       1999.5  0.128991 -0.048787  6.213070  16.688203  0.108973   \n",
       "4.0       1999.5  0.140907  0.028720  6.087542  16.688203  0.108973   \n",
       "...          ...       ...       ...       ...        ...       ...   \n",
       "51.0      1999.5  0.274667 -0.103037  7.383943  53.570456  0.371392   \n",
       "54.0      1999.5  0.271274 -0.113010  7.265294  53.570456  0.371392   \n",
       "57.0      1999.5  0.273150 -0.125062  7.290054  53.570456  0.371392   \n",
       "60.0      1999.5  0.276488 -0.133729  7.111921  53.570456  0.371392   \n",
       "63.0      1999.5  0.275052 -0.135395  6.903571  53.570456  0.371392   \n",
       "\n",
       "               axf         xc         yc     alphab        sar  lead  \\\n",
       "mag                                                                    \n",
       "0.0   7.688288e+21  47.208079  36.376521 -23.806271  10.220098     1   \n",
       "1.0   7.688288e+21  47.133395  36.253265 -26.198798  10.562185     1   \n",
       "2.0   7.688288e+21  46.938465  35.975563 -19.731521  11.810768     1   \n",
       "3.0   7.688288e+21  46.862498  35.730582 -13.836382  12.635798     1   \n",
       "4.0   7.688288e+21  46.751960  35.577666  -8.551407  13.822433     1   \n",
       "...            ...        ...        ...        ...        ...   ...   \n",
       "51.0  8.698787e+21  82.554352  30.542268  -5.774191  52.051167    -1   \n",
       "54.0  8.698787e+21  83.820409  30.269756  -6.252999  52.734120    -1   \n",
       "57.0  8.698787e+21  84.640428  30.066114  -6.542930  52.732842    -1   \n",
       "60.0  8.698787e+21  85.276118  29.737847  -6.966293  52.252597    -1   \n",
       "63.0  8.698787e+21  85.710229  29.619871  -7.621635  50.634200    -1   \n",
       "\n",
       "              flux         fluxp         fluxn      fint  lat     AR  spt  \n",
       "mag                                                                        \n",
       "0.0   1.364118e+21  1.283596e+21  1.444639e+21  0.161636    6  10132    1  \n",
       "1.0   1.598910e+21  1.553186e+21  1.644634e+21  0.189456    6  10132    1  \n",
       "2.0   1.815303e+21  1.892964e+21  1.737642e+21  0.215097    6  10132    1  \n",
       "3.0   2.053647e+21  2.172191e+21  1.935104e+21  0.243339    6  10132    1  \n",
       "4.0   2.178194e+21  2.390996e+21  1.965392e+21  0.258096    6  10132    1  \n",
       "...            ...           ...           ...       ...  ...    ...  ...  \n",
       "51.0  1.360366e+22  1.307898e+22  1.412834e+22  0.883396  -16   9987    3  \n",
       "54.0  1.392521e+22  1.311649e+22  1.473393e+22  0.904276  -16   9987    3  \n",
       "57.0  1.411172e+22  1.317843e+22  1.504501e+22  0.916388  -16   9987    3  \n",
       "60.0  1.461422e+22  1.327371e+22  1.595473e+22  0.949020  -16   9987    3  \n",
       "63.0  1.539928e+22  1.367369e+22  1.712487e+22  1.000000  -16   9987    3  \n",
       "\n",
       "[3488 rows x 19 columns]"
      ]
     },
     "execution_count": 62,
     "metadata": {},
     "output_type": "execute_result"
    }
   ],
   "source": [
    "DF"
   ]
  },
  {
   "cell_type": "code",
   "execution_count": 77,
   "id": "1d55ba43-df2b-4df1-bdb4-b9467b796853",
   "metadata": {
    "scrolled": true,
    "tags": []
   },
   "outputs": [
    {
     "name": "stdout",
     "output_type": "stream",
     "text": [
      "10132----------------------------------\n",
      "AR 10132 not included\n",
      "10323----------------------------------\n",
      "AR 10323 not included\n",
      "10344----------------------------------\n",
      "10381----------------------------------\n",
      "AR 10381 not included\n",
      "10569----------------------------------\n",
      "AR 10569 not included\n",
      "10879----------------------------------\n",
      "AR 10879 not included\n",
      "10900----------------------------------\n",
      "AR 10900 not included\n",
      "10971----------------------------------\n",
      "11024----------------------------------\n",
      "AR 11024 not included\n",
      "8088----------------------------------\n",
      "8122----------------------------------\n",
      "AR 8122 not included\n",
      "8130----------------------------------\n",
      "8164----------------------------------\n",
      "AR 8164 not included\n",
      "8167----------------------------------\n",
      "AR 8167 not included\n",
      "8171----------------------------------\n",
      "AR 8171 not included\n",
      "8214----------------------------------\n",
      "8226----------------------------------\n",
      "AR 8226 not included\n",
      "8476----------------------------------\n",
      "AR 8476 not included\n",
      "8582----------------------------------\n",
      "AR 8582 not included\n",
      "8614----------------------------------\n",
      "8628----------------------------------\n",
      "10043----------------------------------\n",
      "10045----------------------------------\n",
      "AR 10045 not included\n",
      "10050----------------------------------\n",
      "AR 10050 not included\n",
      "10099----------------------------------\n",
      "10103----------------------------------\n",
      "10130----------------------------------\n",
      "10137----------------------------------\n",
      "10144----------------------------------\n",
      "10188----------------------------------\n",
      "10226----------------------------------\n",
      "10311----------------------------------\n",
      "10349----------------------------------\n",
      "10385----------------------------------\n",
      "10391----------------------------------\n",
      "AR 10391 not included\n",
      "10456----------------------------------\n",
      "AR 10456 not included\n",
      "10547----------------------------------\n",
      "AR 10547 not included\n",
      "10747----------------------------------\n",
      "AR 10747 not included\n",
      "10987----------------------------------\n",
      "11007----------------------------------\n",
      "AR 11007 not included\n",
      "7982----------------------------------\n",
      "AR 7982 not included\n",
      "8016----------------------------------\n",
      "8040----------------------------------\n",
      "8052----------------------------------\n",
      "8084----------------------------------\n",
      "8193----------------------------------\n",
      "8205----------------------------------\n",
      "AR 8205 not included\n",
      "8404----------------------------------\n",
      "AR 8404 not included\n",
      "8407----------------------------------\n",
      "8488----------------------------------\n",
      "8524----------------------------------\n",
      "8536----------------------------------\n",
      "8552----------------------------------\n",
      "8589----------------------------------\n",
      "AR 8589 not included\n",
      "8649----------------------------------\n",
      "AR 8649 not included\n",
      "8690----------------------------------\n",
      "8699----------------------------------\n",
      "AR 8699 not included\n",
      "10268----------------------------------\n",
      "AR 10268 not included\n",
      "10274----------------------------------\n",
      "AR 10274 not included\n",
      "8056----------------------------------\n",
      "AR 8056 not included\n",
      "8060----------------------------------\n",
      "AR 8060 not included\n",
      "8722----------------------------------\n",
      "AR 8722 not included\n",
      "8749----------------------------------\n",
      "8757----------------------------------\n",
      "AR 8757 not included\n",
      "8760----------------------------------\n",
      "AR 8760 not included\n",
      "8797----------------------------------\n",
      "AR 8797 not included\n",
      "8828----------------------------------\n",
      "8851----------------------------------\n",
      "8898----------------------------------\n",
      "8900----------------------------------\n",
      "AR 8900 not included\n",
      "8913----------------------------------\n",
      "8924----------------------------------\n",
      "8968----------------------------------\n",
      "8972----------------------------------\n",
      "AR 8972 not included\n",
      "8986----------------------------------\n",
      "AR 8986 not included\n",
      "9032----------------------------------\n",
      "9035----------------------------------\n",
      "9063----------------------------------\n",
      "9069----------------------------------\n",
      "AR 9069 not included\n",
      "9070----------------------------------\n",
      "9103----------------------------------\n",
      "AR 9103 not included\n",
      "9139----------------------------------\n",
      "9140----------------------------------\n",
      "9144----------------------------------\n",
      "AR 9144 not included\n",
      "9154----------------------------------\n",
      "AR 9154 not included\n",
      "9170----------------------------------\n",
      "9192----------------------------------\n",
      "AR 9192 not included\n",
      "9218----------------------------------\n",
      "9267----------------------------------\n",
      "9290----------------------------------\n",
      "9291----------------------------------\n",
      "AR 9291 not included\n",
      "9308----------------------------------\n",
      "9311----------------------------------\n",
      "9368----------------------------------\n",
      "9396----------------------------------\n",
      "AR 9396 not included\n",
      "9399----------------------------------\n",
      "AR 9399 not included\n",
      "9417----------------------------------\n",
      "9432----------------------------------\n",
      "AR 9432 not included\n",
      "9441----------------------------------\n",
      "9455----------------------------------\n",
      "AR 9455 not included\n",
      "9456----------------------------------\n",
      "AR 9456 not included\n",
      "9484----------------------------------\n",
      "AR 9484 not included\n",
      "9511----------------------------------\n",
      "9512----------------------------------\n",
      "9531----------------------------------\n",
      "9548----------------------------------\n",
      "9563----------------------------------\n",
      "9569----------------------------------\n",
      "AR 9569 not included\n",
      "9574----------------------------------\n",
      "AR 9574 not included\n",
      "9660----------------------------------\n",
      "9678----------------------------------\n",
      "9689----------------------------------\n",
      "AR 9689 not included\n",
      "9710----------------------------------\n",
      "9764----------------------------------\n",
      "AR 9764 not included\n",
      "9844----------------------------------\n",
      "AR 9844 not included\n",
      "9845----------------------------------\n",
      "9873----------------------------------\n",
      "9880----------------------------------\n",
      "AR 9880 not included\n",
      "9884----------------------------------\n",
      "9897----------------------------------\n",
      "AR 9897 not included\n",
      "9906----------------------------------\n",
      "9910----------------------------------\n",
      "9912----------------------------------\n",
      "AR 9912 not included\n",
      "9931----------------------------------\n",
      "AR 9931 not included\n",
      "9978----------------------------------\n",
      "9987----------------------------------\n",
      "AR 9987 not included\n",
      "10344----------------------------------\n",
      "nt 0.099744365\n",
      "time b'27-Apr-2003 19:12:00.360'\n",
      "lat 16\n",
      "50 90 92\n"
     ]
    },
    {
     "name": "stderr",
     "output_type": "stream",
     "text": [
      "/home/mpoisson/Work/ARSFIT/stats-tilt/../funciones/func4.py:85: RuntimeWarning: invalid value encountered in scalar divide\n",
      "  xn=np.sum(xv[data<-thr]*data[data<-thr])/np.sum(data[data<-thr])\n",
      "/home/mpoisson/Work/ARSFIT/stats-tilt/../funciones/func4.py:88: RuntimeWarning: invalid value encountered in scalar divide\n",
      "  yn=np.sum(yv[data<-thr]*data[data<-thr])/np.sum(data[data<-thr])\n",
      "/home/mpoisson/Work/ARSFIT/stats-tilt/../funciones/func4.py:85: RuntimeWarning: invalid value encountered in scalar divide\n",
      "  xn=np.sum(xv[data<-thr]*data[data<-thr])/np.sum(data[data<-thr])\n",
      "/home/mpoisson/Work/ARSFIT/stats-tilt/../funciones/func4.py:88: RuntimeWarning: invalid value encountered in scalar divide\n",
      "  yn=np.sum(yv[data<-thr]*data[data<-thr])/np.sum(data[data<-thr])\n"
     ]
    },
    {
     "name": "stdout",
     "output_type": "stream",
     "text": [
      "10971----------------------------------\n",
      "nt 0.2560891\n",
      "time b'29-Sep-2007 14:23:02.000'\n",
      "lat 3\n",
      "46 79 64\n",
      "8088----------------------------------\n",
      "nt 0.8990149\n",
      "time b'25-Sep-1997 17:39:03.330'\n",
      "lat -28\n",
      "57 160 88\n"
     ]
    },
    {
     "name": "stderr",
     "output_type": "stream",
     "text": [
      "/home/mpoisson/Work/ARSFIT/stats-tilt/../funciones/func4.py:85: RuntimeWarning: invalid value encountered in scalar divide\n",
      "  xn=np.sum(xv[data<-thr]*data[data<-thr])/np.sum(data[data<-thr])\n",
      "/home/mpoisson/Work/ARSFIT/stats-tilt/../funciones/func4.py:88: RuntimeWarning: invalid value encountered in scalar divide\n",
      "  yn=np.sum(yv[data<-thr]*data[data<-thr])/np.sum(data[data<-thr])\n",
      "/home/mpoisson/Work/ARSFIT/stats-tilt/../funciones/func4.py:85: RuntimeWarning: invalid value encountered in scalar divide\n",
      "  xn=np.sum(xv[data<-thr]*data[data<-thr])/np.sum(data[data<-thr])\n",
      "/home/mpoisson/Work/ARSFIT/stats-tilt/../funciones/func4.py:88: RuntimeWarning: invalid value encountered in scalar divide\n",
      "  yn=np.sum(yv[data<-thr]*data[data<-thr])/np.sum(data[data<-thr])\n"
     ]
    },
    {
     "name": "stdout",
     "output_type": "stream",
     "text": [
      "8130----------------------------------\n",
      "nt 0.18575855\n",
      "time b'1-Jan-1998 04:51:03.930'\n",
      "lat -29\n",
      "47 70 72\n",
      "8214----------------------------------\n",
      "nt 0.32787043\n",
      "time b'4-May-1998 06:24:04.386'\n",
      "lat 28\n",
      "80 165 108\n"
     ]
    },
    {
     "name": "stderr",
     "output_type": "stream",
     "text": [
      "/home/mpoisson/Work/ARSFIT/stats-tilt/../funciones/func4.py:85: RuntimeWarning: invalid value encountered in scalar divide\n",
      "  xn=np.sum(xv[data<-thr]*data[data<-thr])/np.sum(data[data<-thr])\n",
      "/home/mpoisson/Work/ARSFIT/stats-tilt/../funciones/func4.py:88: RuntimeWarning: invalid value encountered in scalar divide\n",
      "  yn=np.sum(yv[data<-thr]*data[data<-thr])/np.sum(data[data<-thr])\n"
     ]
    },
    {
     "name": "stdout",
     "output_type": "stream",
     "text": [
      "8614----------------------------------\n",
      "nt 0.007328119\n",
      "time b'7-Jul-1999 03:15:02.618'\n",
      "lat 18\n",
      "100 150 61\n"
     ]
    },
    {
     "name": "stderr",
     "output_type": "stream",
     "text": [
      "/home/mpoisson/Work/ARSFIT/stats-tilt/../funciones/func4.py:85: RuntimeWarning: invalid value encountered in scalar divide\n",
      "  xn=np.sum(xv[data<-thr]*data[data<-thr])/np.sum(data[data<-thr])\n",
      "/home/mpoisson/Work/ARSFIT/stats-tilt/../funciones/func4.py:88: RuntimeWarning: invalid value encountered in scalar divide\n",
      "  yn=np.sum(yv[data<-thr]*data[data<-thr])/np.sum(data[data<-thr])\n"
     ]
    },
    {
     "name": "stdout",
     "output_type": "stream",
     "text": [
      "8628----------------------------------\n",
      "nt -0.48652005\n",
      "time b'13-Jul-1999 07:59:02.509'\n",
      "lat 19\n",
      "75 125 90\n"
     ]
    },
    {
     "name": "stderr",
     "output_type": "stream",
     "text": [
      "/home/mpoisson/Work/ARSFIT/stats-tilt/../funciones/func4.py:85: RuntimeWarning: invalid value encountered in scalar divide\n",
      "  xn=np.sum(xv[data<-thr]*data[data<-thr])/np.sum(data[data<-thr])\n",
      "/home/mpoisson/Work/ARSFIT/stats-tilt/../funciones/func4.py:88: RuntimeWarning: invalid value encountered in scalar divide\n",
      "  yn=np.sum(yv[data<-thr]*data[data<-thr])/np.sum(data[data<-thr])\n"
     ]
    },
    {
     "name": "stdout",
     "output_type": "stream",
     "text": [
      "10043----------------------------------\n",
      "nt -0.17969224\n",
      "time b'27-Jul-2002 20:47:00.271'\n",
      "lat 12\n",
      "83 141 102\n"
     ]
    },
    {
     "name": "stderr",
     "output_type": "stream",
     "text": [
      "/home/mpoisson/Work/ARSFIT/stats-tilt/../funciones/func4.py:85: RuntimeWarning: invalid value encountered in scalar divide\n",
      "  xn=np.sum(xv[data<-thr]*data[data<-thr])/np.sum(data[data<-thr])\n",
      "/home/mpoisson/Work/ARSFIT/stats-tilt/../funciones/func4.py:88: RuntimeWarning: invalid value encountered in scalar divide\n",
      "  yn=np.sum(yv[data<-thr]*data[data<-thr])/np.sum(data[data<-thr])\n",
      "/home/mpoisson/Work/ARSFIT/stats-tilt/../funciones/func4.py:85: RuntimeWarning: invalid value encountered in scalar divide\n",
      "  xn=np.sum(xv[data<-thr]*data[data<-thr])/np.sum(data[data<-thr])\n",
      "/home/mpoisson/Work/ARSFIT/stats-tilt/../funciones/func4.py:88: RuntimeWarning: invalid value encountered in scalar divide\n",
      "  yn=np.sum(yv[data<-thr]*data[data<-thr])/np.sum(data[data<-thr])\n"
     ]
    },
    {
     "name": "stdout",
     "output_type": "stream",
     "text": [
      "10099----------------------------------\n",
      "nt 0.4382631\n",
      "time b'3-Sep-2002 16:03:00.877'\n",
      "lat -3\n",
      "59 85 61\n",
      "10103----------------------------------\n",
      "nt 0.23280734\n",
      "time b'9-Sep-2002 09:35:01.026'\n",
      "lat 14\n",
      "100 120 90\n"
     ]
    },
    {
     "name": "stderr",
     "output_type": "stream",
     "text": [
      "/home/mpoisson/Work/ARSFIT/stats-tilt/../funciones/func4.py:85: RuntimeWarning: invalid value encountered in scalar divide\n",
      "  xn=np.sum(xv[data<-thr]*data[data<-thr])/np.sum(data[data<-thr])\n",
      "/home/mpoisson/Work/ARSFIT/stats-tilt/../funciones/func4.py:88: RuntimeWarning: invalid value encountered in scalar divide\n",
      "  yn=np.sum(yv[data<-thr]*data[data<-thr])/np.sum(data[data<-thr])\n"
     ]
    },
    {
     "name": "stdout",
     "output_type": "stream",
     "text": [
      "10130----------------------------------\n",
      "nt -0.32461786\n",
      "time b'26-Sep-2002 19:12:01.398'\n",
      "lat 18\n",
      "75 132 88\n"
     ]
    },
    {
     "name": "stderr",
     "output_type": "stream",
     "text": [
      "/home/mpoisson/Work/ARSFIT/stats-tilt/../funciones/func4.py:85: RuntimeWarning: invalid value encountered in scalar divide\n",
      "  xn=np.sum(xv[data<-thr]*data[data<-thr])/np.sum(data[data<-thr])\n",
      "/home/mpoisson/Work/ARSFIT/stats-tilt/../funciones/func4.py:88: RuntimeWarning: invalid value encountered in scalar divide\n",
      "  yn=np.sum(yv[data<-thr]*data[data<-thr])/np.sum(data[data<-thr])\n"
     ]
    },
    {
     "name": "stdout",
     "output_type": "stream",
     "text": [
      "10137----------------------------------\n",
      "nt -0.58317417\n",
      "time b'3-Oct-2002 09:35:01.511'\n",
      "lat -16\n",
      "80 100 100\n"
     ]
    },
    {
     "name": "stderr",
     "output_type": "stream",
     "text": [
      "/home/mpoisson/Work/ARSFIT/stats-tilt/../funciones/func4.py:85: RuntimeWarning: invalid value encountered in scalar divide\n",
      "  xn=np.sum(xv[data<-thr]*data[data<-thr])/np.sum(data[data<-thr])\n",
      "/home/mpoisson/Work/ARSFIT/stats-tilt/../funciones/func4.py:88: RuntimeWarning: invalid value encountered in scalar divide\n",
      "  yn=np.sum(yv[data<-thr]*data[data<-thr])/np.sum(data[data<-thr])\n",
      "/home/mpoisson/Work/ARSFIT/stats-tilt/../funciones/func4.py:85: RuntimeWarning: invalid value encountered in scalar divide\n",
      "  xn=np.sum(xv[data<-thr]*data[data<-thr])/np.sum(data[data<-thr])\n",
      "/home/mpoisson/Work/ARSFIT/stats-tilt/../funciones/func4.py:88: RuntimeWarning: invalid value encountered in scalar divide\n",
      "  yn=np.sum(yv[data<-thr]*data[data<-thr])/np.sum(data[data<-thr])\n"
     ]
    },
    {
     "name": "stdout",
     "output_type": "stream",
     "text": [
      "10144----------------------------------\n",
      "nt 0.13304873\n",
      "time b'11-Oct-2002 08:03:01.556'\n",
      "lat 12\n",
      "60 100 74\n",
      "10188----------------------------------\n",
      "nt -0.111358725\n",
      "time b'8-Nov-2002 12:47:01.165'\n",
      "lat 11\n",
      "62 80 50\n"
     ]
    },
    {
     "name": "stderr",
     "output_type": "stream",
     "text": [
      "/home/mpoisson/Work/ARSFIT/stats-tilt/../funciones/func4.py:85: RuntimeWarning: invalid value encountered in scalar divide\n",
      "  xn=np.sum(xv[data<-thr]*data[data<-thr])/np.sum(data[data<-thr])\n",
      "/home/mpoisson/Work/ARSFIT/stats-tilt/../funciones/func4.py:88: RuntimeWarning: invalid value encountered in scalar divide\n",
      "  yn=np.sum(yv[data<-thr]*data[data<-thr])/np.sum(data[data<-thr])\n"
     ]
    },
    {
     "name": "stdout",
     "output_type": "stream",
     "text": [
      "10226----------------------------------\n",
      "nt 0.45246956\n",
      "time b'18-Dec-2002 01:39:00.199'\n",
      "lat -28\n",
      "100 170 94\n"
     ]
    },
    {
     "name": "stderr",
     "output_type": "stream",
     "text": [
      "/home/mpoisson/Work/ARSFIT/stats-tilt/../funciones/func4.py:85: RuntimeWarning: invalid value encountered in scalar divide\n",
      "  xn=np.sum(xv[data<-thr]*data[data<-thr])/np.sum(data[data<-thr])\n",
      "/home/mpoisson/Work/ARSFIT/stats-tilt/../funciones/func4.py:88: RuntimeWarning: invalid value encountered in scalar divide\n",
      "  yn=np.sum(yv[data<-thr]*data[data<-thr])/np.sum(data[data<-thr])\n",
      "/home/mpoisson/Work/ARSFIT/stats-tilt/../funciones/func4.py:85: RuntimeWarning: invalid value encountered in scalar divide\n",
      "  xn=np.sum(xv[data<-thr]*data[data<-thr])/np.sum(data[data<-thr])\n",
      "/home/mpoisson/Work/ARSFIT/stats-tilt/../funciones/func4.py:88: RuntimeWarning: invalid value encountered in scalar divide\n",
      "  yn=np.sum(yv[data<-thr]*data[data<-thr])/np.sum(data[data<-thr])\n"
     ]
    },
    {
     "name": "stdout",
     "output_type": "stream",
     "text": [
      "10311----------------------------------\n",
      "nt -0.084757\n",
      "time b'13-Mar-2003 06:27:00.200'\n",
      "lat -16\n",
      "66 121 64\n",
      "10349----------------------------------\n",
      "nt -0.13522457\n",
      "time b'1-May-2003 08:03:00.290'\n",
      "lat -14\n",
      "90 120 105\n"
     ]
    },
    {
     "name": "stderr",
     "output_type": "stream",
     "text": [
      "/home/mpoisson/Work/ARSFIT/stats-tilt/../funciones/func4.py:85: RuntimeWarning: invalid value encountered in scalar divide\n",
      "  xn=np.sum(xv[data<-thr]*data[data<-thr])/np.sum(data[data<-thr])\n",
      "/home/mpoisson/Work/ARSFIT/stats-tilt/../funciones/func4.py:88: RuntimeWarning: invalid value encountered in scalar divide\n",
      "  yn=np.sum(yv[data<-thr]*data[data<-thr])/np.sum(data[data<-thr])\n",
      "/home/mpoisson/Work/ARSFIT/stats-tilt/../funciones/func4.py:85: RuntimeWarning: invalid value encountered in scalar divide\n",
      "  xn=np.sum(xv[data<-thr]*data[data<-thr])/np.sum(data[data<-thr])\n",
      "/home/mpoisson/Work/ARSFIT/stats-tilt/../funciones/func4.py:88: RuntimeWarning: invalid value encountered in scalar divide\n",
      "  yn=np.sum(yv[data<-thr]*data[data<-thr])/np.sum(data[data<-thr])\n"
     ]
    },
    {
     "name": "stdout",
     "output_type": "stream",
     "text": [
      "10385----------------------------------\n",
      "nt 0.26007137\n",
      "time b'18-Jun-2003 06:26:59.310'\n",
      "lat 30\n",
      "50 80 74\n",
      "10987----------------------------------\n",
      "nt 0.051508203\n",
      "time b'27-Mar-2008 09:35:01.850'\n",
      "lat -8\n",
      "70 148 88\n"
     ]
    },
    {
     "name": "stderr",
     "output_type": "stream",
     "text": [
      "/home/mpoisson/Work/ARSFIT/stats-tilt/../funciones/func4.py:85: RuntimeWarning: invalid value encountered in scalar divide\n",
      "  xn=np.sum(xv[data<-thr]*data[data<-thr])/np.sum(data[data<-thr])\n",
      "/home/mpoisson/Work/ARSFIT/stats-tilt/../funciones/func4.py:88: RuntimeWarning: invalid value encountered in scalar divide\n",
      "  yn=np.sum(yv[data<-thr]*data[data<-thr])/np.sum(data[data<-thr])\n",
      "/home/mpoisson/Work/ARSFIT/stats-tilt/../funciones/func4.py:85: RuntimeWarning: invalid value encountered in scalar divide\n",
      "  xn=np.sum(xv[data<-thr]*data[data<-thr])/np.sum(data[data<-thr])\n",
      "/home/mpoisson/Work/ARSFIT/stats-tilt/../funciones/func4.py:88: RuntimeWarning: invalid value encountered in scalar divide\n",
      "  yn=np.sum(yv[data<-thr]*data[data<-thr])/np.sum(data[data<-thr])\n"
     ]
    },
    {
     "name": "stdout",
     "output_type": "stream",
     "text": [
      "8016----------------------------------\n",
      "nt 0.754662\n",
      "time b'4-Feb-1997 17:36:04.320'\n",
      "lat -21\n",
      "46 102 55\n",
      "8040----------------------------------\n",
      "nt -0.57436186\n",
      "time b'20-May-1997 22:28:05.517'\n",
      "lat 3\n",
      "65 170 101\n"
     ]
    },
    {
     "name": "stderr",
     "output_type": "stream",
     "text": [
      "/home/mpoisson/Work/ARSFIT/stats-tilt/../funciones/func4.py:85: RuntimeWarning: invalid value encountered in scalar divide\n",
      "  xn=np.sum(xv[data<-thr]*data[data<-thr])/np.sum(data[data<-thr])\n",
      "/home/mpoisson/Work/ARSFIT/stats-tilt/../funciones/func4.py:88: RuntimeWarning: invalid value encountered in scalar divide\n",
      "  yn=np.sum(yv[data<-thr]*data[data<-thr])/np.sum(data[data<-thr])\n",
      "/home/mpoisson/Work/ARSFIT/stats-tilt/../funciones/func4.py:85: RuntimeWarning: invalid value encountered in scalar divide\n",
      "  xn=np.sum(xv[data<-thr]*data[data<-thr])/np.sum(data[data<-thr])\n",
      "/home/mpoisson/Work/ARSFIT/stats-tilt/../funciones/func4.py:88: RuntimeWarning: invalid value encountered in scalar divide\n",
      "  yn=np.sum(yv[data<-thr]*data[data<-thr])/np.sum(data[data<-thr])\n"
     ]
    },
    {
     "name": "stdout",
     "output_type": "stream",
     "text": [
      "8052----------------------------------\n",
      "nt 0.23809247\n",
      "time b'16-Jun-1997 01:36:05.530'\n",
      "lat 17\n",
      "48 80 80\n",
      "8084----------------------------------\n",
      "nt -0.3017031\n",
      "time b'10-Sep-1997 19:11:03.230'\n",
      "lat 21\n",
      "108 187 101\n"
     ]
    },
    {
     "name": "stderr",
     "output_type": "stream",
     "text": [
      "/home/mpoisson/Work/ARSFIT/stats-tilt/../funciones/func4.py:85: RuntimeWarning: invalid value encountered in scalar divide\n",
      "  xn=np.sum(xv[data<-thr]*data[data<-thr])/np.sum(data[data<-thr])\n",
      "/home/mpoisson/Work/ARSFIT/stats-tilt/../funciones/func4.py:88: RuntimeWarning: invalid value encountered in scalar divide\n",
      "  yn=np.sum(yv[data<-thr]*data[data<-thr])/np.sum(data[data<-thr])\n"
     ]
    },
    {
     "name": "stdout",
     "output_type": "stream",
     "text": [
      "8193----------------------------------\n",
      "nt 0.21090922\n",
      "time b'8-Apr-1998 03:12:03.680'\n",
      "lat -22\n",
      "65 105 100\n"
     ]
    },
    {
     "name": "stderr",
     "output_type": "stream",
     "text": [
      "/home/mpoisson/Work/ARSFIT/stats-tilt/../funciones/func4.py:85: RuntimeWarning: invalid value encountered in scalar divide\n",
      "  xn=np.sum(xv[data<-thr]*data[data<-thr])/np.sum(data[data<-thr])\n",
      "/home/mpoisson/Work/ARSFIT/stats-tilt/../funciones/func4.py:88: RuntimeWarning: invalid value encountered in scalar divide\n",
      "  yn=np.sum(yv[data<-thr]*data[data<-thr])/np.sum(data[data<-thr])\n",
      "/home/mpoisson/Work/ARSFIT/stats-tilt/../funciones/func4.py:85: RuntimeWarning: invalid value encountered in scalar divide\n",
      "  xn=np.sum(xv[data<-thr]*data[data<-thr])/np.sum(data[data<-thr])\n",
      "/home/mpoisson/Work/ARSFIT/stats-tilt/../funciones/func4.py:88: RuntimeWarning: invalid value encountered in scalar divide\n",
      "  yn=np.sum(yv[data<-thr]*data[data<-thr])/np.sum(data[data<-thr])\n"
     ]
    },
    {
     "name": "stdout",
     "output_type": "stream",
     "text": [
      "8407----------------------------------\n",
      "nt -0.49183846\n",
      "time b'9-Dec-1998 08:03:04.265'\n",
      "lat -17\n",
      "46 104 60\n",
      "8488----------------------------------\n",
      "nt 0.33024722\n",
      "time b'17-Mar-1999 17:36:02.395'\n",
      "lat -26\n",
      "82 133 82\n"
     ]
    },
    {
     "name": "stderr",
     "output_type": "stream",
     "text": [
      "/home/mpoisson/Work/ARSFIT/stats-tilt/../funciones/func4.py:85: RuntimeWarning: invalid value encountered in scalar divide\n",
      "  xn=np.sum(xv[data<-thr]*data[data<-thr])/np.sum(data[data<-thr])\n",
      "/home/mpoisson/Work/ARSFIT/stats-tilt/../funciones/func4.py:88: RuntimeWarning: invalid value encountered in scalar divide\n",
      "  yn=np.sum(yv[data<-thr]*data[data<-thr])/np.sum(data[data<-thr])\n"
     ]
    },
    {
     "name": "stdout",
     "output_type": "stream",
     "text": [
      "8524----------------------------------\n",
      "nt 0.5043078\n",
      "time b'28-Apr-1999 20:48:03.429'\n",
      "lat 22\n",
      "40 120 100\n"
     ]
    },
    {
     "name": "stderr",
     "output_type": "stream",
     "text": [
      "/home/mpoisson/Work/ARSFIT/stats-tilt/../funciones/func4.py:85: RuntimeWarning: invalid value encountered in scalar divide\n",
      "  xn=np.sum(xv[data<-thr]*data[data<-thr])/np.sum(data[data<-thr])\n",
      "/home/mpoisson/Work/ARSFIT/stats-tilt/../funciones/func4.py:88: RuntimeWarning: invalid value encountered in scalar divide\n",
      "  yn=np.sum(yv[data<-thr]*data[data<-thr])/np.sum(data[data<-thr])\n"
     ]
    },
    {
     "name": "stdout",
     "output_type": "stream",
     "text": [
      "8536----------------------------------\n",
      "nt 0.31584212\n",
      "time b'10-May-1999 22:24:03.609'\n",
      "lat -24\n",
      "70 80 80\n"
     ]
    },
    {
     "name": "stderr",
     "output_type": "stream",
     "text": [
      "/home/mpoisson/Work/ARSFIT/stats-tilt/../funciones/func4.py:85: RuntimeWarning: invalid value encountered in scalar divide\n",
      "  xn=np.sum(xv[data<-thr]*data[data<-thr])/np.sum(data[data<-thr])\n",
      "/home/mpoisson/Work/ARSFIT/stats-tilt/../funciones/func4.py:88: RuntimeWarning: invalid value encountered in scalar divide\n",
      "  yn=np.sum(yv[data<-thr]*data[data<-thr])/np.sum(data[data<-thr])\n"
     ]
    },
    {
     "name": "stdout",
     "output_type": "stream",
     "text": [
      "8552----------------------------------\n",
      "nt -0.1878991\n",
      "time b'29-May-1999 09:36:03.504'\n",
      "lat 20\n",
      "75 100 80\n"
     ]
    },
    {
     "name": "stderr",
     "output_type": "stream",
     "text": [
      "/home/mpoisson/Work/ARSFIT/stats-tilt/../funciones/func4.py:85: RuntimeWarning: invalid value encountered in scalar divide\n",
      "  xn=np.sum(xv[data<-thr]*data[data<-thr])/np.sum(data[data<-thr])\n",
      "/home/mpoisson/Work/ARSFIT/stats-tilt/../funciones/func4.py:88: RuntimeWarning: invalid value encountered in scalar divide\n",
      "  yn=np.sum(yv[data<-thr]*data[data<-thr])/np.sum(data[data<-thr])\n"
     ]
    },
    {
     "name": "stdout",
     "output_type": "stream",
     "text": [
      "8690----------------------------------\n",
      "nt -0.27577832\n",
      "time b'12-Sep-1999 08:03:02.412'\n",
      "lat 13\n",
      "89 100 121\n"
     ]
    },
    {
     "name": "stderr",
     "output_type": "stream",
     "text": [
      "/home/mpoisson/Work/ARSFIT/stats-tilt/../funciones/func4.py:85: RuntimeWarning: invalid value encountered in scalar divide\n",
      "  xn=np.sum(xv[data<-thr]*data[data<-thr])/np.sum(data[data<-thr])\n",
      "/home/mpoisson/Work/ARSFIT/stats-tilt/../funciones/func4.py:88: RuntimeWarning: invalid value encountered in scalar divide\n",
      "  yn=np.sum(yv[data<-thr]*data[data<-thr])/np.sum(data[data<-thr])\n"
     ]
    },
    {
     "name": "stdout",
     "output_type": "stream",
     "text": [
      "8749----------------------------------\n",
      "nt 0.49803734\n",
      "time b'2-Nov-1999 09:35:03.479'\n",
      "lat -18\n",
      "60 120 99\n"
     ]
    },
    {
     "name": "stderr",
     "output_type": "stream",
     "text": [
      "/home/mpoisson/Work/ARSFIT/stats-tilt/../funciones/func4.py:85: RuntimeWarning: invalid value encountered in scalar divide\n",
      "  xn=np.sum(xv[data<-thr]*data[data<-thr])/np.sum(data[data<-thr])\n",
      "/home/mpoisson/Work/ARSFIT/stats-tilt/../funciones/func4.py:88: RuntimeWarning: invalid value encountered in scalar divide\n",
      "  yn=np.sum(yv[data<-thr]*data[data<-thr])/np.sum(data[data<-thr])\n"
     ]
    },
    {
     "name": "stdout",
     "output_type": "stream",
     "text": [
      "8828----------------------------------\n",
      "nt -0.24449492\n",
      "time b'16-Jan-2000 12:47:02.194'\n",
      "lat -22\n",
      "100 100 71\n"
     ]
    },
    {
     "name": "stderr",
     "output_type": "stream",
     "text": [
      "/home/mpoisson/Work/ARSFIT/stats-tilt/../funciones/func4.py:85: RuntimeWarning: invalid value encountered in scalar divide\n",
      "  xn=np.sum(xv[data<-thr]*data[data<-thr])/np.sum(data[data<-thr])\n",
      "/home/mpoisson/Work/ARSFIT/stats-tilt/../funciones/func4.py:88: RuntimeWarning: invalid value encountered in scalar divide\n",
      "  yn=np.sum(yv[data<-thr]*data[data<-thr])/np.sum(data[data<-thr])\n"
     ]
    },
    {
     "name": "stdout",
     "output_type": "stream",
     "text": [
      "8851----------------------------------\n",
      "nt -0.51298064\n",
      "time b'3-Feb-2000 04:47:02.134'\n",
      "lat 27\n",
      "45 90 105\n"
     ]
    },
    {
     "name": "stderr",
     "output_type": "stream",
     "text": [
      "/home/mpoisson/Work/ARSFIT/stats-tilt/../funciones/func4.py:85: RuntimeWarning: invalid value encountered in scalar divide\n",
      "  xn=np.sum(xv[data<-thr]*data[data<-thr])/np.sum(data[data<-thr])\n",
      "/home/mpoisson/Work/ARSFIT/stats-tilt/../funciones/func4.py:88: RuntimeWarning: invalid value encountered in scalar divide\n",
      "  yn=np.sum(yv[data<-thr]*data[data<-thr])/np.sum(data[data<-thr])\n"
     ]
    },
    {
     "name": "stdout",
     "output_type": "stream",
     "text": [
      "8898----------------------------------\n",
      "nt -0.24635516\n",
      "time b'8-Mar-2000 16:03:02.402'\n",
      "lat -15\n",
      "87 130 99\n"
     ]
    },
    {
     "name": "stderr",
     "output_type": "stream",
     "text": [
      "/home/mpoisson/Work/ARSFIT/stats-tilt/../funciones/func4.py:85: RuntimeWarning: invalid value encountered in scalar divide\n",
      "  xn=np.sum(xv[data<-thr]*data[data<-thr])/np.sum(data[data<-thr])\n",
      "/home/mpoisson/Work/ARSFIT/stats-tilt/../funciones/func4.py:88: RuntimeWarning: invalid value encountered in scalar divide\n",
      "  yn=np.sum(yv[data<-thr]*data[data<-thr])/np.sum(data[data<-thr])\n"
     ]
    },
    {
     "name": "stdout",
     "output_type": "stream",
     "text": [
      "8913----------------------------------\n",
      "nt 0.59115076\n",
      "time b'20-Mar-2000 09:39:02.650'\n",
      "lat -16\n",
      "102 200 100\n"
     ]
    },
    {
     "name": "stderr",
     "output_type": "stream",
     "text": [
      "/home/mpoisson/Work/ARSFIT/stats-tilt/../funciones/func4.py:85: RuntimeWarning: invalid value encountered in scalar divide\n",
      "  xn=np.sum(xv[data<-thr]*data[data<-thr])/np.sum(data[data<-thr])\n",
      "/home/mpoisson/Work/ARSFIT/stats-tilt/../funciones/func4.py:88: RuntimeWarning: invalid value encountered in scalar divide\n",
      "  yn=np.sum(yv[data<-thr]*data[data<-thr])/np.sum(data[data<-thr])\n"
     ]
    },
    {
     "name": "stdout",
     "output_type": "stream",
     "text": [
      "8924----------------------------------\n",
      "nt -0.50496656\n",
      "time b'28-Mar-2000 20:47:02.906'\n",
      "lat 10\n",
      "65 110 88\n"
     ]
    },
    {
     "name": "stderr",
     "output_type": "stream",
     "text": [
      "/home/mpoisson/Work/ARSFIT/stats-tilt/../funciones/func4.py:85: RuntimeWarning: invalid value encountered in scalar divide\n",
      "  xn=np.sum(xv[data<-thr]*data[data<-thr])/np.sum(data[data<-thr])\n",
      "/home/mpoisson/Work/ARSFIT/stats-tilt/../funciones/func4.py:88: RuntimeWarning: invalid value encountered in scalar divide\n",
      "  yn=np.sum(yv[data<-thr]*data[data<-thr])/np.sum(data[data<-thr])\n",
      "/home/mpoisson/Work/ARSFIT/stats-tilt/../funciones/func4.py:85: RuntimeWarning: invalid value encountered in scalar divide\n",
      "  xn=np.sum(xv[data<-thr]*data[data<-thr])/np.sum(data[data<-thr])\n",
      "/home/mpoisson/Work/ARSFIT/stats-tilt/../funciones/func4.py:88: RuntimeWarning: invalid value encountered in scalar divide\n",
      "  yn=np.sum(yv[data<-thr]*data[data<-thr])/np.sum(data[data<-thr])\n"
     ]
    },
    {
     "name": "stdout",
     "output_type": "stream",
     "text": [
      "8968----------------------------------\n",
      "nt -0.39869824\n",
      "time b'21-Apr-2000 23:59:03.481'\n",
      "lat -13\n",
      "55 103 80\n",
      "9032----------------------------------\n",
      "nt -0.29759607\n",
      "time b'9-Jun-2000 00:00:03.051'\n",
      "lat -17\n",
      "65 110 70\n"
     ]
    },
    {
     "name": "stderr",
     "output_type": "stream",
     "text": [
      "/home/mpoisson/Work/ARSFIT/stats-tilt/../funciones/func4.py:85: RuntimeWarning: invalid value encountered in scalar divide\n",
      "  xn=np.sum(xv[data<-thr]*data[data<-thr])/np.sum(data[data<-thr])\n",
      "/home/mpoisson/Work/ARSFIT/stats-tilt/../funciones/func4.py:88: RuntimeWarning: invalid value encountered in scalar divide\n",
      "  yn=np.sum(yv[data<-thr]*data[data<-thr])/np.sum(data[data<-thr])\n",
      "/home/mpoisson/Work/ARSFIT/stats-tilt/../funciones/func4.py:85: RuntimeWarning: invalid value encountered in scalar divide\n",
      "  xn=np.sum(xv[data<-thr]*data[data<-thr])/np.sum(data[data<-thr])\n",
      "/home/mpoisson/Work/ARSFIT/stats-tilt/../funciones/func4.py:88: RuntimeWarning: invalid value encountered in scalar divide\n",
      "  yn=np.sum(yv[data<-thr]*data[data<-thr])/np.sum(data[data<-thr])\n"
     ]
    },
    {
     "name": "stdout",
     "output_type": "stream",
     "text": [
      "9035----------------------------------\n",
      "nt 0.13140693\n",
      "time b'10-Jun-2000 04:48:03.016'\n",
      "lat -17\n",
      "47 114 63\n",
      "9063----------------------------------\n",
      "nt 0.38586\n",
      "time b'30-Jun-2000 06:24:02.555'\n",
      "lat 25\n",
      "75 151 98\n"
     ]
    },
    {
     "name": "stderr",
     "output_type": "stream",
     "text": [
      "/home/mpoisson/Work/ARSFIT/stats-tilt/../funciones/func4.py:85: RuntimeWarning: invalid value encountered in scalar divide\n",
      "  xn=np.sum(xv[data<-thr]*data[data<-thr])/np.sum(data[data<-thr])\n",
      "/home/mpoisson/Work/ARSFIT/stats-tilt/../funciones/func4.py:88: RuntimeWarning: invalid value encountered in scalar divide\n",
      "  yn=np.sum(yv[data<-thr]*data[data<-thr])/np.sum(data[data<-thr])\n"
     ]
    },
    {
     "name": "stdout",
     "output_type": "stream",
     "text": [
      "9070----------------------------------\n",
      "nt -0.43671554\n",
      "time b'7-Jul-2000 22:24:01.418'\n",
      "lat 17\n",
      "100 140 64\n"
     ]
    },
    {
     "name": "stderr",
     "output_type": "stream",
     "text": [
      "/home/mpoisson/Work/ARSFIT/stats-tilt/../funciones/func4.py:85: RuntimeWarning: invalid value encountered in scalar divide\n",
      "  xn=np.sum(xv[data<-thr]*data[data<-thr])/np.sum(data[data<-thr])\n",
      "/home/mpoisson/Work/ARSFIT/stats-tilt/../funciones/func4.py:88: RuntimeWarning: invalid value encountered in scalar divide\n",
      "  yn=np.sum(yv[data<-thr]*data[data<-thr])/np.sum(data[data<-thr])\n"
     ]
    },
    {
     "name": "stdout",
     "output_type": "stream",
     "text": [
      "9139----------------------------------\n",
      "nt 0.0006354236\n",
      "time b'22-Aug-2000 17:35:01.302'\n",
      "lat -11\n",
      "53 135 88\n"
     ]
    },
    {
     "name": "stderr",
     "output_type": "stream",
     "text": [
      "/home/mpoisson/Work/ARSFIT/stats-tilt/../funciones/func4.py:85: RuntimeWarning: invalid value encountered in scalar divide\n",
      "  xn=np.sum(xv[data<-thr]*data[data<-thr])/np.sum(data[data<-thr])\n",
      "/home/mpoisson/Work/ARSFIT/stats-tilt/../funciones/func4.py:88: RuntimeWarning: invalid value encountered in scalar divide\n",
      "  yn=np.sum(yv[data<-thr]*data[data<-thr])/np.sum(data[data<-thr])\n"
     ]
    },
    {
     "name": "stdout",
     "output_type": "stream",
     "text": [
      "9140----------------------------------\n",
      "nt 0.35788396\n",
      "time b'27-Aug-2000 22:23:01.361'\n",
      "lat 9\n",
      "60 100 98\n"
     ]
    },
    {
     "name": "stderr",
     "output_type": "stream",
     "text": [
      "/home/mpoisson/Work/ARSFIT/stats-tilt/../funciones/func4.py:85: RuntimeWarning: invalid value encountered in scalar divide\n",
      "  xn=np.sum(xv[data<-thr]*data[data<-thr])/np.sum(data[data<-thr])\n",
      "/home/mpoisson/Work/ARSFIT/stats-tilt/../funciones/func4.py:88: RuntimeWarning: invalid value encountered in scalar divide\n",
      "  yn=np.sum(yv[data<-thr]*data[data<-thr])/np.sum(data[data<-thr])\n"
     ]
    },
    {
     "name": "stdout",
     "output_type": "stream",
     "text": [
      "9170----------------------------------\n",
      "nt 0.1493193\n",
      "time b'24-Sep-2000 00:00:01.886'\n",
      "lat -7\n",
      "68 100 107\n"
     ]
    },
    {
     "name": "stderr",
     "output_type": "stream",
     "text": [
      "/home/mpoisson/Work/ARSFIT/stats-tilt/../funciones/func4.py:85: RuntimeWarning: invalid value encountered in scalar divide\n",
      "  xn=np.sum(xv[data<-thr]*data[data<-thr])/np.sum(data[data<-thr])\n",
      "/home/mpoisson/Work/ARSFIT/stats-tilt/../funciones/func4.py:88: RuntimeWarning: invalid value encountered in scalar divide\n",
      "  yn=np.sum(yv[data<-thr]*data[data<-thr])/np.sum(data[data<-thr])\n"
     ]
    },
    {
     "name": "stdout",
     "output_type": "stream",
     "text": [
      "9218----------------------------------\n",
      "nt -0.19383158\n",
      "time b'4-Nov-2000 20:48:02.513'\n",
      "lat 19\n",
      "91 130 77\n"
     ]
    },
    {
     "name": "stderr",
     "output_type": "stream",
     "text": [
      "/home/mpoisson/Work/ARSFIT/stats-tilt/../funciones/func4.py:85: RuntimeWarning: invalid value encountered in scalar divide\n",
      "  xn=np.sum(xv[data<-thr]*data[data<-thr])/np.sum(data[data<-thr])\n",
      "/home/mpoisson/Work/ARSFIT/stats-tilt/../funciones/func4.py:88: RuntimeWarning: invalid value encountered in scalar divide\n",
      "  yn=np.sum(yv[data<-thr]*data[data<-thr])/np.sum(data[data<-thr])\n",
      "/home/mpoisson/Work/ARSFIT/stats-tilt/../funciones/func4.py:85: RuntimeWarning: invalid value encountered in scalar divide\n",
      "  xn=np.sum(xv[data<-thr]*data[data<-thr])/np.sum(data[data<-thr])\n",
      "/home/mpoisson/Work/ARSFIT/stats-tilt/../funciones/func4.py:88: RuntimeWarning: invalid value encountered in scalar divide\n",
      "  yn=np.sum(yv[data<-thr]*data[data<-thr])/np.sum(data[data<-thr])\n"
     ]
    },
    {
     "name": "stdout",
     "output_type": "stream",
     "text": [
      "9267----------------------------------\n",
      "nt 0.4771718\n",
      "time b'14-Dec-2000 17:36:01.630'\n",
      "lat 8\n",
      "80 100 70\n",
      "9290----------------------------------\n",
      "nt 0.11672378\n",
      "time b'30-Dec-2000 06:27:01.305'\n",
      "lat 30\n",
      "65 131 86\n"
     ]
    },
    {
     "name": "stderr",
     "output_type": "stream",
     "text": [
      "/home/mpoisson/Work/ARSFIT/stats-tilt/../funciones/func4.py:85: RuntimeWarning: invalid value encountered in scalar divide\n",
      "  xn=np.sum(xv[data<-thr]*data[data<-thr])/np.sum(data[data<-thr])\n",
      "/home/mpoisson/Work/ARSFIT/stats-tilt/../funciones/func4.py:88: RuntimeWarning: invalid value encountered in scalar divide\n",
      "  yn=np.sum(yv[data<-thr]*data[data<-thr])/np.sum(data[data<-thr])\n"
     ]
    },
    {
     "name": "stdout",
     "output_type": "stream",
     "text": [
      "9308----------------------------------\n",
      "nt 0.35572606\n",
      "time b'14-Jan-2001 20:47:01.130'\n",
      "lat 14\n",
      "76 138 61\n"
     ]
    },
    {
     "name": "stderr",
     "output_type": "stream",
     "text": [
      "/home/mpoisson/Work/ARSFIT/stats-tilt/../funciones/func4.py:85: RuntimeWarning: invalid value encountered in scalar divide\n",
      "  xn=np.sum(xv[data<-thr]*data[data<-thr])/np.sum(data[data<-thr])\n",
      "/home/mpoisson/Work/ARSFIT/stats-tilt/../funciones/func4.py:88: RuntimeWarning: invalid value encountered in scalar divide\n",
      "  yn=np.sum(yv[data<-thr]*data[data<-thr])/np.sum(data[data<-thr])\n",
      "/home/mpoisson/Work/ARSFIT/stats-tilt/../funciones/func4.py:85: RuntimeWarning: invalid value encountered in scalar divide\n",
      "  xn=np.sum(xv[data<-thr]*data[data<-thr])/np.sum(data[data<-thr])\n",
      "/home/mpoisson/Work/ARSFIT/stats-tilt/../funciones/func4.py:88: RuntimeWarning: invalid value encountered in scalar divide\n",
      "  yn=np.sum(yv[data<-thr]*data[data<-thr])/np.sum(data[data<-thr])\n"
     ]
    },
    {
     "name": "stdout",
     "output_type": "stream",
     "text": [
      "9311----------------------------------\n",
      "nt -0.36246952\n",
      "time b'19-Jan-2001 16:03:01.129'\n",
      "lat 4\n",
      "56 125 62\n",
      "9368----------------------------------\n",
      "nt -0.048162982\n",
      "time b'6-Mar-2001 11:11:01.522'\n",
      "lat 27\n",
      "80 150 101\n"
     ]
    },
    {
     "name": "stderr",
     "output_type": "stream",
     "text": [
      "/home/mpoisson/Work/ARSFIT/stats-tilt/../funciones/func4.py:85: RuntimeWarning: invalid value encountered in scalar divide\n",
      "  xn=np.sum(xv[data<-thr]*data[data<-thr])/np.sum(data[data<-thr])\n",
      "/home/mpoisson/Work/ARSFIT/stats-tilt/../funciones/func4.py:88: RuntimeWarning: invalid value encountered in scalar divide\n",
      "  yn=np.sum(yv[data<-thr]*data[data<-thr])/np.sum(data[data<-thr])\n"
     ]
    },
    {
     "name": "stdout",
     "output_type": "stream",
     "text": [
      "9417----------------------------------\n",
      "nt 0.55496114\n",
      "time b'8-Apr-2001 00:00:02.382'\n",
      "lat -9\n",
      "70 125 85\n"
     ]
    },
    {
     "name": "stderr",
     "output_type": "stream",
     "text": [
      "/home/mpoisson/Work/ARSFIT/stats-tilt/../funciones/func4.py:85: RuntimeWarning: invalid value encountered in scalar divide\n",
      "  xn=np.sum(xv[data<-thr]*data[data<-thr])/np.sum(data[data<-thr])\n",
      "/home/mpoisson/Work/ARSFIT/stats-tilt/../funciones/func4.py:88: RuntimeWarning: invalid value encountered in scalar divide\n",
      "  yn=np.sum(yv[data<-thr]*data[data<-thr])/np.sum(data[data<-thr])\n"
     ]
    },
    {
     "name": "stdout",
     "output_type": "stream",
     "text": [
      "9441----------------------------------\n",
      "nt 0.32465053\n",
      "time b'30-Apr-2001 17:36:02.585'\n",
      "lat 8\n",
      "100 130 90\n"
     ]
    },
    {
     "name": "stderr",
     "output_type": "stream",
     "text": [
      "/home/mpoisson/Work/ARSFIT/stats-tilt/../funciones/func4.py:85: RuntimeWarning: invalid value encountered in scalar divide\n",
      "  xn=np.sum(xv[data<-thr]*data[data<-thr])/np.sum(data[data<-thr])\n",
      "/home/mpoisson/Work/ARSFIT/stats-tilt/../funciones/func4.py:88: RuntimeWarning: invalid value encountered in scalar divide\n",
      "  yn=np.sum(yv[data<-thr]*data[data<-thr])/np.sum(data[data<-thr])\n",
      "/home/mpoisson/Work/ARSFIT/stats-tilt/../funciones/func4.py:85: RuntimeWarning: invalid value encountered in scalar divide\n",
      "  xn=np.sum(xv[data<-thr]*data[data<-thr])/np.sum(data[data<-thr])\n",
      "/home/mpoisson/Work/ARSFIT/stats-tilt/../funciones/func4.py:88: RuntimeWarning: invalid value encountered in scalar divide\n",
      "  yn=np.sum(yv[data<-thr]*data[data<-thr])/np.sum(data[data<-thr])\n"
     ]
    },
    {
     "name": "stdout",
     "output_type": "stream",
     "text": [
      "9511----------------------------------\n",
      "nt 0.61098146\n",
      "time b'25-Jun-2001 07:59:01.465'\n",
      "lat 10\n",
      "50 100 77\n",
      "9512----------------------------------\n",
      "nt -0.45239586\n",
      "time b'24-Jun-2001 06:23:01.485'\n",
      "lat -23\n",
      "70 125 99\n"
     ]
    },
    {
     "name": "stderr",
     "output_type": "stream",
     "text": [
      "/home/mpoisson/Work/ARSFIT/stats-tilt/../funciones/func4.py:85: RuntimeWarning: invalid value encountered in scalar divide\n",
      "  xn=np.sum(xv[data<-thr]*data[data<-thr])/np.sum(data[data<-thr])\n",
      "/home/mpoisson/Work/ARSFIT/stats-tilt/../funciones/func4.py:88: RuntimeWarning: invalid value encountered in scalar divide\n",
      "  yn=np.sum(yv[data<-thr]*data[data<-thr])/np.sum(data[data<-thr])\n",
      "/home/mpoisson/Work/ARSFIT/stats-tilt/../funciones/func4.py:103: RuntimeWarning: invalid value encountered in scalar divide\n",
      "  xp=np.sum(xv[data>thr]*data[data>thr])/np.sum(data[data>thr])\n",
      "/home/mpoisson/Work/ARSFIT/stats-tilt/../funciones/func4.py:104: RuntimeWarning: invalid value encountered in scalar divide\n",
      "  xn=np.sum(xv[data<-thr]*data[data<-thr])/np.sum(data[data<-thr])\n",
      "/home/mpoisson/Work/ARSFIT/stats-tilt/../funciones/func4.py:106: RuntimeWarning: invalid value encountered in scalar divide\n",
      "  yp=np.sum(yv[data>thr]*data[data>thr])/np.sum(data[data>thr])\n",
      "/home/mpoisson/Work/ARSFIT/stats-tilt/../funciones/func4.py:107: RuntimeWarning: invalid value encountered in scalar divide\n",
      "  yn=np.sum(yv[data<-thr]*data[data<-thr])/np.sum(data[data<-thr])\n",
      "/home/mpoisson/Work/ARSFIT/stats-tilt/../funciones/func4.py:122: RuntimeWarning: invalid value encountered in scalar divide\n",
      "  xp=np.sum(xv[data>thr]*data[data>thr])/np.sum(data[data>thr])\n",
      "/home/mpoisson/Work/ARSFIT/stats-tilt/../funciones/func4.py:123: RuntimeWarning: invalid value encountered in scalar divide\n",
      "  xn=np.sum(xv[data<-thr]*data[data<-thr])/np.sum(data[data<-thr])\n",
      "/home/mpoisson/Work/ARSFIT/stats-tilt/../funciones/func4.py:125: RuntimeWarning: invalid value encountered in scalar divide\n",
      "  yp=np.sum(yv[data>thr]*data[data>thr])/np.sum(data[data>thr])\n",
      "/home/mpoisson/Work/ARSFIT/stats-tilt/../funciones/func4.py:126: RuntimeWarning: invalid value encountered in scalar divide\n",
      "  yn=np.sum(yv[data<-thr]*data[data<-thr])/np.sum(data[data<-thr])\n",
      "/home/mpoisson/Work/ARSFIT/stats-tilt/../funciones/func4.py:128: RuntimeWarning: invalid value encountered in scalar divide\n",
      "  msp=np.sum(np.sqrt((yv[data>thr]-yp)**2+(xv[data>thr]-xp)**2)*data[data>thr])/np.sum(data[data>thr])\n",
      "/home/mpoisson/Work/ARSFIT/stats-tilt/../funciones/func4.py:129: RuntimeWarning: invalid value encountered in scalar divide\n",
      "  msn=np.sum(np.sqrt((yv[data<-thr]-yn)**2+(xv[data<-thr]-xn)**2)*data[data<-thr])/np.sum(data[data<-thr])\n",
      "/home/mpoisson/Work/ARSFIT/stats-tilt/../funciones/func4.py:84: RuntimeWarning: invalid value encountered in scalar divide\n",
      "  xp=np.sum(xv[data>thr]*data[data>thr])/np.sum(data[data>thr])\n",
      "/home/mpoisson/Work/ARSFIT/stats-tilt/../funciones/func4.py:85: RuntimeWarning: invalid value encountered in scalar divide\n",
      "  xn=np.sum(xv[data<-thr]*data[data<-thr])/np.sum(data[data<-thr])\n",
      "/home/mpoisson/Work/ARSFIT/stats-tilt/../funciones/func4.py:87: RuntimeWarning: invalid value encountered in scalar divide\n",
      "  yp=np.sum(yv[data>thr]*data[data>thr])/np.sum(data[data>thr])\n",
      "/home/mpoisson/Work/ARSFIT/stats-tilt/../funciones/func4.py:88: RuntimeWarning: invalid value encountered in scalar divide\n",
      "  yn=np.sum(yv[data<-thr]*data[data<-thr])/np.sum(data[data<-thr])\n"
     ]
    },
    {
     "name": "stdout",
     "output_type": "stream",
     "text": [
      "9531----------------------------------\n",
      "nt -0.28701404\n",
      "time b'10-Jul-2001 11:11:01.287'\n",
      "lat -6\n",
      "61 124 73\n",
      "9548----------------------------------\n",
      "nt 0.05609981\n",
      "time b'22-Jul-2001 20:47:02.274'\n",
      "lat 18\n",
      "50 100 91\n"
     ]
    },
    {
     "name": "stderr",
     "output_type": "stream",
     "text": [
      "/home/mpoisson/Work/ARSFIT/stats-tilt/../funciones/func4.py:85: RuntimeWarning: invalid value encountered in scalar divide\n",
      "  xn=np.sum(xv[data<-thr]*data[data<-thr])/np.sum(data[data<-thr])\n",
      "/home/mpoisson/Work/ARSFIT/stats-tilt/../funciones/func4.py:88: RuntimeWarning: invalid value encountered in scalar divide\n",
      "  yn=np.sum(yv[data<-thr]*data[data<-thr])/np.sum(data[data<-thr])\n"
     ]
    },
    {
     "name": "stdout",
     "output_type": "stream",
     "text": [
      "9563----------------------------------\n",
      "nt -0.626167\n",
      "time b'5-Aug-2001 09:35:01.257'\n",
      "lat 24\n",
      "92 110 112\n"
     ]
    },
    {
     "name": "stderr",
     "output_type": "stream",
     "text": [
      "/home/mpoisson/Work/ARSFIT/stats-tilt/../funciones/func4.py:85: RuntimeWarning: invalid value encountered in scalar divide\n",
      "  xn=np.sum(xv[data<-thr]*data[data<-thr])/np.sum(data[data<-thr])\n",
      "/home/mpoisson/Work/ARSFIT/stats-tilt/../funciones/func4.py:88: RuntimeWarning: invalid value encountered in scalar divide\n",
      "  yn=np.sum(yv[data<-thr]*data[data<-thr])/np.sum(data[data<-thr])\n"
     ]
    },
    {
     "name": "stdout",
     "output_type": "stream",
     "text": [
      "9660----------------------------------\n",
      "nt 0.34266818\n",
      "time b'12-Oct-2001 09:35:02.490'\n",
      "lat 12\n",
      "57 106 93\n"
     ]
    },
    {
     "name": "stderr",
     "output_type": "stream",
     "text": [
      "/home/mpoisson/Work/ARSFIT/stats-tilt/../funciones/func4.py:85: RuntimeWarning: invalid value encountered in scalar divide\n",
      "  xn=np.sum(xv[data<-thr]*data[data<-thr])/np.sum(data[data<-thr])\n",
      "/home/mpoisson/Work/ARSFIT/stats-tilt/../funciones/func4.py:88: RuntimeWarning: invalid value encountered in scalar divide\n",
      "  yn=np.sum(yv[data<-thr]*data[data<-thr])/np.sum(data[data<-thr])\n"
     ]
    },
    {
     "name": "stdout",
     "output_type": "stream",
     "text": [
      "9678----------------------------------\n",
      "nt -0.6585306\n",
      "time b'27-Oct-2001 11:11:02.511'\n",
      "lat 7\n",
      "80 120 96\n"
     ]
    },
    {
     "name": "stderr",
     "output_type": "stream",
     "text": [
      "/home/mpoisson/Work/ARSFIT/stats-tilt/../funciones/func4.py:85: RuntimeWarning: invalid value encountered in scalar divide\n",
      "  xn=np.sum(xv[data<-thr]*data[data<-thr])/np.sum(data[data<-thr])\n",
      "/home/mpoisson/Work/ARSFIT/stats-tilt/../funciones/func4.py:88: RuntimeWarning: invalid value encountered in scalar divide\n",
      "  yn=np.sum(yv[data<-thr]*data[data<-thr])/np.sum(data[data<-thr])\n"
     ]
    },
    {
     "name": "stdout",
     "output_type": "stream",
     "text": [
      "9710----------------------------------\n",
      "nt -0.12656155\n",
      "time b'22-Nov-2001 07:59:02.022'\n",
      "lat -10\n",
      "60 120 83\n"
     ]
    },
    {
     "name": "stderr",
     "output_type": "stream",
     "text": [
      "/home/mpoisson/Work/ARSFIT/stats-tilt/../funciones/func4.py:85: RuntimeWarning: invalid value encountered in scalar divide\n",
      "  xn=np.sum(xv[data<-thr]*data[data<-thr])/np.sum(data[data<-thr])\n",
      "/home/mpoisson/Work/ARSFIT/stats-tilt/../funciones/func4.py:88: RuntimeWarning: invalid value encountered in scalar divide\n",
      "  yn=np.sum(yv[data<-thr]*data[data<-thr])/np.sum(data[data<-thr])\n"
     ]
    },
    {
     "name": "stdout",
     "output_type": "stream",
     "text": [
      "9845----------------------------------\n",
      "nt 0.1654642\n",
      "time b'1-Mar-2002 17:36:00.625'\n",
      "lat 17\n",
      "80 120 105\n"
     ]
    },
    {
     "name": "stderr",
     "output_type": "stream",
     "text": [
      "/home/mpoisson/Work/ARSFIT/stats-tilt/../funciones/func4.py:85: RuntimeWarning: invalid value encountered in scalar divide\n",
      "  xn=np.sum(xv[data<-thr]*data[data<-thr])/np.sum(data[data<-thr])\n",
      "/home/mpoisson/Work/ARSFIT/stats-tilt/../funciones/func4.py:88: RuntimeWarning: invalid value encountered in scalar divide\n",
      "  yn=np.sum(yv[data<-thr]*data[data<-thr])/np.sum(data[data<-thr])\n"
     ]
    },
    {
     "name": "stdout",
     "output_type": "stream",
     "text": [
      "9873----------------------------------\n",
      "nt -0.34983066\n",
      "time b'16-Mar-2002 20:51:01.080'\n",
      "lat -17\n",
      "85 120 80\n"
     ]
    },
    {
     "name": "stderr",
     "output_type": "stream",
     "text": [
      "/home/mpoisson/Work/ARSFIT/stats-tilt/../funciones/func4.py:85: RuntimeWarning: invalid value encountered in scalar divide\n",
      "  xn=np.sum(xv[data<-thr]*data[data<-thr])/np.sum(data[data<-thr])\n",
      "/home/mpoisson/Work/ARSFIT/stats-tilt/../funciones/func4.py:88: RuntimeWarning: invalid value encountered in scalar divide\n",
      "  yn=np.sum(yv[data<-thr]*data[data<-thr])/np.sum(data[data<-thr])\n"
     ]
    },
    {
     "name": "stdout",
     "output_type": "stream",
     "text": [
      "9884----------------------------------\n",
      "nt 0.30859372\n",
      "time b'30-Mar-2002 20:48:01.395'\n",
      "lat -18\n",
      "55 80 104\n"
     ]
    },
    {
     "name": "stderr",
     "output_type": "stream",
     "text": [
      "/home/mpoisson/Work/ARSFIT/stats-tilt/../funciones/func4.py:85: RuntimeWarning: invalid value encountered in scalar divide\n",
      "  xn=np.sum(xv[data<-thr]*data[data<-thr])/np.sum(data[data<-thr])\n",
      "/home/mpoisson/Work/ARSFIT/stats-tilt/../funciones/func4.py:88: RuntimeWarning: invalid value encountered in scalar divide\n",
      "  yn=np.sum(yv[data<-thr]*data[data<-thr])/np.sum(data[data<-thr])\n"
     ]
    },
    {
     "name": "stdout",
     "output_type": "stream",
     "text": [
      "9906----------------------------------\n",
      "nt 0.70626014\n",
      "time b'14-Apr-2002 19:15:01.593'\n",
      "lat -16\n",
      "80 120 102\n"
     ]
    },
    {
     "name": "stderr",
     "output_type": "stream",
     "text": [
      "/home/mpoisson/Work/ARSFIT/stats-tilt/../funciones/func4.py:85: RuntimeWarning: invalid value encountered in scalar divide\n",
      "  xn=np.sum(xv[data<-thr]*data[data<-thr])/np.sum(data[data<-thr])\n",
      "/home/mpoisson/Work/ARSFIT/stats-tilt/../funciones/func4.py:88: RuntimeWarning: invalid value encountered in scalar divide\n",
      "  yn=np.sum(yv[data<-thr]*data[data<-thr])/np.sum(data[data<-thr])\n"
     ]
    },
    {
     "name": "stdout",
     "output_type": "stream",
     "text": [
      "9910----------------------------------\n",
      "nt 0.67646265\n",
      "time b'18-Apr-2002 14:24:01.587'\n",
      "lat -21\n",
      "63 115 97\n"
     ]
    },
    {
     "name": "stderr",
     "output_type": "stream",
     "text": [
      "/home/mpoisson/Work/ARSFIT/stats-tilt/../funciones/func4.py:85: RuntimeWarning: invalid value encountered in scalar divide\n",
      "  xn=np.sum(xv[data<-thr]*data[data<-thr])/np.sum(data[data<-thr])\n",
      "/home/mpoisson/Work/ARSFIT/stats-tilt/../funciones/func4.py:88: RuntimeWarning: invalid value encountered in scalar divide\n",
      "  yn=np.sum(yv[data<-thr]*data[data<-thr])/np.sum(data[data<-thr])\n",
      "/home/mpoisson/Work/ARSFIT/stats-tilt/../funciones/func4.py:85: RuntimeWarning: invalid value encountered in scalar divide\n",
      "  xn=np.sum(xv[data<-thr]*data[data<-thr])/np.sum(data[data<-thr])\n",
      "/home/mpoisson/Work/ARSFIT/stats-tilt/../funciones/func4.py:88: RuntimeWarning: invalid value encountered in scalar divide\n",
      "  yn=np.sum(yv[data<-thr]*data[data<-thr])/np.sum(data[data<-thr])\n"
     ]
    },
    {
     "name": "stdout",
     "output_type": "stream",
     "text": [
      "9978----------------------------------\n",
      "nt -0.27912098\n",
      "time b'5-Jun-2002 12:47:00.652'\n",
      "lat -20\n",
      "60 95 86\n"
     ]
    }
   ],
   "source": [
    "pixsize=1.98*725*1000*100\n",
    "pixarea=pixsize*pixsize\n",
    "DFs=[]\n",
    "\n",
    "ars2=[]\n",
    "for name in ars:\n",
    "    print(str(name)+'----------------------------------')\n",
    "    try:\n",
    "        DF1=pd.read_csv('./masks2/'+str(name)+'_0.csv')\n",
    "        ars2.append(name)\n",
    "        \n",
    "    except:\n",
    "        print(f'AR {name} not included')\n",
    "\n",
    "\n",
    "#for name in [8088]:\n",
    "for name in ars2:\n",
    "    \n",
    "\n",
    "    print(str(name)+'----------------------------------')\n",
    "    lat=searchar(str(name))[1]\n",
    "\n",
    "    DF1=pd.read_csv('./masks2/'+str(name)+'_0.csv')\n",
    "    nn=round(DF1.mag.max())   \n",
    "    datad = np.transpose(np.load(f'../newdat/{name}_cube_data.npy'),axes=(1,2,0))[:,:,0:nn+1]\n",
    "    mask_cube= np.load(f'./masks2/mask_{name}.npy')[:,:,0:nn+1]\n",
    "    stp=round(nn/len(set(DF1.mag)))\n",
    "    thr=0\n",
    "\n",
    "\n",
    "\n",
    "    scl=1\n",
    "\n",
    "\n",
    " #   nn=DF0[DF0['AR']==name].range.values[0]\n",
    " #   sg0=DF0[DF0['AR']==name].sigma.values[0]\n",
    "\n",
    "\n",
    "    data2=datad*mask_cube\n",
    "    sz2,sz1,nMagnetograms = (np.shape(data2))\n",
    "\n",
    "    print(sz2,sz1,nMagnetograms)\n",
    "\n",
    "\n",
    "\n",
    "\n",
    "   # thr=10\n",
    "\n",
    "    flux=np.sum(np.abs(data2)*(np.abs(data2)>thr)/2,axis=(0,1))\n",
    "    fluxp=np.sum(np.abs(data2*(data2>thr)),axis=(0,1))\n",
    "    fluxn=np.sum(np.abs(data2*(data2<-thr)),axis=(0,1))\n",
    "    fln=flux/np.max(flux)\n",
    "\n",
    "    tl=[tilt(data2[:,:,i],thr)[0]*180/np.pi for i in range(nMagnetograms)]\n",
    "    sar=[sizes(data2[:,:,i],thr)[2] for i in range(nMagnetograms)]\n",
    "    xp=[barys(data2[:,:,i],thr)[0] for i in range(nMagnetograms)]\n",
    "    xn=[barys(data2[:,:,i],thr)[2] for i in range(nMagnetograms)]\n",
    "    yp=[barys(data2[:,:,i],thr)[1] for i in range(nMagnetograms)]\n",
    "    yn=[barys(data2[:,:,i],thr)[3] for i in range(nMagnetograms)]\n",
    "    xcen=[barys(np.abs(data2[:,:,i]),thr)[0] for i in range(nMagnetograms)]\n",
    "    ycen=[barys(np.abs(data2[:,:,i]),thr)[1] for i in range(nMagnetograms)]\n",
    "    lead=1\n",
    "    if np.mean(xp) < np.mean(xn):\n",
    "        lead=-1\n",
    "\n",
    "\n",
    "\n",
    "  #  magmax=DF1.mag.max()\n",
    "  #  stp=round(len(flux)/magmax)\n",
    "  #  DF1=DF1.assign(mag=lambda x: x.mag*stp)\n",
    "\n",
    "    DFs.append(DF1.groupby('mag').mean().assign(alphab=tl[::stp],\n",
    "                                              #  Dalpha=lambda x: 180*(x.alpha-x.alpha[int(stp*magmax)])/np.pi,\n",
    "                                              #  Dalphab=tl[::stp]-tl[-1],\n",
    "                                                sar=sar[::stp],\n",
    "                                             #   ratSp=msp[::stp]/sar[::stp],\n",
    "                                              #  ratSn=msn[::stp]/sar[::stp],\n",
    "                                                lead=lead,\n",
    "                                                flux=flux[::stp],fluxp=fluxp[::stp],fluxn=fluxn[::stp],\n",
    "                                                fint=fln[::stp],lat=lat,AR=name,spt=stp))\n",
    "\n",
    "    \n",
    "DF = pd.concat(DFs)\n",
    "\n",
    "\n",
    "DF=DF.assign(flux=lambda x: x.flux*pixarea)\n",
    "DF=DF.assign(fluxp=lambda x: x.fluxp*pixarea)\n",
    "DF=DF.assign(fluxn=lambda x: x.fluxn*pixarea)\n",
    "\n",
    "DF=DF.assign(axf=lambda x: x.axf*pixarea)\n",
    "    \n"
   ]
  },
  {
   "cell_type": "code",
   "execution_count": 74,
   "id": "a02f9218-0164-46cd-8780-8674d97e82f9",
   "metadata": {},
   "outputs": [
    {
     "data": {
      "text/html": [
       "<div>\n",
       "<style scoped>\n",
       "    .dataframe tbody tr th:only-of-type {\n",
       "        vertical-align: middle;\n",
       "    }\n",
       "\n",
       "    .dataframe tbody tr th {\n",
       "        vertical-align: top;\n",
       "    }\n",
       "\n",
       "    .dataframe thead th {\n",
       "        text-align: right;\n",
       "    }\n",
       "</style>\n",
       "<table border=\"1\" class=\"dataframe\">\n",
       "  <thead>\n",
       "    <tr style=\"text-align: right;\">\n",
       "      <th></th>\n",
       "      <th>Unnamed: 0</th>\n",
       "      <th>da</th>\n",
       "      <th>alpha</th>\n",
       "      <th>xc</th>\n",
       "      <th>yc</th>\n",
       "      <th>a</th>\n",
       "      <th>R</th>\n",
       "      <th>N0</th>\n",
       "      <th>axf</th>\n",
       "      <th>AR</th>\n",
       "      <th>lead</th>\n",
       "      <th>sig</th>\n",
       "      <th>alphab</th>\n",
       "      <th>fint</th>\n",
       "      <th>lat</th>\n",
       "      <th>spt</th>\n",
       "    </tr>\n",
       "    <tr>\n",
       "      <th>mag</th>\n",
       "      <th></th>\n",
       "      <th></th>\n",
       "      <th></th>\n",
       "      <th></th>\n",
       "      <th></th>\n",
       "      <th></th>\n",
       "      <th></th>\n",
       "      <th></th>\n",
       "      <th></th>\n",
       "      <th></th>\n",
       "      <th></th>\n",
       "      <th></th>\n",
       "      <th></th>\n",
       "      <th></th>\n",
       "      <th></th>\n",
       "      <th></th>\n",
       "    </tr>\n",
       "  </thead>\n",
       "  <tbody>\n",
       "    <tr>\n",
       "      <th>0.0</th>\n",
       "      <td>0.0</td>\n",
       "      <td>0.000001</td>\n",
       "      <td>-0.039581</td>\n",
       "      <td>50.370967</td>\n",
       "      <td>27.562845</td>\n",
       "      <td>9.305508</td>\n",
       "      <td>20.829082</td>\n",
       "      <td>-0.096971</td>\n",
       "      <td>377567.612039</td>\n",
       "      <td>10344</td>\n",
       "      <td>1</td>\n",
       "      <td>220.124172</td>\n",
       "      <td>-53.467736</td>\n",
       "      <td>0.005393</td>\n",
       "      <td>16</td>\n",
       "      <td>1</td>\n",
       "    </tr>\n",
       "    <tr>\n",
       "      <th>1.0</th>\n",
       "      <td>1.0</td>\n",
       "      <td>0.011112</td>\n",
       "      <td>-0.039731</td>\n",
       "      <td>50.370967</td>\n",
       "      <td>27.562845</td>\n",
       "      <td>9.305508</td>\n",
       "      <td>20.829082</td>\n",
       "      <td>-0.096971</td>\n",
       "      <td>377567.612039</td>\n",
       "      <td>10344</td>\n",
       "      <td>1</td>\n",
       "      <td>220.124172</td>\n",
       "      <td>-21.799579</td>\n",
       "      <td>0.010297</td>\n",
       "      <td>16</td>\n",
       "      <td>1</td>\n",
       "    </tr>\n",
       "    <tr>\n",
       "      <th>2.0</th>\n",
       "      <td>2.0</td>\n",
       "      <td>0.022223</td>\n",
       "      <td>-0.039881</td>\n",
       "      <td>50.370967</td>\n",
       "      <td>27.562845</td>\n",
       "      <td>9.305508</td>\n",
       "      <td>20.829082</td>\n",
       "      <td>-0.096971</td>\n",
       "      <td>377567.612039</td>\n",
       "      <td>10344</td>\n",
       "      <td>1</td>\n",
       "      <td>220.124172</td>\n",
       "      <td>2.352200</td>\n",
       "      <td>0.010341</td>\n",
       "      <td>16</td>\n",
       "      <td>1</td>\n",
       "    </tr>\n",
       "    <tr>\n",
       "      <th>3.0</th>\n",
       "      <td>3.0</td>\n",
       "      <td>0.033334</td>\n",
       "      <td>-0.040030</td>\n",
       "      <td>50.370967</td>\n",
       "      <td>27.562845</td>\n",
       "      <td>9.305508</td>\n",
       "      <td>20.829082</td>\n",
       "      <td>-0.096971</td>\n",
       "      <td>377567.612039</td>\n",
       "      <td>10344</td>\n",
       "      <td>1</td>\n",
       "      <td>220.124172</td>\n",
       "      <td>4.422519</td>\n",
       "      <td>0.011468</td>\n",
       "      <td>16</td>\n",
       "      <td>1</td>\n",
       "    </tr>\n",
       "    <tr>\n",
       "      <th>4.0</th>\n",
       "      <td>4.0</td>\n",
       "      <td>0.044444</td>\n",
       "      <td>-0.040180</td>\n",
       "      <td>50.370967</td>\n",
       "      <td>27.562845</td>\n",
       "      <td>9.305508</td>\n",
       "      <td>20.829082</td>\n",
       "      <td>-0.096971</td>\n",
       "      <td>377567.612039</td>\n",
       "      <td>10344</td>\n",
       "      <td>1</td>\n",
       "      <td>220.124172</td>\n",
       "      <td>39.934481</td>\n",
       "      <td>0.006918</td>\n",
       "      <td>16</td>\n",
       "      <td>1</td>\n",
       "    </tr>\n",
       "    <tr>\n",
       "      <th>...</th>\n",
       "      <td>...</td>\n",
       "      <td>...</td>\n",
       "      <td>...</td>\n",
       "      <td>...</td>\n",
       "      <td>...</td>\n",
       "      <td>...</td>\n",
       "      <td>...</td>\n",
       "      <td>...</td>\n",
       "      <td>...</td>\n",
       "      <td>...</td>\n",
       "      <td>...</td>\n",
       "      <td>...</td>\n",
       "      <td>...</td>\n",
       "      <td>...</td>\n",
       "      <td>...</td>\n",
       "      <td>...</td>\n",
       "    </tr>\n",
       "    <tr>\n",
       "      <th>81.0</th>\n",
       "      <td>81.0</td>\n",
       "      <td>0.998914</td>\n",
       "      <td>-0.766772</td>\n",
       "      <td>55.275531</td>\n",
       "      <td>26.496390</td>\n",
       "      <td>8.227653</td>\n",
       "      <td>21.239194</td>\n",
       "      <td>-0.958391</td>\n",
       "      <td>271689.046097</td>\n",
       "      <td>9978</td>\n",
       "      <td>-1</td>\n",
       "      <td>245.407015</td>\n",
       "      <td>-41.591689</td>\n",
       "      <td>0.729886</td>\n",
       "      <td>-20</td>\n",
       "      <td>1</td>\n",
       "    </tr>\n",
       "    <tr>\n",
       "      <th>82.0</th>\n",
       "      <td>82.0</td>\n",
       "      <td>1.011246</td>\n",
       "      <td>-0.769945</td>\n",
       "      <td>55.275531</td>\n",
       "      <td>26.496390</td>\n",
       "      <td>8.227653</td>\n",
       "      <td>21.239194</td>\n",
       "      <td>-0.958391</td>\n",
       "      <td>271689.046097</td>\n",
       "      <td>9978</td>\n",
       "      <td>-1</td>\n",
       "      <td>245.407015</td>\n",
       "      <td>-41.567232</td>\n",
       "      <td>0.725031</td>\n",
       "      <td>-20</td>\n",
       "      <td>1</td>\n",
       "    </tr>\n",
       "    <tr>\n",
       "      <th>83.0</th>\n",
       "      <td>83.0</td>\n",
       "      <td>1.023578</td>\n",
       "      <td>-0.773119</td>\n",
       "      <td>55.275531</td>\n",
       "      <td>26.496390</td>\n",
       "      <td>8.227653</td>\n",
       "      <td>21.239194</td>\n",
       "      <td>-0.958391</td>\n",
       "      <td>271689.046097</td>\n",
       "      <td>9978</td>\n",
       "      <td>-1</td>\n",
       "      <td>245.407015</td>\n",
       "      <td>-41.552136</td>\n",
       "      <td>0.716301</td>\n",
       "      <td>-20</td>\n",
       "      <td>1</td>\n",
       "    </tr>\n",
       "    <tr>\n",
       "      <th>84.0</th>\n",
       "      <td>84.0</td>\n",
       "      <td>1.035909</td>\n",
       "      <td>-0.776292</td>\n",
       "      <td>55.275531</td>\n",
       "      <td>26.496390</td>\n",
       "      <td>8.227653</td>\n",
       "      <td>21.239194</td>\n",
       "      <td>-0.958391</td>\n",
       "      <td>271689.046097</td>\n",
       "      <td>9978</td>\n",
       "      <td>-1</td>\n",
       "      <td>245.407015</td>\n",
       "      <td>-41.430154</td>\n",
       "      <td>0.703759</td>\n",
       "      <td>-20</td>\n",
       "      <td>1</td>\n",
       "    </tr>\n",
       "    <tr>\n",
       "      <th>85.0</th>\n",
       "      <td>85.0</td>\n",
       "      <td>1.048241</td>\n",
       "      <td>-0.779465</td>\n",
       "      <td>55.275531</td>\n",
       "      <td>26.496390</td>\n",
       "      <td>8.227653</td>\n",
       "      <td>21.239194</td>\n",
       "      <td>-0.958391</td>\n",
       "      <td>271689.046097</td>\n",
       "      <td>9978</td>\n",
       "      <td>-1</td>\n",
       "      <td>245.407015</td>\n",
       "      <td>-41.198973</td>\n",
       "      <td>0.693718</td>\n",
       "      <td>-20</td>\n",
       "      <td>1</td>\n",
       "    </tr>\n",
       "  </tbody>\n",
       "</table>\n",
       "<p>5685 rows × 16 columns</p>\n",
       "</div>"
      ],
      "text/plain": [
       "      Unnamed: 0        da     alpha         xc         yc         a  \\\n",
       "mag                                                                    \n",
       "0.0          0.0  0.000001 -0.039581  50.370967  27.562845  9.305508   \n",
       "1.0          1.0  0.011112 -0.039731  50.370967  27.562845  9.305508   \n",
       "2.0          2.0  0.022223 -0.039881  50.370967  27.562845  9.305508   \n",
       "3.0          3.0  0.033334 -0.040030  50.370967  27.562845  9.305508   \n",
       "4.0          4.0  0.044444 -0.040180  50.370967  27.562845  9.305508   \n",
       "...          ...       ...       ...        ...        ...       ...   \n",
       "81.0        81.0  0.998914 -0.766772  55.275531  26.496390  8.227653   \n",
       "82.0        82.0  1.011246 -0.769945  55.275531  26.496390  8.227653   \n",
       "83.0        83.0  1.023578 -0.773119  55.275531  26.496390  8.227653   \n",
       "84.0        84.0  1.035909 -0.776292  55.275531  26.496390  8.227653   \n",
       "85.0        85.0  1.048241 -0.779465  55.275531  26.496390  8.227653   \n",
       "\n",
       "              R        N0            axf     AR  lead         sig     alphab  \\\n",
       "mag                                                                            \n",
       "0.0   20.829082 -0.096971  377567.612039  10344     1  220.124172 -53.467736   \n",
       "1.0   20.829082 -0.096971  377567.612039  10344     1  220.124172 -21.799579   \n",
       "2.0   20.829082 -0.096971  377567.612039  10344     1  220.124172   2.352200   \n",
       "3.0   20.829082 -0.096971  377567.612039  10344     1  220.124172   4.422519   \n",
       "4.0   20.829082 -0.096971  377567.612039  10344     1  220.124172  39.934481   \n",
       "...         ...       ...            ...    ...   ...         ...        ...   \n",
       "81.0  21.239194 -0.958391  271689.046097   9978    -1  245.407015 -41.591689   \n",
       "82.0  21.239194 -0.958391  271689.046097   9978    -1  245.407015 -41.567232   \n",
       "83.0  21.239194 -0.958391  271689.046097   9978    -1  245.407015 -41.552136   \n",
       "84.0  21.239194 -0.958391  271689.046097   9978    -1  245.407015 -41.430154   \n",
       "85.0  21.239194 -0.958391  271689.046097   9978    -1  245.407015 -41.198973   \n",
       "\n",
       "          fint  lat  spt  \n",
       "mag                       \n",
       "0.0   0.005393   16    1  \n",
       "1.0   0.010297   16    1  \n",
       "2.0   0.010341   16    1  \n",
       "3.0   0.011468   16    1  \n",
       "4.0   0.006918   16    1  \n",
       "...        ...  ...  ...  \n",
       "81.0  0.729886  -20    1  \n",
       "82.0  0.725031  -20    1  \n",
       "83.0  0.716301  -20    1  \n",
       "84.0  0.703759  -20    1  \n",
       "85.0  0.693718  -20    1  \n",
       "\n",
       "[5685 rows x 16 columns]"
      ]
     },
     "execution_count": 74,
     "metadata": {},
     "output_type": "execute_result"
    }
   ],
   "source": [
    "DF"
   ]
  },
  {
   "cell_type": "code",
   "execution_count": 72,
   "id": "97131eb8-509c-4c11-bee0-86c9b945c22c",
   "metadata": {},
   "outputs": [
    {
     "data": {
      "text/plain": [
       "86.99999999999999"
      ]
     },
     "execution_count": 72,
     "metadata": {},
     "output_type": "execute_result"
    }
   ],
   "source": [
    "DF1.mag.max()"
   ]
  },
  {
   "cell_type": "code",
   "execution_count": 120,
   "id": "80d26765-0349-48f3-8e75-58b67783ae7d",
   "metadata": {
    "scrolled": true,
    "tags": []
   },
   "outputs": [
    {
     "data": {
      "text/plain": [
       "'\\n\\npixsize=1.98*725*1000*100\\npixarea=pixsize*pixsize\\nDFs=[]\\n\\nfor name in ars:\\n    \\n\\n    lat=searchar(str(name))[1]\\n    try:\\n        DF1=pd.read_csv(\\'./posteriors2/\\'+str(name)+\\'_TM3.csv\\')\\n    except Exception as e:\\n        print(f\"Error processing {name}: {str(e)}\")\\n        DF1=pd.read_csv(\\'./posteriors/\\'+str(name)+\\'_TM3.csv\\')\\n        continue\\n\\n    print(str(name)+\\'----------------------------------\\')\\n    datad,times=opencube2(name=str(name),path=\\'../movies\\')\\n    scl=1\\n    \\n    \\n #   nn=DF0[DF0[\\'AR\\']==name].range.values[0]\\n #   sg0=DF0[DF0[\\'AR\\']==name].sigma.values[0]\\n    \\n    mask_cube=np.load(\\'./masks/\\'+str(name)+\\'_mask.npy\\')[:,:,0:nn]\\n    mod_cube=np.load(\\'./models/\\'+str(name)+\\'.npy\\')[:,:,0:nn]\\n    data2=datad[:,:,0:nn]*mask_cube\\n    sz2,sz1,nMagnetograms = (np.shape(data2))\\n    \\n    \\n    ep1=np.array([elong(data2[:,:,j],50)[0] for j in range(nMagnetograms)])\\n    en1=np.array([elong(data2[:,:,j],50)[1] for j in range(nMagnetograms)])\\n    \\n    flux=np.sum(np.abs(data2)*(np.abs(data2)>20)/2,axis=(0,1))\\n    fluxp=np.sum(np.abs(data2*(data2>20)),axis=(0,1))\\n    fluxn=np.sum(np.abs(data2*(data2<-20)),axis=(0,1))\\n    \\n    tl=[tilt(data2[:,:,i],20)[0]*180/np.pi for i in range(nMagnetograms)]\\n    fln=flux/np.max(flux)\\n    fln2=flux/np.max(DF1.axf)\\n    msp=[sizes(data2[:,:,i],20)[0] for i in range(nMagnetograms)]\\n    msn=[sizes(data2[:,:,i],20)[1] for i in range(nMagnetograms)]\\n    sar=[sizes(data2[:,:,i],20)[2] for i in range(nMagnetograms)]\\n    xp=[barys(data2[:,:,i],20)[0] for i in range(nMagnetograms)]\\n    xn=[barys(data2[:,:,i],20)[2] for i in range(nMagnetograms)]\\n    yp=[barys(data2[:,:,i],20)[1] for i in range(nMagnetograms)]\\n    yn=[barys(data2[:,:,i],20)[3] for i in range(nMagnetograms)]\\n    xcen=[barys(np.abs(data2[:,:,i]),20)[0] for i in range(nMagnetograms)]\\n    ycen=[barys(np.abs(data2[:,:,i]),20)[1] for i in range(nMagnetograms)]\\n    lead=1\\n    if np.mean(xp) < np.mean(xn):\\n        lead=-1\\n        fsep=[np.sqrt((xcen[i]-xp[i])**2+(ycen[i]-yp[i])**2) for i in range(nMagnetograms)]\\n        lsep=[np.sqrt((xcen[i]-xn[i])**2+(ycen[i]-yn[i])**2) for i in range(nMagnetograms)]\\n        lsize=msn\\n        fsize=msp\\n    if np.mean(xp) > np.mean(xn):\\n        lsep=[np.sqrt((xcen[i]-xp[i])**2+(ycen[i]-yp[i])**2) for i in range(nMagnetograms)]\\n        fsep=[np.sqrt((xcen[i]-xn[i])**2+(ycen[i]-yn[i])**2) for i in range(nMagnetograms)]\\n        lsize=msp\\n        fsize=msn\\n\\n \\n    magmax=DF1.mag.max()\\n    stp=round(len(flux)/magmax)\\n    DF1=DF1.assign(mag=lambda x: x.mag*stp)\\n\\n    DFs.append(DF1.groupby(\\'mag\\').mean().assign(alphab=tl[::stp],\\n                                                Dalpha=lambda x: 180*(x.alpha-x.alpha[int(stp*magmax)])/np.pi,\\n                                                Dalphab=tl[::stp]-tl[-1],\\n                                                MSP=msp[::stp],\\n                                                MSN=msn[::stp],\\n                                                sar=sar[::stp],\\n                                                lsep=lsep[::stp],\\n                                                fsep=fsep[::stp],\\n                                                lsize=lsize[::stp],\\n                                                fsize=fsize[::stp],\\n                                             #   ratSp=msp[::stp]/sar[::stp],\\n                                              #  ratSn=msn[::stp]/sar[::stp],\\n                                                elon = (ep1[::stp]+en1[::stp])/2,\\n                                                lead=lead,\\n                                                flux=flux[::stp],fluxp=fluxp[::stp],fluxn=fluxn[::stp],\\n                                                fint=fln[::stp],lat=lat,AR=name,spt=stp))\\n\\n    \\nDF = pd.concat(DFs)\\nday_names = {\\n    0 : 1,\\n    14:2,\\n    15 : 2,\\n    30 : 3,\\n    44:4,\\n    45 : 4,\\n    60 : 5,    \\n}\\n\\nDF[\\'day\\'] = pd.Series(DF.index.map(day_names), index=DF.index).ffill()\\n\\nDF=DF.assign(flux=lambda x: x.flux*pixarea)\\nDF=DF.assign(fluxp=lambda x: x.fluxp*pixarea)\\nDF=DF.assign(fluxn=lambda x: x.fluxn*pixarea)\\n\\nDF=DF.assign(axf=lambda x: x.axf*pixarea)\\n    \\n'"
      ]
     },
     "execution_count": 120,
     "metadata": {},
     "output_type": "execute_result"
    }
   ],
   "source": [
    "\n",
    "'''\n",
    "\n",
    "pixsize=1.98*725*1000*100\n",
    "pixarea=pixsize*pixsize\n",
    "DFs=[]\n",
    "\n",
    "for name in ars:\n",
    "    \n",
    "\n",
    "    lat=searchar(str(name))[1]\n",
    "    try:\n",
    "        DF1=pd.read_csv('./posteriors2/'+str(name)+'_TM3.csv')\n",
    "    except Exception as e:\n",
    "        print(f\"Error processing {name}: {str(e)}\")\n",
    "        DF1=pd.read_csv('./posteriors/'+str(name)+'_TM3.csv')\n",
    "        continue\n",
    "\n",
    "    print(str(name)+'----------------------------------')\n",
    "    datad,times=opencube2(name=str(name),path='../movies')\n",
    "    scl=1\n",
    "    \n",
    "    \n",
    " #   nn=DF0[DF0['AR']==name].range.values[0]\n",
    " #   sg0=DF0[DF0['AR']==name].sigma.values[0]\n",
    "    \n",
    "    mask_cube=np.load('./masks/'+str(name)+'_mask.npy')[:,:,0:nn]\n",
    "    mod_cube=np.load('./models/'+str(name)+'.npy')[:,:,0:nn]\n",
    "    data2=datad[:,:,0:nn]*mask_cube\n",
    "    sz2,sz1,nMagnetograms = (np.shape(data2))\n",
    "    \n",
    "    \n",
    "    ep1=np.array([elong(data2[:,:,j],50)[0] for j in range(nMagnetograms)])\n",
    "    en1=np.array([elong(data2[:,:,j],50)[1] for j in range(nMagnetograms)])\n",
    "    \n",
    "    flux=np.sum(np.abs(data2)*(np.abs(data2)>20)/2,axis=(0,1))\n",
    "    fluxp=np.sum(np.abs(data2*(data2>20)),axis=(0,1))\n",
    "    fluxn=np.sum(np.abs(data2*(data2<-20)),axis=(0,1))\n",
    "    \n",
    "    tl=[tilt(data2[:,:,i],20)[0]*180/np.pi for i in range(nMagnetograms)]\n",
    "    fln=flux/np.max(flux)\n",
    "    fln2=flux/np.max(DF1.axf)\n",
    "    msp=[sizes(data2[:,:,i],20)[0] for i in range(nMagnetograms)]\n",
    "    msn=[sizes(data2[:,:,i],20)[1] for i in range(nMagnetograms)]\n",
    "    sar=[sizes(data2[:,:,i],20)[2] for i in range(nMagnetograms)]\n",
    "    xp=[barys(data2[:,:,i],20)[0] for i in range(nMagnetograms)]\n",
    "    xn=[barys(data2[:,:,i],20)[2] for i in range(nMagnetograms)]\n",
    "    yp=[barys(data2[:,:,i],20)[1] for i in range(nMagnetograms)]\n",
    "    yn=[barys(data2[:,:,i],20)[3] for i in range(nMagnetograms)]\n",
    "    xcen=[barys(np.abs(data2[:,:,i]),20)[0] for i in range(nMagnetograms)]\n",
    "    ycen=[barys(np.abs(data2[:,:,i]),20)[1] for i in range(nMagnetograms)]\n",
    "    lead=1\n",
    "    if np.mean(xp) < np.mean(xn):\n",
    "        lead=-1\n",
    "        fsep=[np.sqrt((xcen[i]-xp[i])**2+(ycen[i]-yp[i])**2) for i in range(nMagnetograms)]\n",
    "        lsep=[np.sqrt((xcen[i]-xn[i])**2+(ycen[i]-yn[i])**2) for i in range(nMagnetograms)]\n",
    "        lsize=msn\n",
    "        fsize=msp\n",
    "    if np.mean(xp) > np.mean(xn):\n",
    "        lsep=[np.sqrt((xcen[i]-xp[i])**2+(ycen[i]-yp[i])**2) for i in range(nMagnetograms)]\n",
    "        fsep=[np.sqrt((xcen[i]-xn[i])**2+(ycen[i]-yn[i])**2) for i in range(nMagnetograms)]\n",
    "        lsize=msp\n",
    "        fsize=msn\n",
    "\n",
    " \n",
    "    magmax=DF1.mag.max()\n",
    "    stp=round(len(flux)/magmax)\n",
    "    DF1=DF1.assign(mag=lambda x: x.mag*stp)\n",
    "\n",
    "    DFs.append(DF1.groupby('mag').mean().assign(alphab=tl[::stp],\n",
    "                                                Dalpha=lambda x: 180*(x.alpha-x.alpha[int(stp*magmax)])/np.pi,\n",
    "                                                Dalphab=tl[::stp]-tl[-1],\n",
    "                                                MSP=msp[::stp],\n",
    "                                                MSN=msn[::stp],\n",
    "                                                sar=sar[::stp],\n",
    "                                                lsep=lsep[::stp],\n",
    "                                                fsep=fsep[::stp],\n",
    "                                                lsize=lsize[::stp],\n",
    "                                                fsize=fsize[::stp],\n",
    "                                             #   ratSp=msp[::stp]/sar[::stp],\n",
    "                                              #  ratSn=msn[::stp]/sar[::stp],\n",
    "                                                elon = (ep1[::stp]+en1[::stp])/2,\n",
    "                                                lead=lead,\n",
    "                                                flux=flux[::stp],fluxp=fluxp[::stp],fluxn=fluxn[::stp],\n",
    "                                                fint=fln[::stp],lat=lat,AR=name,spt=stp))\n",
    "\n",
    "    \n",
    "DF = pd.concat(DFs)\n",
    "day_names = {\n",
    "    0 : 1,\n",
    "    14:2,\n",
    "    15 : 2,\n",
    "    30 : 3,\n",
    "    44:4,\n",
    "    45 : 4,\n",
    "    60 : 5,    \n",
    "}\n",
    "\n",
    "DF['day'] = pd.Series(DF.index.map(day_names), index=DF.index).ffill()\n",
    "\n",
    "DF=DF.assign(flux=lambda x: x.flux*pixarea)\n",
    "DF=DF.assign(fluxp=lambda x: x.fluxp*pixarea)\n",
    "DF=DF.assign(fluxn=lambda x: x.fluxn*pixarea)\n",
    "\n",
    "DF=DF.assign(axf=lambda x: x.axf*pixarea)\n",
    "    \n",
    "'''"
   ]
  },
  {
   "cell_type": "code",
   "execution_count": 63,
   "id": "9726820d-1e9f-4ef8-a31b-69b3c3306d5c",
   "metadata": {},
   "outputs": [],
   "source": [
    "DF=DF.drop(DF.keys()[0],axis=1)"
   ]
  },
  {
   "cell_type": "code",
   "execution_count": 79,
   "id": "99b309fa-62b4-45c1-b79d-2af89e7f1af1",
   "metadata": {},
   "outputs": [],
   "source": [
    "DF.to_csv('compare-params-TM0.csv')"
   ]
  },
  {
   "cell_type": "code",
   "execution_count": 64,
   "id": "d4725558-0cca-4d28-bf6e-2b54f2268a76",
   "metadata": {},
   "outputs": [],
   "source": [
    "DF.to_csv('compare-params-TM3-C.csv')"
   ]
  },
  {
   "cell_type": "code",
   "execution_count": 65,
   "id": "62f615b6-cd99-4346-bbef-261e20b92d00",
   "metadata": {},
   "outputs": [],
   "source": [
    "DF2=pd.read_csv('compare-params-TM3-C.csv',index_col=0)"
   ]
  },
  {
   "cell_type": "code",
   "execution_count": 66,
   "id": "81eaa036-09df-4c7e-ada2-8c852af312f9",
   "metadata": {},
   "outputs": [
    {
     "data": {
      "text/html": [
       "<div>\n",
       "<style scoped>\n",
       "    .dataframe tbody tr th:only-of-type {\n",
       "        vertical-align: middle;\n",
       "    }\n",
       "\n",
       "    .dataframe tbody tr th {\n",
       "        vertical-align: top;\n",
       "    }\n",
       "\n",
       "    .dataframe thead th {\n",
       "        text-align: right;\n",
       "    }\n",
       "</style>\n",
       "<table border=\"1\" class=\"dataframe\">\n",
       "  <thead>\n",
       "    <tr style=\"text-align: right;\">\n",
       "      <th></th>\n",
       "      <th>da</th>\n",
       "      <th>alpha</th>\n",
       "      <th>a</th>\n",
       "      <th>R</th>\n",
       "      <th>N0</th>\n",
       "      <th>axf</th>\n",
       "      <th>xc</th>\n",
       "      <th>yc</th>\n",
       "      <th>alphab</th>\n",
       "      <th>sar</th>\n",
       "      <th>lead</th>\n",
       "      <th>flux</th>\n",
       "      <th>fluxp</th>\n",
       "      <th>fluxn</th>\n",
       "      <th>fint</th>\n",
       "      <th>lat</th>\n",
       "      <th>AR</th>\n",
       "      <th>spt</th>\n",
       "    </tr>\n",
       "    <tr>\n",
       "      <th>mag</th>\n",
       "      <th></th>\n",
       "      <th></th>\n",
       "      <th></th>\n",
       "      <th></th>\n",
       "      <th></th>\n",
       "      <th></th>\n",
       "      <th></th>\n",
       "      <th></th>\n",
       "      <th></th>\n",
       "      <th></th>\n",
       "      <th></th>\n",
       "      <th></th>\n",
       "      <th></th>\n",
       "      <th></th>\n",
       "      <th></th>\n",
       "      <th></th>\n",
       "      <th></th>\n",
       "      <th></th>\n",
       "    </tr>\n",
       "  </thead>\n",
       "  <tbody>\n",
       "    <tr>\n",
       "      <th>0.0</th>\n",
       "      <td>0.062364</td>\n",
       "      <td>-0.225316</td>\n",
       "      <td>6.537552</td>\n",
       "      <td>16.688203</td>\n",
       "      <td>0.108973</td>\n",
       "      <td>7.688288e+21</td>\n",
       "      <td>47.208079</td>\n",
       "      <td>36.376521</td>\n",
       "      <td>-23.806271</td>\n",
       "      <td>10.220098</td>\n",
       "      <td>1</td>\n",
       "      <td>1.364118e+21</td>\n",
       "      <td>1.283596e+21</td>\n",
       "      <td>1.444639e+21</td>\n",
       "      <td>0.161636</td>\n",
       "      <td>6</td>\n",
       "      <td>10132</td>\n",
       "      <td>1</td>\n",
       "    </tr>\n",
       "    <tr>\n",
       "      <th>1.0</th>\n",
       "      <td>0.086887</td>\n",
       "      <td>-0.204451</td>\n",
       "      <td>6.548038</td>\n",
       "      <td>16.688203</td>\n",
       "      <td>0.108973</td>\n",
       "      <td>7.688288e+21</td>\n",
       "      <td>47.133395</td>\n",
       "      <td>36.253265</td>\n",
       "      <td>-26.198798</td>\n",
       "      <td>10.562185</td>\n",
       "      <td>1</td>\n",
       "      <td>1.598910e+21</td>\n",
       "      <td>1.553186e+21</td>\n",
       "      <td>1.644634e+21</td>\n",
       "      <td>0.189456</td>\n",
       "      <td>6</td>\n",
       "      <td>10132</td>\n",
       "      <td>1</td>\n",
       "    </tr>\n",
       "    <tr>\n",
       "      <th>2.0</th>\n",
       "      <td>0.112034</td>\n",
       "      <td>-0.125421</td>\n",
       "      <td>6.283701</td>\n",
       "      <td>16.688203</td>\n",
       "      <td>0.108973</td>\n",
       "      <td>7.688288e+21</td>\n",
       "      <td>46.938465</td>\n",
       "      <td>35.975563</td>\n",
       "      <td>-19.731521</td>\n",
       "      <td>11.810768</td>\n",
       "      <td>1</td>\n",
       "      <td>1.815303e+21</td>\n",
       "      <td>1.892964e+21</td>\n",
       "      <td>1.737642e+21</td>\n",
       "      <td>0.215097</td>\n",
       "      <td>6</td>\n",
       "      <td>10132</td>\n",
       "      <td>1</td>\n",
       "    </tr>\n",
       "    <tr>\n",
       "      <th>3.0</th>\n",
       "      <td>0.128991</td>\n",
       "      <td>-0.048787</td>\n",
       "      <td>6.213070</td>\n",
       "      <td>16.688203</td>\n",
       "      <td>0.108973</td>\n",
       "      <td>7.688288e+21</td>\n",
       "      <td>46.862498</td>\n",
       "      <td>35.730582</td>\n",
       "      <td>-13.836382</td>\n",
       "      <td>12.635798</td>\n",
       "      <td>1</td>\n",
       "      <td>2.053647e+21</td>\n",
       "      <td>2.172191e+21</td>\n",
       "      <td>1.935104e+21</td>\n",
       "      <td>0.243339</td>\n",
       "      <td>6</td>\n",
       "      <td>10132</td>\n",
       "      <td>1</td>\n",
       "    </tr>\n",
       "    <tr>\n",
       "      <th>4.0</th>\n",
       "      <td>0.140907</td>\n",
       "      <td>0.028720</td>\n",
       "      <td>6.087542</td>\n",
       "      <td>16.688203</td>\n",
       "      <td>0.108973</td>\n",
       "      <td>7.688288e+21</td>\n",
       "      <td>46.751960</td>\n",
       "      <td>35.577666</td>\n",
       "      <td>-8.551407</td>\n",
       "      <td>13.822433</td>\n",
       "      <td>1</td>\n",
       "      <td>2.178194e+21</td>\n",
       "      <td>2.390996e+21</td>\n",
       "      <td>1.965392e+21</td>\n",
       "      <td>0.258096</td>\n",
       "      <td>6</td>\n",
       "      <td>10132</td>\n",
       "      <td>1</td>\n",
       "    </tr>\n",
       "    <tr>\n",
       "      <th>...</th>\n",
       "      <td>...</td>\n",
       "      <td>...</td>\n",
       "      <td>...</td>\n",
       "      <td>...</td>\n",
       "      <td>...</td>\n",
       "      <td>...</td>\n",
       "      <td>...</td>\n",
       "      <td>...</td>\n",
       "      <td>...</td>\n",
       "      <td>...</td>\n",
       "      <td>...</td>\n",
       "      <td>...</td>\n",
       "      <td>...</td>\n",
       "      <td>...</td>\n",
       "      <td>...</td>\n",
       "      <td>...</td>\n",
       "      <td>...</td>\n",
       "      <td>...</td>\n",
       "    </tr>\n",
       "    <tr>\n",
       "      <th>51.0</th>\n",
       "      <td>0.274667</td>\n",
       "      <td>-0.103037</td>\n",
       "      <td>7.383943</td>\n",
       "      <td>53.570456</td>\n",
       "      <td>0.371392</td>\n",
       "      <td>8.698787e+21</td>\n",
       "      <td>82.554352</td>\n",
       "      <td>30.542268</td>\n",
       "      <td>-5.774191</td>\n",
       "      <td>52.051167</td>\n",
       "      <td>-1</td>\n",
       "      <td>1.360366e+22</td>\n",
       "      <td>1.307898e+22</td>\n",
       "      <td>1.412834e+22</td>\n",
       "      <td>0.883396</td>\n",
       "      <td>-16</td>\n",
       "      <td>9987</td>\n",
       "      <td>3</td>\n",
       "    </tr>\n",
       "    <tr>\n",
       "      <th>54.0</th>\n",
       "      <td>0.271274</td>\n",
       "      <td>-0.113010</td>\n",
       "      <td>7.265294</td>\n",
       "      <td>53.570456</td>\n",
       "      <td>0.371392</td>\n",
       "      <td>8.698787e+21</td>\n",
       "      <td>83.820409</td>\n",
       "      <td>30.269756</td>\n",
       "      <td>-6.252999</td>\n",
       "      <td>52.734120</td>\n",
       "      <td>-1</td>\n",
       "      <td>1.392521e+22</td>\n",
       "      <td>1.311649e+22</td>\n",
       "      <td>1.473393e+22</td>\n",
       "      <td>0.904276</td>\n",
       "      <td>-16</td>\n",
       "      <td>9987</td>\n",
       "      <td>3</td>\n",
       "    </tr>\n",
       "    <tr>\n",
       "      <th>57.0</th>\n",
       "      <td>0.273150</td>\n",
       "      <td>-0.125062</td>\n",
       "      <td>7.290054</td>\n",
       "      <td>53.570456</td>\n",
       "      <td>0.371392</td>\n",
       "      <td>8.698787e+21</td>\n",
       "      <td>84.640428</td>\n",
       "      <td>30.066114</td>\n",
       "      <td>-6.542930</td>\n",
       "      <td>52.732842</td>\n",
       "      <td>-1</td>\n",
       "      <td>1.411172e+22</td>\n",
       "      <td>1.317843e+22</td>\n",
       "      <td>1.504501e+22</td>\n",
       "      <td>0.916388</td>\n",
       "      <td>-16</td>\n",
       "      <td>9987</td>\n",
       "      <td>3</td>\n",
       "    </tr>\n",
       "    <tr>\n",
       "      <th>60.0</th>\n",
       "      <td>0.276488</td>\n",
       "      <td>-0.133729</td>\n",
       "      <td>7.111921</td>\n",
       "      <td>53.570456</td>\n",
       "      <td>0.371392</td>\n",
       "      <td>8.698787e+21</td>\n",
       "      <td>85.276118</td>\n",
       "      <td>29.737847</td>\n",
       "      <td>-6.966293</td>\n",
       "      <td>52.252597</td>\n",
       "      <td>-1</td>\n",
       "      <td>1.461422e+22</td>\n",
       "      <td>1.327371e+22</td>\n",
       "      <td>1.595473e+22</td>\n",
       "      <td>0.949020</td>\n",
       "      <td>-16</td>\n",
       "      <td>9987</td>\n",
       "      <td>3</td>\n",
       "    </tr>\n",
       "    <tr>\n",
       "      <th>63.0</th>\n",
       "      <td>0.275052</td>\n",
       "      <td>-0.135395</td>\n",
       "      <td>6.903571</td>\n",
       "      <td>53.570456</td>\n",
       "      <td>0.371392</td>\n",
       "      <td>8.698787e+21</td>\n",
       "      <td>85.710229</td>\n",
       "      <td>29.619871</td>\n",
       "      <td>-7.621635</td>\n",
       "      <td>50.634200</td>\n",
       "      <td>-1</td>\n",
       "      <td>1.539928e+22</td>\n",
       "      <td>1.367369e+22</td>\n",
       "      <td>1.712487e+22</td>\n",
       "      <td>1.000000</td>\n",
       "      <td>-16</td>\n",
       "      <td>9987</td>\n",
       "      <td>3</td>\n",
       "    </tr>\n",
       "  </tbody>\n",
       "</table>\n",
       "<p>3488 rows × 18 columns</p>\n",
       "</div>"
      ],
      "text/plain": [
       "            da     alpha         a          R        N0           axf  \\\n",
       "mag                                                                     \n",
       "0.0   0.062364 -0.225316  6.537552  16.688203  0.108973  7.688288e+21   \n",
       "1.0   0.086887 -0.204451  6.548038  16.688203  0.108973  7.688288e+21   \n",
       "2.0   0.112034 -0.125421  6.283701  16.688203  0.108973  7.688288e+21   \n",
       "3.0   0.128991 -0.048787  6.213070  16.688203  0.108973  7.688288e+21   \n",
       "4.0   0.140907  0.028720  6.087542  16.688203  0.108973  7.688288e+21   \n",
       "...        ...       ...       ...        ...       ...           ...   \n",
       "51.0  0.274667 -0.103037  7.383943  53.570456  0.371392  8.698787e+21   \n",
       "54.0  0.271274 -0.113010  7.265294  53.570456  0.371392  8.698787e+21   \n",
       "57.0  0.273150 -0.125062  7.290054  53.570456  0.371392  8.698787e+21   \n",
       "60.0  0.276488 -0.133729  7.111921  53.570456  0.371392  8.698787e+21   \n",
       "63.0  0.275052 -0.135395  6.903571  53.570456  0.371392  8.698787e+21   \n",
       "\n",
       "             xc         yc     alphab        sar  lead          flux  \\\n",
       "mag                                                                    \n",
       "0.0   47.208079  36.376521 -23.806271  10.220098     1  1.364118e+21   \n",
       "1.0   47.133395  36.253265 -26.198798  10.562185     1  1.598910e+21   \n",
       "2.0   46.938465  35.975563 -19.731521  11.810768     1  1.815303e+21   \n",
       "3.0   46.862498  35.730582 -13.836382  12.635798     1  2.053647e+21   \n",
       "4.0   46.751960  35.577666  -8.551407  13.822433     1  2.178194e+21   \n",
       "...         ...        ...        ...        ...   ...           ...   \n",
       "51.0  82.554352  30.542268  -5.774191  52.051167    -1  1.360366e+22   \n",
       "54.0  83.820409  30.269756  -6.252999  52.734120    -1  1.392521e+22   \n",
       "57.0  84.640428  30.066114  -6.542930  52.732842    -1  1.411172e+22   \n",
       "60.0  85.276118  29.737847  -6.966293  52.252597    -1  1.461422e+22   \n",
       "63.0  85.710229  29.619871  -7.621635  50.634200    -1  1.539928e+22   \n",
       "\n",
       "             fluxp         fluxn      fint  lat     AR  spt  \n",
       "mag                                                          \n",
       "0.0   1.283596e+21  1.444639e+21  0.161636    6  10132    1  \n",
       "1.0   1.553186e+21  1.644634e+21  0.189456    6  10132    1  \n",
       "2.0   1.892964e+21  1.737642e+21  0.215097    6  10132    1  \n",
       "3.0   2.172191e+21  1.935104e+21  0.243339    6  10132    1  \n",
       "4.0   2.390996e+21  1.965392e+21  0.258096    6  10132    1  \n",
       "...            ...           ...       ...  ...    ...  ...  \n",
       "51.0  1.307898e+22  1.412834e+22  0.883396  -16   9987    3  \n",
       "54.0  1.311649e+22  1.473393e+22  0.904276  -16   9987    3  \n",
       "57.0  1.317843e+22  1.504501e+22  0.916388  -16   9987    3  \n",
       "60.0  1.327371e+22  1.595473e+22  0.949020  -16   9987    3  \n",
       "63.0  1.367369e+22  1.712487e+22  1.000000  -16   9987    3  \n",
       "\n",
       "[3488 rows x 18 columns]"
      ]
     },
     "execution_count": 66,
     "metadata": {},
     "output_type": "execute_result"
    }
   ],
   "source": [
    "DF2"
   ]
  },
  {
   "cell_type": "code",
   "execution_count": 78,
   "id": "a501152a-429e-4a7a-8a78-30d76d5d3f61",
   "metadata": {
    "scrolled": true,
    "tags": []
   },
   "outputs": [
    {
     "name": "stdout",
     "output_type": "stream",
     "text": [
      "nt 0.22970201\n",
      "time b'23-Sep-2002 03:11:01.323'\n",
      "lat 6\n",
      "10132----------------------------------\n",
      "133 123 33\n",
      "b'21-Sep-2002 22:23:01.298' b'24-Sep-2002 03:11:01.344'\n",
      "75 84\n",
      "nt 0.27008736\n",
      "time b'29-Mar-2003 20:48:00.534'\n",
      "lat -7\n",
      "10323----------------------------------\n",
      "155 193 68\n",
      "b'27-Mar-2003 14:24:00.501' b'1-Apr-2003 03:12:00.557'\n",
      "96 159\n",
      "nt 0.099744365\n",
      "time b'27-Apr-2003 19:12:00.360'\n",
      "lat 16\n",
      "10344----------------------------------\n",
      "231 171 68\n",
      "b'25-Apr-2003 16:03:00.390' b'30-Apr-2003 04:47:00.310'\n",
      "73 119\n",
      "nt -0.3175573\n",
      "time b'11-Jun-2003 11:10:59.370'\n",
      "lat -18\n",
      "10381----------------------------------\n",
      "145 137 57\n",
      "b'9-Jun-2003 22:22:59.390' b'13-Jun-2003 17:34:59.340'\n",
      "70 88\n",
      "nt -0.100707754\n",
      "time b'7-Mar-2004 09:39:03.290'\n",
      "lat -11\n",
      "10569----------------------------------\n",
      "96 119 68\n",
      "b'4-Mar-2004 19:15:03.230' b'9-Mar-2004 08:03:03.330'\n",
      "71 103\n",
      "nt -0.22048052\n",
      "time b'3-May-2006 14:23:01.490'\n",
      "lat 16\n",
      "10879----------------------------------\n",
      "143 151 65\n",
      "b'1-May-2006 11:11:01.530' b'5-May-2006 19:11:01.450'\n",
      "71 96\n",
      "nt 0.5028164\n",
      "time b'17-Jul-2006 20:48:01.690'\n",
      "lat -5\n",
      "10900----------------------------------\n",
      "163 191 68\n",
      "b'15-Jul-2006 17:36:01.630' b'20-Jul-2006 06:23:01.750'\n",
      "91 141\n",
      "nt 0.2560891\n",
      "time b'29-Sep-2007 14:23:02.000'\n",
      "lat 3\n",
      "10971----------------------------------\n",
      "151 169 56\n",
      "b'28-Sep-2007 00:03:02.040' b'1-Oct-2007 17:36:01.940'\n",
      "57 86\n",
      "nt -0.20700613\n",
      "time b'5-Jul-2009 00:00:02.110'\n",
      "lat -25\n",
      "11024----------------------------------\n",
      "137 157 48\n",
      "b'4-Jul-2009 00:00:02.090' b'7-Jul-2009 04:48:02.170'\n",
      "103 125\n",
      "nt 0.8990149\n",
      "time b'25-Sep-1997 17:39:03.330'\n",
      "lat -28\n",
      "8088----------------------------------\n",
      "149 207 54\n",
      "b'23-Sep-1997 11:15:03.300' b'27-Sep-1997 03:15:03.340'\n",
      "87 170\n",
      "nt 0.39810258\n",
      "time b'11-Dec-1997 11:15:04.383'\n",
      "lat 31\n",
      "8122----------------------------------\n",
      "167 171 39\n",
      "b'11-Dec-1997 00:03:04.391' b'13-Dec-1997 20:48:04.341'\n",
      "84 109\n",
      "nt 0.18575855\n",
      "time b'1-Jan-1998 04:51:03.930'\n",
      "lat -29\n",
      "8130----------------------------------\n",
      "155 199 57\n",
      "b'30-Dec-1997 06:27:03.980' b'3-Jan-1998 03:11:03.870'\n",
      "56 87\n",
      "nt -0.8802456\n",
      "time b'25-Feb-1998 00:00:03.150'\n",
      "lat 17\n",
      "8164----------------------------------\n",
      "143 129 57\n",
      "b'23-Feb-1998 11:12:03.150' b'27-Feb-1998 06:24:03.160'\n",
      "77 101\n",
      "nt 0.20348336\n",
      "time b'26-Feb-1998 06:24:03.160'\n",
      "lat -27\n",
      "8167----------------------------------\n",
      "165 159 45\n",
      "b'24-Feb-1998 11:12:03.150' b'27-Feb-1998 14:24:03.160'\n",
      "69 79\n",
      "nt 0.38754737\n",
      "time b'28-Feb-1998 09:36:03.160'\n",
      "lat -24\n",
      "8171----------------------------------\n",
      "125 147 39\n",
      "b'27-Feb-1998 20:48:03.160' b'2-Mar-1998 11:12:03.160'\n",
      "73 128\n",
      "nt 0.32787043\n",
      "time b'4-May-1998 06:24:04.386'\n",
      "lat 28\n",
      "8214----------------------------------\n",
      "167 235 63\n",
      "b'2-May-1998 08:00:04.349' b'6-May-1998 12:47:44.000'\n",
      "103 209\n",
      "nt -0.43080446\n",
      "time b'23-May-1998 04:47:04.637'\n",
      "lat 17\n",
      "8226----------------------------------\n",
      "135 165 34\n",
      "b'22-May-1998 22:23:04.636' b'25-May-1998 04:51:04.642'\n",
      "79 111\n",
      "nt -0.4316836\n",
      "time b'2-Mar-1999 22:25:02.172'\n",
      "lat 20\n",
      "8476----------------------------------\n",
      "155 187 48\n",
      "b'1-Mar-1999 01:35:02.160' b'4-Mar-1999 06:27:02.183'\n",
      "102 160\n",
      "nt -0.43070436\n",
      "time b'14-Jun-1999 12:48:03.198'\n",
      "lat 26\n",
      "8582----------------------------------\n",
      "149 173 68\n",
      "b'12-Jun-1999 04:48:03.255' b'16-Jun-1999 17:36:03.139'\n",
      "64 114\n",
      "nt 0.007328119\n",
      "time b'7-Jul-1999 03:15:02.618'\n",
      "lat 18\n",
      "8614----------------------------------\n",
      "161 183 65\n",
      "b'4-Jul-1999 17:35:02.663' b'9-Jul-1999 06:23:02.580'\n",
      "80 114\n",
      "nt -0.48652005\n",
      "time b'13-Jul-1999 07:59:02.509'\n",
      "lat 19\n",
      "8628----------------------------------\n",
      "161 205 69\n",
      "b'10-Jul-1999 22:23:02.551' b'15-Jul-1999 12:48:02.470'\n",
      "69 118\n",
      "nt -0.17969224\n",
      "time b'27-Jul-2002 20:47:00.271'\n",
      "lat 12\n",
      "10043----------------------------------\n",
      "123 141 64\n",
      "b'25-Jul-2002 20:47:00.261' b'30-Jul-2002 03:10:43.000'\n",
      "96 124\n",
      "nt 0.20720176\n",
      "time b'25-Jul-2002 23:59:00.262'\n",
      "lat 4\n",
      "10045----------------------------------\n",
      "111 137 60\n",
      "b'24-Jul-2002 09:35:00.257' b'28-Jul-2002 09:35:00.274'\n",
      "84 96\n",
      "nt -0.33323297\n",
      "time b'29-Jul-2002 12:47:00.281'\n",
      "lat -7\n"
     ]
    },
    {
     "name": "stderr",
     "output_type": "stream",
     "text": [
      "/home/mpoisson/anaconda3/envs/pymc4/lib/python3.11/site-packages/pandas/core/arraylike.py:402: RuntimeWarning: invalid value encountered in sqrt\n",
      "  result = getattr(ufunc, method)(*inputs, **kwargs)\n",
      "/home/mpoisson/anaconda3/envs/pymc4/lib/python3.11/site-packages/pandas/core/arraylike.py:402: RuntimeWarning: invalid value encountered in sqrt\n",
      "  result = getattr(ufunc, method)(*inputs, **kwargs)\n",
      "/home/mpoisson/anaconda3/envs/pymc4/lib/python3.11/site-packages/pandas/core/arraylike.py:402: RuntimeWarning: invalid value encountered in sqrt\n",
      "  result = getattr(ufunc, method)(*inputs, **kwargs)\n",
      "/home/mpoisson/anaconda3/envs/pymc4/lib/python3.11/site-packages/pandas/core/arraylike.py:402: RuntimeWarning: invalid value encountered in sqrt\n",
      "  result = getattr(ufunc, method)(*inputs, **kwargs)\n"
     ]
    },
    {
     "name": "stdout",
     "output_type": "stream",
     "text": [
      "10050----------------------------------\n",
      "147 151 68\n",
      "b'27-Jul-2002 04:47:00.267' b'31-Jul-2002 17:35:00.299'\n",
      "78 142\n",
      "nt 0.4382631\n",
      "time b'3-Sep-2002 16:03:00.877'\n",
      "lat -3\n",
      "10099----------------------------------\n",
      "127 155 54\n",
      "b'1-Sep-2002 14:23:00.819' b'5-Sep-2002 06:24:00.921'\n",
      "79 119\n",
      "nt 0.23280734\n",
      "time b'9-Sep-2002 09:35:01.026'\n",
      "lat 14\n",
      "10103----------------------------------\n",
      "137 167 68\n",
      "b'7-Sep-2002 03:11:00.970' b'11-Sep-2002 16:00:28.000'\n",
      "114 165\n",
      "nt -0.32461786\n",
      "time b'26-Sep-2002 19:12:01.398'\n",
      "lat 18\n",
      "10130----------------------------------\n",
      "159 213 58\n",
      "b'24-Sep-2002 22:23:01.361' b'28-Sep-2002 20:48:01.438'\n",
      "67 104\n",
      "nt -0.58317417\n",
      "time b'3-Oct-2002 09:35:01.511'\n",
      "lat -16\n",
      "10137----------------------------------\n",
      "161 207 66\n",
      "b'1-Oct-2002 06:24:01.480' b'5-Oct-2002 19:11:01.537'\n",
      "99 170\n",
      "nt 0.13304873\n",
      "time b'11-Oct-2002 08:03:01.556'\n",
      "lat 12\n",
      "10144----------------------------------\n",
      "177 173 68\n",
      "b'8-Oct-2002 22:24:01.555' b'13-Oct-2002 12:47:01.550'\n",
      "74 101\n",
      "nt -0.111358725\n",
      "time b'8-Nov-2002 12:47:01.165'\n",
      "lat 11\n",
      "10188----------------------------------\n",
      "149 139 61\n",
      "b'6-Nov-2002 15:59:01.216' b'10-Nov-2002 17:35:01.099'\n",
      "72 89\n"
     ]
    },
    {
     "name": "stderr",
     "output_type": "stream",
     "text": [
      "/home/mpoisson/anaconda3/envs/pymc4/lib/python3.11/site-packages/pandas/core/arraylike.py:402: RuntimeWarning: invalid value encountered in sqrt\n",
      "  result = getattr(ufunc, method)(*inputs, **kwargs)\n",
      "/home/mpoisson/anaconda3/envs/pymc4/lib/python3.11/site-packages/pandas/core/arraylike.py:402: RuntimeWarning: invalid value encountered in sqrt\n",
      "  result = getattr(ufunc, method)(*inputs, **kwargs)\n",
      "/home/mpoisson/anaconda3/envs/pymc4/lib/python3.11/site-packages/pandas/core/arraylike.py:402: RuntimeWarning: invalid value encountered in sqrt\n",
      "  result = getattr(ufunc, method)(*inputs, **kwargs)\n",
      "/home/mpoisson/anaconda3/envs/pymc4/lib/python3.11/site-packages/pandas/core/arraylike.py:402: RuntimeWarning: invalid value encountered in sqrt\n",
      "  result = getattr(ufunc, method)(*inputs, **kwargs)\n"
     ]
    },
    {
     "name": "stdout",
     "output_type": "stream",
     "text": [
      "nt 0.45246956\n",
      "time b'18-Dec-2002 01:39:00.199'\n",
      "lat -28\n",
      "10226----------------------------------\n",
      "191 229 68\n",
      "b'15-Dec-2002 11:12:00.237' b'20-Dec-2002 01:35:43.000'\n",
      "123 195\n",
      "nt -0.084757\n",
      "time b'13-Mar-2003 06:27:00.200'\n",
      "lat -16\n",
      "10311----------------------------------\n",
      "147 133 67\n",
      "b'11-Mar-2003 03:15:00.150' b'15-Mar-2003 15:59:00.250'\n",
      "77 94\n",
      "nt -0.13522457\n",
      "time b'1-May-2003 08:03:00.290'\n",
      "lat -14\n",
      "10349----------------------------------\n",
      "187 185 56\n",
      "b'29-Apr-2003 04:47:00.330' b'2-May-2003 22:23:00.250'\n",
      "106 150\n",
      "nt 0.26007137\n",
      "time b'18-Jun-2003 06:26:59.310'\n",
      "lat 30\n",
      "10385----------------------------------\n",
      "141 177 60\n",
      "b'15-Jun-2003 22:23:59.320' b'20-Jun-2003 03:10:59.300'\n",
      "62 98\n",
      "nt -0.342548\n",
      "time b'24-Jun-2003 03:10:59.293'\n",
      "lat 15\n",
      "10391----------------------------------\n",
      "175 229 52\n",
      "b'22-Jun-2003 23:59:59.294' b'26-Jun-2003 12:48:28.000'\n",
      "54 103\n",
      "nt 0.25810575\n",
      "time b'9-Sep-2003 16:03:03.251'\n",
      "lat -9\n",
      "10456----------------------------------\n",
      "147 181 56\n",
      "b'7-Sep-2003 23:59:03.215' b'11-Sep-2003 19:12:03.298'\n",
      "64 103\n",
      "nt -0.4519321\n",
      "time b'1-Feb-2004 04:47:02.370'\n",
      "lat -9\n",
      "10547----------------------------------\n",
      "117 125 67\n",
      "b'29-Jan-2004 14:23:02.328' b'3-Feb-2004 03:11:02.406'\n",
      "76 114\n",
      "nt -0.10116805\n",
      "time b'2-Apr-2005 15:59:03.420'\n",
      "lat -7\n",
      "10747----------------------------------\n",
      "135 129 60\n",
      "b'31-Mar-2005 17:35:03.440' b'4-Apr-2005 17:39:03.390'\n",
      "88 115\n",
      "nt 0.051508203\n",
      "time b'27-Mar-2008 09:35:01.850'\n",
      "lat -8\n",
      "10987----------------------------------\n",
      "183 191 68\n",
      "b'25-Mar-2008 06:24:01.900' b'29-Mar-2008 19:11:01.790'\n",
      "72 130\n",
      "nt -0.3601465\n",
      "time b'1-Nov-2008 06:27:01.190'\n",
      "lat 35\n",
      "11007----------------------------------\n",
      "89 171 60\n",
      "b'30-Oct-2008 14:27:01.200' b'3-Nov-2008 14:24:01.170'\n",
      "49 120\n"
     ]
    },
    {
     "name": "stderr",
     "output_type": "stream",
     "text": [
      "/home/mpoisson/anaconda3/envs/pymc4/lib/python3.11/site-packages/pandas/core/arraylike.py:402: RuntimeWarning: invalid value encountered in sqrt\n",
      "  result = getattr(ufunc, method)(*inputs, **kwargs)\n",
      "/home/mpoisson/anaconda3/envs/pymc4/lib/python3.11/site-packages/pandas/core/arraylike.py:402: RuntimeWarning: invalid value encountered in sqrt\n",
      "  result = getattr(ufunc, method)(*inputs, **kwargs)\n",
      "/home/mpoisson/anaconda3/envs/pymc4/lib/python3.11/site-packages/pandas/core/arraylike.py:402: RuntimeWarning: invalid value encountered in sqrt\n",
      "  result = getattr(ufunc, method)(*inputs, **kwargs)\n",
      "/home/mpoisson/anaconda3/envs/pymc4/lib/python3.11/site-packages/pandas/core/arraylike.py:402: RuntimeWarning: invalid value encountered in sqrt\n",
      "  result = getattr(ufunc, method)(*inputs, **kwargs)\n"
     ]
    },
    {
     "name": "stdout",
     "output_type": "stream",
     "text": [
      "nt -0.15810041\n",
      "time b'9-Aug-1996 12:48:04.510'\n",
      "lat 11\n",
      "7982----------------------------------\n",
      "185 253 50\n",
      "b'7-Aug-1996 17:36:04.540' b'11-Aug-1996 16:00:04.470'\n",
      "92 110\n",
      "nt 0.754662\n",
      "time b'4-Feb-1997 17:36:04.320'\n",
      "lat -21\n",
      "8016----------------------------------\n",
      "143 185 57\n",
      "b'2-Feb-1997 09:39:04.350' b'6-Feb-1997 06:27:04.300'\n",
      "78 142\n",
      "nt -0.57436186\n",
      "time b'20-May-1997 22:28:05.517'\n",
      "lat 3\n",
      "8040----------------------------------\n",
      "161 201 68\n",
      "b'18-May-1997 16:04:05.484' b'23-May-1997 04:49:30.000'\n",
      "90 151\n",
      "nt 0.23809247\n",
      "time b'16-Jun-1997 01:36:05.530'\n",
      "lat 17\n",
      "8052----------------------------------\n",
      "125 145 57\n",
      "b'13-Jun-1997 17:36:05.570' b'17-Jun-1997 17:36:05.500'\n",
      "57 98\n",
      "nt -0.3017031\n",
      "time b'10-Sep-1997 19:11:03.230'\n",
      "lat 21\n",
      "8084----------------------------------\n",
      "191 245 62\n",
      "b'8-Sep-1997 20:48:03.240' b'13-Sep-1997 03:12:03.230'\n",
      "147 192\n",
      "nt 0.21090922\n",
      "time b'8-Apr-1998 03:12:03.680'\n",
      "lat -22\n",
      "8193----------------------------------\n",
      "209 209 41\n",
      "b'5-Apr-1998 20:48:03.620' b'8-Apr-1998 14:24:03.690'\n",
      "88 145\n",
      "nt 0.018779555\n",
      "time b'17-Apr-1998 22:27:03.960'\n",
      "lat 21\n",
      "8205----------------------------------\n",
      "173 225 50\n",
      "b'17-Apr-1998 01:36:03.930' b'20-Apr-1998 09:39:04.040'\n",
      "57 112\n",
      "nt -0.5628848\n",
      "time b'7-Dec-1998 03:12:04.309'\n",
      "lat -22\n",
      "8404----------------------------------\n",
      "181 175 51\n",
      "b'5-Dec-1998 20:48:04.330' b'9-Dec-1998 08:03:04.265'\n",
      "103 113\n",
      "nt -0.49183846\n",
      "time b'9-Dec-1998 08:03:04.265'\n",
      "lat -17\n",
      "8407----------------------------------\n",
      "159 189 58\n",
      "b'7-Dec-1998 17:36:04.298' b'11-Dec-1998 14:27:04.221'\n",
      "64 88\n",
      "nt 0.33024722\n",
      "time b'17-Mar-1999 17:36:02.395'\n",
      "lat -26\n",
      "8488----------------------------------\n",
      "183 185 51\n",
      "b'16-Mar-1999 12:48:02.372' b'20-Mar-1999 00:00:02.437'\n",
      "85 119\n"
     ]
    },
    {
     "name": "stderr",
     "output_type": "stream",
     "text": [
      "/home/mpoisson/anaconda3/envs/pymc4/lib/python3.11/site-packages/pandas/core/arraylike.py:402: RuntimeWarning: invalid value encountered in sqrt\n",
      "  result = getattr(ufunc, method)(*inputs, **kwargs)\n",
      "/home/mpoisson/anaconda3/envs/pymc4/lib/python3.11/site-packages/pandas/core/arraylike.py:402: RuntimeWarning: invalid value encountered in sqrt\n",
      "  result = getattr(ufunc, method)(*inputs, **kwargs)\n",
      "/home/mpoisson/anaconda3/envs/pymc4/lib/python3.11/site-packages/pandas/core/arraylike.py:402: RuntimeWarning: invalid value encountered in sqrt\n",
      "  result = getattr(ufunc, method)(*inputs, **kwargs)\n",
      "/home/mpoisson/anaconda3/envs/pymc4/lib/python3.11/site-packages/pandas/core/arraylike.py:402: RuntimeWarning: invalid value encountered in sqrt\n",
      "  result = getattr(ufunc, method)(*inputs, **kwargs)\n",
      "/home/mpoisson/anaconda3/envs/pymc4/lib/python3.11/site-packages/pandas/core/arraylike.py:402: RuntimeWarning: invalid value encountered in sqrt\n",
      "  result = getattr(ufunc, method)(*inputs, **kwargs)\n",
      "/home/mpoisson/anaconda3/envs/pymc4/lib/python3.11/site-packages/pandas/core/arraylike.py:402: RuntimeWarning: invalid value encountered in sqrt\n",
      "  result = getattr(ufunc, method)(*inputs, **kwargs)\n",
      "/home/mpoisson/anaconda3/envs/pymc4/lib/python3.11/site-packages/pandas/core/arraylike.py:402: RuntimeWarning: invalid value encountered in sqrt\n",
      "  result = getattr(ufunc, method)(*inputs, **kwargs)\n",
      "/home/mpoisson/anaconda3/envs/pymc4/lib/python3.11/site-packages/pandas/core/arraylike.py:402: RuntimeWarning: invalid value encountered in sqrt\n",
      "  result = getattr(ufunc, method)(*inputs, **kwargs)\n"
     ]
    },
    {
     "name": "stdout",
     "output_type": "stream",
     "text": [
      "nt 0.5043078\n",
      "time b'28-Apr-1999 20:48:03.429'\n",
      "lat 22\n",
      "8524----------------------------------\n",
      "187 217 59\n",
      "b'27-Apr-1999 00:00:03.395' b'30-Apr-1999 23:59:43.000'\n",
      "42 153\n",
      "nt 0.31584212\n",
      "time b'10-May-1999 22:24:03.609'\n",
      "lat -24\n",
      "8536----------------------------------\n",
      "139 173 65\n",
      "b'8-May-1999 11:12:03.582' b'13-May-1999 00:00:03.624'\n",
      "73 108\n",
      "nt -0.1878991\n",
      "time b'29-May-1999 09:36:03.504'\n",
      "lat 20\n",
      "8552----------------------------------\n",
      "151 195 79\n",
      "b'26-May-1999 11:12:03.546' b'31-May-1999 20:47:43.000'\n",
      "87 105\n",
      "nt -0.0740425\n",
      "time b'17-Jun-1999 03:15:03.128'\n",
      "lat 27\n",
      "8589----------------------------------\n",
      "139 169 50\n",
      "b'16-Jun-1999 00:00:03.159' b'19-Jun-1999 07:59:03.064'\n",
      "65 84\n",
      "nt 1.3202796\n",
      "time b'28-Jul-1999 20:48:02.290'\n",
      "lat -15\n",
      "8649----------------------------------\n",
      "141 133 59\n",
      "b'27-Jul-1999 01:39:02.304' b'31-Jul-1999 00:00:02.278'\n",
      "62 119\n"
     ]
    },
    {
     "name": "stderr",
     "output_type": "stream",
     "text": [
      "/home/mpoisson/anaconda3/envs/pymc4/lib/python3.11/site-packages/pandas/core/arraylike.py:402: RuntimeWarning: invalid value encountered in sqrt\n",
      "  result = getattr(ufunc, method)(*inputs, **kwargs)\n",
      "/home/mpoisson/anaconda3/envs/pymc4/lib/python3.11/site-packages/pandas/core/arraylike.py:402: RuntimeWarning: invalid value encountered in sqrt\n",
      "  result = getattr(ufunc, method)(*inputs, **kwargs)\n",
      "/home/mpoisson/anaconda3/envs/pymc4/lib/python3.11/site-packages/pandas/core/arraylike.py:402: RuntimeWarning: invalid value encountered in sqrt\n",
      "  result = getattr(ufunc, method)(*inputs, **kwargs)\n",
      "/home/mpoisson/anaconda3/envs/pymc4/lib/python3.11/site-packages/pandas/core/arraylike.py:402: RuntimeWarning: invalid value encountered in sqrt\n",
      "  result = getattr(ufunc, method)(*inputs, **kwargs)\n"
     ]
    },
    {
     "name": "stdout",
     "output_type": "stream",
     "text": [
      "nt -0.27577832\n",
      "time b'12-Sep-1999 08:03:02.412'\n",
      "lat 13\n",
      "8690----------------------------------\n",
      "153 201 63\n",
      "b'10-Sep-1999 11:11:02.388' b'14-Sep-1999 16:00:02.442'\n",
      "112 144\n",
      "nt 0.40937185\n",
      "time b'14-Sep-1999 01:36:02.434'\n",
      "lat 21\n",
      "8699----------------------------------\n",
      "177 213 71\n",
      "b'11-Sep-1999 17:35:02.404' b'16-Sep-1999 11:11:02.467'\n",
      "78 107\n"
     ]
    },
    {
     "name": "stderr",
     "output_type": "stream",
     "text": [
      "/home/mpoisson/anaconda3/envs/pymc4/lib/python3.11/site-packages/pandas/core/arraylike.py:402: RuntimeWarning: invalid value encountered in sqrt\n",
      "  result = getattr(ufunc, method)(*inputs, **kwargs)\n",
      "/home/mpoisson/anaconda3/envs/pymc4/lib/python3.11/site-packages/pandas/core/arraylike.py:402: RuntimeWarning: invalid value encountered in sqrt\n",
      "  result = getattr(ufunc, method)(*inputs, **kwargs)\n",
      "/home/mpoisson/anaconda3/envs/pymc4/lib/python3.11/site-packages/pandas/core/arraylike.py:402: RuntimeWarning: invalid value encountered in sqrt\n",
      "  result = getattr(ufunc, method)(*inputs, **kwargs)\n",
      "/home/mpoisson/anaconda3/envs/pymc4/lib/python3.11/site-packages/pandas/core/arraylike.py:402: RuntimeWarning: invalid value encountered in sqrt\n",
      "  result = getattr(ufunc, method)(*inputs, **kwargs)\n"
     ]
    },
    {
     "name": "stdout",
     "output_type": "stream",
     "text": [
      "nt -0.85674816\n",
      "time b'23-Jan-2003 17:38:59.150'\n",
      "lat 12\n",
      "10268----------------------------------\n",
      "163 165 65\n",
      "b'21-Jan-2003 14:23:59.130' b'25-Jan-2003 22:23:59.170'\n",
      "67 64\n",
      "nt 0.60579824\n",
      "time b'3-Feb-2003 06:23:59.280'\n",
      "lat -7\n",
      "10274----------------------------------\n",
      "159 159 54\n",
      "b'1-Feb-2003 19:11:59.260' b'5-Feb-2003 14:26:59.310'\n",
      "44 94\n",
      "nt -0.29089484\n",
      "time b'24-Jun-1997 16:00:05.380'\n",
      "lat 17\n"
     ]
    },
    {
     "name": "stderr",
     "output_type": "stream",
     "text": [
      "/home/mpoisson/anaconda3/envs/pymc4/lib/python3.11/site-packages/pandas/core/arraylike.py:402: RuntimeWarning: invalid value encountered in sqrt\n",
      "  result = getattr(ufunc, method)(*inputs, **kwargs)\n",
      "/home/mpoisson/anaconda3/envs/pymc4/lib/python3.11/site-packages/pandas/core/arraylike.py:402: RuntimeWarning: invalid value encountered in sqrt\n",
      "  result = getattr(ufunc, method)(*inputs, **kwargs)\n",
      "/home/mpoisson/anaconda3/envs/pymc4/lib/python3.11/site-packages/pandas/core/arraylike.py:402: RuntimeWarning: invalid value encountered in sqrt\n",
      "  result = getattr(ufunc, method)(*inputs, **kwargs)\n",
      "/home/mpoisson/anaconda3/envs/pymc4/lib/python3.11/site-packages/pandas/core/arraylike.py:402: RuntimeWarning: invalid value encountered in sqrt\n",
      "  result = getattr(ufunc, method)(*inputs, **kwargs)\n",
      "/home/mpoisson/anaconda3/envs/pymc4/lib/python3.11/site-packages/pandas/core/arraylike.py:402: RuntimeWarning: invalid value encountered in sqrt\n",
      "  result = getattr(ufunc, method)(*inputs, **kwargs)\n",
      "/home/mpoisson/anaconda3/envs/pymc4/lib/python3.11/site-packages/pandas/core/arraylike.py:402: RuntimeWarning: invalid value encountered in sqrt\n",
      "  result = getattr(ufunc, method)(*inputs, **kwargs)\n",
      "/home/mpoisson/anaconda3/envs/pymc4/lib/python3.11/site-packages/pandas/core/arraylike.py:402: RuntimeWarning: invalid value encountered in sqrt\n",
      "  result = getattr(ufunc, method)(*inputs, **kwargs)\n",
      "/home/mpoisson/anaconda3/envs/pymc4/lib/python3.11/site-packages/pandas/core/arraylike.py:402: RuntimeWarning: invalid value encountered in sqrt\n",
      "  result = getattr(ufunc, method)(*inputs, **kwargs)\n"
     ]
    },
    {
     "name": "stdout",
     "output_type": "stream",
     "text": [
      "8056----------------------------------\n",
      "123 133 32\n",
      "b'24-Jun-1997 16:00:05.380' b'26-Jun-1997 19:12:05.340'\n",
      "67 97\n",
      "nt 0.20399585\n",
      "time b'9-Jul-1997 09:36:04.030'\n",
      "lat 5\n",
      "8060----------------------------------\n",
      "119 147 46\n",
      "b'7-Jul-1997 14:24:04.080' b'10-Jul-1997 17:36:03.990'\n",
      "66 80\n",
      "nt -0.31395748\n",
      "time b'6-Oct-1999 11:12:02.932'\n",
      "lat 14\n",
      "8722----------------------------------\n",
      "137 167 59\n",
      "b'4-Oct-1999 17:35:02.882' b'8-Oct-1999 16:00:02.992'\n",
      "76 112\n",
      "nt 0.49803734\n",
      "time b'2-Nov-1999 09:35:03.479'\n",
      "lat -18\n",
      "8749----------------------------------\n",
      "199 225 56\n",
      "b'31-Oct-1999 09:35:03.450' b'4-Nov-1999 06:24:03.500'\n",
      "99 142\n",
      "nt 0.25054723\n",
      "time b'6-Nov-1999 15:59:03.520'\n",
      "lat 38\n",
      "8757----------------------------------\n",
      "121 139 47\n",
      "b'5-Nov-1999 20:47:03.514' b'9-Nov-1999 00:03:03.529'\n",
      "64 110\n",
      "nt -0.36111027\n",
      "time b'10-Nov-1999 14:24:03.529'\n",
      "lat 14\n",
      "8760----------------------------------\n",
      "181 203 68\n",
      "b'8-Nov-1999 08:03:03.527' b'12-Nov-1999 20:47:03.522'\n",
      "103 157\n",
      "nt 0.2130621\n",
      "time b'14-Dec-1999 23:59:02.913'\n",
      "lat -34\n",
      "8797----------------------------------\n",
      "159 165 61\n",
      "b'12-Dec-1999 23:59:02.976' b'17-Dec-1999 01:35:02.848'\n",
      "79 131\n",
      "nt -0.24449492\n",
      "time b'16-Jan-2000 12:47:02.194'\n",
      "lat -22\n"
     ]
    },
    {
     "name": "stderr",
     "output_type": "stream",
     "text": [
      "/home/mpoisson/anaconda3/envs/pymc4/lib/python3.11/site-packages/pandas/core/arraylike.py:402: RuntimeWarning: invalid value encountered in sqrt\n",
      "  result = getattr(ufunc, method)(*inputs, **kwargs)\n",
      "/home/mpoisson/anaconda3/envs/pymc4/lib/python3.11/site-packages/pandas/core/arraylike.py:402: RuntimeWarning: invalid value encountered in sqrt\n",
      "  result = getattr(ufunc, method)(*inputs, **kwargs)\n",
      "/home/mpoisson/anaconda3/envs/pymc4/lib/python3.11/site-packages/pandas/core/arraylike.py:402: RuntimeWarning: invalid value encountered in sqrt\n",
      "  result = getattr(ufunc, method)(*inputs, **kwargs)\n",
      "/home/mpoisson/anaconda3/envs/pymc4/lib/python3.11/site-packages/pandas/core/arraylike.py:402: RuntimeWarning: invalid value encountered in sqrt\n",
      "  result = getattr(ufunc, method)(*inputs, **kwargs)\n",
      "/home/mpoisson/anaconda3/envs/pymc4/lib/python3.11/site-packages/pandas/core/arraylike.py:402: RuntimeWarning: invalid value encountered in sqrt\n",
      "  result = getattr(ufunc, method)(*inputs, **kwargs)\n",
      "/home/mpoisson/anaconda3/envs/pymc4/lib/python3.11/site-packages/pandas/core/arraylike.py:402: RuntimeWarning: invalid value encountered in sqrt\n",
      "  result = getattr(ufunc, method)(*inputs, **kwargs)\n",
      "/home/mpoisson/anaconda3/envs/pymc4/lib/python3.11/site-packages/pandas/core/arraylike.py:402: RuntimeWarning: invalid value encountered in sqrt\n",
      "  result = getattr(ufunc, method)(*inputs, **kwargs)\n",
      "/home/mpoisson/anaconda3/envs/pymc4/lib/python3.11/site-packages/pandas/core/arraylike.py:402: RuntimeWarning: invalid value encountered in sqrt\n",
      "  result = getattr(ufunc, method)(*inputs, **kwargs)\n"
     ]
    },
    {
     "name": "stdout",
     "output_type": "stream",
     "text": [
      "8828----------------------------------\n",
      "165 195 72\n",
      "b'13-Jan-2000 23:59:02.230' b'18-Jan-2000 20:47:02.166'\n",
      "73 128\n",
      "nt -0.51298064\n",
      "time b'3-Feb-2000 04:47:02.134'\n",
      "lat 27\n",
      "8851----------------------------------\n",
      "157 175 58\n",
      "b'31-Jan-2000 22:23:02.131' b'4-Feb-2000 23:59:02.136'\n",
      "84 139\n",
      "nt -0.24635516\n",
      "time b'8-Mar-2000 16:03:02.402'\n",
      "lat -15\n",
      "8898----------------------------------\n",
      "209 209 63\n",
      "b'6-Mar-2000 11:15:02.363' b'10-Mar-2000 16:00:02.438'\n",
      "108 143\n",
      "nt 0.59878176\n",
      "time b'6-Mar-2000 04:51:02.359'\n",
      "lat -15\n",
      "8900----------------------------------\n",
      "199 193 62\n",
      "b'4-Mar-2000 03:11:02.323' b'8-Mar-2000 06:23:02.395'\n",
      "108 157\n",
      "nt 0.59115076\n",
      "time b'20-Mar-2000 09:39:02.650'\n",
      "lat -16\n",
      "8913----------------------------------\n",
      "155 171 60\n",
      "b'17-Mar-2000 22:23:02.587' b'21-Mar-2000 22:23:02.693'\n",
      "94 148\n",
      "nt -0.50496656\n",
      "time b'28-Mar-2000 20:47:02.906'\n",
      "lat 10\n",
      "8924----------------------------------\n",
      "205 209 63\n",
      "b'26-Mar-2000 20:47:02.842' b'31-Mar-2000 03:10:43.000'\n",
      "74 146\n",
      "nt -0.39869824\n",
      "time b'21-Apr-2000 23:59:03.481'\n",
      "lat -13\n",
      "8968----------------------------------\n",
      "201 183 64\n",
      "b'19-Apr-2000 23:59:03.445' b'24-Apr-2000 06:23:03.520'\n",
      "55 65\n",
      "nt 0.31233174\n",
      "time b'22-Apr-2000 03:15:03.484'\n",
      "lat 32\n",
      "8972----------------------------------\n",
      "145 155 44\n",
      "b'21-Apr-2000 16:03:03.476' b'24-Apr-2000 14:27:03.525'\n",
      "64 102\n",
      "nt 0.22236077\n",
      "time b'10-May-2000 15:59:03.595'\n",
      "lat -23\n",
      "8986----------------------------------\n",
      "153 147 52\n",
      "b'9-May-2000 04:48:03.607' b'12-May-2000 16:03:03.575'\n",
      "87 102\n",
      "nt -0.29759607\n",
      "time b'9-Jun-2000 00:00:03.051'\n",
      "lat -17\n",
      "9032----------------------------------\n",
      "207 211 63\n",
      "b'6-Jun-2000 11:15:03.125' b'10-Jun-2000 16:00:03.002'\n",
      "61 68\n",
      "nt 0.13140693\n",
      "time b'10-Jun-2000 04:48:03.016'\n",
      "lat -17\n",
      "9035----------------------------------\n",
      "155 153 53\n",
      "b'8-Jun-2000 11:12:03.067' b'12-Jun-2000 00:00:02.963'\n",
      "66 96\n",
      "nt 0.38586\n",
      "time b'30-Jun-2000 06:24:02.555'\n",
      "lat 25\n",
      "9063----------------------------------\n",
      "163 157 62\n",
      "b'28-Jun-2000 03:12:02.593' b'2-Jul-2000 06:24:01.519'\n",
      "85 152\n",
      "nt 0.29835546\n",
      "time b'8-Jul-2000 06:24:01.412'\n",
      "lat -14\n",
      "9069----------------------------------\n",
      "165 171 39\n",
      "b'7-Jul-2000 16:00:01.422' b'10-Jul-2000 08:00:01.379'\n",
      "69 116\n",
      "nt -0.43671554\n",
      "time b'7-Jul-2000 22:24:01.418'\n",
      "lat 17\n",
      "9070----------------------------------\n",
      "183 221 67\n",
      "b'5-Jul-2000 17:36:01.456' b'10-Jul-2000 11:12:01.377'\n",
      "97 152\n",
      "nt -0.1568508\n",
      "time b'29-Jul-2000 06:27:01.277'\n",
      "lat 10\n",
      "9103----------------------------------\n",
      "177 171 65\n",
      "b'27-Jul-2000 00:00:01.277' b'31-Jul-2000 07:59:01.274'\n",
      "82 92\n",
      "nt 0.0006354236\n",
      "time b'22-Aug-2000 17:35:01.302'\n",
      "lat -11\n",
      "9139----------------------------------\n",
      "181 177 68\n",
      "b'20-Aug-2000 07:59:01.279' b'24-Aug-2000 20:47:01.325'\n",
      "67 90\n",
      "nt 0.35788396\n",
      "time b'27-Aug-2000 22:23:01.361'\n",
      "lat 9\n",
      "9140----------------------------------\n",
      "139 163 46\n",
      "b'26-Aug-2000 23:59:01.350' b'30-Aug-2000 03:15:01.387'\n",
      "83 112\n",
      "nt -0.1262798\n",
      "time b'26-Aug-2000 23:59:01.350'\n",
      "lat 25\n",
      "9144----------------------------------\n",
      "153 179 59\n",
      "b'25-Aug-2000 11:11:01.332' b'29-Aug-2000 09:39:01.378'\n",
      "83 94\n",
      "nt 0.21506613\n",
      "time b'5-Sep-2000 11:15:01.465'\n",
      "lat -19\n",
      "9154----------------------------------\n",
      "157 185 57\n",
      "b'3-Sep-2000 22:24:01.445' b'7-Sep-2000 17:39:01.498'\n",
      "110 130\n"
     ]
    },
    {
     "name": "stderr",
     "output_type": "stream",
     "text": [
      "/home/mpoisson/anaconda3/envs/pymc4/lib/python3.11/site-packages/pandas/core/arraylike.py:402: RuntimeWarning: invalid value encountered in sqrt\n",
      "  result = getattr(ufunc, method)(*inputs, **kwargs)\n",
      "/home/mpoisson/anaconda3/envs/pymc4/lib/python3.11/site-packages/pandas/core/arraylike.py:402: RuntimeWarning: invalid value encountered in sqrt\n",
      "  result = getattr(ufunc, method)(*inputs, **kwargs)\n",
      "/home/mpoisson/anaconda3/envs/pymc4/lib/python3.11/site-packages/pandas/core/arraylike.py:402: RuntimeWarning: invalid value encountered in sqrt\n",
      "  result = getattr(ufunc, method)(*inputs, **kwargs)\n",
      "/home/mpoisson/anaconda3/envs/pymc4/lib/python3.11/site-packages/pandas/core/arraylike.py:402: RuntimeWarning: invalid value encountered in sqrt\n",
      "  result = getattr(ufunc, method)(*inputs, **kwargs)\n"
     ]
    },
    {
     "name": "stdout",
     "output_type": "stream",
     "text": [
      "nt 0.1493193\n",
      "time b'24-Sep-2000 00:00:01.886'\n",
      "lat -7\n",
      "9170----------------------------------\n",
      "145 159 67\n",
      "b'21-Sep-2000 14:23:01.817' b'26-Sep-2000 03:11:01.945'\n",
      "76 124\n",
      "nt -0.36078313\n",
      "time b'12-Oct-2000 03:12:02.302'\n",
      "lat -13\n",
      "9192----------------------------------\n",
      "163 229 47\n",
      "b'11-Oct-2000 04:51:02.283' b'14-Oct-2000 08:03:02.344'\n",
      "63 79\n",
      "nt -0.19383158\n",
      "time b'4-Nov-2000 20:48:02.513'\n",
      "lat 19\n",
      "9218----------------------------------\n",
      "155 189 65\n",
      "b'2-Nov-2000 17:39:02.529' b'7-Nov-2000 06:27:02.490'\n",
      "86 136\n",
      "nt 0.4771718\n",
      "time b'14-Dec-2000 17:36:01.630'\n",
      "lat 8\n",
      "9267----------------------------------\n",
      "187 191 69\n",
      "b'12-Dec-2000 11:15:01.688' b'17-Dec-2000 01:35:01.575'\n",
      "77 140\n",
      "nt 0.11672378\n",
      "time b'30-Dec-2000 06:27:01.305'\n",
      "lat 30\n",
      "9290----------------------------------\n",
      "161 179 68\n",
      "b'28-Dec-2000 04:51:01.345' b'1-Jan-2001 17:36:01.260'\n",
      "75 73\n",
      "nt 0.16271383\n",
      "time b'1-Jan-2001 19:12:01.259'\n",
      "lat -13\n",
      "9291----------------------------------\n",
      "235 207 61\n",
      "b'30-Dec-2000 06:27:01.305' b'3-Jan-2001 08:03:01.233'\n",
      "57 133\n",
      "nt 0.35572606\n",
      "time b'14-Jan-2001 20:47:01.130'\n",
      "lat 14\n",
      "9308----------------------------------\n",
      "139 163 33\n",
      "b'12-Jan-2001 14:27:01.136' b'14-Jan-2001 20:47:01.130'\n",
      "101 146\n",
      "nt -0.36246952\n",
      "time b'19-Jan-2001 16:03:01.129'\n",
      "lat 4\n",
      "9311----------------------------------\n",
      "157 205 67\n",
      "b'17-Jan-2001 08:03:01.129' b'21-Jan-2001 20:46:43.000'\n",
      "89 200\n",
      "nt -0.048162982\n",
      "time b'6-Mar-2001 11:11:01.522'\n",
      "lat 27\n",
      "9368----------------------------------\n",
      "185 207 68\n",
      "b'4-Mar-2001 04:47:01.475' b'8-Mar-2001 17:36:01.575'\n",
      "84 158\n",
      "nt 0.15371399\n",
      "time b'24-Mar-2001 14:24:02.050'\n",
      "lat -6\n",
      "9396----------------------------------\n",
      "133 149 40\n",
      "b'24-Mar-2001 04:48:02.038' b'26-Mar-2001 20:48:02.112'\n",
      "82 103\n"
     ]
    },
    {
     "name": "stderr",
     "output_type": "stream",
     "text": [
      "/home/mpoisson/anaconda3/envs/pymc4/lib/python3.11/site-packages/pandas/core/arraylike.py:402: RuntimeWarning: invalid value encountered in sqrt\n",
      "  result = getattr(ufunc, method)(*inputs, **kwargs)\n",
      "/home/mpoisson/anaconda3/envs/pymc4/lib/python3.11/site-packages/pandas/core/arraylike.py:402: RuntimeWarning: invalid value encountered in sqrt\n",
      "  result = getattr(ufunc, method)(*inputs, **kwargs)\n",
      "/home/mpoisson/anaconda3/envs/pymc4/lib/python3.11/site-packages/pandas/core/arraylike.py:402: RuntimeWarning: invalid value encountered in sqrt\n",
      "  result = getattr(ufunc, method)(*inputs, **kwargs)\n",
      "/home/mpoisson/anaconda3/envs/pymc4/lib/python3.11/site-packages/pandas/core/arraylike.py:402: RuntimeWarning: invalid value encountered in sqrt\n",
      "  result = getattr(ufunc, method)(*inputs, **kwargs)\n"
     ]
    },
    {
     "name": "stdout",
     "output_type": "stream",
     "text": [
      "nt -0.63663596\n",
      "time b'25-Mar-2001 08:00:02.071'\n",
      "lat -29\n",
      "9399----------------------------------\n",
      "135 131 48\n",
      "b'24-Mar-2001 08:00:02.042' b'27-Mar-2001 12:48:02.130'\n",
      "60 98\n",
      "nt 0.55496114\n",
      "time b'8-Apr-2001 00:00:02.382'\n",
      "lat -9\n",
      "9417----------------------------------\n",
      "131 165 61\n",
      "b'5-Apr-2001 17:36:02.336' b'9-Apr-2001 19:12:02.418'\n",
      "72 117\n",
      "nt 0.34031108\n",
      "time b'20-Apr-2001 08:00:02.585'\n",
      "lat 8\n",
      "9432----------------------------------\n",
      "165 141 68\n",
      "b'18-Apr-2001 04:48:02.561' b'22-Apr-2001 17:36:02.602'\n",
      "95 105\n",
      "nt 0.32465053\n",
      "time b'30-Apr-2001 17:36:02.585'\n",
      "lat 8\n",
      "9441----------------------------------\n",
      "185 185 66\n",
      "b'28-Apr-2001 11:12:02.600' b'2-May-2001 22:24:02.564'\n",
      "120 137\n",
      "nt 0.31837264\n",
      "time b'13-May-2001 06:24:02.432'\n",
      "lat -18\n",
      "9455----------------------------------\n",
      "173 199 67\n",
      "b'10-May-2001 19:12:02.467' b'15-May-2001 08:00:02.399'\n",
      "73 178\n",
      "nt 0.33141598\n",
      "time b'12-May-2001 19:12:02.438'\n",
      "lat 6\n",
      "9456----------------------------------\n",
      "117 143 48\n",
      "b'11-May-2001 12:48:02.457' b'14-May-2001 19:12:02.408'\n",
      "67 126\n",
      "nt -0.27230248\n",
      "time b'4-Jun-2001 17:35:01.890'\n",
      "lat -8\n"
     ]
    },
    {
     "name": "stderr",
     "output_type": "stream",
     "text": [
      "/home/mpoisson/anaconda3/envs/pymc4/lib/python3.11/site-packages/pandas/core/arraylike.py:402: RuntimeWarning: invalid value encountered in sqrt\n",
      "  result = getattr(ufunc, method)(*inputs, **kwargs)\n",
      "/home/mpoisson/anaconda3/envs/pymc4/lib/python3.11/site-packages/pandas/core/arraylike.py:402: RuntimeWarning: invalid value encountered in sqrt\n",
      "  result = getattr(ufunc, method)(*inputs, **kwargs)\n",
      "/home/mpoisson/anaconda3/envs/pymc4/lib/python3.11/site-packages/pandas/core/arraylike.py:402: RuntimeWarning: invalid value encountered in sqrt\n",
      "  result = getattr(ufunc, method)(*inputs, **kwargs)\n",
      "/home/mpoisson/anaconda3/envs/pymc4/lib/python3.11/site-packages/pandas/core/arraylike.py:402: RuntimeWarning: invalid value encountered in sqrt\n",
      "  result = getattr(ufunc, method)(*inputs, **kwargs)\n"
     ]
    },
    {
     "name": "stdout",
     "output_type": "stream",
     "text": [
      "9484----------------------------------\n",
      "195 209 68\n",
      "b'2-Jun-2001 04:51:01.960' b'6-Jun-2001 17:35:01.838'\n",
      "91 165\n",
      "nt 0.61098146\n",
      "time b'25-Jun-2001 07:59:01.465'\n",
      "lat 10\n",
      "9511----------------------------------\n",
      "159 171 68\n",
      "b'22-Jun-2001 15:59:01.514' b'27-Jun-2001 04:51:01.431'\n",
      "76 122\n",
      "nt -0.45239586\n",
      "time b'24-Jun-2001 06:23:01.485'\n",
      "lat -23\n",
      "9512----------------------------------\n",
      "211 193 69\n",
      "b'21-Jun-2001 22:27:01.528' b'26-Jun-2001 12:51:01.443'\n",
      "79 131\n",
      "nt -0.28701404\n",
      "time b'10-Jul-2001 11:11:01.287'\n",
      "lat -6\n",
      "9531----------------------------------\n",
      "131 127 67\n",
      "b'8-Jul-2001 04:48:01.297' b'12-Jul-2001 17:39:01.284'\n",
      "68 97\n",
      "nt 0.05609981\n",
      "time b'22-Jul-2001 20:47:02.274'\n",
      "lat 18\n",
      "9548----------------------------------\n",
      "143 163 68\n",
      "b'20-Jul-2001 07:59:01.280' b'24-Jul-2001 20:51:01.262'\n",
      "78 107\n",
      "nt -0.626167\n",
      "time b'5-Aug-2001 09:35:01.257'\n",
      "lat 24\n",
      "9563----------------------------------\n",
      "131 155 68\n",
      "b'3-Aug-2001 03:11:01.251' b'7-Aug-2001 16:03:01.268'\n",
      "86 127\n",
      "nt -0.21870056\n",
      "time b'6-Aug-2001 19:11:01.263'\n",
      "lat -18\n",
      "9569----------------------------------\n",
      "149 143 49\n",
      "b'5-Aug-2001 15:59:01.258' b'8-Aug-2001 22:23:01.276'\n",
      "55 92\n",
      "nt 0.4575974\n",
      "time b'11-Aug-2001 06:23:01.295'\n",
      "lat -3\n"
     ]
    },
    {
     "name": "stderr",
     "output_type": "stream",
     "text": [
      "/home/mpoisson/anaconda3/envs/pymc4/lib/python3.11/site-packages/pandas/core/arraylike.py:402: RuntimeWarning: invalid value encountered in sqrt\n",
      "  result = getattr(ufunc, method)(*inputs, **kwargs)\n",
      "/home/mpoisson/anaconda3/envs/pymc4/lib/python3.11/site-packages/pandas/core/arraylike.py:402: RuntimeWarning: invalid value encountered in sqrt\n",
      "  result = getattr(ufunc, method)(*inputs, **kwargs)\n",
      "/home/mpoisson/anaconda3/envs/pymc4/lib/python3.11/site-packages/pandas/core/arraylike.py:402: RuntimeWarning: invalid value encountered in sqrt\n",
      "  result = getattr(ufunc, method)(*inputs, **kwargs)\n",
      "/home/mpoisson/anaconda3/envs/pymc4/lib/python3.11/site-packages/pandas/core/arraylike.py:402: RuntimeWarning: invalid value encountered in sqrt\n",
      "  result = getattr(ufunc, method)(*inputs, **kwargs)\n"
     ]
    },
    {
     "name": "stdout",
     "output_type": "stream",
     "text": [
      "9574----------------------------------\n",
      "135 153 49\n",
      "b'10-Aug-2001 03:15:01.285' b'13-Aug-2001 09:35:01.316'\n",
      "53 112\n",
      "nt 0.34266818\n",
      "time b'12-Oct-2001 09:35:02.490'\n",
      "lat 12\n",
      "9660----------------------------------\n",
      "143 151 60\n",
      "b'10-Oct-2001 06:23:02.457' b'14-Oct-2001 06:23:02.514'\n",
      "50 102\n",
      "nt -0.6585306\n",
      "time b'27-Oct-2001 11:11:02.511'\n",
      "lat 7\n",
      "9678----------------------------------\n",
      "149 187 56\n",
      "b'25-Oct-2001 04:47:02.530' b'28-Oct-2001 22:23:02.497'\n",
      "80 145\n",
      "nt -0.22049269\n",
      "time b'6-Nov-2001 03:12:02.396'\n",
      "lat -28\n",
      "9689----------------------------------\n",
      "139 127 58\n",
      "b'4-Nov-2001 08:03:02.421' b'8-Nov-2001 08:03:02.363'\n",
      "65 80\n",
      "nt -0.12656155\n",
      "time b'22-Nov-2001 07:59:02.022'\n",
      "lat -10\n",
      "9710----------------------------------\n",
      "153 179 69\n",
      "b'20-Nov-2001 00:00:02.093' b'24-Nov-2001 14:24:01.951'\n",
      "76 133\n",
      "nt -0.18527018\n",
      "time b'30-Dec-2001 06:27:01.164'\n",
      "lat 13\n",
      "9764----------------------------------\n",
      "135 151 65\n",
      "b'27-Dec-2001 23:59:01.189' b'1-Jan-2002 08:03:00.148'\n",
      "76 107\n",
      "nt -0.43503293\n",
      "time b'26-Feb-2002 09:36:00.537'\n",
      "lat 22\n",
      "9844----------------------------------\n",
      "153 213 68\n",
      "b'24-Feb-2002 01:36:00.483' b'28-Feb-2002 14:24:00.593'\n",
      "80 143\n",
      "nt 0.1654642\n",
      "time b'1-Mar-2002 17:36:00.625'\n",
      "lat 17\n",
      "9845----------------------------------\n",
      "163 215 68\n",
      "b'27-Feb-2002 06:24:00.558' b'3-Mar-2002 19:12:00.686'\n",
      "110 185\n",
      "nt -0.34983066\n",
      "time b'16-Mar-2002 20:51:01.080'\n",
      "lat -17\n",
      "9873----------------------------------\n",
      "149 153 46\n",
      "b'15-Mar-2002 06:24:01.037' b'18-Mar-2002 12:48:01.123'\n",
      "65 83\n",
      "nt -0.20579773\n",
      "time b'24-Mar-2002 09:36:01.258'\n",
      "lat 6\n",
      "9880----------------------------------\n",
      "143 157 51\n",
      "b'23-Mar-2002 00:00:01.228' b'26-Mar-2002 09:36:01.301'\n",
      "77 107\n",
      "nt 0.30859372\n",
      "time b'30-Mar-2002 20:48:01.395'\n",
      "lat -18\n",
      "9884----------------------------------\n",
      "135 185 63\n",
      "b'27-Mar-2002 20:48:01.332' b'1-Apr-2002 03:12:01.421'\n",
      "60 106\n",
      "nt 0.14890468\n",
      "time b'6-Apr-2002 16:00:01.522'\n",
      "lat -1\n",
      "9897----------------------------------\n",
      "145 163 39\n",
      "b'6-Apr-2002 03:12:01.514' b'8-Apr-2002 20:48:01.552'\n",
      "66 90\n",
      "nt 0.70626014\n",
      "time b'14-Apr-2002 19:15:01.593'\n",
      "lat -16\n",
      "9906----------------------------------\n",
      "159 205 69\n",
      "b'12-Apr-2002 11:12:01.585' b'17-Apr-2002 01:35:43.000'\n",
      "98 154\n",
      "nt 0.67646265\n",
      "time b'18-Apr-2002 14:24:01.587'\n",
      "lat -21\n",
      "9910----------------------------------\n",
      "161 161 52\n",
      "b'17-Apr-2002 11:12:01.591' b'20-Apr-2002 22:24:01.572'\n",
      "86 136\n",
      "nt 0.36655635\n",
      "time b'21-Apr-2002 01:36:01.571'\n",
      "lat 11\n",
      "9912----------------------------------\n",
      "141 135 68\n",
      "b'18-Apr-2002 17:36:01.586' b'23-Apr-2002 06:24:01.551'\n",
      "97 114\n",
      "nt -0.24460411\n",
      "time b'3-May-2002 07:59:01.430'\n",
      "lat 15\n",
      "9931----------------------------------\n",
      "147 165 64\n",
      "b'1-May-2002 01:35:01.461' b'5-May-2002 09:35:01.399'\n",
      "60 117\n",
      "nt -0.27912098\n",
      "time b'5-Jun-2002 12:47:00.652'\n",
      "lat -20\n",
      "9978----------------------------------\n",
      "159 181 68\n",
      "b'3-Jun-2002 06:27:00.696' b'7-Jun-2002 19:15:00.609'\n",
      "104 135\n",
      "nt 0.44796476\n",
      "time b'8-Jun-2002 20:47:00.589'\n",
      "lat -16\n",
      "9987----------------------------------\n",
      "191 189 64\n",
      "b'6-Jun-2002 17:35:00.629' b'11-Jun-2002 00:00:00.549'\n",
      "65 146\n"
     ]
    }
   ],
   "source": [
    "pixsize=1.98*725*1000*100\n",
    "pixarea=pixsize*pixsize\n",
    "DFs=[]\n",
    "sarax=[]\n",
    "\n",
    "\n",
    "for name in ars:\n",
    "#for name in [10268]:\n",
    "    \n",
    "    aax=[]\n",
    "    abar=[]\n",
    "    sarax=[]\n",
    "    lat=searchar(str(name))[1]\n",
    "    DF1=pd.read_csv('./posteriors/'+str(name)+'_TM3.csv')\n",
    "    print(str(name)+'----------------------------------')\n",
    "    datad,times=opencube2(name=str(name),path='../movies')\n",
    "    scl=1\n",
    "    \n",
    "    \n",
    "    nn=DF0[DF0['AR']==name].range.values[0]\n",
    "    sg0=DF0[DF0['AR']==name].sigma.values[0]\n",
    "    \n",
    "    mask_cube=np.load('./masks/'+str(name)+'_mask.npy')[:,:,0:nn]\n",
    "    mod_cube=np.load('./models/'+str(name)+'.npy')[:,:,0:nn]\n",
    "    \n",
    "    data2=datad[:,:,0:nn]*mask_cube\n",
    "    \n",
    "    sz2,sz1,nMagnetograms = (np.shape(data2))\n",
    "    stp=round(nMagnetograms/np.shape(mod_cube)[2])\n",
    "    \n",
    "    data2=data2[:,:,::stp]\n",
    "    sz2,sz1,nMagnetograms = (np.shape(data2))\n",
    "    \n",
    "    DF1x=DF1.groupby('mag').mean().reset_index()\n",
    "    DF1x=DF1x.assign(cond1=DF2.a/(DF2.a+DF2.R))\n",
    "    DF1x=DF1x[DF1x['da']>= DF1x['cond1']]\n",
    "    \n",
    "    DF1x=DF1x.assign(x1=lambda x: x.xc+np.sqrt(x.R**2 - ((1-x.da)*(x.R+x.a))**2)*np.cos(x.alpha))\n",
    "    DF1x=DF1x.assign(x2=lambda x: x.xc-np.sqrt(x.R**2 - ((1-x.da)*(x.R+x.a))**2)*np.cos(x.alpha))\n",
    "    DF1x=DF1x.assign(y1=lambda x: x.yc+np.sqrt(x.R**2 - ((1-x.da)*(x.R+x.a))**2)*np.sin(x.alpha))\n",
    "    DF1x=DF1x.assign(y2=lambda x: x.yc-np.sqrt(x.R**2 - ((1-x.da)*(x.R+x.a))**2)*np.sin(x.alpha))\n",
    "\n",
    "    \n",
    "    for i in list(DF1x['mag'].values):\n",
    "        i=int(i)\n",
    "        y_max, x_max = np.unravel_index(np.argmax(mod_cube[:,:,i]), mod_cube[:,:,i].shape)\n",
    "        y_min, x_min = np.unravel_index(np.argmin(mod_cube[:,:,i]), mod_cube[:,:,i].shape)\n",
    "        \n",
    "        if x_max > x_min:\n",
    "            aax.append(np.mean(sizes2(data2[:,:,i],20,xp=DF1x[DF1x['mag']==i].x1.values[0],\n",
    "                                      yp=DF1x[DF1x['mag']==i].y1.values[0],\n",
    "                                      xn=DF1x[DF1x['mag']==i].x2.values[0],\n",
    "                                      yn=DF1x[DF1x['mag']==i].y2.values[0])[0:1]))\n",
    "        else:\n",
    "            aax.append(np.mean(sizes2(data2[:,:,i],20,xn=DF1x[DF1x['mag']==i].x1.values[0],\n",
    "                                      yn=DF1x[DF1x['mag']==i].y1.values[0],\n",
    "                                      xp=DF1x[DF1x['mag']==i].x2.values[0],\n",
    "                                      yp=DF1x[DF1x['mag']==i].y2.values[0])[0:1]))\n",
    "        \n",
    "        abar.append(np.mean(sizes(data2[:,:,i],20)[0:1]))\n",
    "        \n",
    "    DFs.append(DF1x.assign(aax=aax,abar=abar))\n",
    "               \n",
    "DF = pd.concat(DFs)"
   ]
  },
  {
   "cell_type": "code",
   "execution_count": 77,
   "id": "49a72c3d-ceae-465a-bbf7-7f39879b92a1",
   "metadata": {},
   "outputs": [
    {
     "data": {
      "text/plain": [
       "48.06780192656631"
      ]
     },
     "execution_count": 77,
     "metadata": {},
     "output_type": "execute_result"
    }
   ],
   "source": [
    "DF1x[DF1x['mag']==i].x1.values[0]"
   ]
  },
  {
   "cell_type": "code",
   "execution_count": 56,
   "id": "f978b9fb-c9eb-4552-a967-3bd3e23aa6b5",
   "metadata": {},
   "outputs": [
    {
     "name": "stderr",
     "output_type": "stream",
     "text": [
      "/home/mpoisson/anaconda3/envs/pymc4/lib/python3.11/site-packages/pandas/core/arraylike.py:402: RuntimeWarning: invalid value encountered in arccos\n",
      "  result = getattr(ufunc, method)(*inputs, **kwargs)\n"
     ]
    }
   ],
   "source": [
    "DF2=DF.reset_index()\n",
    "\n",
    "DF2=DF2.assign(cond1=DF2.a/(DF2.a+DF2.R))\n",
    "DF2=DF2.assign(fracaR=lambda x: x.a/x.R)\n",
    "DF2['gamma'] = 0\n",
    "\n",
    "# Asignar el valor calculado solo a las filas que cumplen la condición (A > 10)\n",
    "DF2.loc[DF2['da']>= DF2['cond1'], 'gamma'] = 180*np.arccos((DF2.R+DF2.a)*(1-DF2.da)/DF2.R)/np.pi\n",
    "\n",
    "\n",
    "DF2=DF2.assign(sepax=lambda x: 2*x.R*np.sin(np.pi*x.gamma/180))\n",
    "#DF2['sar']=DF2['sar'].apply(lambda x: pixsize*x)\n"
   ]
  },
  {
   "cell_type": "code",
   "execution_count": 79,
   "id": "8c6b4d19-386a-4a90-8126-9cf42b011264",
   "metadata": {},
   "outputs": [],
   "source": [
    "DF2=DF.reset_index()"
   ]
  },
  {
   "cell_type": "code",
   "execution_count": 60,
   "id": "1f079a43-9a2c-4b2d-80f5-5952b15a6d84",
   "metadata": {},
   "outputs": [
    {
     "data": {
      "text/plain": [
       "Index(['mag', 'Unnamed: 0', 'da', 'alpha', 'a', 'R', 'N0', 'axf', 'xc', 'yc',\n",
       "       'aax', 'abar', 'sarax', 'cond1', 'fracaR', 'gamma', 'sepax'],\n",
       "      dtype='object')"
      ]
     },
     "execution_count": 60,
     "metadata": {},
     "output_type": "execute_result"
    }
   ],
   "source": [
    "DF2.keys()"
   ]
  },
  {
   "cell_type": "code",
   "execution_count": 88,
   "id": "a0928446-8773-4e05-b627-5f10ee1b89c4",
   "metadata": {},
   "outputs": [
    {
     "data": {
      "text/plain": [
       "(0.0, 40.0)"
      ]
     },
     "execution_count": 88,
     "metadata": {},
     "output_type": "execute_result"
    },
    {
     "data": {
      "image/png": "[encoded data removed]",
      "text/plain": [
       "<Figure size 640x480 with 1 Axes>"
      ]
     },
     "metadata": {},
     "output_type": "display_data"
    }
   ],
   "source": [
    "sns.regplot(data=DF2,x='a',y='aax')\n",
    "#sns.regplot(data=DF2,x='a',y='abar')\n",
    "\n",
    "plt.ylim(0,40)\n",
    "plt.xlim(0,40)"
   ]
  },
  {
   "cell_type": "code",
   "execution_count": 57,
   "id": "ed0b691d-f0dc-4d60-9a1b-9d23453f29fa",
   "metadata": {},
   "outputs": [
    {
     "data": {
      "text/plain": [
       "<AxesSubplot: xlabel='sepax', ylabel='sarax'>"
      ]
     },
     "execution_count": 57,
     "metadata": {},
     "output_type": "execute_result"
    },
    {
     "data": {
      "image/png": "[encoded data removed]",
      "text/plain": [
       "<Figure size 640x480 with 1 Axes>"
      ]
     },
     "metadata": {},
     "output_type": "display_data"
    }
   ],
   "source": [
    "sns.regplot(data=DF2[DF2['gamma']>0],x='sepax',y='sarax')\n"
   ]
  },
  {
   "cell_type": "code",
   "execution_count": 93,
   "id": "4cf8af98-ec9e-4024-8915-968553536be8",
   "metadata": {},
   "outputs": [
    {
     "data": {
      "text/plain": [
       "<AxesSubplot: xlabel='aax', ylabel='Count'>"
      ]
     },
     "execution_count": 93,
     "metadata": {},
     "output_type": "execute_result"
    },
    {
     "data": {
      "image/png": "[encoded data removed]",
      "text/plain": [
       "<Figure size 640x480 with 1 Axes>"
      ]
     },
     "metadata": {},
     "output_type": "display_data"
    }
   ],
   "source": [
    "sns.histplot(DF2['aax'])\n",
    "sns.histplot(DF2['abar'])\n"
   ]
  },
  {
   "cell_type": "code",
   "execution_count": 89,
   "id": "735bcbb1-be95-4409-a077-81a5808908f0",
   "metadata": {},
   "outputs": [
    {
     "name": "stdout",
     "output_type": "stream",
     "text": [
      "nan nan nan\n",
      "0.9002924367247955 5.840053575935463 0.5735392566117095\n"
     ]
    }
   ],
   "source": [
    "from scipy.stats import linregress\n",
    "\n",
    "# Calcular la pendiente y el coeficiente de correlación\n",
    "x = DF2['a']\n",
    "y = DF2['aax']\n",
    "slope, intercept, r_value, p_value, std_err = linregress(x, y)\n",
    "\n",
    "print(slope,intercept,r_value)\n",
    "\n",
    "# Calcular la pendiente y el coeficiente de correlación\n",
    "x = DF2['a']\n",
    "y = DF2['abar']\n",
    "slope, intercept, r_value, p_value, std_err = linregress(x, y)\n",
    "\n",
    "print(slope,intercept,r_value)\n",
    "\n"
   ]
  },
  {
   "cell_type": "code",
   "execution_count": 90,
   "id": "6dbc34cc-efd6-4427-ab6f-7bc4c4c02c50",
   "metadata": {},
   "outputs": [
    {
     "ename": "KeyError",
     "evalue": "'gamma'",
     "output_type": "error",
     "traceback": [
      "\u001b[0;31m---------------------------------------------------------------------------\u001b[0m",
      "\u001b[0;31mKeyError\u001b[0m                                  Traceback (most recent call last)",
      "File \u001b[0;32m~/anaconda3/envs/pymc4/lib/python3.11/site-packages/pandas/core/indexes/base.py:3803\u001b[0m, in \u001b[0;36mIndex.get_loc\u001b[0;34m(self, key, method, tolerance)\u001b[0m\n\u001b[1;32m   3802\u001b[0m \u001b[38;5;28;01mtry\u001b[39;00m:\n\u001b[0;32m-> 3803\u001b[0m     \u001b[38;5;28;01mreturn\u001b[39;00m \u001b[38;5;28;43mself\u001b[39;49m\u001b[38;5;241;43m.\u001b[39;49m\u001b[43m_engine\u001b[49m\u001b[38;5;241;43m.\u001b[39;49m\u001b[43mget_loc\u001b[49m\u001b[43m(\u001b[49m\u001b[43mcasted_key\u001b[49m\u001b[43m)\u001b[49m\n\u001b[1;32m   3804\u001b[0m \u001b[38;5;28;01mexcept\u001b[39;00m \u001b[38;5;167;01mKeyError\u001b[39;00m \u001b[38;5;28;01mas\u001b[39;00m err:\n",
      "File \u001b[0;32m~/anaconda3/envs/pymc4/lib/python3.11/site-packages/pandas/_libs/index.pyx:138\u001b[0m, in \u001b[0;36mpandas._libs.index.IndexEngine.get_loc\u001b[0;34m()\u001b[0m\n",
      "File \u001b[0;32m~/anaconda3/envs/pymc4/lib/python3.11/site-packages/pandas/_libs/index.pyx:165\u001b[0m, in \u001b[0;36mpandas._libs.index.IndexEngine.get_loc\u001b[0;34m()\u001b[0m\n",
      "File \u001b[0;32mpandas/_libs/hashtable_class_helper.pxi:5745\u001b[0m, in \u001b[0;36mpandas._libs.hashtable.PyObjectHashTable.get_item\u001b[0;34m()\u001b[0m\n",
      "File \u001b[0;32mpandas/_libs/hashtable_class_helper.pxi:5753\u001b[0m, in \u001b[0;36mpandas._libs.hashtable.PyObjectHashTable.get_item\u001b[0;34m()\u001b[0m\n",
      "\u001b[0;31mKeyError\u001b[0m: 'gamma'",
      "\nThe above exception was the direct cause of the following exception:\n",
      "\u001b[0;31mKeyError\u001b[0m                                  Traceback (most recent call last)",
      "Cell \u001b[0;32mIn[90], line 4\u001b[0m\n\u001b[1;32m      1\u001b[0m \u001b[38;5;28;01mfrom\u001b[39;00m \u001b[38;5;21;01mscipy\u001b[39;00m\u001b[38;5;21;01m.\u001b[39;00m\u001b[38;5;21;01mstats\u001b[39;00m \u001b[38;5;28;01mimport\u001b[39;00m linregress\n\u001b[1;32m      3\u001b[0m \u001b[38;5;66;03m# Calcular la pendiente y el coeficiente de correlación\u001b[39;00m\n\u001b[0;32m----> 4\u001b[0m x \u001b[38;5;241m=\u001b[39m DF2[\u001b[43mDF2\u001b[49m\u001b[43m[\u001b[49m\u001b[38;5;124;43m'\u001b[39;49m\u001b[38;5;124;43mgamma\u001b[39;49m\u001b[38;5;124;43m'\u001b[39;49m\u001b[43m]\u001b[49m\u001b[38;5;241m>\u001b[39m\u001b[38;5;241m0\u001b[39m][\u001b[38;5;124m'\u001b[39m\u001b[38;5;124ma\u001b[39m\u001b[38;5;124m'\u001b[39m]\n\u001b[1;32m      5\u001b[0m y \u001b[38;5;241m=\u001b[39m DF2[DF2[\u001b[38;5;124m'\u001b[39m\u001b[38;5;124mgamma\u001b[39m\u001b[38;5;124m'\u001b[39m]\u001b[38;5;241m>\u001b[39m\u001b[38;5;241m0\u001b[39m][\u001b[38;5;124m'\u001b[39m\u001b[38;5;124maax\u001b[39m\u001b[38;5;124m'\u001b[39m]\n\u001b[1;32m      6\u001b[0m slope, intercept, r_value, p_value, std_err \u001b[38;5;241m=\u001b[39m linregress(x, y)\n",
      "File \u001b[0;32m~/anaconda3/envs/pymc4/lib/python3.11/site-packages/pandas/core/frame.py:3805\u001b[0m, in \u001b[0;36mDataFrame.__getitem__\u001b[0;34m(self, key)\u001b[0m\n\u001b[1;32m   3803\u001b[0m \u001b[38;5;28;01mif\u001b[39;00m \u001b[38;5;28mself\u001b[39m\u001b[38;5;241m.\u001b[39mcolumns\u001b[38;5;241m.\u001b[39mnlevels \u001b[38;5;241m>\u001b[39m \u001b[38;5;241m1\u001b[39m:\n\u001b[1;32m   3804\u001b[0m     \u001b[38;5;28;01mreturn\u001b[39;00m \u001b[38;5;28mself\u001b[39m\u001b[38;5;241m.\u001b[39m_getitem_multilevel(key)\n\u001b[0;32m-> 3805\u001b[0m indexer \u001b[38;5;241m=\u001b[39m \u001b[38;5;28;43mself\u001b[39;49m\u001b[38;5;241;43m.\u001b[39;49m\u001b[43mcolumns\u001b[49m\u001b[38;5;241;43m.\u001b[39;49m\u001b[43mget_loc\u001b[49m\u001b[43m(\u001b[49m\u001b[43mkey\u001b[49m\u001b[43m)\u001b[49m\n\u001b[1;32m   3806\u001b[0m \u001b[38;5;28;01mif\u001b[39;00m is_integer(indexer):\n\u001b[1;32m   3807\u001b[0m     indexer \u001b[38;5;241m=\u001b[39m [indexer]\n",
      "File \u001b[0;32m~/anaconda3/envs/pymc4/lib/python3.11/site-packages/pandas/core/indexes/base.py:3805\u001b[0m, in \u001b[0;36mIndex.get_loc\u001b[0;34m(self, key, method, tolerance)\u001b[0m\n\u001b[1;32m   3803\u001b[0m     \u001b[38;5;28;01mreturn\u001b[39;00m \u001b[38;5;28mself\u001b[39m\u001b[38;5;241m.\u001b[39m_engine\u001b[38;5;241m.\u001b[39mget_loc(casted_key)\n\u001b[1;32m   3804\u001b[0m \u001b[38;5;28;01mexcept\u001b[39;00m \u001b[38;5;167;01mKeyError\u001b[39;00m \u001b[38;5;28;01mas\u001b[39;00m err:\n\u001b[0;32m-> 3805\u001b[0m     \u001b[38;5;28;01mraise\u001b[39;00m \u001b[38;5;167;01mKeyError\u001b[39;00m(key) \u001b[38;5;28;01mfrom\u001b[39;00m \u001b[38;5;21;01merr\u001b[39;00m\n\u001b[1;32m   3806\u001b[0m \u001b[38;5;28;01mexcept\u001b[39;00m \u001b[38;5;167;01mTypeError\u001b[39;00m:\n\u001b[1;32m   3807\u001b[0m     \u001b[38;5;66;03m# If we have a listlike key, _check_indexing_error will raise\u001b[39;00m\n\u001b[1;32m   3808\u001b[0m     \u001b[38;5;66;03m#  InvalidIndexError. Otherwise we fall through and re-raise\u001b[39;00m\n\u001b[1;32m   3809\u001b[0m     \u001b[38;5;66;03m#  the TypeError.\u001b[39;00m\n\u001b[1;32m   3810\u001b[0m     \u001b[38;5;28mself\u001b[39m\u001b[38;5;241m.\u001b[39m_check_indexing_error(key)\n",
      "\u001b[0;31mKeyError\u001b[0m: 'gamma'"
     ]
    }
   ],
   "source": [
    "from scipy.stats import linregress\n",
    "\n",
    "# Calcular la pendiente y el coeficiente de correlación\n",
    "x = DF2[DF2['gamma']>0]['a']\n",
    "y = DF2[DF2['gamma']>0]['aax']\n",
    "slope, intercept, r_value, p_value, std_err = linregress(x, y)\n",
    "\n",
    "print(slope,intercept,r_value)\n",
    "\n",
    "# Calcular la pendiente y el coeficiente de correlación\n",
    "x = DF2[DF2['gamma']>0]['a']\n",
    "y = DF2[DF2['gamma']>0]['abar']\n",
    "slope, intercept, r_value, p_value, std_err = linregress(x, y)\n",
    "\n",
    "print(slope,intercept,r_value)\n",
    "\n",
    "# Calcular la pendiente y el coeficiente de correlación\n",
    "x = DF2[DF2['gamma']>0]['sepax']\n",
    "y = DF2[DF2['gamma']>0]['sarax']\n",
    "slope, intercept, r_value, p_value, std_err = linregress(x, y)\n",
    "\n",
    "print(slope,intercept,r_value)"
   ]
  },
  {
   "cell_type": "code",
   "execution_count": 22,
   "id": "0d4ad6ef-53fe-4b47-b797-e4f9ea76b12a",
   "metadata": {},
   "outputs": [
    {
     "data": {
      "text/plain": [
       "[<matplotlib.lines.Line2D at 0x7f95f5eca710>]"
      ]
     },
     "execution_count": 22,
     "metadata": {},
     "output_type": "execute_result"
    },
    {
     "data": {
      "image/png": "[encoded data removed]",
      "text/plain": [
       "<Figure size 640x480 with 1 Axes>"
      ]
     },
     "metadata": {},
     "output_type": "display_data"
    }
   ],
   "source": [
    "plt.plot(abar,aax)"
   ]
  },
  {
   "cell_type": "code",
   "execution_count": 17,
   "id": "306dd0e1-c19a-4aff-9496-7e40c41f356e",
   "metadata": {},
   "outputs": [
    {
     "data": {
      "text/plain": [
       "1"
      ]
     },
     "execution_count": 17,
     "metadata": {},
     "output_type": "execute_result"
    }
   ],
   "source": [
    "stp"
   ]
  },
  {
   "cell_type": "code",
   "execution_count": null,
   "id": "b37a8103-1281-4b21-9417-ff088ef3babc",
   "metadata": {},
   "outputs": [],
   "source": []
  },
  {
   "cell_type": "markdown",
   "id": "ff8b39cc-f328-4445-9e38-a7aa59ccb50d",
   "metadata": {
    "jp-MarkdownHeadingCollapsed": true,
    "tags": []
   },
   "source": [
    "# Gaussfit test"
   ]
  },
  {
   "cell_type": "code",
   "execution_count": 1,
   "id": "bca4d73a-07ec-4f54-bdf2-3b276f666497",
   "metadata": {},
   "outputs": [],
   "source": [
    "import numpy as np\n",
    "import scipy.optimize as opt\n",
    "\n",
    "def gaussian_2d(xy, amp, x0, y0, sigma):\n",
    "    x, y = xy\n",
    "    return amp * np.exp(-((x - x0) ** 2 + (y - y0) ** 2) / (2 * sigma ** 2))\n",
    "\n",
    "def fit_magnetic_field_gaussians(B_map):\n",
    "    \"\"\"\n",
    "    Ajusta distribuciones gaussianas 2D a las componentes positiva y negativa\n",
    "    de un mapa de campo magnético fotosférico.\n",
    "    \n",
    "    Parámetros:\n",
    "        B_map : ndarray\n",
    "            Mapa 2D del campo magnético.\n",
    "    \n",
    "    Retorna:\n",
    "        params_pos : tuple\n",
    "            Parámetros ajustados (amp, x0, y0, sigma) para la componente positiva.\n",
    "        params_neg : tuple\n",
    "            Parámetros ajustados (amp, x0, y0, sigma) para la componente negativa.\n",
    "    \"\"\"\n",
    "    ny, nx = B_map.shape\n",
    "    x, y = np.meshgrid(np.arange(nx), np.arange(ny))\n",
    "    \n",
    "    # Extraer las componentes positiva y negativa\n",
    "    mask_pos = B_map > 0\n",
    "    mask_neg = B_map < 0\n",
    "    \n",
    "    x_pos, y_pos, B_pos = x[mask_pos], y[mask_pos], B_map[mask_pos]\n",
    "    x_neg, y_neg, B_neg = x[mask_neg], y[mask_neg], np.abs(B_map[mask_neg])\n",
    "    \n",
    "    def fit_gaussian(x_data, y_data, B_data):\n",
    "        if len(B_data) == 0:\n",
    "            return None\n",
    "        \n",
    "        initial_guess = (np.max(B_data), np.mean(x_data), np.mean(y_data), np.std(x_data))\n",
    "        try:\n",
    "            params, _ = opt.curve_fit(gaussian_2d, (x_data, y_data), B_data, p0=initial_guess)\n",
    "            return tuple(params)\n",
    "        except RuntimeError:\n",
    "            return None\n",
    "    \n",
    "    params_pos = fit_gaussian(x_pos, y_pos, B_pos)\n",
    "    params_neg = fit_gaussian(x_neg, y_neg, B_neg)\n",
    "    \n",
    "    return params_pos, params_neg"
   ]
  },
  {
   "cell_type": "code",
   "execution_count": 50,
   "id": "15a747ee-9756-4924-b0cd-8a79e4dfa060",
   "metadata": {},
   "outputs": [
    {
     "name": "stdout",
     "output_type": "stream",
     "text": [
      "nt -0.33323297\n",
      "time b'29-Jul-2002 12:47:00.281'\n",
      "lat -7\n",
      "10050----------------------------------\n",
      "147 151 68\n",
      "b'27-Jul-2002 04:47:00.267' b'31-Jul-2002 17:35:00.299'\n",
      "78 142\n",
      "nt -0.1878991\n",
      "time b'29-May-1999 09:36:03.504'\n",
      "lat 20\n",
      "8552----------------------------------\n",
      "151 195 79\n",
      "b'26-May-1999 11:12:03.546' b'31-May-1999 20:47:43.000'\n",
      "87 105\n"
     ]
    }
   ],
   "source": [
    "pixsize=1.98*725*1000*100\n",
    "pixarea=pixsize*pixsize\n",
    "DFs=[]\n",
    "\n",
    "#for name in ars:\n",
    "for name in [10050,8552]:\n",
    "    \n",
    "\n",
    "    lat=searchar(str(name))[1]\n",
    "    DF1=pd.read_csv('./posteriors/'+str(name)+'_TM3.csv')\n",
    "    print(str(name)+'----------------------------------')\n",
    "    datad,times=opencube2(name=str(name),path='../movies')\n",
    "    scl=1\n",
    "    \n",
    "    \n",
    "    nn=DF0[DF0['AR']==name].range.values[0]\n",
    "    sg0=DF0[DF0['AR']==name].sigma.values[0]\n",
    "    \n",
    "    mask_cube=np.load('./masks/'+str(name)+'_mask.npy')[:,:,0:nn]\n",
    "    data2=datad[:,:,0:nn]*mask_cube\n",
    "    sz2,sz1,nMagnetograms = (np.shape(data2))\n",
    "    am=[]\n",
    "    for i in range(nMagnetograms):\n",
    "        posp,negp=fit_magnetic_field_gaussians(data2[:,:,i])\n",
    "        if (negp) and (posp):\n",
    "            am.append(np.mean([posp[3],negp[3]]))\n",
    "        elif posp:\n",
    "            am.append(posp[3])\n",
    "        elif negp:\n",
    "            am.append(negp[3])"
   ]
  },
  {
   "cell_type": "code",
   "execution_count": 55,
   "id": "33a8af6e-c549-4cb4-a787-2b24a568d5a0",
   "metadata": {},
   "outputs": [
    {
     "data": {
      "text/plain": [
       "7.0649442406105365"
      ]
     },
     "execution_count": 55,
     "metadata": {},
     "output_type": "execute_result"
    }
   ],
   "source": [
    "am[-1]"
   ]
  },
  {
   "cell_type": "code",
   "execution_count": 56,
   "id": "ea57128a-a563-4170-bb72-75a8dd54fd76",
   "metadata": {},
   "outputs": [
    {
     "data": {
      "text/plain": [
       "4.460955812138066"
      ]
     },
     "execution_count": 56,
     "metadata": {},
     "output_type": "execute_result"
    }
   ],
   "source": [
    "posp[3]"
   ]
  },
  {
   "cell_type": "code",
   "execution_count": 57,
   "id": "641ca39f-d6af-43ab-87be-fce421e38187",
   "metadata": {},
   "outputs": [
    {
     "data": {
      "text/plain": [
       "9.668932669083008"
      ]
     },
     "execution_count": 57,
     "metadata": {},
     "output_type": "execute_result"
    }
   ],
   "source": [
    "negp[3]"
   ]
  },
  {
   "cell_type": "code",
   "execution_count": 58,
   "id": "d1f70bcc-1c91-4b6e-9737-4fc27db9d9e1",
   "metadata": {},
   "outputs": [
    {
     "data": {
      "text/plain": [
       "7.0649442406105365"
      ]
     },
     "execution_count": 58,
     "metadata": {},
     "output_type": "execute_result"
    }
   ],
   "source": [
    "np.mean([posp[3],negp[3]])"
   ]
  },
  {
   "cell_type": "code",
   "execution_count": null,
   "id": "59312a2e-333b-4d51-9153-b54e3c13fbfb",
   "metadata": {},
   "outputs": [],
   "source": []
  }
 ],
 "metadata": {
  "kernelspec": {
   "display_name": "Python 3 (ipykernel)",
   "language": "python",
   "name": "python3"
  },
  "language_info": {
   "codemirror_mode": {
    "name": "ipython",
    "version": 3
   },
   "file_extension": ".py",
   "mimetype": "text/x-python",
   "name": "python",
   "nbconvert_exporter": "python",
   "pygments_lexer": "ipython3",
   "version": "3.11.0"
  }
 },
 "nbformat": 4,
 "nbformat_minor": 5
}
